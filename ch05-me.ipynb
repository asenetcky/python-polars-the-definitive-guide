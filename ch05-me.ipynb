{
 "cells": [
  {
   "cell_type": "markdown",
   "id": "c165f744",
   "metadata": {},
   "source": [
    "# Eager and Lazy APIs"
   ]
  },
  {
   "cell_type": "code",
   "execution_count": 20,
   "id": "fde3181f",
   "metadata": {},
   "outputs": [],
   "source": [
    "import polars as pl"
   ]
  },
  {
   "cell_type": "code",
   "execution_count": 21,
   "id": "bfa87315",
   "metadata": {},
   "outputs": [],
   "source": [
    "# %%time\n",
    "# trips = pl.read_parquet(\"data/taxi/yellow_tripdata_*.parquet\")\n",
    "# sum_per_vendor=trips.group_by(\"VendorID\").sum()\n",
    "\n",
    "# income_per_distance_per_vendor = sum_per_vendor.select(\n",
    "#     \"VendorID\",\n",
    "#     income_per_distance = pl.col(\"total_amount\")/pl.col(\"trip_distance\"),\n",
    "#     )\n",
    "\n",
    "# top_three = income_per_distance_per_vendor.sort(\n",
    "#     by = \"income_per_distance\", descending=True\n",
    "# ).head(3)\n",
    "\n",
    "# top_three"
   ]
  },
  {
   "cell_type": "markdown",
   "id": "807e7ff1",
   "metadata": {},
   "source": [
    "haha looks like it was too much data and it killed the kernal in the dev container :D"
   ]
  },
  {
   "cell_type": "code",
   "execution_count": 22,
   "id": "80eee424",
   "metadata": {},
   "outputs": [
    {
     "name": "stdout",
     "output_type": "stream",
     "text": [
      "CPU times: user 1.52 s, sys: 391 ms, total: 1.91 s\n",
      "Wall time: 596 ms\n"
     ]
    },
    {
     "data": {
      "text/html": [
       "<div><style>\n",
       ".dataframe > thead > tr,\n",
       ".dataframe > tbody > tr {\n",
       "  text-align: right;\n",
       "  white-space: pre-wrap;\n",
       "}\n",
       "</style>\n",
       "<small>shape: (3, 2)</small><table border=\"1\" class=\"dataframe\"><thead><tr><th>VendorID</th><th>income_per_distance</th></tr><tr><td>i64</td><td>f64</td></tr></thead><tbody><tr><td>1</td><td>6.434789</td></tr><tr><td>6</td><td>5.296493</td></tr><tr><td>5</td><td>4.731557</td></tr></tbody></table></div>"
      ],
      "text/plain": [
       "shape: (3, 2)\n",
       "┌──────────┬─────────────────────┐\n",
       "│ VendorID ┆ income_per_distance │\n",
       "│ ---      ┆ ---                 │\n",
       "│ i64      ┆ f64                 │\n",
       "╞══════════╪═════════════════════╡\n",
       "│ 1        ┆ 6.434789            │\n",
       "│ 6        ┆ 5.296493            │\n",
       "│ 5        ┆ 4.731557            │\n",
       "└──────────┴─────────────────────┘"
      ]
     },
     "execution_count": 22,
     "metadata": {},
     "output_type": "execute_result"
    }
   ],
   "source": [
    "%%time\n",
    "trips = pl.scan_parquet(\"data/taxi/yellow_tripdata_*.parquet\")\n",
    "sum_per_vendor=trips.group_by(\"VendorID\").sum()\n",
    "\n",
    "income_per_distance_per_vendor = sum_per_vendor.select(\n",
    "    \"VendorID\",\n",
    "    income_per_distance = pl.col(\"total_amount\")/pl.col(\"trip_distance\"),\n",
    "    )\n",
    "\n",
    "top_three = income_per_distance_per_vendor.sort(\n",
    "    by = \"income_per_distance\", descending=True\n",
    ").head(3)\n",
    "\n",
    "top_three.collect()"
   ]
  },
  {
   "cell_type": "markdown",
   "id": "c2f82489",
   "metadata": {},
   "source": [
    "very cool the cell above can actually run in the dinky little container, not true for the eager api.\n",
    "there are 12 parquet files, each one ~ around 30-50mb. so ltos of data. lets actually see how many rows that is..."
   ]
  },
  {
   "cell_type": "code",
   "execution_count": 23,
   "id": "5138bdba",
   "metadata": {},
   "outputs": [
    {
     "data": {
      "text/plain": [
       "Schema([('VendorID', Int64),\n",
       "        ('tpep_pickup_datetime', Datetime(time_unit='ns', time_zone=None)),\n",
       "        ('tpep_dropoff_datetime', Datetime(time_unit='ns', time_zone=None)),\n",
       "        ('passenger_count', Float64),\n",
       "        ('trip_distance', Float64),\n",
       "        ('RatecodeID', Float64),\n",
       "        ('store_and_fwd_flag', String),\n",
       "        ('PULocationID', Int64),\n",
       "        ('DOLocationID', Int64),\n",
       "        ('payment_type', Int64),\n",
       "        ('fare_amount', Float64),\n",
       "        ('extra', Float64),\n",
       "        ('mta_tax', Float64),\n",
       "        ('tip_amount', Float64),\n",
       "        ('tolls_amount', Float64),\n",
       "        ('improvement_surcharge', Float64),\n",
       "        ('total_amount', Float64),\n",
       "        ('congestion_surcharge', Float64),\n",
       "        ('airport_fee', Float64)])"
      ]
     },
     "execution_count": 23,
     "metadata": {},
     "output_type": "execute_result"
    }
   ],
   "source": [
    "schema = trips.collect_schema()\n",
    "schema"
   ]
  },
  {
   "cell_type": "code",
   "execution_count": 24,
   "id": "423deaaf",
   "metadata": {},
   "outputs": [
    {
     "data": {
      "text/plain": [
       "19"
      ]
     },
     "execution_count": 24,
     "metadata": {},
     "output_type": "execute_result"
    }
   ],
   "source": [
    "\n",
    "len(schema)"
   ]
  },
  {
   "cell_type": "code",
   "execution_count": 25,
   "id": "ca06e3ce",
   "metadata": {},
   "outputs": [
    {
     "data": {
      "text/plain": [
       "39656098"
      ]
     },
     "execution_count": 25,
     "metadata": {},
     "output_type": "execute_result"
    }
   ],
   "source": [
    "\n",
    "trips.select(pl.len()).collect().item()"
   ]
  },
  {
   "cell_type": "markdown",
   "id": "8eeb931d",
   "metadata": {},
   "source": [
    "goodness thats a pretty big data set -  39million rows x 19 columns"
   ]
  },
  {
   "cell_type": "markdown",
   "id": "4deaec31",
   "metadata": {},
   "source": [
    "## Tips and Trick"
   ]
  },
  {
   "cell_type": "markdown",
   "id": "58361322",
   "metadata": {},
   "source": [
    "lazy to dataframe and back again"
   ]
  },
  {
   "cell_type": "code",
   "execution_count": 26,
   "id": "8fad5a3d",
   "metadata": {},
   "outputs": [],
   "source": [
    "# nl = trips.collect()\n",
    "# nl\n",
    "\n",
    "# back again\n",
    "# nl = nl.lazy()\n",
    "# nl"
   ]
  },
  {
   "cell_type": "code",
   "execution_count": 27,
   "id": "8af3a5e7",
   "metadata": {},
   "outputs": [],
   "source": [
    "# trips.head(3).sink_parquet(\"sink.parquet\")\n",
    "\n",
    "\n",
    "# readthis = pl.read_parquet(\"sink.parquet\")\n",
    "# readthis\n",
    "\n",
    "# readthis = pl.scan_parquet(\"sink.parquet\")\n",
    "# readthis"
   ]
  },
  {
   "cell_type": "markdown",
   "id": "11dfe164",
   "metadata": {},
   "source": [
    "joing a dataframe with a lazyframe"
   ]
  },
  {
   "cell_type": "code",
   "execution_count": 28,
   "id": "8489023e",
   "metadata": {},
   "outputs": [
    {
     "data": {
      "text/html": [
       "<div><style>\n",
       ".dataframe > thead > tr,\n",
       ".dataframe > tbody > tr {\n",
       "  text-align: right;\n",
       "  white-space: pre-wrap;\n",
       "}\n",
       "</style>\n",
       "<small>shape: (3, 3)</small><table border=\"1\" class=\"dataframe\"><thead><tr><th>sale_id</th><th>amount</th><th>category</th></tr><tr><td>i64</td><td>i64</td><td>str</td></tr></thead><tbody><tr><td>101</td><td>250</td><td>&quot;A&quot;</td></tr><tr><td>102</td><td>150</td><td>&quot;B&quot;</td></tr><tr><td>103</td><td>300</td><td>&quot;A&quot;</td></tr></tbody></table></div>"
      ],
      "text/plain": [
       "shape: (3, 3)\n",
       "┌─────────┬────────┬──────────┐\n",
       "│ sale_id ┆ amount ┆ category │\n",
       "│ ---     ┆ ---    ┆ ---      │\n",
       "│ i64     ┆ i64    ┆ str      │\n",
       "╞═════════╪════════╪══════════╡\n",
       "│ 101     ┆ 250    ┆ A        │\n",
       "│ 102     ┆ 150    ┆ B        │\n",
       "│ 103     ┆ 300    ┆ A        │\n",
       "└─────────┴────────┴──────────┘"
      ]
     },
     "execution_count": 28,
     "metadata": {},
     "output_type": "execute_result"
    }
   ],
   "source": [
    "big_sales_data = pl.LazyFrame(\n",
    "    {\"sale_id\": [101, 102, 103], \"amount\": [250, 150, 300]}\n",
    ")\n",
    "\n",
    "sales_metadata = pl.DataFrame(\n",
    "    {\"sale_id\": [101, 102, 103], \"category\": [\"A\", \"B\", \"A\"]}\n",
    ")\n",
    "\n",
    "# expect error\n",
    "# big_sales_data.join(sales_metadata, on=\"sale_id\").collect()\n",
    "\n",
    "# instead you can make the lazyframe a df and then join or make the df lazy and append. opt for converting to lazy\n",
    "\n",
    "# works\n",
    "big_sales_data.join(sales_metadata.lazy(), on=\"sale_id\").collect()"
   ]
  },
  {
   "cell_type": "markdown",
   "id": "1a2e47c7",
   "metadata": {},
   "source": [
    "caching intermittent results"
   ]
  },
  {
   "cell_type": "code",
   "execution_count": null,
   "id": "eec899df",
   "metadata": {},
   "outputs": [
    {
     "name": "stdout",
     "output_type": "stream",
     "text": [
      "shape: (3, 2)\n",
      "┌──────┬──────┐\n",
      "│ col1 ┆ col2 │\n",
      "│ ---  ┆ ---  │\n",
      "│ i64  ┆ i64  │\n",
      "╞══════╪══════╡\n",
      "│ 1    ┆ 4    │\n",
      "│ 2    ┆ 5    │\n",
      "│ 3    ┆ 6    │\n",
      "└──────┴──────┘\n",
      "shape: (3, 3)\n",
      "┌──────┬──────┬─────────┐\n",
      "│ col1 ┆ col2 ┆ literal │\n",
      "│ ---  ┆ ---  ┆ ---     │\n",
      "│ i64  ┆ i64  ┆ i32     │\n",
      "╞══════╪══════╪═════════╡\n",
      "│ 1    ┆ 4    ┆ 1       │\n",
      "│ 2    ┆ 5    ┆ 1       │\n",
      "│ 3    ┆ 6    ┆ 1       │\n",
      "└──────┴──────┴─────────┘\n"
     ]
    }
   ],
   "source": [
    "lf = pl.LazyFrame(\n",
    "    {\n",
    "        \"col1\": [1, 2, 3],\n",
    "        \"col2\": [4, 5, 6],\n",
    "    }\n",
    ")\n",
    "\n",
    "# pretend there is some heavy calculations\n",
    "\n",
    "# now cache the results\n",
    "\n",
    "lf = lf.collect().lazy()\n",
    "print(lf.collect())\n",
    "\n",
    "# the line below this would've recalc lf from scratch had it not been cached\n",
    "print(lf.with_columns(pl.col(\"col1\"), + 1).collect())"
   ]
  },
  {
   "cell_type": "code",
   "execution_count": null,
   "id": "5f0d5188",
   "metadata": {},
   "outputs": [],
   "source": []
  }
 ],
 "metadata": {
  "kernelspec": {
   "display_name": ".venv",
   "language": "python",
   "name": "python3"
  },
  "language_info": {
   "codemirror_mode": {
    "name": "ipython",
    "version": 3
   },
   "file_extension": ".py",
   "mimetype": "text/x-python",
   "name": "python",
   "nbconvert_exporter": "python",
   "pygments_lexer": "ipython3",
   "version": "3.12.9"
  }
 },
 "nbformat": 4,
 "nbformat_minor": 5
}
