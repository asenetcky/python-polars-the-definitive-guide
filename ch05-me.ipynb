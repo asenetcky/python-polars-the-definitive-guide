{
 "cells": [
  {
   "cell_type": "markdown",
   "id": "c165f744",
   "metadata": {},
   "source": [
    "# Eager and Lazy APIs"
   ]
  },
  {
   "cell_type": "code",
   "execution_count": 1,
   "id": "fde3181f",
   "metadata": {},
   "outputs": [],
   "source": [
    "import polars as pl"
   ]
  },
  {
   "cell_type": "code",
   "execution_count": null,
   "id": "bfa87315",
   "metadata": {},
   "outputs": [
    {
     "ename": "",
     "evalue": "",
     "output_type": "error",
     "traceback": [
      "\u001b[1;31mThe Kernel crashed while executing code in the current cell or a previous cell. \n",
      "\u001b[1;31mPlease review the code in the cell(s) to identify a possible cause of the failure. \n",
      "\u001b[1;31mClick <a href='https://aka.ms/vscodeJupyterKernelCrash'>here</a> for more info. \n",
      "\u001b[1;31mView Jupyter <a href='command:jupyter.viewOutput'>log</a> for further details."
     ]
    }
   ],
   "source": [
    "%%time\n",
    "trips = pl.read_parquet(\"data/taxi/yellow_tripdata_*.parquet\")\n",
    "sum_per_vendor=trips.group_by(\"VendorID\").sum()\n",
    "\n",
    "income_per_distance_per_vendor = sum_per_vendor.select(\n",
    "    \"VendorID\",\n",
    "    income_per_distance = pl.col(\"total_amount\")/pl.col(\"trip_distance\"),\n",
    "    )\n",
    "\n",
    "top_three = income_per_distance_per_vendor.sort(\n",
    "    by = \"income_per_distance\", descending=True\n",
    ").head(3)"
   ]
  },
  {
   "cell_type": "markdown",
   "id": "807e7ff1",
   "metadata": {},
   "source": [
    "haha looks like it was too much data and it killed the kernal in the dev container :D"
   ]
  },
  {
   "cell_type": "code",
   "execution_count": 2,
   "id": "80eee424",
   "metadata": {},
   "outputs": [
    {
     "name": "stdout",
     "output_type": "stream",
     "text": [
      "CPU times: user 1.39 s, sys: 587 ms, total: 1.98 s\n",
      "Wall time: 1.24 s\n"
     ]
    },
    {
     "data": {
      "text/html": [
       "<div><style>\n",
       ".dataframe > thead > tr,\n",
       ".dataframe > tbody > tr {\n",
       "  text-align: right;\n",
       "  white-space: pre-wrap;\n",
       "}\n",
       "</style>\n",
       "<small>shape: (3, 2)</small><table border=\"1\" class=\"dataframe\"><thead><tr><th>VendorID</th><th>income_per_distance</th></tr><tr><td>i64</td><td>f64</td></tr></thead><tbody><tr><td>1</td><td>6.434789</td></tr><tr><td>6</td><td>5.296493</td></tr><tr><td>5</td><td>4.731557</td></tr></tbody></table></div>"
      ],
      "text/plain": [
       "shape: (3, 2)\n",
       "┌──────────┬─────────────────────┐\n",
       "│ VendorID ┆ income_per_distance │\n",
       "│ ---      ┆ ---                 │\n",
       "│ i64      ┆ f64                 │\n",
       "╞══════════╪═════════════════════╡\n",
       "│ 1        ┆ 6.434789            │\n",
       "│ 6        ┆ 5.296493            │\n",
       "│ 5        ┆ 4.731557            │\n",
       "└──────────┴─────────────────────┘"
      ]
     },
     "execution_count": 2,
     "metadata": {},
     "output_type": "execute_result"
    }
   ],
   "source": [
    "%%time\n",
    "trips = pl.scan_parquet(\"data/taxi/yellow_tripdata_*.parquet\")\n",
    "sum_per_vendor=trips.group_by(\"VendorID\").sum()\n",
    "\n",
    "income_per_distance_per_vendor = sum_per_vendor.select(\n",
    "    \"VendorID\",\n",
    "    income_per_distance = pl.col(\"total_amount\")/pl.col(\"trip_distance\"),\n",
    "    )\n",
    "\n",
    "top_three = income_per_distance_per_vendor.sort(\n",
    "    by = \"income_per_distance\", descending=True\n",
    ").head(3)\n",
    "\n",
    "top_three.collect()"
   ]
  },
  {
   "cell_type": "markdown",
   "id": "c2f82489",
   "metadata": {},
   "source": [
    "very cool the cell above can actually run in the dinky little container, not true for the eager api.\n",
    "there are 12 parquet files, each one ~ around 30-50mb. so ltos of data. lets actually see how many rows that is..."
   ]
  },
  {
   "cell_type": "code",
   "execution_count": null,
   "id": "5138bdba",
   "metadata": {},
   "outputs": [
    {
     "data": {
      "text/plain": [
       "Schema([('VendorID', Int64),\n",
       "        ('tpep_pickup_datetime', Datetime(time_unit='ns', time_zone=None)),\n",
       "        ('tpep_dropoff_datetime', Datetime(time_unit='ns', time_zone=None)),\n",
       "        ('passenger_count', Float64),\n",
       "        ('trip_distance', Float64),\n",
       "        ('RatecodeID', Float64),\n",
       "        ('store_and_fwd_flag', String),\n",
       "        ('PULocationID', Int64),\n",
       "        ('DOLocationID', Int64),\n",
       "        ('payment_type', Int64),\n",
       "        ('fare_amount', Float64),\n",
       "        ('extra', Float64),\n",
       "        ('mta_tax', Float64),\n",
       "        ('tip_amount', Float64),\n",
       "        ('tolls_amount', Float64),\n",
       "        ('improvement_surcharge', Float64),\n",
       "        ('total_amount', Float64),\n",
       "        ('congestion_surcharge', Float64),\n",
       "        ('airport_fee', Float64)])"
      ]
     },
     "execution_count": 16,
     "metadata": {},
     "output_type": "execute_result"
    }
   ],
   "source": [
    "schema = trips.collect_schema()\n",
    "schema"
   ]
  },
  {
   "cell_type": "code",
   "execution_count": 17,
   "id": "423deaaf",
   "metadata": {},
   "outputs": [
    {
     "data": {
      "text/plain": [
       "19"
      ]
     },
     "execution_count": 17,
     "metadata": {},
     "output_type": "execute_result"
    }
   ],
   "source": [
    "\n",
    "len(schema)"
   ]
  },
  {
   "cell_type": "code",
   "execution_count": 18,
   "id": "ca06e3ce",
   "metadata": {},
   "outputs": [
    {
     "data": {
      "text/plain": [
       "39656098"
      ]
     },
     "execution_count": 18,
     "metadata": {},
     "output_type": "execute_result"
    }
   ],
   "source": [
    "\n",
    "trips.select(pl.len()).collect().item()"
   ]
  },
  {
   "cell_type": "markdown",
   "id": "8eeb931d",
   "metadata": {},
   "source": [
    "goodness thats a pretty big data set -  39million rows x 19 columns"
   ]
  }
 ],
 "metadata": {
  "kernelspec": {
   "display_name": ".venv",
   "language": "python",
   "name": "python3"
  },
  "language_info": {
   "codemirror_mode": {
    "name": "ipython",
    "version": 3
   },
   "file_extension": ".py",
   "mimetype": "text/x-python",
   "name": "python",
   "nbconvert_exporter": "python",
   "pygments_lexer": "ipython3",
   "version": "3.12.9"
  }
 },
 "nbformat": 4,
 "nbformat_minor": 5
}
