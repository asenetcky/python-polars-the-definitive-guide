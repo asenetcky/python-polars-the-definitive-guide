{
 "cells": [
  {
   "cell_type": "code",
   "execution_count": 1,
   "id": "e3987dc7",
   "metadata": {},
   "outputs": [],
   "source": [
    "import polars as pl"
   ]
  },
  {
   "cell_type": "code",
   "execution_count": 2,
   "id": "1464338b",
   "metadata": {},
   "outputs": [],
   "source": [
    "fruit = pl.read_csv(\"data/fruit.csv\")\n",
    "fg = fruit.group_by(\"is_round\")"
   ]
  },
  {
   "cell_type": "code",
   "execution_count": 3,
   "id": "f4c9f22e",
   "metadata": {},
   "outputs": [
    {
     "data": {
      "text/html": [
       "<div><style>\n",
       ".dataframe > thead > tr,\n",
       ".dataframe > tbody > tr {\n",
       "  text-align: right;\n",
       "  white-space: pre-wrap;\n",
       "}\n",
       "</style>\n",
       "<small>shape: (2, 2)</small><table border=\"1\" class=\"dataframe\"><thead><tr><th>is_round</th><th>len</th></tr><tr><td>bool</td><td>u32</td></tr></thead><tbody><tr><td>true</td><td>4</td></tr><tr><td>false</td><td>6</td></tr></tbody></table></div>"
      ],
      "text/plain": [
       "shape: (2, 2)\n",
       "┌──────────┬─────┐\n",
       "│ is_round ┆ len │\n",
       "│ ---      ┆ --- │\n",
       "│ bool     ┆ u32 │\n",
       "╞══════════╪═════╡\n",
       "│ true     ┆ 4   │\n",
       "│ false    ┆ 6   │\n",
       "└──────────┴─────┘"
      ]
     },
     "execution_count": 3,
     "metadata": {},
     "output_type": "execute_result"
    }
   ],
   "source": [
    "fg.len()"
   ]
  },
  {
   "cell_type": "code",
   "execution_count": 4,
   "id": "960e2fd3",
   "metadata": {},
   "outputs": [
    {
     "data": {
      "text/html": [
       "<div><style>\n",
       ".dataframe > thead > tr,\n",
       ".dataframe > tbody > tr {\n",
       "  text-align: right;\n",
       "  white-space: pre-wrap;\n",
       "}\n",
       "</style>\n",
       "<small>shape: (10, 5)</small><table border=\"1\" class=\"dataframe\"><thead><tr><th>name</th><th>weight</th><th>color</th><th>is_round</th><th>origin</th></tr><tr><td>str</td><td>i64</td><td>str</td><td>bool</td><td>str</td></tr></thead><tbody><tr><td>&quot;Avocado&quot;</td><td>200</td><td>&quot;green&quot;</td><td>false</td><td>&quot;South America&quot;</td></tr><tr><td>&quot;Banana&quot;</td><td>120</td><td>&quot;yellow&quot;</td><td>false</td><td>&quot;Asia&quot;</td></tr><tr><td>&quot;Blueberry&quot;</td><td>1</td><td>&quot;blue&quot;</td><td>false</td><td>&quot;North America&quot;</td></tr><tr><td>&quot;Cantaloupe&quot;</td><td>2500</td><td>&quot;orange&quot;</td><td>true</td><td>&quot;Africa&quot;</td></tr><tr><td>&quot;Cranberry&quot;</td><td>2</td><td>&quot;red&quot;</td><td>false</td><td>&quot;North America&quot;</td></tr><tr><td>&quot;Elderberry&quot;</td><td>1</td><td>&quot;black&quot;</td><td>false</td><td>&quot;Europe&quot;</td></tr><tr><td>&quot;Orange&quot;</td><td>130</td><td>&quot;orange&quot;</td><td>true</td><td>&quot;Asia&quot;</td></tr><tr><td>&quot;Papaya&quot;</td><td>1000</td><td>&quot;orange&quot;</td><td>false</td><td>&quot;South America&quot;</td></tr><tr><td>&quot;Peach&quot;</td><td>150</td><td>&quot;orange&quot;</td><td>true</td><td>&quot;Asia&quot;</td></tr><tr><td>&quot;Watermelon&quot;</td><td>5000</td><td>&quot;green&quot;</td><td>true</td><td>&quot;Africa&quot;</td></tr></tbody></table></div>"
      ],
      "text/plain": [
       "shape: (10, 5)\n",
       "┌────────────┬────────┬────────┬──────────┬───────────────┐\n",
       "│ name       ┆ weight ┆ color  ┆ is_round ┆ origin        │\n",
       "│ ---        ┆ ---    ┆ ---    ┆ ---      ┆ ---           │\n",
       "│ str        ┆ i64    ┆ str    ┆ bool     ┆ str           │\n",
       "╞════════════╪════════╪════════╪══════════╪═══════════════╡\n",
       "│ Avocado    ┆ 200    ┆ green  ┆ false    ┆ South America │\n",
       "│ Banana     ┆ 120    ┆ yellow ┆ false    ┆ Asia          │\n",
       "│ Blueberry  ┆ 1      ┆ blue   ┆ false    ┆ North America │\n",
       "│ Cantaloupe ┆ 2500   ┆ orange ┆ true     ┆ Africa        │\n",
       "│ Cranberry  ┆ 2      ┆ red    ┆ false    ┆ North America │\n",
       "│ Elderberry ┆ 1      ┆ black  ┆ false    ┆ Europe        │\n",
       "│ Orange     ┆ 130    ┆ orange ┆ true     ┆ Asia          │\n",
       "│ Papaya     ┆ 1000   ┆ orange ┆ false    ┆ South America │\n",
       "│ Peach      ┆ 150    ┆ orange ┆ true     ┆ Asia          │\n",
       "│ Watermelon ┆ 5000   ┆ green  ┆ true     ┆ Africa        │\n",
       "└────────────┴────────┴────────┴──────────┴───────────────┘"
      ]
     },
     "execution_count": 4,
     "metadata": {},
     "output_type": "execute_result"
    }
   ],
   "source": [
    "fruit"
   ]
  },
  {
   "cell_type": "code",
   "execution_count": 5,
   "id": "e10a748e",
   "metadata": {},
   "outputs": [],
   "source": [
    "top2000 = pl.read_excel(\n",
    "    \"data/top2000-2023.xlsx\", read_options={\"skip_rows\": 1}\n",
    ").set_sorted(\"positie\")"
   ]
  },
  {
   "cell_type": "code",
   "execution_count": 6,
   "id": "46787d4c",
   "metadata": {},
   "outputs": [
    {
     "data": {
      "text/html": [
       "<div><style>\n",
       ".dataframe > thead > tr,\n",
       ".dataframe > tbody > tr {\n",
       "  text-align: right;\n",
       "  white-space: pre-wrap;\n",
       "}\n",
       "</style>\n",
       "<small>shape: (2_000, 4)</small><table border=\"1\" class=\"dataframe\"><thead><tr><th>positie</th><th>titel</th><th>artiest</th><th>jaar</th></tr><tr><td>i64</td><td>str</td><td>str</td><td>i64</td></tr></thead><tbody><tr><td>1</td><td>&quot;Bohemian Rhapsody&quot;</td><td>&quot;Queen&quot;</td><td>1975</td></tr><tr><td>2</td><td>&quot;Roller Coaster&quot;</td><td>&quot;Danny Vera&quot;</td><td>2019</td></tr><tr><td>3</td><td>&quot;Hotel California&quot;</td><td>&quot;Eagles&quot;</td><td>1977</td></tr><tr><td>4</td><td>&quot;Piano Man&quot;</td><td>&quot;Billy Joel&quot;</td><td>1974</td></tr><tr><td>5</td><td>&quot;Fix You&quot;</td><td>&quot;Coldplay&quot;</td><td>2005</td></tr><tr><td>&hellip;</td><td>&hellip;</td><td>&hellip;</td><td>&hellip;</td></tr><tr><td>1996</td><td>&quot;Charlie Brown&quot;</td><td>&quot;Coldplay&quot;</td><td>2011</td></tr><tr><td>1997</td><td>&quot;Beast Of Burden&quot;</td><td>&quot;Bette Midler&quot;</td><td>1984</td></tr><tr><td>1998</td><td>&quot;It Was A Very Good Year&quot;</td><td>&quot;Frank Sinatra&quot;</td><td>1968</td></tr><tr><td>1999</td><td>&quot;Hou Van Mij&quot;</td><td>&quot;3JS&quot;</td><td>2008</td></tr><tr><td>2000</td><td>&quot;Drivers License&quot;</td><td>&quot;Olivia Rodrigo&quot;</td><td>2021</td></tr></tbody></table></div>"
      ],
      "text/plain": [
       "shape: (2_000, 4)\n",
       "┌─────────┬─────────────────────────┬────────────────┬──────┐\n",
       "│ positie ┆ titel                   ┆ artiest        ┆ jaar │\n",
       "│ ---     ┆ ---                     ┆ ---            ┆ ---  │\n",
       "│ i64     ┆ str                     ┆ str            ┆ i64  │\n",
       "╞═════════╪═════════════════════════╪════════════════╪══════╡\n",
       "│ 1       ┆ Bohemian Rhapsody       ┆ Queen          ┆ 1975 │\n",
       "│ 2       ┆ Roller Coaster          ┆ Danny Vera     ┆ 2019 │\n",
       "│ 3       ┆ Hotel California        ┆ Eagles         ┆ 1977 │\n",
       "│ 4       ┆ Piano Man               ┆ Billy Joel     ┆ 1974 │\n",
       "│ 5       ┆ Fix You                 ┆ Coldplay       ┆ 2005 │\n",
       "│ …       ┆ …                       ┆ …              ┆ …    │\n",
       "│ 1996    ┆ Charlie Brown           ┆ Coldplay       ┆ 2011 │\n",
       "│ 1997    ┆ Beast Of Burden         ┆ Bette Midler   ┆ 1984 │\n",
       "│ 1998    ┆ It Was A Very Good Year ┆ Frank Sinatra  ┆ 1968 │\n",
       "│ 1999    ┆ Hou Van Mij             ┆ 3JS            ┆ 2008 │\n",
       "│ 2000    ┆ Drivers License         ┆ Olivia Rodrigo ┆ 2021 │\n",
       "└─────────┴─────────────────────────┴────────────────┴──────┘"
      ]
     },
     "execution_count": 6,
     "metadata": {},
     "output_type": "execute_result"
    }
   ],
   "source": [
    "top2000"
   ]
  },
  {
   "cell_type": "code",
   "execution_count": 7,
   "id": "49adacc9",
   "metadata": {},
   "outputs": [
    {
     "data": {
      "text/html": [
       "<div><style>\n",
       ".dataframe > thead > tr,\n",
       ".dataframe > tbody > tr {\n",
       "  text-align: right;\n",
       "  white-space: pre-wrap;\n",
       "}\n",
       "</style>\n",
       "<small>shape: (67, 2)</small><table border=\"1\" class=\"dataframe\"><thead><tr><th>jaar</th><th>songs</th></tr><tr><td>i64</td><td>list[str]</td></tr></thead><tbody><tr><td>2022</td><td>[&quot;Son Mieux-Multicolor&quot;, &quot;Bankzitters-Je Blik Richting Mij&quot;, … &quot;Måneskin-THE LONELIEST&quot;]</td></tr><tr><td>2021</td><td>[&quot;Goldband-Noodgeval&quot;, &quot;Bankzitters-Stapelgek&quot;, … &quot;Olivia Rodrigo-Drivers License&quot;]</td></tr><tr><td>2020</td><td>[&quot;DI-RECT-Soldier On&quot;, &quot;Miss Montreal-Door De Wind&quot;, … &quot;Dua Lipa ft. DaBaby-Levitating&quot;]</td></tr><tr><td>2019</td><td>[&quot;Danny Vera-Roller Coaster&quot;, &quot;Floor Jansen &amp; Henk Poort-Phantom Of The Opera&quot;, … &quot;Tino Martin-Zij Weet Het&quot;]</td></tr><tr><td>2018</td><td>[&quot;Lady Gaga &amp; Bradley Cooper-Shallow&quot;, &quot;White Lies-Time To Give&quot;, … &quot;Calvin Harris &amp; Dua Lipa-One Kiss&quot;]</td></tr><tr><td>&hellip;</td><td>&hellip;</td></tr><tr><td>1960</td><td>[&quot;Etta James-At Last&quot;, &quot;Shadows-Apache&quot;]</td></tr><tr><td>1959</td><td>[&quot;Jacques Brel-Ne Me Quitte Pas&quot;, &quot;Elvis Presley-Hound Dog&quot;]</td></tr><tr><td>1958</td><td>[&quot;Chuck Berry-Johnny B. Goode&quot;, &quot;Ella Fitzgerald &amp; Louis Armstrong-Summertime&quot;]</td></tr><tr><td>1957</td><td>[&quot;Johnny Cash-I Walk The Line&quot;, &quot;Elvis Presley-Jailhouse Rock&quot;, … &quot;Fats Domino-Blueberry Hill&quot;]</td></tr><tr><td>1956</td><td>[&quot;Elvis Presley-Love Me Tender&quot;, &quot;Elvis Presley-Blue Suede Shoes&quot;]</td></tr></tbody></table></div>"
      ],
      "text/plain": [
       "shape: (67, 2)\n",
       "┌──────┬─────────────────────────────────┐\n",
       "│ jaar ┆ songs                           │\n",
       "│ ---  ┆ ---                             │\n",
       "│ i64  ┆ list[str]                       │\n",
       "╞══════╪═════════════════════════════════╡\n",
       "│ 2022 ┆ [\"Son Mieux-Multicolor\", \"Bank… │\n",
       "│ 2021 ┆ [\"Goldband-Noodgeval\", \"Bankzi… │\n",
       "│ 2020 ┆ [\"DI-RECT-Soldier On\", \"Miss M… │\n",
       "│ 2019 ┆ [\"Danny Vera-Roller Coaster\", … │\n",
       "│ 2018 ┆ [\"Lady Gaga & Bradley Cooper-S… │\n",
       "│ …    ┆ …                               │\n",
       "│ 1960 ┆ [\"Etta James-At Last\", \"Shadow… │\n",
       "│ 1959 ┆ [\"Jacques Brel-Ne Me Quitte Pa… │\n",
       "│ 1958 ┆ [\"Chuck Berry-Johnny B. Goode\"… │\n",
       "│ 1957 ┆ [\"Johnny Cash-I Walk The Line\"… │\n",
       "│ 1956 ┆ [\"Elvis Presley-Love Me Tender… │\n",
       "└──────┴─────────────────────────────────┘"
      ]
     },
     "execution_count": 7,
     "metadata": {},
     "output_type": "execute_result"
    }
   ],
   "source": [
    "(\n",
    "    top2000.group_by(\"jaar\")\n",
    "    .agg(\n",
    "        songs=pl.concat_str(pl.col(\"artiest\"), pl.lit(\"-\"), pl.col(\"titel\")),\n",
    "    )\n",
    "    .sort(\"jaar\", descending=True)\n",
    ")"
   ]
  },
  {
   "cell_type": "code",
   "execution_count": 8,
   "id": "ec03db2d",
   "metadata": {},
   "outputs": [
    {
     "data": {
      "text/html": [
       "<div><style>\n",
       ".dataframe > thead > tr,\n",
       ".dataframe > tbody > tr {\n",
       "  text-align: right;\n",
       "  white-space: pre-wrap;\n",
       "}\n",
       "</style>\n",
       "<small>shape: (9, 4)</small><table border=\"1\" class=\"dataframe\"><thead><tr><th>jaar</th><th>positie</th><th>titel</th><th>artiest</th></tr><tr><td>i64</td><td>i64</td><td>str</td><td>str</td></tr></thead><tbody><tr><td>2022</td><td>179</td><td>&quot;Multicolor&quot;</td><td>&quot;Son Mieux&quot;</td></tr><tr><td>2022</td><td>370</td><td>&quot;Je Blik Richting Mij&quot;</td><td>&quot;Bankzitters&quot;</td></tr><tr><td>2022</td><td>395</td><td>&quot;L&#x27;enfer&quot;</td><td>&quot;Stromae&quot;</td></tr><tr><td>2021</td><td>55</td><td>&quot;Noodgeval&quot;</td><td>&quot;Goldband&quot;</td></tr><tr><td>2021</td><td>149</td><td>&quot;Stapelgek&quot;</td><td>&quot;Bankzitters&quot;</td></tr><tr><td>2021</td><td>210</td><td>&quot;Dat Heb Jij Gedaan&quot;</td><td>&quot;Meau&quot;</td></tr><tr><td>2020</td><td>19</td><td>&quot;Soldier On&quot;</td><td>&quot;DI-RECT&quot;</td></tr><tr><td>2020</td><td>38</td><td>&quot;Door De Wind&quot;</td><td>&quot;Miss Montreal&quot;</td></tr><tr><td>2020</td><td>77</td><td>&quot;Impossible (Orchestral Version…</td><td>&quot;Nothing But Thieves&quot;</td></tr></tbody></table></div>"
      ],
      "text/plain": [
       "shape: (9, 4)\n",
       "┌──────┬─────────┬─────────────────────────────────┬─────────────────────┐\n",
       "│ jaar ┆ positie ┆ titel                           ┆ artiest             │\n",
       "│ ---  ┆ ---     ┆ ---                             ┆ ---                 │\n",
       "│ i64  ┆ i64     ┆ str                             ┆ str                 │\n",
       "╞══════╪═════════╪═════════════════════════════════╪═════════════════════╡\n",
       "│ 2022 ┆ 179     ┆ Multicolor                      ┆ Son Mieux           │\n",
       "│ 2022 ┆ 370     ┆ Je Blik Richting Mij            ┆ Bankzitters         │\n",
       "│ 2022 ┆ 395     ┆ L'enfer                         ┆ Stromae             │\n",
       "│ 2021 ┆ 55      ┆ Noodgeval                       ┆ Goldband            │\n",
       "│ 2021 ┆ 149     ┆ Stapelgek                       ┆ Bankzitters         │\n",
       "│ 2021 ┆ 210     ┆ Dat Heb Jij Gedaan              ┆ Meau                │\n",
       "│ 2020 ┆ 19      ┆ Soldier On                      ┆ DI-RECT             │\n",
       "│ 2020 ┆ 38      ┆ Door De Wind                    ┆ Miss Montreal       │\n",
       "│ 2020 ┆ 77      ┆ Impossible (Orchestral Version… ┆ Nothing But Thieves │\n",
       "└──────┴─────────┴─────────────────────────────────┴─────────────────────┘"
      ]
     },
     "execution_count": 8,
     "metadata": {},
     "output_type": "execute_result"
    }
   ],
   "source": [
    "(\n",
    "    top2000.group_by(\"jaar\", maintain_order=True)\n",
    "    .head(3)\n",
    "    .sort(\"jaar\", descending=True)\n",
    "    .head(9)\n",
    ")"
   ]
  },
  {
   "cell_type": "code",
   "execution_count": 9,
   "id": "be5f0cf6",
   "metadata": {},
   "outputs": [
    {
     "data": {
      "text/html": [
       "<div><style>\n",
       ".dataframe > thead > tr,\n",
       ".dataframe > tbody > tr {\n",
       "  text-align: right;\n",
       "  white-space: pre-wrap;\n",
       "}\n",
       "</style>\n",
       "<small>shape: (10, 2)</small><table border=\"1\" class=\"dataframe\"><thead><tr><th>artiest</th><th>len</th></tr><tr><td>str</td><td>u32</td></tr></thead><tbody><tr><td>&quot;Queen&quot;</td><td>34</td></tr><tr><td>&quot;The Beatles&quot;</td><td>31</td></tr><tr><td>&quot;ABBA&quot;</td><td>25</td></tr><tr><td>&quot;Bruce Springsteen&quot;</td><td>22</td></tr><tr><td>&quot;The Rolling Stones&quot;</td><td>22</td></tr><tr><td>&quot;Fleetwood Mac&quot;</td><td>20</td></tr><tr><td>&quot;Michael Jackson&quot;</td><td>20</td></tr><tr><td>&quot;Coldplay&quot;</td><td>20</td></tr><tr><td>&quot;U2&quot;</td><td>18</td></tr><tr><td>&quot;David Bowie&quot;</td><td>18</td></tr></tbody></table></div>"
      ],
      "text/plain": [
       "shape: (10, 2)\n",
       "┌────────────────────┬─────┐\n",
       "│ artiest            ┆ len │\n",
       "│ ---                ┆ --- │\n",
       "│ str                ┆ u32 │\n",
       "╞════════════════════╪═════╡\n",
       "│ Queen              ┆ 34  │\n",
       "│ The Beatles        ┆ 31  │\n",
       "│ ABBA               ┆ 25  │\n",
       "│ Bruce Springsteen  ┆ 22  │\n",
       "│ The Rolling Stones ┆ 22  │\n",
       "│ Fleetwood Mac      ┆ 20  │\n",
       "│ Michael Jackson    ┆ 20  │\n",
       "│ Coldplay           ┆ 20  │\n",
       "│ U2                 ┆ 18  │\n",
       "│ David Bowie        ┆ 18  │\n",
       "└────────────────────┴─────┘"
      ]
     },
     "execution_count": 9,
     "metadata": {},
     "output_type": "execute_result"
    }
   ],
   "source": [
    "(top2000.group_by(\"artiest\").len().sort(\"len\", descending=True).head(10))"
   ]
  },
  {
   "cell_type": "code",
   "execution_count": 10,
   "id": "31fd1779",
   "metadata": {},
   "outputs": [
    {
     "data": {
      "text/plain": [
       "['Date',\n",
       " 'Day',\n",
       " 'Month',\n",
       " 'Year',\n",
       " 'Customer_Age',\n",
       " 'Age_Group',\n",
       " 'Customer_Gender',\n",
       " 'Country',\n",
       " 'State',\n",
       " 'Product_Category',\n",
       " 'Sub_Category',\n",
       " 'Product',\n",
       " 'Order_Quantity',\n",
       " 'Unit_Cost',\n",
       " 'Unit_Price',\n",
       " 'Profit',\n",
       " 'Cost',\n",
       " 'Revenue']"
      ]
     },
     "execution_count": 10,
     "metadata": {},
     "output_type": "execute_result"
    }
   ],
   "source": [
    "sales = pl.read_csv(\"data/sales.csv\")\n",
    "sales.columns"
   ]
  },
  {
   "cell_type": "code",
   "execution_count": 11,
   "id": "30b326ea",
   "metadata": {},
   "outputs": [
    {
     "data": {
      "text/html": [
       "<div><style>\n",
       ".dataframe > thead > tr,\n",
       ".dataframe > tbody > tr {\n",
       "  text-align: right;\n",
       "  white-space: pre-wrap;\n",
       "}\n",
       "</style>\n",
       "<small>shape: (10, 3)</small><table border=\"1\" class=\"dataframe\"><thead><tr><th>pc</th><th>sc</th><th>price</th></tr><tr><td>str</td><td>str</td><td>i64</td></tr></thead><tbody><tr><td>&quot;Bikes&quot;</td><td>&quot;Road Bikes&quot;</td><td>3578</td></tr><tr><td>&quot;Bikes&quot;</td><td>&quot;Mountain Bikes&quot;</td><td>3400</td></tr><tr><td>&quot;Bikes&quot;</td><td>&quot;Touring Bikes&quot;</td><td>2384</td></tr><tr><td>&quot;Clothing&quot;</td><td>&quot;Vests&quot;</td><td>2384</td></tr><tr><td>&quot;Accessories&quot;</td><td>&quot;Bike Stands&quot;</td><td>159</td></tr><tr><td>&quot;Accessories&quot;</td><td>&quot;Bike Racks&quot;</td><td>120</td></tr><tr><td>&quot;Clothing&quot;</td><td>&quot;Shorts&quot;</td><td>70</td></tr><tr><td>&quot;Clothing&quot;</td><td>&quot;Socks&quot;</td><td>70</td></tr><tr><td>&quot;Accessories&quot;</td><td>&quot;Hydration Packs&quot;</td><td>55</td></tr><tr><td>&quot;Clothing&quot;</td><td>&quot;Jerseys&quot;</td><td>54</td></tr></tbody></table></div>"
      ],
      "text/plain": [
       "shape: (10, 3)\n",
       "┌─────────────┬─────────────────┬───────┐\n",
       "│ pc          ┆ sc              ┆ price │\n",
       "│ ---         ┆ ---             ┆ ---   │\n",
       "│ str         ┆ str             ┆ i64   │\n",
       "╞═════════════╪═════════════════╪═══════╡\n",
       "│ Bikes       ┆ Road Bikes      ┆ 3578  │\n",
       "│ Bikes       ┆ Mountain Bikes  ┆ 3400  │\n",
       "│ Bikes       ┆ Touring Bikes   ┆ 2384  │\n",
       "│ Clothing    ┆ Vests           ┆ 2384  │\n",
       "│ Accessories ┆ Bike Stands     ┆ 159   │\n",
       "│ Accessories ┆ Bike Racks      ┆ 120   │\n",
       "│ Clothing    ┆ Shorts          ┆ 70    │\n",
       "│ Clothing    ┆ Socks           ┆ 70    │\n",
       "│ Accessories ┆ Hydration Packs ┆ 55    │\n",
       "│ Clothing    ┆ Jerseys         ┆ 54    │\n",
       "└─────────────┴─────────────────┴───────┘"
      ]
     },
     "execution_count": 11,
     "metadata": {},
     "output_type": "execute_result"
    }
   ],
   "source": [
    "(\n",
    "    sales.select(\n",
    "        pl.col(\"Product_Category\").alias(\"pc\"),\n",
    "        pl.col(\"Sub_Category\").alias(\"sc\"),\n",
    "        pl.col(\"Unit_Price\").alias(\"price\"),\n",
    "    )\n",
    "    .group_by(\n",
    "        \"pc\",\n",
    "        \"sc\",\n",
    "    )\n",
    "    .max()\n",
    "    .sort(\"price\", descending=True)\n",
    "    .head(10)\n",
    ")"
   ]
  },
  {
   "cell_type": "code",
   "execution_count": 12,
   "id": "f5da61da",
   "metadata": {},
   "outputs": [
    {
     "data": {
      "text/html": [
       "<div><style>\n",
       ".dataframe > thead > tr,\n",
       ".dataframe > tbody > tr {\n",
       "  text-align: right;\n",
       "  white-space: pre-wrap;\n",
       "}\n",
       "</style>\n",
       "<small>shape: (6, 2)</small><table border=\"1\" class=\"dataframe\"><thead><tr><th>Country</th><th>Profit</th></tr><tr><td>str</td><td>i64</td></tr></thead><tbody><tr><td>&quot;United States&quot;</td><td>11073644</td></tr><tr><td>&quot;Australia&quot;</td><td>6776030</td></tr><tr><td>&quot;United Kingdom&quot;</td><td>4413853</td></tr><tr><td>&quot;Canada&quot;</td><td>3717296</td></tr><tr><td>&quot;Germany&quot;</td><td>3359995</td></tr><tr><td>&quot;France&quot;</td><td>2880282</td></tr></tbody></table></div>"
      ],
      "text/plain": [
       "shape: (6, 2)\n",
       "┌────────────────┬──────────┐\n",
       "│ Country        ┆ Profit   │\n",
       "│ ---            ┆ ---      │\n",
       "│ str            ┆ i64      │\n",
       "╞════════════════╪══════════╡\n",
       "│ United States  ┆ 11073644 │\n",
       "│ Australia      ┆ 6776030  │\n",
       "│ United Kingdom ┆ 4413853  │\n",
       "│ Canada         ┆ 3717296  │\n",
       "│ Germany        ┆ 3359995  │\n",
       "│ France         ┆ 2880282  │\n",
       "└────────────────┴──────────┘"
      ]
     },
     "execution_count": 12,
     "metadata": {},
     "output_type": "execute_result"
    }
   ],
   "source": [
    "(\n",
    "    sales.select(\"Country\", \"Profit\")\n",
    "    .group_by(\"Country\")\n",
    "    .sum()\n",
    "    .sort(\"Profit\", descending=True)\n",
    ")"
   ]
  },
  {
   "cell_type": "code",
   "execution_count": 13,
   "id": "eb81b680",
   "metadata": {},
   "outputs": [
    {
     "data": {
      "text/html": [
       "<div><style>\n",
       ".dataframe > thead > tr,\n",
       ".dataframe > tbody > tr {\n",
       "  text-align: right;\n",
       "  white-space: pre-wrap;\n",
       "}\n",
       "</style>\n",
       "<small>shape: (17, 2)</small><table border=\"1\" class=\"dataframe\"><thead><tr><th>Sub_Category</th><th>Product</th></tr><tr><td>str</td><td>u32</td></tr></thead><tbody><tr><td>&quot;Caps&quot;</td><td>2</td></tr><tr><td>&quot;Mountain Bikes&quot;</td><td>28</td></tr><tr><td>&quot;Fenders&quot;</td><td>2</td></tr><tr><td>&quot;Bike Stands&quot;</td><td>2</td></tr><tr><td>&quot;Vests&quot;</td><td>4</td></tr><tr><td>&hellip;</td><td>&hellip;</td></tr><tr><td>&quot;Gloves&quot;</td><td>4</td></tr><tr><td>&quot;Helmets&quot;</td><td>3</td></tr><tr><td>&quot;Cleaners&quot;</td><td>2</td></tr><tr><td>&quot;Bike Racks&quot;</td><td>1</td></tr><tr><td>&quot;Bottles and Cages&quot;</td><td>3</td></tr></tbody></table></div>"
      ],
      "text/plain": [
       "shape: (17, 2)\n",
       "┌───────────────────┬─────────┐\n",
       "│ Sub_Category      ┆ Product │\n",
       "│ ---               ┆ ---     │\n",
       "│ str               ┆ u32     │\n",
       "╞═══════════════════╪═════════╡\n",
       "│ Caps              ┆ 2       │\n",
       "│ Mountain Bikes    ┆ 28      │\n",
       "│ Fenders           ┆ 2       │\n",
       "│ Bike Stands       ┆ 2       │\n",
       "│ Vests             ┆ 4       │\n",
       "│ …                 ┆ …       │\n",
       "│ Gloves            ┆ 4       │\n",
       "│ Helmets           ┆ 3       │\n",
       "│ Cleaners          ┆ 2       │\n",
       "│ Bike Racks        ┆ 1       │\n",
       "│ Bottles and Cages ┆ 3       │\n",
       "└───────────────────┴─────────┘"
      ]
     },
     "execution_count": 13,
     "metadata": {},
     "output_type": "execute_result"
    }
   ],
   "source": [
    "(sales.select(\"Sub_Category\", \"Product\").group_by(\"Sub_Category\").n_unique())"
   ]
  },
  {
   "cell_type": "code",
   "execution_count": 14,
   "id": "36b7ad41",
   "metadata": {},
   "outputs": [
    {
     "data": {
      "text/html": [
       "<div><style>\n",
       ".dataframe > thead > tr,\n",
       ".dataframe > tbody > tr {\n",
       "  text-align: right;\n",
       "  white-space: pre-wrap;\n",
       "}\n",
       "</style>\n",
       "<small>shape: (10, 2)</small><table border=\"1\" class=\"dataframe\"><thead><tr><th>Sub_Category</th><th>Product</th></tr><tr><td>str</td><td>u32</td></tr></thead><tbody><tr><td>&quot;Road Bikes&quot;</td><td>38</td></tr><tr><td>&quot;Mountain Bikes&quot;</td><td>28</td></tr><tr><td>&quot;Touring Bikes&quot;</td><td>22</td></tr><tr><td>&quot;Tires and Tubes&quot;</td><td>11</td></tr><tr><td>&quot;Jerseys&quot;</td><td>8</td></tr><tr><td>&quot;Gloves&quot;</td><td>4</td></tr><tr><td>&quot;Vests&quot;</td><td>4</td></tr><tr><td>&quot;Socks&quot;</td><td>3</td></tr><tr><td>&quot;Helmets&quot;</td><td>3</td></tr><tr><td>&quot;Shorts&quot;</td><td>3</td></tr></tbody></table></div>"
      ],
      "text/plain": [
       "shape: (10, 2)\n",
       "┌─────────────────┬─────────┐\n",
       "│ Sub_Category    ┆ Product │\n",
       "│ ---             ┆ ---     │\n",
       "│ str             ┆ u32     │\n",
       "╞═════════════════╪═════════╡\n",
       "│ Road Bikes      ┆ 38      │\n",
       "│ Mountain Bikes  ┆ 28      │\n",
       "│ Touring Bikes   ┆ 22      │\n",
       "│ Tires and Tubes ┆ 11      │\n",
       "│ Jerseys         ┆ 8       │\n",
       "│ Gloves          ┆ 4       │\n",
       "│ Vests           ┆ 4       │\n",
       "│ Socks           ┆ 3       │\n",
       "│ Helmets         ┆ 3       │\n",
       "│ Shorts          ┆ 3       │\n",
       "└─────────────────┴─────────┘"
      ]
     },
     "execution_count": 14,
     "metadata": {},
     "output_type": "execute_result"
    }
   ],
   "source": [
    "(\n",
    "    sales.select(\"Sub_Category\", \"Product\")\n",
    "    .group_by(\"Sub_Category\")\n",
    "    .n_unique()\n",
    "    .sort(\"Product\", descending=True)\n",
    "    .head(10)\n",
    ")"
   ]
  },
  {
   "cell_type": "code",
   "execution_count": 15,
   "id": "532ed5c9",
   "metadata": {},
   "outputs": [
    {
     "data": {
      "text/html": [
       "<div><style>\n",
       ".dataframe > thead > tr,\n",
       ".dataframe > tbody > tr {\n",
       "  text-align: right;\n",
       "  white-space: pre-wrap;\n",
       "}\n",
       "</style>\n",
       "<small>shape: (4, 2)</small><table border=\"1\" class=\"dataframe\"><thead><tr><th>Age_Group</th><th>Order_Quantity</th></tr><tr><td>str</td><td>f64</td></tr></thead><tbody><tr><td>&quot;Seniors (64+)&quot;</td><td>13.530137</td></tr><tr><td>&quot;Youth (&lt;25)&quot;</td><td>12.124018</td></tr><tr><td>&quot;Adults (35-64)&quot;</td><td>12.045303</td></tr><tr><td>&quot;Young Adults (25-34)&quot;</td><td>11.560899</td></tr></tbody></table></div>"
      ],
      "text/plain": [
       "shape: (4, 2)\n",
       "┌──────────────────────┬────────────────┐\n",
       "│ Age_Group            ┆ Order_Quantity │\n",
       "│ ---                  ┆ ---            │\n",
       "│ str                  ┆ f64            │\n",
       "╞══════════════════════╪════════════════╡\n",
       "│ Seniors (64+)        ┆ 13.530137      │\n",
       "│ Youth (<25)          ┆ 12.124018      │\n",
       "│ Adults (35-64)       ┆ 12.045303      │\n",
       "│ Young Adults (25-34) ┆ 11.560899      │\n",
       "└──────────────────────┴────────────────┘"
      ]
     },
     "execution_count": 15,
     "metadata": {},
     "output_type": "execute_result"
    }
   ],
   "source": [
    "(\n",
    "    sales.select(\"Age_Group\", \"Order_Quantity\")\n",
    "    .group_by(\"Age_Group\")\n",
    "    .mean()\n",
    "    .sort(\"Order_Quantity\", descending=True)\n",
    ")"
   ]
  },
  {
   "cell_type": "code",
   "execution_count": 16,
   "id": "569ad519",
   "metadata": {},
   "outputs": [
    {
     "data": {
      "text/html": [
       "<div><style>\n",
       ".dataframe > thead > tr,\n",
       ".dataframe > tbody > tr {\n",
       "  text-align: right;\n",
       "  white-space: pre-wrap;\n",
       "}\n",
       "</style>\n",
       "<small>shape: (4, 3)</small><table border=\"1\" class=\"dataframe\"><thead><tr><th>Age_Group</th><th>Order_Quantity</th><th>Profit</th></tr><tr><td>str</td><td>f64</td><td>f64</td></tr></thead><tbody><tr><td>&quot;Seniors (64+)&quot;</td><td>13.530137</td><td>189.267123</td></tr><tr><td>&quot;Youth (&lt;25)&quot;</td><td>12.124018</td><td>245.377608</td></tr><tr><td>&quot;Adults (35-64)&quot;</td><td>12.045303</td><td>292.375717</td></tr><tr><td>&quot;Young Adults (25-34)&quot;</td><td>11.560899</td><td>294.581699</td></tr></tbody></table></div>"
      ],
      "text/plain": [
       "shape: (4, 3)\n",
       "┌──────────────────────┬────────────────┬────────────┐\n",
       "│ Age_Group            ┆ Order_Quantity ┆ Profit     │\n",
       "│ ---                  ┆ ---            ┆ ---        │\n",
       "│ str                  ┆ f64            ┆ f64        │\n",
       "╞══════════════════════╪════════════════╪════════════╡\n",
       "│ Seniors (64+)        ┆ 13.530137      ┆ 189.267123 │\n",
       "│ Youth (<25)          ┆ 12.124018      ┆ 245.377608 │\n",
       "│ Adults (35-64)       ┆ 12.045303      ┆ 292.375717 │\n",
       "│ Young Adults (25-34) ┆ 11.560899      ┆ 294.581699 │\n",
       "└──────────────────────┴────────────────┴────────────┘"
      ]
     },
     "execution_count": 16,
     "metadata": {},
     "output_type": "execute_result"
    }
   ],
   "source": [
    "(\n",
    "    sales.select(\"Age_Group\", \"Order_Quantity\", \"Profit\")\n",
    "    .group_by(\"Age_Group\")\n",
    "    .mean()\n",
    "    .sort(\"Order_Quantity\", descending=True)\n",
    ")"
   ]
  },
  {
   "cell_type": "markdown",
   "id": "4ceeac8f",
   "metadata": {},
   "source": [
    "okay so this is where polars is weird to me.\n",
    "\n",
    "you dont group by and then create a var that is the mean of another var (or overwrite one)\n",
    "you collect what you need and the grouping column is excluded from the mean and anything\n",
    "else that can be \"meaned\" or whatever other function has that done to it.\n",
    "that's great for many numeric columns. but strange to me, like what if you want\n",
    "the raw data of rows and then a weekly total do it muck up all the other non-numerics?"
   ]
  },
  {
   "cell_type": "markdown",
   "id": "5b3716b2",
   "metadata": {},
   "source": [
    "ahhh okay so this next part with agg() is how Im used to it. it's like summarize and reframe in r tidyverse"
   ]
  },
  {
   "cell_type": "code",
   "execution_count": 17,
   "id": "608e044a",
   "metadata": {},
   "outputs": [
    {
     "data": {
      "text/html": [
       "<div><style>\n",
       ".dataframe > thead > tr,\n",
       ".dataframe > tbody > tr {\n",
       "  text-align: right;\n",
       "  white-space: pre-wrap;\n",
       "}\n",
       "</style>\n",
       "<small>shape: (6, 5)</small><table border=\"1\" class=\"dataframe\"><thead><tr><th>Country</th><th>All Profits Per Transactions</th><th>AllRevenue</th><th>cost2</th><th>Cost</th></tr><tr><td>str</td><td>list[i64]</td><td>list[i64]</td><td>list[i64]</td><td>list[i64]</td></tr></thead><tbody><tr><td>&quot;Australia&quot;</td><td>[1366, 1188, … 655]</td><td>[2401, 2088, … 1183]</td><td>[1035, 900, … 528]</td><td>[1035, 900, … 528]</td></tr><tr><td>&quot;Germany&quot;</td><td>[160, 53, … 746]</td><td>[295, 98, … 1250]</td><td>[135, 45, … 504]</td><td>[135, 45, … 504]</td></tr><tr><td>&quot;United Kingdom&quot;</td><td>[1053, 1053, … 112]</td><td>[1728, 1728, … 184]</td><td>[675, 675, … 72]</td><td>[675, 675, … 72]</td></tr><tr><td>&quot;France&quot;</td><td>[427, 427, … 655]</td><td>[787, 787, … 1207]</td><td>[360, 360, … 552]</td><td>[360, 360, … 552]</td></tr><tr><td>&quot;United States&quot;</td><td>[524, 407, … 542]</td><td>[929, 722, … 878]</td><td>[405, 315, … 336]</td><td>[405, 315, … 336]</td></tr><tr><td>&quot;Canada&quot;</td><td>[590, 590, … 630]</td><td>[950, 950, … 1014]</td><td>[360, 360, … 384]</td><td>[360, 360, … 384]</td></tr></tbody></table></div>"
      ],
      "text/plain": [
       "shape: (6, 5)\n",
       "┌────────────────┬────────────────────┬────────────────────┬───────────────────┬───────────────────┐\n",
       "│ Country        ┆ All Profits Per    ┆ AllRevenue         ┆ cost2             ┆ Cost              │\n",
       "│ ---            ┆ Transactions       ┆ ---                ┆ ---               ┆ ---               │\n",
       "│ str            ┆ ---                ┆ list[i64]          ┆ list[i64]         ┆ list[i64]         │\n",
       "│                ┆ list[i64]          ┆                    ┆                   ┆                   │\n",
       "╞════════════════╪════════════════════╪════════════════════╪═══════════════════╪═══════════════════╡\n",
       "│ Australia      ┆ [1366, 1188, …     ┆ [2401, 2088, …     ┆ [1035, 900, …     ┆ [1035, 900, …     │\n",
       "│                ┆ 655]               ┆ 1183]              ┆ 528]              ┆ 528]              │\n",
       "│ Germany        ┆ [160, 53, … 746]   ┆ [295, 98, … 1250]  ┆ [135, 45, … 504]  ┆ [135, 45, … 504]  │\n",
       "│ United Kingdom ┆ [1053, 1053, …     ┆ [1728, 1728, …     ┆ [675, 675, … 72]  ┆ [675, 675, … 72]  │\n",
       "│                ┆ 112]               ┆ 184]               ┆                   ┆                   │\n",
       "│ France         ┆ [427, 427, … 655]  ┆ [787, 787, … 1207] ┆ [360, 360, … 552] ┆ [360, 360, … 552] │\n",
       "│ United States  ┆ [524, 407, … 542]  ┆ [929, 722, … 878]  ┆ [405, 315, … 336] ┆ [405, 315, … 336] │\n",
       "│ Canada         ┆ [590, 590, … 630]  ┆ [950, 950, … 1014] ┆ [360, 360, … 384] ┆ [360, 360, … 384] │\n",
       "└────────────────┴────────────────────┴────────────────────┴───────────────────┴───────────────────┘"
      ]
     },
     "execution_count": 17,
     "metadata": {},
     "output_type": "execute_result"
    }
   ],
   "source": [
    "(\n",
    "    sales.group_by(\"Country\").agg(\n",
    "        pl.col(\"Profit\").alias(\"All Profits Per Transactions\"),\n",
    "        pl.col(\"Revenue\").name.prefix(\"All\"),\n",
    "        pl.col(\"Revenue\").sub(pl.col(\"Profit\")).alias(\"cost2\"),\n",
    "        Cost=pl.col(\"Revenue\") - pl.col(\"Profit\"),\n",
    "    )\n",
    ")"
   ]
  },
  {
   "cell_type": "code",
   "execution_count": 18,
   "id": "1f5eca7e",
   "metadata": {},
   "outputs": [
    {
     "data": {
      "text/html": [
       "<div><style>\n",
       ".dataframe > thead > tr,\n",
       ".dataframe > tbody > tr {\n",
       "  text-align: right;\n",
       "  white-space: pre-wrap;\n",
       "}\n",
       "</style>\n",
       "<small>shape: (6, 5)</small><table border=\"1\" class=\"dataframe\"><thead><tr><th>Country</th><th>Total Profit</th><th>Average Profit per Transaction</th><th>TotalRevenue</th><th>Average Revenue per Transaction</th></tr><tr><td>str</td><td>i64</td><td>f64</td><td>i64</td><td>f64</td></tr></thead><tbody><tr><td>&quot;France&quot;</td><td>2880282</td><td>261.891435</td><td>8432872</td><td>766.764139</td></tr><tr><td>&quot;Germany&quot;</td><td>3359995</td><td>302.756803</td><td>8978596</td><td>809.028293</td></tr><tr><td>&quot;Canada&quot;</td><td>3717296</td><td>262.187615</td><td>7935738</td><td>559.721964</td></tr><tr><td>&quot;United Kingdom&quot;</td><td>4413853</td><td>324.071439</td><td>10646196</td><td>781.659031</td></tr><tr><td>&quot;Australia&quot;</td><td>6776030</td><td>283.089489</td><td>21302059</td><td>889.959016</td></tr><tr><td>&quot;United States&quot;</td><td>11073644</td><td>282.447687</td><td>27975547</td><td>713.552696</td></tr></tbody></table></div>"
      ],
      "text/plain": [
       "shape: (6, 5)\n",
       "┌────────────────┬──────────────┬────────────────────┬──────────────┬─────────────────────┐\n",
       "│ Country        ┆ Total Profit ┆ Average Profit per ┆ TotalRevenue ┆ Average Revenue per │\n",
       "│ ---            ┆ ---          ┆ Transaction        ┆ ---          ┆ Transactio…         │\n",
       "│ str            ┆ i64          ┆ ---                ┆ i64          ┆ ---                 │\n",
       "│                ┆              ┆ f64                ┆              ┆ f64                 │\n",
       "╞════════════════╪══════════════╪════════════════════╪══════════════╪═════════════════════╡\n",
       "│ France         ┆ 2880282      ┆ 261.891435         ┆ 8432872      ┆ 766.764139          │\n",
       "│ Germany        ┆ 3359995      ┆ 302.756803         ┆ 8978596      ┆ 809.028293          │\n",
       "│ Canada         ┆ 3717296      ┆ 262.187615         ┆ 7935738      ┆ 559.721964          │\n",
       "│ United Kingdom ┆ 4413853      ┆ 324.071439         ┆ 10646196     ┆ 781.659031          │\n",
       "│ Australia      ┆ 6776030      ┆ 283.089489         ┆ 21302059     ┆ 889.959016          │\n",
       "│ United States  ┆ 11073644     ┆ 282.447687         ┆ 27975547     ┆ 713.552696          │\n",
       "└────────────────┴──────────────┴────────────────────┴──────────────┴─────────────────────┘"
      ]
     },
     "execution_count": 18,
     "metadata": {},
     "output_type": "execute_result"
    }
   ],
   "source": [
    "(\n",
    "    sales.select(\"Country\", \"Profit\", \"Revenue\")\n",
    "    .group_by(\"Country\")\n",
    "    .agg(\n",
    "        pl.col(\"Profit\").sum().name.prefix(\"Total \"),\n",
    "        pl.col(\"Profit\").mean().alias(\"Average Profit per Transaction\"),\n",
    "        pl.col(\"Revenue\").sum().name.prefix(\"Total\"),\n",
    "        pl.col(\"Revenue\").mean().alias(\"Average Revenue per Transaction\"),\n",
    "    )\n",
    "    .sort(\"Total Profit\")\n",
    ")"
   ]
  },
  {
   "cell_type": "code",
   "execution_count": 19,
   "id": "eb38078c",
   "metadata": {},
   "outputs": [],
   "source": [
    "def sum_transactions_above_threshold(\n",
    "    col: pl.Expr, threshold: float\n",
    ") -> tuple[pl.Expr, pl.Expr]:\n",
    "    \"\"\"Sums transactions where the column col exceeds the threshold.\"\"\"\n",
    "    original_column_name = col.meta.root_names()[0]\n",
    "    condition_column_name = (col > threshold).alias(\n",
    "        f\"{original_column_name} > {threshold}\"\n",
    "    )\n",
    "    new_column = (\n",
    "        (col > threshold)\n",
    "        .sum()\n",
    "        .alias(f\"Transactions with {original_column_name} > {threshold}\")\n",
    "    )\n",
    "    return condition_column_name, new_column"
   ]
  },
  {
   "cell_type": "code",
   "execution_count": 20,
   "id": "ad8a0af6",
   "metadata": {},
   "outputs": [
    {
     "data": {
      "text/html": [
       "<div><style>\n",
       ".dataframe > thead > tr,\n",
       ".dataframe > tbody > tr {\n",
       "  text-align: right;\n",
       "  white-space: pre-wrap;\n",
       "}\n",
       "</style>\n",
       "<small>shape: (6, 3)</small><table border=\"1\" class=\"dataframe\"><thead><tr><th>Country</th><th>Profit &gt; 999</th><th>Transactions with Profit &gt; 999</th></tr><tr><td>str</td><td>list[bool]</td><td>u32</td></tr></thead><tbody><tr><td>&quot;Australia&quot;</td><td>[true, true, … false]</td><td>1233</td></tr><tr><td>&quot;United States&quot;</td><td>[false, false, … false]</td><td>2623</td></tr><tr><td>&quot;France&quot;</td><td>[false, false, … false]</td><td>482</td></tr><tr><td>&quot;Canada&quot;</td><td>[false, false, … false]</td><td>868</td></tr><tr><td>&quot;Germany&quot;</td><td>[false, false, … false]</td><td>659</td></tr><tr><td>&quot;United Kingdom&quot;</td><td>[true, true, … false]</td><td>788</td></tr></tbody></table></div>"
      ],
      "text/plain": [
       "shape: (6, 3)\n",
       "┌────────────────┬─────────────────────────┬────────────────────────────────┐\n",
       "│ Country        ┆ Profit > 999            ┆ Transactions with Profit > 999 │\n",
       "│ ---            ┆ ---                     ┆ ---                            │\n",
       "│ str            ┆ list[bool]              ┆ u32                            │\n",
       "╞════════════════╪═════════════════════════╪════════════════════════════════╡\n",
       "│ Australia      ┆ [true, true, … false]   ┆ 1233                           │\n",
       "│ United States  ┆ [false, false, … false] ┆ 2623                           │\n",
       "│ France         ┆ [false, false, … false] ┆ 482                            │\n",
       "│ Canada         ┆ [false, false, … false] ┆ 868                            │\n",
       "│ Germany        ┆ [false, false, … false] ┆ 659                            │\n",
       "│ United Kingdom ┆ [true, true, … false]   ┆ 788                            │\n",
       "└────────────────┴─────────────────────────┴────────────────────────────────┘"
      ]
     },
     "execution_count": 20,
     "metadata": {},
     "output_type": "execute_result"
    }
   ],
   "source": [
    "sales.select(\"Country\", \"Profit\").group_by(\"Country\").agg(\n",
    "    sum_transactions_above_threshold(pl.col(\"Profit\"), 999)\n",
    ")"
   ]
  },
  {
   "cell_type": "code",
   "execution_count": 21,
   "id": "e726139b",
   "metadata": {},
   "outputs": [
    {
     "data": {
      "text/html": [
       "<div><style>\n",
       ".dataframe > thead > tr,\n",
       ".dataframe > tbody > tr {\n",
       "  text-align: right;\n",
       "  white-space: pre-wrap;\n",
       "}\n",
       "</style>\n",
       "<small>shape: (1, 5)</small><table border=\"1\" class=\"dataframe\"><thead><tr><th>col1</th><th>col2</th><th>col3</th><th>sum</th><th>sum2</th></tr><tr><td>i64</td><td>i64</td><td>i64</td><td>i64</td><td>i64</td></tr></thead><tbody><tr><td>2</td><td>3</td><td>4</td><td>9</td><td>9</td></tr></tbody></table></div>"
      ],
      "text/plain": [
       "shape: (1, 5)\n",
       "┌──────┬──────┬──────┬─────┬──────┐\n",
       "│ col1 ┆ col2 ┆ col3 ┆ sum ┆ sum2 │\n",
       "│ ---  ┆ ---  ┆ ---  ┆ --- ┆ ---  │\n",
       "│ i64  ┆ i64  ┆ i64  ┆ i64 ┆ i64  │\n",
       "╞══════╪══════╪══════╪═════╪══════╡\n",
       "│ 2    ┆ 3    ┆ 4    ┆ 9   ┆ 9    │\n",
       "└──────┴──────┴──────┴─────┴──────┘"
      ]
     },
     "execution_count": 21,
     "metadata": {},
     "output_type": "execute_result"
    }
   ],
   "source": [
    "fold_example = pl.DataFrame({\"col1\": [2], \"col2\": [3], \"col3\": [4]})\n",
    "\n",
    "fold_example.with_columns(\n",
    "    sum=pl.fold(acc=pl.lit(0), function=lambda acc,\n",
    "                x: acc + x, exprs=pl.col(\"*\")),\n",
    "    sum2=pl.col(\"col1\") + pl.col(\"col2\") + pl.col(\"col3\"),\n",
    ")"
   ]
  },
  {
   "cell_type": "markdown",
   "id": "deda4df7",
   "metadata": {},
   "source": [
    "kind of a useless example ^ but I'm sure this was just meant to be simple"
   ]
  },
  {
   "cell_type": "markdown",
   "id": "abb24fd5",
   "metadata": {},
   "source": [
    "they provide one - what if you want sum with weights "
   ]
  },
  {
   "cell_type": "code",
   "execution_count": 22,
   "id": "b0d0299d",
   "metadata": {},
   "outputs": [
    {
     "data": {
      "text/html": [
       "<div><style>\n",
       ".dataframe > thead > tr,\n",
       ".dataframe > tbody > tr {\n",
       "  text-align: right;\n",
       "  white-space: pre-wrap;\n",
       "}\n",
       "</style>\n",
       "<small>shape: (3, 4)</small><table border=\"1\" class=\"dataframe\"><thead><tr><th>product_a</th><th>product_b</th><th>product_c</th><th>weighted_sum</th></tr><tr><td>i64</td><td>i64</td><td>i64</td><td>f64</td></tr></thead><tbody><tr><td>10</td><td>20</td><td>30</td><td>95.0</td></tr><tr><td>20</td><td>30</td><td>40</td><td>135.0</td></tr><tr><td>30</td><td>40</td><td>50</td><td>175.0</td></tr></tbody></table></div>"
      ],
      "text/plain": [
       "shape: (3, 4)\n",
       "┌───────────┬───────────┬───────────┬──────────────┐\n",
       "│ product_a ┆ product_b ┆ product_c ┆ weighted_sum │\n",
       "│ ---       ┆ ---       ┆ ---       ┆ ---          │\n",
       "│ i64       ┆ i64       ┆ i64       ┆ f64          │\n",
       "╞═══════════╪═══════════╪═══════════╪══════════════╡\n",
       "│ 10        ┆ 20        ┆ 30        ┆ 95.0         │\n",
       "│ 20        ┆ 30        ┆ 40        ┆ 135.0        │\n",
       "│ 30        ┆ 40        ┆ 50        ┆ 175.0        │\n",
       "└───────────┴───────────┴───────────┴──────────────┘"
      ]
     },
     "execution_count": 22,
     "metadata": {},
     "output_type": "execute_result"
    }
   ],
   "source": [
    "products = pl.DataFrame(\n",
    "    {\n",
    "        \"product_a\": [10, 20, 30],\n",
    "        \"product_b\": [20, 30, 40],\n",
    "        \"product_c\": [30, 40, 50],\n",
    "    }\n",
    ")\n",
    "\n",
    "weights = {\"product_a\": 0.5, \"product_b\": 1.5, \"product_c\": 2.0}\n",
    "\n",
    "weighted_exprs = [\n",
    "    (pl.col(product) * weight).alias(product) for product, weight in weights.items()\n",
    "]\n",
    "\n",
    "products_with_weighted_sum = products.with_columns(\n",
    "    weighted_sum=pl.fold(\n",
    "        acc=pl.lit(0), function=lambda acc, x: acc + x, exprs=weighted_exprs\n",
    "    )\n",
    ")\n",
    "\n",
    "products_with_weighted_sum"
   ]
  },
  {
   "cell_type": "markdown",
   "id": "848e8f11",
   "metadata": {},
   "source": [
    "im trying to think about how I would've done that normally in R...\n",
    "probably would've made a table of the weights. did a join. did a mutate(across) \n",
    "where its all x by weight and then sum the row.\n",
    "which I guess isn't that too different. or maybe I would've pivoted\n",
    "longer and did something. I dunno. working across a row\n",
    "just isn't something I do too often. I usually find a different\n",
    "pattern...."
   ]
  },
  {
   "cell_type": "markdown",
   "id": "e6d6ca18",
   "metadata": {},
   "source": [
    "window funcs: sometimes we want to add info to things. instead of aggregating down to things.\n",
    "there is over, instead of agg. \n",
    "so if agg is like summarize (but mostly reframe)\n",
    "then this is just a group_by and mutate probably.... we'll see."
   ]
  },
  {
   "cell_type": "code",
   "execution_count": 23,
   "id": "f17bca12",
   "metadata": {},
   "outputs": [
    {
     "data": {
      "text/html": [
       "<div><style>\n",
       ".dataframe > thead > tr,\n",
       ".dataframe > tbody > tr {\n",
       "  text-align: right;\n",
       "  white-space: pre-wrap;\n",
       "}\n",
       "</style>\n",
       "<small>shape: (10, 5)</small><table border=\"1\" class=\"dataframe\"><thead><tr><th>jaar</th><th>artiest</th><th>titel</th><th>positie</th><th>year_rank</th></tr><tr><td>i64</td><td>str</td><td>str</td><td>i64</td><td>f64</td></tr></thead><tbody><tr><td>2013</td><td>&quot;Stromae&quot;</td><td>&quot;Papaoutai&quot;</td><td>318</td><td>6.0</td></tr><tr><td>1969</td><td>&quot;John Denver&quot;</td><td>&quot;Leaving On A Jet Plane&quot;</td><td>607</td><td>16.0</td></tr><tr><td>1971</td><td>&quot;Led Zeppelin&quot;</td><td>&quot;Immigrant Song&quot;</td><td>590</td><td>19.0</td></tr><tr><td>2009</td><td>&quot;Anouk&quot;</td><td>&quot;For Bitter Or Worse&quot;</td><td>1453</td><td>23.0</td></tr><tr><td>2015</td><td>&quot;Snollebollekes&quot;</td><td>&quot;Links Rechts&quot;</td><td>1076</td><td>14.0</td></tr><tr><td>1984</td><td>&quot;Alphaville&quot;</td><td>&quot;Forever Young&quot;</td><td>302</td><td>11.0</td></tr><tr><td>1977</td><td>&quot;ABBA&quot;</td><td>&quot;Take A Chance On Me&quot;</td><td>636</td><td>23.0</td></tr><tr><td>1975</td><td>&quot;Rod Stewart&quot;</td><td>&quot;Sailing&quot;</td><td>918</td><td>20.0</td></tr><tr><td>1986</td><td>&quot;Metallica&quot;</td><td>&quot;Master Of Puppets&quot;</td><td>29</td><td>1.0</td></tr><tr><td>2005</td><td>&quot;Alderliefste &amp; Ramses Shaffy&quot;</td><td>&quot;Laat Me/Vivre&quot;</td><td>463</td><td>5.0</td></tr></tbody></table></div>"
      ],
      "text/plain": [
       "shape: (10, 5)\n",
       "┌──────┬──────────────────────────────┬────────────────────────┬─────────┬───────────┐\n",
       "│ jaar ┆ artiest                      ┆ titel                  ┆ positie ┆ year_rank │\n",
       "│ ---  ┆ ---                          ┆ ---                    ┆ ---     ┆ ---       │\n",
       "│ i64  ┆ str                          ┆ str                    ┆ i64     ┆ f64       │\n",
       "╞══════╪══════════════════════════════╪════════════════════════╪═════════╪═══════════╡\n",
       "│ 2013 ┆ Stromae                      ┆ Papaoutai              ┆ 318     ┆ 6.0       │\n",
       "│ 1969 ┆ John Denver                  ┆ Leaving On A Jet Plane ┆ 607     ┆ 16.0      │\n",
       "│ 1971 ┆ Led Zeppelin                 ┆ Immigrant Song         ┆ 590     ┆ 19.0      │\n",
       "│ 2009 ┆ Anouk                        ┆ For Bitter Or Worse    ┆ 1453    ┆ 23.0      │\n",
       "│ 2015 ┆ Snollebollekes               ┆ Links Rechts           ┆ 1076    ┆ 14.0      │\n",
       "│ 1984 ┆ Alphaville                   ┆ Forever Young          ┆ 302     ┆ 11.0      │\n",
       "│ 1977 ┆ ABBA                         ┆ Take A Chance On Me    ┆ 636     ┆ 23.0      │\n",
       "│ 1975 ┆ Rod Stewart                  ┆ Sailing                ┆ 918     ┆ 20.0      │\n",
       "│ 1986 ┆ Metallica                    ┆ Master Of Puppets      ┆ 29      ┆ 1.0       │\n",
       "│ 2005 ┆ Alderliefste & Ramses Shaffy ┆ Laat Me/Vivre          ┆ 463     ┆ 5.0       │\n",
       "└──────┴──────────────────────────────┴────────────────────────┴─────────┴───────────┘"
      ]
     },
     "execution_count": 23,
     "metadata": {},
     "output_type": "execute_result"
    }
   ],
   "source": [
    "(\n",
    "    top2000.select(\n",
    "        \"jaar\",\n",
    "        \"artiest\",\n",
    "        \"titel\",\n",
    "        \"positie\",\n",
    "        year_rank=pl.col(\"positie\").rank().over(\"jaar\"),\n",
    "    ).sample(10, seed=42)\n",
    ")"
   ]
  },
  {
   "cell_type": "markdown",
   "id": "8ef7a722",
   "metadata": {},
   "source": [
    "asked copilot for a dynamic group example below lol its garbabge and doesnt work. nvm."
   ]
  },
  {
   "cell_type": "code",
   "execution_count": 24,
   "id": "8613b106",
   "metadata": {},
   "outputs": [],
   "source": [
    "dates = pl.date_range(\n",
    "    start=pl.date(2024, 4, 1),\n",
    "    end=pl.date(2024, 4, 26),\n",
    "    interval=\"2d\",\n",
    "    eager=True,\n",
    ")\n",
    "\n",
    "dates = dates.filter(dates.dt.weekday() < 6)\n",
    "dates_repeated = pl.concat([dates, dates]).sort()"
   ]
  },
  {
   "cell_type": "code",
   "execution_count": 25,
   "id": "0a92630b",
   "metadata": {},
   "outputs": [
    {
     "data": {
      "text/html": [
       "<div><style>\n",
       ".dataframe > thead > tr,\n",
       ".dataframe > tbody > tr {\n",
       "  text-align: right;\n",
       "  white-space: pre-wrap;\n",
       "}\n",
       "</style>\n",
       "<small>shape: (10,)</small><table border=\"1\" class=\"dataframe\"><thead><tr><th>date</th></tr><tr><td>date</td></tr></thead><tbody><tr><td>2024-04-01</td></tr><tr><td>2024-04-03</td></tr><tr><td>2024-04-05</td></tr><tr><td>2024-04-09</td></tr><tr><td>2024-04-11</td></tr><tr><td>2024-04-15</td></tr><tr><td>2024-04-17</td></tr><tr><td>2024-04-19</td></tr><tr><td>2024-04-23</td></tr><tr><td>2024-04-25</td></tr></tbody></table></div>"
      ],
      "text/plain": [
       "shape: (10,)\n",
       "Series: 'date' [date]\n",
       "[\n",
       "\t2024-04-01\n",
       "\t2024-04-03\n",
       "\t2024-04-05\n",
       "\t2024-04-09\n",
       "\t2024-04-11\n",
       "\t2024-04-15\n",
       "\t2024-04-17\n",
       "\t2024-04-19\n",
       "\t2024-04-23\n",
       "\t2024-04-25\n",
       "]"
      ]
     },
     "execution_count": 25,
     "metadata": {},
     "output_type": "execute_result"
    }
   ],
   "source": [
    "dates"
   ]
  },
  {
   "cell_type": "code",
   "execution_count": 27,
   "id": "7f359af9",
   "metadata": {},
   "outputs": [
    {
     "data": {
      "text/html": [
       "<div><style>\n",
       ".dataframe > thead > tr,\n",
       ".dataframe > tbody > tr {\n",
       "  text-align: right;\n",
       "  white-space: pre-wrap;\n",
       "}\n",
       "</style>\n",
       "<small>shape: (20,)</small><table border=\"1\" class=\"dataframe\"><thead><tr><th>date</th></tr><tr><td>date</td></tr></thead><tbody><tr><td>2024-04-01</td></tr><tr><td>2024-04-01</td></tr><tr><td>2024-04-03</td></tr><tr><td>2024-04-03</td></tr><tr><td>2024-04-05</td></tr><tr><td>&hellip;</td></tr><tr><td>2024-04-19</td></tr><tr><td>2024-04-23</td></tr><tr><td>2024-04-23</td></tr><tr><td>2024-04-25</td></tr><tr><td>2024-04-25</td></tr></tbody></table></div>"
      ],
      "text/plain": [
       "shape: (20,)\n",
       "Series: 'date' [date]\n",
       "[\n",
       "\t2024-04-01\n",
       "\t2024-04-01\n",
       "\t2024-04-03\n",
       "\t2024-04-03\n",
       "\t2024-04-05\n",
       "\t…\n",
       "\t2024-04-19\n",
       "\t2024-04-23\n",
       "\t2024-04-23\n",
       "\t2024-04-25\n",
       "\t2024-04-25\n",
       "]"
      ]
     },
     "execution_count": 27,
     "metadata": {},
     "output_type": "execute_result"
    }
   ],
   "source": [
    "dates_repeated"
   ]
  },
  {
   "cell_type": "code",
   "execution_count": null,
   "id": "5d243207",
   "metadata": {},
   "outputs": [],
   "source": [
    "small_sales_df = (\n",
    "    pl.DataFrame(\n",
    "        {\n",
    "            \"date\": dates_repeated,\n",
    "            \"store\": [\"Store A\", \"Store B\"] * dates.len(),\n",
    "            \"sales\": [\n",
    "                200, 150, 220, 160, 250, 180, 270, 190, 280, 210,\n",
    "                210, 170, 220, 180, 240, 190, 250, 200, 260, 210,\n",
    "            ],\n",
    "        }\n",
    "    )\n",
    "    # lets polars know this is sorted already for optimizations\n",
    "    .set_sorted(\"date\")\n",
    "    .set_sorted(\"store\")\n",
    ")"
   ]
  },
  {
   "cell_type": "code",
   "execution_count": 31,
   "id": "b52fd3c6",
   "metadata": {},
   "outputs": [
    {
     "data": {
      "text/html": [
       "<div><style>\n",
       ".dataframe > thead > tr,\n",
       ".dataframe > tbody > tr {\n",
       "  text-align: right;\n",
       "  white-space: pre-wrap;\n",
       "}\n",
       "</style>\n",
       "<small>shape: (20, 3)</small><table border=\"1\" class=\"dataframe\"><thead><tr><th>date</th><th>store</th><th>sales</th></tr><tr><td>date</td><td>str</td><td>i64</td></tr></thead><tbody><tr><td>2024-04-01</td><td>&quot;Store A&quot;</td><td>200</td></tr><tr><td>2024-04-01</td><td>&quot;Store B&quot;</td><td>150</td></tr><tr><td>2024-04-03</td><td>&quot;Store A&quot;</td><td>220</td></tr><tr><td>2024-04-03</td><td>&quot;Store B&quot;</td><td>160</td></tr><tr><td>2024-04-05</td><td>&quot;Store A&quot;</td><td>250</td></tr><tr><td>&hellip;</td><td>&hellip;</td><td>&hellip;</td></tr><tr><td>2024-04-19</td><td>&quot;Store B&quot;</td><td>190</td></tr><tr><td>2024-04-23</td><td>&quot;Store A&quot;</td><td>250</td></tr><tr><td>2024-04-23</td><td>&quot;Store B&quot;</td><td>200</td></tr><tr><td>2024-04-25</td><td>&quot;Store A&quot;</td><td>260</td></tr><tr><td>2024-04-25</td><td>&quot;Store B&quot;</td><td>210</td></tr></tbody></table></div>"
      ],
      "text/plain": [
       "shape: (20, 3)\n",
       "┌────────────┬─────────┬───────┐\n",
       "│ date       ┆ store   ┆ sales │\n",
       "│ ---        ┆ ---     ┆ ---   │\n",
       "│ date       ┆ str     ┆ i64   │\n",
       "╞════════════╪═════════╪═══════╡\n",
       "│ 2024-04-01 ┆ Store A ┆ 200   │\n",
       "│ 2024-04-01 ┆ Store B ┆ 150   │\n",
       "│ 2024-04-03 ┆ Store A ┆ 220   │\n",
       "│ 2024-04-03 ┆ Store B ┆ 160   │\n",
       "│ 2024-04-05 ┆ Store A ┆ 250   │\n",
       "│ …          ┆ …       ┆ …     │\n",
       "│ 2024-04-19 ┆ Store B ┆ 190   │\n",
       "│ 2024-04-23 ┆ Store A ┆ 250   │\n",
       "│ 2024-04-23 ┆ Store B ┆ 200   │\n",
       "│ 2024-04-25 ┆ Store A ┆ 260   │\n",
       "│ 2024-04-25 ┆ Store B ┆ 210   │\n",
       "└────────────┴─────────┴───────┘"
      ]
     },
     "execution_count": 31,
     "metadata": {},
     "output_type": "execute_result"
    }
   ],
   "source": [
    "small_sales_df"
   ]
  },
  {
   "cell_type": "code",
   "execution_count": 32,
   "id": "435f1046",
   "metadata": {},
   "outputs": [],
   "source": [
    "# can calculate rolling sum of lazt 7 days\n",
    "\n",
    "result = small_sales_df.rolling(\n",
    "    index_column=\"date\",\n",
    "    period=\"7d\",\n",
    "    group_by=\"store\",\n",
    ").agg(\n",
    "    sum_of_last_7_days_sales=pl.sum(\"sales\")\n",
    ")"
   ]
  },
  {
   "cell_type": "code",
   "execution_count": 33,
   "id": "259efe6b",
   "metadata": {},
   "outputs": [
    {
     "data": {
      "text/html": [
       "<div><style>\n",
       ".dataframe > thead > tr,\n",
       ".dataframe > tbody > tr {\n",
       "  text-align: right;\n",
       "  white-space: pre-wrap;\n",
       "}\n",
       "</style>\n",
       "<small>shape: (20, 3)</small><table border=\"1\" class=\"dataframe\"><thead><tr><th>store</th><th>date</th><th>sum_of_last_7_days_sales</th></tr><tr><td>str</td><td>date</td><td>i64</td></tr></thead><tbody><tr><td>&quot;Store A&quot;</td><td>2024-04-01</td><td>200</td></tr><tr><td>&quot;Store A&quot;</td><td>2024-04-03</td><td>420</td></tr><tr><td>&quot;Store A&quot;</td><td>2024-04-05</td><td>670</td></tr><tr><td>&quot;Store A&quot;</td><td>2024-04-09</td><td>740</td></tr><tr><td>&quot;Store A&quot;</td><td>2024-04-11</td><td>800</td></tr><tr><td>&hellip;</td><td>&hellip;</td><td>&hellip;</td></tr><tr><td>&quot;Store B&quot;</td><td>2024-04-15</td><td>570</td></tr><tr><td>&quot;Store B&quot;</td><td>2024-04-17</td><td>560</td></tr><tr><td>&quot;Store B&quot;</td><td>2024-04-19</td><td>540</td></tr><tr><td>&quot;Store B&quot;</td><td>2024-04-23</td><td>570</td></tr><tr><td>&quot;Store B&quot;</td><td>2024-04-25</td><td>600</td></tr></tbody></table></div>"
      ],
      "text/plain": [
       "shape: (20, 3)\n",
       "┌─────────┬────────────┬──────────────────────────┐\n",
       "│ store   ┆ date       ┆ sum_of_last_7_days_sales │\n",
       "│ ---     ┆ ---        ┆ ---                      │\n",
       "│ str     ┆ date       ┆ i64                      │\n",
       "╞═════════╪════════════╪══════════════════════════╡\n",
       "│ Store A ┆ 2024-04-01 ┆ 200                      │\n",
       "│ Store A ┆ 2024-04-03 ┆ 420                      │\n",
       "│ Store A ┆ 2024-04-05 ┆ 670                      │\n",
       "│ Store A ┆ 2024-04-09 ┆ 740                      │\n",
       "│ Store A ┆ 2024-04-11 ┆ 800                      │\n",
       "│ …       ┆ …          ┆ …                        │\n",
       "│ Store B ┆ 2024-04-15 ┆ 570                      │\n",
       "│ Store B ┆ 2024-04-17 ┆ 560                      │\n",
       "│ Store B ┆ 2024-04-19 ┆ 540                      │\n",
       "│ Store B ┆ 2024-04-23 ┆ 570                      │\n",
       "│ Store B ┆ 2024-04-25 ┆ 600                      │\n",
       "└─────────┴────────────┴──────────────────────────┘"
      ]
     },
     "execution_count": 33,
     "metadata": {},
     "output_type": "execute_result"
    }
   ],
   "source": [
    "result"
   ]
  },
  {
   "cell_type": "code",
   "execution_count": null,
   "id": "b281e9e3",
   "metadata": {},
   "outputs": [
    {
     "data": {
      "text/html": [
       "<div><style>\n",
       ".dataframe > thead > tr,\n",
       ".dataframe > tbody > tr {\n",
       "  text-align: right;\n",
       "  white-space: pre-wrap;\n",
       "}\n",
       "</style>\n",
       "<small>shape: (20, 4)</small><table border=\"1\" class=\"dataframe\"><thead><tr><th>date</th><th>store</th><th>sales</th><th>sum_of_last_7_days_sales</th></tr><tr><td>date</td><td>str</td><td>i64</td><td>i64</td></tr></thead><tbody><tr><td>2024-04-01</td><td>&quot;Store A&quot;</td><td>200</td><td>200</td></tr><tr><td>2024-04-03</td><td>&quot;Store A&quot;</td><td>220</td><td>420</td></tr><tr><td>2024-04-05</td><td>&quot;Store A&quot;</td><td>250</td><td>670</td></tr><tr><td>2024-04-09</td><td>&quot;Store A&quot;</td><td>270</td><td>740</td></tr><tr><td>2024-04-11</td><td>&quot;Store A&quot;</td><td>280</td><td>800</td></tr><tr><td>&hellip;</td><td>&hellip;</td><td>&hellip;</td><td>&hellip;</td></tr><tr><td>2024-04-15</td><td>&quot;Store B&quot;</td><td>170</td><td>570</td></tr><tr><td>2024-04-17</td><td>&quot;Store B&quot;</td><td>180</td><td>560</td></tr><tr><td>2024-04-19</td><td>&quot;Store B&quot;</td><td>190</td><td>540</td></tr><tr><td>2024-04-23</td><td>&quot;Store B&quot;</td><td>200</td><td>570</td></tr><tr><td>2024-04-25</td><td>&quot;Store B&quot;</td><td>210</td><td>600</td></tr></tbody></table></div>"
      ],
      "text/plain": [
       "shape: (20, 4)\n",
       "┌────────────┬─────────┬───────┬──────────────────────────┐\n",
       "│ date       ┆ store   ┆ sales ┆ sum_of_last_7_days_sales │\n",
       "│ ---        ┆ ---     ┆ ---   ┆ ---                      │\n",
       "│ date       ┆ str     ┆ i64   ┆ i64                      │\n",
       "╞════════════╪═════════╪═══════╪══════════════════════════╡\n",
       "│ 2024-04-01 ┆ Store A ┆ 200   ┆ 200                      │\n",
       "│ 2024-04-03 ┆ Store A ┆ 220   ┆ 420                      │\n",
       "│ 2024-04-05 ┆ Store A ┆ 250   ┆ 670                      │\n",
       "│ 2024-04-09 ┆ Store A ┆ 270   ┆ 740                      │\n",
       "│ 2024-04-11 ┆ Store A ┆ 280   ┆ 800                      │\n",
       "│ …          ┆ …       ┆ …     ┆ …                        │\n",
       "│ 2024-04-15 ┆ Store B ┆ 170   ┆ 570                      │\n",
       "│ 2024-04-17 ┆ Store B ┆ 180   ┆ 560                      │\n",
       "│ 2024-04-19 ┆ Store B ┆ 190   ┆ 540                      │\n",
       "│ 2024-04-23 ┆ Store B ┆ 200   ┆ 570                      │\n",
       "│ 2024-04-25 ┆ Store B ┆ 210   ┆ 600                      │\n",
       "└────────────┴─────────┴───────┴──────────────────────────┘"
      ]
     },
     "execution_count": 34,
     "metadata": {},
     "output_type": "execute_result"
    }
   ],
   "source": [
    "final_df = small_sales_df.join(result, on=[\"date\", \"store\"])\n",
    "final_df"
   ]
  },
  {
   "cell_type": "code",
   "execution_count": null,
   "id": "59b6eed4",
   "metadata": {},
   "outputs": [
    {
     "data": {
      "text/html": [
       "<div><style>\n",
       ".dataframe > thead > tr,\n",
       ".dataframe > tbody > tr {\n",
       "  text-align: right;\n",
       "  white-space: pre-wrap;\n",
       "}\n",
       "</style>\n",
       "<small>shape: (50, 3)</small><table border=\"1\" class=\"dataframe\"><thead><tr><th>date</th><th>store</th><th>sales</th></tr><tr><td>date</td><td>str</td><td>i64</td></tr></thead><tbody><tr><td>2024-04-01</td><td>&quot;Store A&quot;</td><td>200</td></tr><tr><td>2024-04-02</td><td>null</td><td>null</td></tr><tr><td>2024-04-03</td><td>&quot;Store A&quot;</td><td>220</td></tr><tr><td>2024-04-04</td><td>null</td><td>null</td></tr><tr><td>2024-04-05</td><td>&quot;Store A&quot;</td><td>250</td></tr><tr><td>&hellip;</td><td>&hellip;</td><td>&hellip;</td></tr><tr><td>2024-04-21</td><td>null</td><td>null</td></tr><tr><td>2024-04-22</td><td>null</td><td>null</td></tr><tr><td>2024-04-23</td><td>&quot;Store B&quot;</td><td>200</td></tr><tr><td>2024-04-24</td><td>null</td><td>null</td></tr><tr><td>2024-04-25</td><td>&quot;Store B&quot;</td><td>210</td></tr></tbody></table></div>"
      ],
      "text/plain": [
       "shape: (50, 3)\n",
       "┌────────────┬─────────┬───────┐\n",
       "│ date       ┆ store   ┆ sales │\n",
       "│ ---        ┆ ---     ┆ ---   │\n",
       "│ date       ┆ str     ┆ i64   │\n",
       "╞════════════╪═════════╪═══════╡\n",
       "│ 2024-04-01 ┆ Store A ┆ 200   │\n",
       "│ 2024-04-02 ┆ null    ┆ null  │\n",
       "│ 2024-04-03 ┆ Store A ┆ 220   │\n",
       "│ 2024-04-04 ┆ null    ┆ null  │\n",
       "│ 2024-04-05 ┆ Store A ┆ 250   │\n",
       "│ …          ┆ …       ┆ …     │\n",
       "│ 2024-04-21 ┆ null    ┆ null  │\n",
       "│ 2024-04-22 ┆ null    ┆ null  │\n",
       "│ 2024-04-23 ┆ Store B ┆ 200   │\n",
       "│ 2024-04-24 ┆ null    ┆ null  │\n",
       "│ 2024-04-25 ┆ Store B ┆ 210   │\n",
       "└────────────┴─────────┴───────┘"
      ]
     },
     "execution_count": 36,
     "metadata": {},
     "output_type": "execute_result"
    }
   ],
   "source": [
    "# opposite of agg is upsample to create more entries\n",
    "upsampled_small_sales_df = small_sales_df.upsample(\n",
    "    time_column=\"date\", every=\"1d\", group_by=\"store\", maintain_order=True\n",
    ")\n",
    "upsampled_small_sales_df"
   ]
  },
  {
   "cell_type": "code",
   "execution_count": null,
   "id": "0b527412",
   "metadata": {},
   "outputs": [],
   "source": []
  }
 ],
 "metadata": {
  "kernelspec": {
   "display_name": ".venv",
   "language": "python",
   "name": "python3"
  },
  "language_info": {
   "codemirror_mode": {
    "name": "ipython",
    "version": 3
   },
   "file_extension": ".py",
   "mimetype": "text/x-python",
   "name": "python",
   "nbconvert_exporter": "python",
   "pygments_lexer": "ipython3",
   "version": "3.12.9"
  }
 },
 "nbformat": 4,
 "nbformat_minor": 5
}
