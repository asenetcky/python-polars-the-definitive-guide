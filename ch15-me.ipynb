{
 "cells": [
  {
   "cell_type": "code",
   "execution_count": 1,
   "id": "3a5172b5",
   "metadata": {},
   "outputs": [],
   "source": [
    "import polars as pl"
   ]
  },
  {
   "cell_type": "code",
   "execution_count": 2,
   "id": "280062b7",
   "metadata": {},
   "outputs": [],
   "source": [
    "grades_wide = pl.DataFrame(\n",
    "    {\n",
    "        \"student\": [\"Jeroen\", \"Thijs\", \"Ritchie\"],\n",
    "        \"math\": [85, 78, 92],\n",
    "        \"science\": [90, 82, 85],\n",
    "        \"history\": [88, 80, 97],\n",
    "    }\n",
    ")"
   ]
  },
  {
   "cell_type": "code",
   "execution_count": 3,
   "id": "933e1e62",
   "metadata": {},
   "outputs": [
    {
     "data": {
      "text/html": [
       "<div><style>\n",
       ".dataframe > thead > tr,\n",
       ".dataframe > tbody > tr {\n",
       "  text-align: right;\n",
       "  white-space: pre-wrap;\n",
       "}\n",
       "</style>\n",
       "<small>shape: (3, 4)</small><table border=\"1\" class=\"dataframe\"><thead><tr><th>student</th><th>math</th><th>science</th><th>history</th></tr><tr><td>str</td><td>i64</td><td>i64</td><td>i64</td></tr></thead><tbody><tr><td>&quot;Jeroen&quot;</td><td>85</td><td>90</td><td>88</td></tr><tr><td>&quot;Thijs&quot;</td><td>78</td><td>82</td><td>80</td></tr><tr><td>&quot;Ritchie&quot;</td><td>92</td><td>85</td><td>97</td></tr></tbody></table></div>"
      ],
      "text/plain": [
       "shape: (3, 4)\n",
       "┌─────────┬──────┬─────────┬─────────┐\n",
       "│ student ┆ math ┆ science ┆ history │\n",
       "│ ---     ┆ ---  ┆ ---     ┆ ---     │\n",
       "│ str     ┆ i64  ┆ i64     ┆ i64     │\n",
       "╞═════════╪══════╪═════════╪═════════╡\n",
       "│ Jeroen  ┆ 85   ┆ 90      ┆ 88      │\n",
       "│ Thijs   ┆ 78   ┆ 82      ┆ 80      │\n",
       "│ Ritchie ┆ 92   ┆ 85      ┆ 97      │\n",
       "└─────────┴──────┴─────────┴─────────┘"
      ]
     },
     "execution_count": 3,
     "metadata": {},
     "output_type": "execute_result"
    }
   ],
   "source": [
    "grades_wide"
   ]
  },
  {
   "cell_type": "code",
   "execution_count": null,
   "id": "5a534a86",
   "metadata": {},
   "outputs": [],
   "source": [
    "grades_long = grades_wide.unpivot(\n",
    "    index=\"student\", variable_name=\"subject\", value_name=\"grade\")"
   ]
  },
  {
   "cell_type": "code",
   "execution_count": 15,
   "id": "15817660",
   "metadata": {},
   "outputs": [
    {
     "data": {
      "text/html": [
       "<div><style>\n",
       ".dataframe > thead > tr,\n",
       ".dataframe > tbody > tr {\n",
       "  text-align: right;\n",
       "  white-space: pre-wrap;\n",
       "}\n",
       "</style>\n",
       "<small>shape: (9, 3)</small><table border=\"1\" class=\"dataframe\"><thead><tr><th>student</th><th>subject</th><th>grade</th></tr><tr><td>str</td><td>str</td><td>i64</td></tr></thead><tbody><tr><td>&quot;Jeroen&quot;</td><td>&quot;math&quot;</td><td>85</td></tr><tr><td>&quot;Thijs&quot;</td><td>&quot;math&quot;</td><td>78</td></tr><tr><td>&quot;Ritchie&quot;</td><td>&quot;math&quot;</td><td>92</td></tr><tr><td>&quot;Jeroen&quot;</td><td>&quot;science&quot;</td><td>90</td></tr><tr><td>&quot;Thijs&quot;</td><td>&quot;science&quot;</td><td>82</td></tr><tr><td>&quot;Ritchie&quot;</td><td>&quot;science&quot;</td><td>85</td></tr><tr><td>&quot;Jeroen&quot;</td><td>&quot;history&quot;</td><td>88</td></tr><tr><td>&quot;Thijs&quot;</td><td>&quot;history&quot;</td><td>80</td></tr><tr><td>&quot;Ritchie&quot;</td><td>&quot;history&quot;</td><td>97</td></tr></tbody></table></div>"
      ],
      "text/plain": [
       "shape: (9, 3)\n",
       "┌─────────┬─────────┬───────┐\n",
       "│ student ┆ subject ┆ grade │\n",
       "│ ---     ┆ ---     ┆ ---   │\n",
       "│ str     ┆ str     ┆ i64   │\n",
       "╞═════════╪═════════╪═══════╡\n",
       "│ Jeroen  ┆ math    ┆ 85    │\n",
       "│ Thijs   ┆ math    ┆ 78    │\n",
       "│ Ritchie ┆ math    ┆ 92    │\n",
       "│ Jeroen  ┆ science ┆ 90    │\n",
       "│ Thijs   ┆ science ┆ 82    │\n",
       "│ Ritchie ┆ science ┆ 85    │\n",
       "│ Jeroen  ┆ history ┆ 88    │\n",
       "│ Thijs   ┆ history ┆ 80    │\n",
       "│ Ritchie ┆ history ┆ 97    │\n",
       "└─────────┴─────────┴───────┘"
      ]
     },
     "execution_count": 15,
     "metadata": {},
     "output_type": "execute_result"
    }
   ],
   "source": [
    "grades_long"
   ]
  },
  {
   "cell_type": "code",
   "execution_count": null,
   "id": "744aa816",
   "metadata": {},
   "outputs": [
    {
     "data": {
      "text/html": [
       "<div><style>\n",
       ".dataframe > thead > tr,\n",
       ".dataframe > tbody > tr {\n",
       "  text-align: right;\n",
       "  white-space: pre-wrap;\n",
       "}\n",
       "</style>\n",
       "<small>shape: (3, 4)</small><table border=\"1\" class=\"dataframe\"><thead><tr><th>student</th><th>math</th><th>science</th><th>history</th></tr><tr><td>str</td><td>i64</td><td>i64</td><td>i64</td></tr></thead><tbody><tr><td>&quot;Jeroen&quot;</td><td>85</td><td>90</td><td>88</td></tr><tr><td>&quot;Thijs&quot;</td><td>78</td><td>82</td><td>80</td></tr><tr><td>&quot;Ritchie&quot;</td><td>92</td><td>85</td><td>97</td></tr></tbody></table></div>"
      ],
      "text/plain": [
       "shape: (3, 4)\n",
       "┌─────────┬──────┬─────────┬─────────┐\n",
       "│ student ┆ math ┆ science ┆ history │\n",
       "│ ---     ┆ ---  ┆ ---     ┆ ---     │\n",
       "│ str     ┆ i64  ┆ i64     ┆ i64     │\n",
       "╞═════════╪══════╪═════════╪═════════╡\n",
       "│ Jeroen  ┆ 85   ┆ 90      ┆ 88      │\n",
       "│ Thijs   ┆ 78   ┆ 82      ┆ 80      │\n",
       "│ Ritchie ┆ 92   ┆ 85      ┆ 97      │\n",
       "└─────────┴──────┴─────────┴─────────┘"
      ]
     },
     "execution_count": 16,
     "metadata": {},
     "output_type": "execute_result"
    }
   ],
   "source": [
    "grades_long.pivot(index=\"student\",  on=\"subject\", values=\"grade\")"
   ]
  },
  {
   "cell_type": "code",
   "execution_count": null,
   "id": "94bb1544",
   "metadata": {},
   "outputs": [
    {
     "data": {
      "text/html": [
       "<div><style>\n",
       ".dataframe > thead > tr,\n",
       ".dataframe > tbody > tr {\n",
       "  text-align: right;\n",
       "  white-space: pre-wrap;\n",
       "}\n",
       "</style>\n",
       "<small>shape: (54, 3)</small><table border=\"1\" class=\"dataframe\"><thead><tr><th>student</th><th>subject</th><th>grade</th></tr><tr><td>str</td><td>str</td><td>f64</td></tr></thead><tbody><tr><td>&quot;Jeroen&quot;</td><td>&quot;math&quot;</td><td>104.55</td></tr><tr><td>&quot;Thijs&quot;</td><td>&quot;math&quot;</td><td>95.94</td></tr><tr><td>&quot;Jeroen&quot;</td><td>&quot;math&quot;</td><td>113.16</td></tr><tr><td>&quot;Jeroen&quot;</td><td>&quot;science&quot;</td><td>110.7</td></tr><tr><td>&quot;Thijs&quot;</td><td>&quot;science&quot;</td><td>100.86</td></tr><tr><td>&hellip;</td><td>&hellip;</td><td>&hellip;</td></tr><tr><td>&quot;Thijs&quot;</td><td>&quot;science&quot;</td><td>69.7</td></tr><tr><td>&quot;Thijs&quot;</td><td>&quot;science&quot;</td><td>72.25</td></tr><tr><td>&quot;Jeroen&quot;</td><td>&quot;history&quot;</td><td>74.8</td></tr><tr><td>&quot;Thijs&quot;</td><td>&quot;history&quot;</td><td>68.0</td></tr><tr><td>&quot;Thijs&quot;</td><td>&quot;history&quot;</td><td>82.45</td></tr></tbody></table></div>"
      ],
      "text/plain": [
       "shape: (54, 3)\n",
       "┌─────────┬─────────┬────────┐\n",
       "│ student ┆ subject ┆ grade  │\n",
       "│ ---     ┆ ---     ┆ ---    │\n",
       "│ str     ┆ str     ┆ f64    │\n",
       "╞═════════╪═════════╪════════╡\n",
       "│ Jeroen  ┆ math    ┆ 104.55 │\n",
       "│ Thijs   ┆ math    ┆ 95.94  │\n",
       "│ Jeroen  ┆ math    ┆ 113.16 │\n",
       "│ Jeroen  ┆ science ┆ 110.7  │\n",
       "│ Thijs   ┆ science ┆ 100.86 │\n",
       "│ …       ┆ …       ┆ …      │\n",
       "│ Thijs   ┆ science ┆ 69.7   │\n",
       "│ Thijs   ┆ science ┆ 72.25  │\n",
       "│ Jeroen  ┆ history ┆ 74.8   │\n",
       "│ Thijs   ┆ history ┆ 68.0   │\n",
       "│ Thijs   ┆ history ┆ 82.45  │\n",
       "└─────────┴─────────┴────────┘"
      ]
     },
     "execution_count": 38,
     "metadata": {},
     "output_type": "execute_result"
    }
   ],
   "source": [
    "# setup multi grades per person and subject\n",
    "multiple_grades = (\n",
    "    grades_long\n",
    "    .with_columns(\n",
    "        student=pl.when(pl.col(\"student\") == \"Ritchie\")\n",
    "        .then(pl.lit(\"Jeroen\"))\n",
    "        .otherwise(pl.col(\"student\"))\n",
    "    )\n",
    "    # .filter(pl.col(\"student\") != \"Ritchie\")\n",
    "    # .sort(pl.col(\"student\"), pl.col(\"subject\"))\n",
    "    # .collect()\n",
    ")\n",
    "\n",
    "multiple_grades = (\n",
    "    pl.concat([multiple_grades, grades_long])\n",
    "    .with_columns(\n",
    "        student=pl.when(pl.col(\"student\") == \"Ritchie\")\n",
    "        .then(pl.lit(\"Thijs\"))\n",
    "        .otherwise(pl.col(\"student\"))\n",
    "    )\n",
    ")\n",
    "\n",
    "multiple_grades = pl.concat(\n",
    "    [\n",
    "        multiple_grades.with_columns(pl.col(\"grade\").mul(1.23).alias(\"grade\")),\n",
    "        multiple_grades.with_columns(pl.col(\"grade\").cast(pl.Float64)),\n",
    "        multiple_grades.with_columns(pl.col(\"grade\").mul(0.85).alias(\"grade\")),\n",
    "    ]\n",
    ")\n",
    "\n",
    "multiple_grades"
   ]
  },
  {
   "cell_type": "code",
   "execution_count": null,
   "id": "76ff4f30",
   "metadata": {},
   "outputs": [
    {
     "data": {
      "text/html": [
       "<div><style>\n",
       ".dataframe > thead > tr,\n",
       ".dataframe > tbody > tr {\n",
       "  text-align: right;\n",
       "  white-space: pre-wrap;\n",
       "}\n",
       "</style>\n",
       "<small>shape: (2, 4)</small><table border=\"1\" class=\"dataframe\"><thead><tr><th>student</th><th>math</th><th>science</th><th>history</th></tr><tr><td>str</td><td>f64</td><td>f64</td><td>f64</td></tr></thead><tbody><tr><td>&quot;Jeroen&quot;</td><td>89.662222</td><td>90.688889</td><td>93.426667</td></tr><tr><td>&quot;Thijs&quot;</td><td>84.871111</td><td>85.213333</td><td>87.951111</td></tr></tbody></table></div>"
      ],
      "text/plain": [
       "shape: (2, 4)\n",
       "┌─────────┬───────────┬───────────┬───────────┐\n",
       "│ student ┆ math      ┆ science   ┆ history   │\n",
       "│ ---     ┆ ---       ┆ ---       ┆ ---       │\n",
       "│ str     ┆ f64       ┆ f64       ┆ f64       │\n",
       "╞═════════╪═══════════╪═══════════╪═══════════╡\n",
       "│ Jeroen  ┆ 89.662222 ┆ 90.688889 ┆ 93.426667 │\n",
       "│ Thijs   ┆ 84.871111 ┆ 85.213333 ┆ 87.951111 │\n",
       "└─────────┴───────────┴───────────┴───────────┘"
      ]
     },
     "execution_count": 39,
     "metadata": {},
     "output_type": "execute_result"
    }
   ],
   "source": [
    "# pivot and calc avg\n",
    "multiple_grades.pivot(\n",
    "    index=\"student\", on=\"subject\", values=\"grade\", aggregate_function=\"mean\"\n",
    ")"
   ]
  },
  {
   "cell_type": "code",
   "execution_count": null,
   "id": "a2a95ec4",
   "metadata": {},
   "outputs": [
    {
     "data": {
      "text/html": [
       "<div><style>\n",
       ".dataframe > thead > tr,\n",
       ".dataframe > tbody > tr {\n",
       "  text-align: right;\n",
       "  white-space: pre-wrap;\n",
       "}\n",
       "</style>\n",
       "<small>shape: (2, 4)</small><table border=\"1\" class=\"dataframe\"><thead><tr><th>student</th><th>math</th><th>science</th><th>history</th></tr><tr><td>str</td><td>f64</td><td>f64</td><td>f64</td></tr></thead><tbody><tr><td>&quot;Jeroen&quot;</td><td>85.0</td><td>90.0</td><td>88.0</td></tr><tr><td>&quot;Thijs&quot;</td><td>78.2</td><td>82.0</td><td>82.45</td></tr></tbody></table></div>"
      ],
      "text/plain": [
       "shape: (2, 4)\n",
       "┌─────────┬──────┬─────────┬─────────┐\n",
       "│ student ┆ math ┆ science ┆ history │\n",
       "│ ---     ┆ ---  ┆ ---     ┆ ---     │\n",
       "│ str     ┆ f64  ┆ f64     ┆ f64     │\n",
       "╞═════════╪══════╪═════════╪═════════╡\n",
       "│ Jeroen  ┆ 85.0 ┆ 90.0    ┆ 88.0    │\n",
       "│ Thijs   ┆ 78.2 ┆ 82.0    ┆ 82.45   │\n",
       "└─────────┴──────┴─────────┴─────────┘"
      ]
     },
     "execution_count": 40,
     "metadata": {},
     "output_type": "execute_result"
    }
   ],
   "source": [
    "multiple_grades.pivot(\n",
    "    index=\"student\", on=\"subject\", values=\"grade\", aggregate_function=\"median\"\n",
    ")"
   ]
  },
  {
   "cell_type": "code",
   "execution_count": null,
   "id": "8b15182f",
   "metadata": {},
   "outputs": [
    {
     "data": {
      "text/html": [
       "<div><style>\n",
       ".dataframe > thead > tr,\n",
       ".dataframe > tbody > tr {\n",
       "  text-align: right;\n",
       "  white-space: pre-wrap;\n",
       "}\n",
       "</style>\n",
       "<small>shape: (2, 4)</small><table border=\"1\" class=\"dataframe\"><thead><tr><th>student</th><th>math</th><th>science</th><th>history</th></tr><tr><td>str</td><td>f64</td><td>f64</td><td>f64</td></tr></thead><tbody><tr><td>&quot;Jeroen&quot;</td><td>40.91</td><td>38.45</td><td>44.51</td></tr><tr><td>&quot;Thijs&quot;</td><td>46.86</td><td>34.85</td><td>51.31</td></tr></tbody></table></div>"
      ],
      "text/plain": [
       "shape: (2, 4)\n",
       "┌─────────┬───────┬─────────┬─────────┐\n",
       "│ student ┆ math  ┆ science ┆ history │\n",
       "│ ---     ┆ ---   ┆ ---     ┆ ---     │\n",
       "│ str     ┆ f64   ┆ f64     ┆ f64     │\n",
       "╞═════════╪═══════╪═════════╪═════════╡\n",
       "│ Jeroen  ┆ 40.91 ┆ 38.45   ┆ 44.51   │\n",
       "│ Thijs   ┆ 46.86 ┆ 34.85   ┆ 51.31   │\n",
       "└─────────┴───────┴─────────┴─────────┘"
      ]
     },
     "execution_count": 41,
     "metadata": {},
     "output_type": "execute_result"
    }
   ],
   "source": [
    "multiple_grades.pivot(\n",
    "    index=\"student\", on=\"subject\", values=\"grade\", aggregate_function=pl.element().max() - pl.element().min()\n",
    ")"
   ]
  },
  {
   "cell_type": "code",
   "execution_count": null,
   "id": "7115c412",
   "metadata": {},
   "outputs": [
    {
     "data": {
      "text/html": [
       "<div><style>\n",
       ".dataframe > thead > tr,\n",
       ".dataframe > tbody > tr {\n",
       "  text-align: right;\n",
       "  white-space: pre-wrap;\n",
       "}\n",
       "</style>\n",
       "<small>shape: (2, 3)</small><table border=\"1\" class=\"dataframe\"><thead><tr><th>col1</th><th>x</th><th>y</th></tr><tr><td>str</td><td>f64</td><td>f64</td></tr></thead><tbody><tr><td>&quot;b&quot;</td><td>null</td><td>0.987978</td></tr><tr><td>&quot;a&quot;</td><td>0.998347</td><td>null</td></tr></tbody></table></div>"
      ],
      "text/plain": [
       "shape: (2, 3)\n",
       "┌──────┬──────────┬──────────┐\n",
       "│ col1 ┆ x        ┆ y        │\n",
       "│ ---  ┆ ---      ┆ ---      │\n",
       "│ str  ┆ f64      ┆ f64      │\n",
       "╞══════╪══════════╪══════════╡\n",
       "│ b    ┆ null     ┆ 0.987978 │\n",
       "│ a    ┆ 0.998347 ┆ null     │\n",
       "└──────┴──────────┴──────────┘"
      ]
     },
     "execution_count": 42,
     "metadata": {},
     "output_type": "execute_result"
    }
   ],
   "source": [
    "# pivoting works for dataframe because you gotta know the cols and data\n",
    "# hwoever there is a work around\n",
    "\n",
    "lf = pl.LazyFrame(\n",
    "    {\n",
    "        \"col1\": [\"a\", \"a\", \"a\", \"b\", \"b\", \"b\"],\n",
    "        \"col2\": [\"x\", \"x\", \"x\", \"y\", \"y\", \"y\"],\n",
    "        \"col3\": [6, 7, 3, 2, 5, 7],\n",
    "    }\n",
    ")\n",
    "\n",
    "index = pl.col(\"col1\")\n",
    "on = pl.col(\"col2\")\n",
    "values = pl.col(\"col3\")\n",
    "unique_column_values = [\"x\", \"y\"]\n",
    "\n",
    "\n",
    "def aggregate_function(col): return col.tanh().mean()\n",
    "\n",
    "\n",
    "lf.group_by(index).agg(\n",
    "    aggregate_function(values.filter(on == value)).alias(value)\n",
    "    for value in unique_column_values\n",
    ").collect()"
   ]
  },
  {
   "cell_type": "code",
   "execution_count": 44,
   "id": "5808afa5",
   "metadata": {},
   "outputs": [
    {
     "data": {
      "text/html": [
       "<div><style>\n",
       ".dataframe > thead > tr,\n",
       ".dataframe > tbody > tr {\n",
       "  text-align: right;\n",
       "  white-space: pre-wrap;\n",
       "}\n",
       "</style>\n",
       "<small>shape: (54, 3)</small><table border=\"1\" class=\"dataframe\"><thead><tr><th>student</th><th>subject</th><th>grade</th></tr><tr><td>str</td><td>str</td><td>f64</td></tr></thead><tbody><tr><td>&quot;Jeroen&quot;</td><td>&quot;math&quot;</td><td>104.55</td></tr><tr><td>&quot;Thijs&quot;</td><td>&quot;math&quot;</td><td>95.94</td></tr><tr><td>&quot;Jeroen&quot;</td><td>&quot;math&quot;</td><td>113.16</td></tr><tr><td>&quot;Jeroen&quot;</td><td>&quot;science&quot;</td><td>110.7</td></tr><tr><td>&quot;Thijs&quot;</td><td>&quot;science&quot;</td><td>100.86</td></tr><tr><td>&hellip;</td><td>&hellip;</td><td>&hellip;</td></tr><tr><td>&quot;Thijs&quot;</td><td>&quot;science&quot;</td><td>69.7</td></tr><tr><td>&quot;Thijs&quot;</td><td>&quot;science&quot;</td><td>72.25</td></tr><tr><td>&quot;Jeroen&quot;</td><td>&quot;history&quot;</td><td>74.8</td></tr><tr><td>&quot;Thijs&quot;</td><td>&quot;history&quot;</td><td>68.0</td></tr><tr><td>&quot;Thijs&quot;</td><td>&quot;history&quot;</td><td>82.45</td></tr></tbody></table></div>"
      ],
      "text/plain": [
       "shape: (54, 3)\n",
       "┌─────────┬─────────┬────────┐\n",
       "│ student ┆ subject ┆ grade  │\n",
       "│ ---     ┆ ---     ┆ ---    │\n",
       "│ str     ┆ str     ┆ f64    │\n",
       "╞═════════╪═════════╪════════╡\n",
       "│ Jeroen  ┆ math    ┆ 104.55 │\n",
       "│ Thijs   ┆ math    ┆ 95.94  │\n",
       "│ Jeroen  ┆ math    ┆ 113.16 │\n",
       "│ Jeroen  ┆ science ┆ 110.7  │\n",
       "│ Thijs   ┆ science ┆ 100.86 │\n",
       "│ …       ┆ …       ┆ …      │\n",
       "│ Thijs   ┆ science ┆ 69.7   │\n",
       "│ Thijs   ┆ science ┆ 72.25  │\n",
       "│ Jeroen  ┆ history ┆ 74.8   │\n",
       "│ Thijs   ┆ history ┆ 68.0   │\n",
       "│ Thijs   ┆ history ┆ 82.45  │\n",
       "└─────────┴─────────┴────────┘"
      ]
     },
     "execution_count": 44,
     "metadata": {},
     "output_type": "execute_result"
    }
   ],
   "source": [
    "multiple_grades"
   ]
  },
  {
   "cell_type": "code",
   "execution_count": null,
   "id": "df12e0c7",
   "metadata": {},
   "outputs": [
    {
     "data": {
      "text/html": [
       "<div><style>\n",
       ".dataframe > thead > tr,\n",
       ".dataframe > tbody > tr {\n",
       "  text-align: right;\n",
       "  white-space: pre-wrap;\n",
       "}\n",
       "</style>\n",
       "<small>shape: (3, 4)</small><table border=\"1\" class=\"dataframe\"><thead><tr><th>student</th><th>math</th><th>science</th><th>history</th></tr><tr><td>str</td><td>i64</td><td>i64</td><td>i64</td></tr></thead><tbody><tr><td>&quot;Jeroen&quot;</td><td>85</td><td>90</td><td>88</td></tr><tr><td>&quot;Thijs&quot;</td><td>78</td><td>82</td><td>80</td></tr><tr><td>&quot;Ritchie&quot;</td><td>92</td><td>85</td><td>97</td></tr></tbody></table></div>"
      ],
      "text/plain": [
       "shape: (3, 4)\n",
       "┌─────────┬──────┬─────────┬─────────┐\n",
       "│ student ┆ math ┆ science ┆ history │\n",
       "│ ---     ┆ ---  ┆ ---     ┆ ---     │\n",
       "│ str     ┆ i64  ┆ i64     ┆ i64     │\n",
       "╞═════════╪══════╪═════════╪═════════╡\n",
       "│ Jeroen  ┆ 85   ┆ 90      ┆ 88      │\n",
       "│ Thijs   ┆ 78   ┆ 82      ┆ 80      │\n",
       "│ Ritchie ┆ 92   ┆ 85      ┆ 97      │\n",
       "└─────────┴──────┴─────────┴─────────┘"
      ]
     },
     "execution_count": 48,
     "metadata": {},
     "output_type": "execute_result"
    }
   ],
   "source": [
    "# transpose\n",
    "grades_wide = pl.DataFrame(\n",
    "    {\n",
    "        \"student\": [\"Jeroen\", \"Thijs\", \"Ritchie\"],\n",
    "        \"math\": [85, 78, 92],\n",
    "        \"science\": [90, 82, 85],\n",
    "        \"history\": [88, 80, 97],\n",
    "    }\n",
    ")\n",
    "grades_wide"
   ]
  },
  {
   "cell_type": "code",
   "execution_count": 49,
   "id": "5c744907",
   "metadata": {},
   "outputs": [
    {
     "data": {
      "text/html": [
       "<div><style>\n",
       ".dataframe > thead > tr,\n",
       ".dataframe > tbody > tr {\n",
       "  text-align: right;\n",
       "  white-space: pre-wrap;\n",
       "}\n",
       "</style>\n",
       "<small>shape: (4, 3)</small><table border=\"1\" class=\"dataframe\"><thead><tr><th>column_0</th><th>column_1</th><th>column_2</th></tr><tr><td>str</td><td>str</td><td>str</td></tr></thead><tbody><tr><td>&quot;Jeroen&quot;</td><td>&quot;Thijs&quot;</td><td>&quot;Ritchie&quot;</td></tr><tr><td>&quot;85&quot;</td><td>&quot;78&quot;</td><td>&quot;92&quot;</td></tr><tr><td>&quot;90&quot;</td><td>&quot;82&quot;</td><td>&quot;85&quot;</td></tr><tr><td>&quot;88&quot;</td><td>&quot;80&quot;</td><td>&quot;97&quot;</td></tr></tbody></table></div>"
      ],
      "text/plain": [
       "shape: (4, 3)\n",
       "┌──────────┬──────────┬──────────┐\n",
       "│ column_0 ┆ column_1 ┆ column_2 │\n",
       "│ ---      ┆ ---      ┆ ---      │\n",
       "│ str      ┆ str      ┆ str      │\n",
       "╞══════════╪══════════╪══════════╡\n",
       "│ Jeroen   ┆ Thijs    ┆ Ritchie  │\n",
       "│ 85       ┆ 78       ┆ 92       │\n",
       "│ 90       ┆ 82       ┆ 85       │\n",
       "│ 88       ┆ 80       ┆ 97       │\n",
       "└──────────┴──────────┴──────────┘"
      ]
     },
     "execution_count": 49,
     "metadata": {},
     "output_type": "execute_result"
    }
   ],
   "source": [
    "grades_wide.transpose()"
   ]
  },
  {
   "cell_type": "code",
   "execution_count": null,
   "id": "70141dcc",
   "metadata": {},
   "outputs": [
    {
     "data": {
      "text/html": [
       "<div><style>\n",
       ".dataframe > thead > tr,\n",
       ".dataframe > tbody > tr {\n",
       "  text-align: right;\n",
       "  white-space: pre-wrap;\n",
       "}\n",
       "</style>\n",
       "<small>shape: (4, 4)</small><table border=\"1\" class=\"dataframe\"><thead><tr><th>original_header</th><th>report_1</th><th>report_2</th><th>report_3</th></tr><tr><td>str</td><td>str</td><td>str</td><td>str</td></tr></thead><tbody><tr><td>&quot;student&quot;</td><td>&quot;Jeroen&quot;</td><td>&quot;Thijs&quot;</td><td>&quot;Ritchie&quot;</td></tr><tr><td>&quot;math&quot;</td><td>&quot;85&quot;</td><td>&quot;78&quot;</td><td>&quot;92&quot;</td></tr><tr><td>&quot;science&quot;</td><td>&quot;90&quot;</td><td>&quot;82&quot;</td><td>&quot;85&quot;</td></tr><tr><td>&quot;history&quot;</td><td>&quot;88&quot;</td><td>&quot;80&quot;</td><td>&quot;97&quot;</td></tr></tbody></table></div>"
      ],
      "text/plain": [
       "shape: (4, 4)\n",
       "┌─────────────────┬──────────┬──────────┬──────────┐\n",
       "│ original_header ┆ report_1 ┆ report_2 ┆ report_3 │\n",
       "│ ---             ┆ ---      ┆ ---      ┆ ---      │\n",
       "│ str             ┆ str      ┆ str      ┆ str      │\n",
       "╞═════════════════╪══════════╪══════════╪══════════╡\n",
       "│ student         ┆ Jeroen   ┆ Thijs    ┆ Ritchie  │\n",
       "│ math            ┆ 85       ┆ 78       ┆ 92       │\n",
       "│ science         ┆ 90       ┆ 82       ┆ 85       │\n",
       "│ history         ┆ 88       ┆ 80       ┆ 97       │\n",
       "└─────────────────┴──────────┴──────────┴──────────┘"
      ]
     },
     "execution_count": 51,
     "metadata": {},
     "output_type": "execute_result"
    }
   ],
   "source": [
    "# originally they were using a big df and they grabbed these values programmatically\n",
    "# but I did not want to type out the entire thing\n",
    "\n",
    "report_columns = [\"report_1\", \"report_2\", \"report_3\"]\n",
    "\n",
    "grades_wide.transpose(\n",
    "    include_header=True,\n",
    "    header_name=\"original_header\",\n",
    "    column_names=report_columns,\n",
    ")"
   ]
  },
  {
   "cell_type": "code",
   "execution_count": 53,
   "id": "93fd6eb0",
   "metadata": {},
   "outputs": [
    {
     "data": {
      "text/html": [
       "<div><style>\n",
       ".dataframe > thead > tr,\n",
       ".dataframe > tbody > tr {\n",
       "  text-align: right;\n",
       "  white-space: pre-wrap;\n",
       "}\n",
       "</style>\n",
       "<small>shape: (3, 2)</small><table border=\"1\" class=\"dataframe\"><thead><tr><th>student</th><th>math</th></tr><tr><td>str</td><td>list[i64]</td></tr></thead><tbody><tr><td>&quot;Jeroen&quot;</td><td>[85, 90, 88]</td></tr><tr><td>&quot;Thijs&quot;</td><td>[78, 82, 80]</td></tr><tr><td>&quot;Ritchie&quot;</td><td>[92, 85, 97]</td></tr></tbody></table></div>"
      ],
      "text/plain": [
       "shape: (3, 2)\n",
       "┌─────────┬──────────────┐\n",
       "│ student ┆ math         │\n",
       "│ ---     ┆ ---          │\n",
       "│ str     ┆ list[i64]    │\n",
       "╞═════════╪══════════════╡\n",
       "│ Jeroen  ┆ [85, 90, 88] │\n",
       "│ Thijs   ┆ [78, 82, 80] │\n",
       "│ Ritchie ┆ [92, 85, 97] │\n",
       "└─────────┴──────────────┘"
      ]
     },
     "execution_count": 53,
     "metadata": {},
     "output_type": "execute_result"
    }
   ],
   "source": [
    "# explosions!\n",
    "\n",
    "grades_nested = pl.DataFrame(\n",
    "    {\n",
    "        \"student\": [\"Jeroen\", \"Thijs\", \"Ritchie\"],\n",
    "        \"math\": [\n",
    "            [85, 90, 88],\n",
    "            [78, 82, 80],\n",
    "            [92, 85, 97],\n",
    "        ],\n",
    "    }\n",
    ")\n",
    "grades_nested"
   ]
  },
  {
   "cell_type": "code",
   "execution_count": 54,
   "id": "164109cd",
   "metadata": {},
   "outputs": [
    {
     "data": {
      "text/html": [
       "<div><style>\n",
       ".dataframe > thead > tr,\n",
       ".dataframe > tbody > tr {\n",
       "  text-align: right;\n",
       "  white-space: pre-wrap;\n",
       "}\n",
       "</style>\n",
       "<small>shape: (9, 2)</small><table border=\"1\" class=\"dataframe\"><thead><tr><th>student</th><th>math</th></tr><tr><td>str</td><td>i64</td></tr></thead><tbody><tr><td>&quot;Jeroen&quot;</td><td>85</td></tr><tr><td>&quot;Jeroen&quot;</td><td>90</td></tr><tr><td>&quot;Jeroen&quot;</td><td>88</td></tr><tr><td>&quot;Thijs&quot;</td><td>78</td></tr><tr><td>&quot;Thijs&quot;</td><td>82</td></tr><tr><td>&quot;Thijs&quot;</td><td>80</td></tr><tr><td>&quot;Ritchie&quot;</td><td>92</td></tr><tr><td>&quot;Ritchie&quot;</td><td>85</td></tr><tr><td>&quot;Ritchie&quot;</td><td>97</td></tr></tbody></table></div>"
      ],
      "text/plain": [
       "shape: (9, 2)\n",
       "┌─────────┬──────┐\n",
       "│ student ┆ math │\n",
       "│ ---     ┆ ---  │\n",
       "│ str     ┆ i64  │\n",
       "╞═════════╪══════╡\n",
       "│ Jeroen  ┆ 85   │\n",
       "│ Jeroen  ┆ 90   │\n",
       "│ Jeroen  ┆ 88   │\n",
       "│ Thijs   ┆ 78   │\n",
       "│ Thijs   ┆ 82   │\n",
       "│ Thijs   ┆ 80   │\n",
       "│ Ritchie ┆ 92   │\n",
       "│ Ritchie ┆ 85   │\n",
       "│ Ritchie ┆ 97   │\n",
       "└─────────┴──────┘"
      ]
     },
     "execution_count": 54,
     "metadata": {},
     "output_type": "execute_result"
    }
   ],
   "source": [
    "grades_nested.explode(\"math\")"
   ]
  },
  {
   "cell_type": "code",
   "execution_count": null,
   "id": "7130f9c0",
   "metadata": {},
   "outputs": [],
   "source": [
    "# todo  check out partition"
   ]
  }
 ],
 "metadata": {
  "kernelspec": {
   "display_name": ".venv",
   "language": "python",
   "name": "python3"
  },
  "language_info": {
   "codemirror_mode": {
    "name": "ipython",
    "version": 3
   },
   "file_extension": ".py",
   "mimetype": "text/x-python",
   "name": "python",
   "nbconvert_exporter": "python",
   "pygments_lexer": "ipython3",
   "version": "3.12.9"
  }
 },
 "nbformat": 4,
 "nbformat_minor": 5
}
