{
 "cells": [
  {
   "cell_type": "code",
   "execution_count": 2,
   "id": "920f7450",
   "metadata": {},
   "outputs": [],
   "source": [
    "import polars as pl"
   ]
  },
  {
   "cell_type": "code",
   "execution_count": 3,
   "id": "89ffe4ea",
   "metadata": {},
   "outputs": [
    {
     "data": {
      "text/html": [
       "<div><style>\n",
       ".dataframe > thead > tr,\n",
       ".dataframe > tbody > tr {\n",
       "  text-align: right;\n",
       "  white-space: pre-wrap;\n",
       "}\n",
       "</style>\n",
       "<small>shape: (3,)</small><table border=\"1\" class=\"dataframe\"><thead><tr><th>sales</th></tr><tr><td>f64</td></tr></thead><tbody><tr><td>150.0</td></tr><tr><td>300.0</td></tr><tr><td>250.0</td></tr></tbody></table></div>"
      ],
      "text/plain": [
       "shape: (3,)\n",
       "Series: 'sales' [f64]\n",
       "[\n",
       "\t150.0\n",
       "\t300.0\n",
       "\t250.0\n",
       "]"
      ]
     },
     "execution_count": 3,
     "metadata": {},
     "output_type": "execute_result"
    }
   ],
   "source": [
    "sales_series = pl.Series(\"sales\", [150.00, 300.00, 250.00])\n",
    "\n",
    "sales_series"
   ]
  },
  {
   "cell_type": "code",
   "execution_count": 4,
   "id": "52602720",
   "metadata": {},
   "outputs": [
    {
     "data": {
      "text/html": [
       "<div><style>\n",
       ".dataframe > thead > tr,\n",
       ".dataframe > tbody > tr {\n",
       "  text-align: right;\n",
       "  white-space: pre-wrap;\n",
       "}\n",
       "</style>\n",
       "<small>shape: (3, 2)</small><table border=\"1\" class=\"dataframe\"><thead><tr><th>sales</th><th>customer_id</th></tr><tr><td>f64</td><td>i64</td></tr></thead><tbody><tr><td>150.0</td><td>24</td></tr><tr><td>300.0</td><td>25</td></tr><tr><td>250.0</td><td>26</td></tr></tbody></table></div>"
      ],
      "text/plain": [
       "shape: (3, 2)\n",
       "┌───────┬─────────────┐\n",
       "│ sales ┆ customer_id │\n",
       "│ ---   ┆ ---         │\n",
       "│ f64   ┆ i64         │\n",
       "╞═══════╪═════════════╡\n",
       "│ 150.0 ┆ 24          │\n",
       "│ 300.0 ┆ 25          │\n",
       "│ 250.0 ┆ 26          │\n",
       "└───────┴─────────────┘"
      ]
     },
     "execution_count": 4,
     "metadata": {},
     "output_type": "execute_result"
    }
   ],
   "source": [
    "sales_df = pl.DataFrame(\n",
    "    {\n",
    "        \"sales\": sales_series,\n",
    "        \"customer_id\": [24, 25, 26],\n",
    "    }\n",
    ")\n",
    "\n",
    "sales_df"
   ]
  },
  {
   "cell_type": "code",
   "execution_count": 5,
   "id": "737ce77c",
   "metadata": {},
   "outputs": [
    {
     "data": {
      "text/html": [
       "<div><style>\n",
       ".dataframe > thead > tr,\n",
       ".dataframe > tbody > tr {\n",
       "  text-align: right;\n",
       "  white-space: pre-wrap;\n",
       "}\n",
       "</style>\n",
       "<small>shape: (10, 6)</small><table border=\"1\" class=\"dataframe\"><thead><tr><th>name</th><th>weight</th><th>color</th><th>is_round</th><th>origin</th><th>is_heavy</th></tr><tr><td>str</td><td>i64</td><td>str</td><td>bool</td><td>str</td><td>bool</td></tr></thead><tbody><tr><td>&quot;Avocado&quot;</td><td>200</td><td>&quot;green&quot;</td><td>false</td><td>&quot;South America&quot;</td><td>false</td></tr><tr><td>&quot;Banana&quot;</td><td>120</td><td>&quot;yellow&quot;</td><td>false</td><td>&quot;Asia&quot;</td><td>false</td></tr><tr><td>&quot;Blueberry&quot;</td><td>1</td><td>&quot;blue&quot;</td><td>false</td><td>&quot;North America&quot;</td><td>false</td></tr><tr><td>&quot;Cantaloupe&quot;</td><td>2500</td><td>&quot;orange&quot;</td><td>true</td><td>&quot;Africa&quot;</td><td>true</td></tr><tr><td>&quot;Cranberry&quot;</td><td>2</td><td>&quot;red&quot;</td><td>false</td><td>&quot;North America&quot;</td><td>false</td></tr><tr><td>&quot;Elderberry&quot;</td><td>1</td><td>&quot;black&quot;</td><td>false</td><td>&quot;Europe&quot;</td><td>false</td></tr><tr><td>&quot;Orange&quot;</td><td>130</td><td>&quot;orange&quot;</td><td>true</td><td>&quot;Asia&quot;</td><td>false</td></tr><tr><td>&quot;Papaya&quot;</td><td>1000</td><td>&quot;orange&quot;</td><td>false</td><td>&quot;South America&quot;</td><td>true</td></tr><tr><td>&quot;Peach&quot;</td><td>150</td><td>&quot;orange&quot;</td><td>true</td><td>&quot;Asia&quot;</td><td>false</td></tr><tr><td>&quot;Watermelon&quot;</td><td>5000</td><td>&quot;green&quot;</td><td>true</td><td>&quot;Africa&quot;</td><td>true</td></tr></tbody></table></div>"
      ],
      "text/plain": [
       "shape: (10, 6)\n",
       "┌────────────┬────────┬────────┬──────────┬───────────────┬──────────┐\n",
       "│ name       ┆ weight ┆ color  ┆ is_round ┆ origin        ┆ is_heavy │\n",
       "│ ---        ┆ ---    ┆ ---    ┆ ---      ┆ ---           ┆ ---      │\n",
       "│ str        ┆ i64    ┆ str    ┆ bool     ┆ str           ┆ bool     │\n",
       "╞════════════╪════════╪════════╪══════════╪═══════════════╪══════════╡\n",
       "│ Avocado    ┆ 200    ┆ green  ┆ false    ┆ South America ┆ false    │\n",
       "│ Banana     ┆ 120    ┆ yellow ┆ false    ┆ Asia          ┆ false    │\n",
       "│ Blueberry  ┆ 1      ┆ blue   ┆ false    ┆ North America ┆ false    │\n",
       "│ Cantaloupe ┆ 2500   ┆ orange ┆ true     ┆ Africa        ┆ true     │\n",
       "│ Cranberry  ┆ 2      ┆ red    ┆ false    ┆ North America ┆ false    │\n",
       "│ Elderberry ┆ 1      ┆ black  ┆ false    ┆ Europe        ┆ false    │\n",
       "│ Orange     ┆ 130    ┆ orange ┆ true     ┆ Asia          ┆ false    │\n",
       "│ Papaya     ┆ 1000   ┆ orange ┆ false    ┆ South America ┆ true     │\n",
       "│ Peach      ┆ 150    ┆ orange ┆ true     ┆ Asia          ┆ false    │\n",
       "│ Watermelon ┆ 5000   ┆ green  ┆ true     ┆ Africa        ┆ true     │\n",
       "└────────────┴────────┴────────┴──────────┴───────────────┴──────────┘"
      ]
     },
     "execution_count": 5,
     "metadata": {},
     "output_type": "execute_result"
    }
   ],
   "source": [
    "lazy_df = pl.scan_csv(\"data/fruit.csv\").with_columns(\n",
    "    is_heavy=pl.col(\"weight\") > 200\n",
    ")\n",
    "\n",
    "lazy_df.collect()"
   ]
  },
  {
   "cell_type": "markdown",
   "id": "fe381c0e",
   "metadata": {},
   "source": [
    "# Nested Data Types"
   ]
  },
  {
   "cell_type": "markdown",
   "id": "ab01abd8",
   "metadata": {},
   "source": [
    "## Array"
   ]
  },
  {
   "cell_type": "code",
   "execution_count": 6,
   "id": "5528e24f",
   "metadata": {},
   "outputs": [
    {
     "data": {
      "text/html": [
       "<div><style>\n",
       ".dataframe > thead > tr,\n",
       ".dataframe > tbody > tr {\n",
       "  text-align: right;\n",
       "  white-space: pre-wrap;\n",
       "}\n",
       "</style>\n",
       "<small>shape: (2, 2)</small><table border=\"1\" class=\"dataframe\"><thead><tr><th>point_2d</th><th>point_3d</th></tr><tr><td>array[i64, 2]</td><td>array[i64, 3]</td></tr></thead><tbody><tr><td>[1, 3]</td><td>[1, 7, 3]</td></tr><tr><td>[2, 5]</td><td>[8, 1, 0]</td></tr></tbody></table></div>"
      ],
      "text/plain": [
       "shape: (2, 2)\n",
       "┌───────────────┬───────────────┐\n",
       "│ point_2d      ┆ point_3d      │\n",
       "│ ---           ┆ ---           │\n",
       "│ array[i64, 2] ┆ array[i64, 3] │\n",
       "╞═══════════════╪═══════════════╡\n",
       "│ [1, 3]        ┆ [1, 7, 3]     │\n",
       "│ [2, 5]        ┆ [8, 1, 0]     │\n",
       "└───────────────┴───────────────┘"
      ]
     },
     "execution_count": 6,
     "metadata": {},
     "output_type": "execute_result"
    }
   ],
   "source": [
    "coordinates = pl.DataFrame(\n",
    "    [\n",
    "        pl.Series(\"point_2d\", [[1, 3], [2, 5]]),\n",
    "        pl.Series(\"point_3d\", [[1, 7, 3], [8, 1, 0]]),\n",
    "    ],\n",
    "    schema={\n",
    "        \"point_2d\": pl.Array(shape=2, inner=pl.Int64),\n",
    "        \"point_3d\": pl.Array(shape=3, inner=pl.Int64),\n",
    "    },\n",
    ")\n",
    "\n",
    "coordinates"
   ]
  },
  {
   "cell_type": "markdown",
   "id": "cb88d6d9",
   "metadata": {},
   "source": [
    "## List"
   ]
  },
  {
   "cell_type": "code",
   "execution_count": 7,
   "id": "882edc75",
   "metadata": {},
   "outputs": [
    {
     "data": {
      "text/html": [
       "<div><style>\n",
       ".dataframe > thead > tr,\n",
       ".dataframe > tbody > tr {\n",
       "  text-align: right;\n",
       "  white-space: pre-wrap;\n",
       "}\n",
       "</style>\n",
       "<small>shape: (2, 2)</small><table border=\"1\" class=\"dataframe\"><thead><tr><th>temperature</th><th>wind_speed</th></tr><tr><td>list[f64]</td><td>list[i64]</td></tr></thead><tbody><tr><td>[72.5, 75.0, 77.3]</td><td>[15, 20]</td></tr><tr><td>[68.0, 70.2]</td><td>[10, 12, … 16]</td></tr></tbody></table></div>"
      ],
      "text/plain": [
       "shape: (2, 2)\n",
       "┌────────────────────┬────────────────┐\n",
       "│ temperature        ┆ wind_speed     │\n",
       "│ ---                ┆ ---            │\n",
       "│ list[f64]          ┆ list[i64]      │\n",
       "╞════════════════════╪════════════════╡\n",
       "│ [72.5, 75.0, 77.3] ┆ [15, 20]       │\n",
       "│ [68.0, 70.2]       ┆ [10, 12, … 16] │\n",
       "└────────────────────┴────────────────┘"
      ]
     },
     "execution_count": 7,
     "metadata": {},
     "output_type": "execute_result"
    }
   ],
   "source": [
    "weather_readings = pl.DataFrame(\n",
    "    {\n",
    "        \"temperature\": [[72.5, 75.0, 77.3], [68.0, 70.2]],\n",
    "        \"wind_speed\": [[15, 20], [10, 12, 14, 16]],\n",
    "    }\n",
    ")\n",
    "\n",
    "weather_readings"
   ]
  },
  {
   "cell_type": "markdown",
   "id": "7cde978e",
   "metadata": {},
   "source": [
    "## Struct"
   ]
  },
  {
   "cell_type": "code",
   "execution_count": 8,
   "id": "4ddc0837",
   "metadata": {},
   "outputs": [
    {
     "data": {
      "text/html": [
       "<div><style>\n",
       ".dataframe > thead > tr,\n",
       ".dataframe > tbody > tr {\n",
       "  text-align: right;\n",
       "  white-space: pre-wrap;\n",
       "}\n",
       "</style>\n",
       "<small>shape: (2,)</small><table border=\"1\" class=\"dataframe\"><thead><tr><th>ratings</th></tr><tr><td>struct[3]</td></tr></thead><tbody><tr><td>{&quot;Cars&quot;,&quot;NE&quot;,4.5}</td></tr><tr><td>{&quot;Toy Story&quot;,&quot;ME&quot;,4.9}</td></tr></tbody></table></div>"
      ],
      "text/plain": [
       "shape: (2,)\n",
       "Series: 'ratings' [struct[3]]\n",
       "[\n",
       "\t{\"Cars\",\"NE\",4.5}\n",
       "\t{\"Toy Story\",\"ME\",4.9}\n",
       "]"
      ]
     },
     "execution_count": 8,
     "metadata": {},
     "output_type": "execute_result"
    }
   ],
   "source": [
    "rating_series = pl.Series(\n",
    "    \"ratings\",\n",
    "    [\n",
    "        {\"Movie\": \"Cars\", \"Theatre\": \"NE\", \"Avg_Rating\": 4.5},\n",
    "        {\"Movie\": \"Toy Story\", \"Theatre\": \"ME\", \"Avg_Rating\": 4.9},\n",
    "    ],\n",
    ")\n",
    "\n",
    "rating_series"
   ]
  },
  {
   "cell_type": "markdown",
   "id": "612b53b3",
   "metadata": {},
   "source": [
    "# Missing Values"
   ]
  },
  {
   "cell_type": "code",
   "execution_count": 9,
   "id": "c2f525f0",
   "metadata": {},
   "outputs": [
    {
     "data": {
      "text/html": [
       "<div><style>\n",
       ".dataframe > thead > tr,\n",
       ".dataframe > tbody > tr {\n",
       "  text-align: right;\n",
       "  white-space: pre-wrap;\n",
       "}\n",
       "</style>\n",
       "<small>shape: (10, 1)</small><table border=\"1\" class=\"dataframe\"><thead><tr><th>value</th></tr><tr><td>i64</td></tr></thead><tbody><tr><td>null</td></tr><tr><td>2</td></tr><tr><td>3</td></tr><tr><td>4</td></tr><tr><td>null</td></tr><tr><td>null</td></tr><tr><td>7</td></tr><tr><td>8</td></tr><tr><td>9</td></tr><tr><td>null</td></tr></tbody></table></div>"
      ],
      "text/plain": [
       "shape: (10, 1)\n",
       "┌───────┐\n",
       "│ value │\n",
       "│ ---   │\n",
       "│ i64   │\n",
       "╞═══════╡\n",
       "│ null  │\n",
       "│ 2     │\n",
       "│ 3     │\n",
       "│ 4     │\n",
       "│ null  │\n",
       "│ null  │\n",
       "│ 7     │\n",
       "│ 8     │\n",
       "│ 9     │\n",
       "│ null  │\n",
       "└───────┘"
      ]
     },
     "execution_count": 9,
     "metadata": {},
     "output_type": "execute_result"
    }
   ],
   "source": [
    "missing_df = pl.DataFrame(\n",
    "    {\n",
    "        \"value\": [None, 2, 3, 4, None, None, 7, 8, 9, None],\n",
    "    },\n",
    ")\n",
    "\n",
    "missing_df"
   ]
  },
  {
   "cell_type": "code",
   "execution_count": 10,
   "id": "0aeedee2",
   "metadata": {},
   "outputs": [
    {
     "data": {
      "text/html": [
       "<div><style>\n",
       ".dataframe > thead > tr,\n",
       ".dataframe > tbody > tr {\n",
       "  text-align: right;\n",
       "  white-space: pre-wrap;\n",
       "}\n",
       "</style>\n",
       "<small>shape: (1, 1)</small><table border=\"1\" class=\"dataframe\"><thead><tr><th>value</th></tr><tr><td>u32</td></tr></thead><tbody><tr><td>4</td></tr></tbody></table></div>"
      ],
      "text/plain": [
       "shape: (1, 1)\n",
       "┌───────┐\n",
       "│ value │\n",
       "│ ---   │\n",
       "│ u32   │\n",
       "╞═══════╡\n",
       "│ 4     │\n",
       "└───────┘"
      ]
     },
     "execution_count": 10,
     "metadata": {},
     "output_type": "execute_result"
    }
   ],
   "source": [
    "missing_df.null_count()"
   ]
  },
  {
   "cell_type": "code",
   "execution_count": 11,
   "id": "1a166090",
   "metadata": {},
   "outputs": [
    {
     "data": {
      "text/html": [
       "<div><style>\n",
       ".dataframe > thead > tr,\n",
       ".dataframe > tbody > tr {\n",
       "  text-align: right;\n",
       "  white-space: pre-wrap;\n",
       "}\n",
       "</style>\n",
       "<small>shape: (10, 2)</small><table border=\"1\" class=\"dataframe\"><thead><tr><th>value</th><th>filled_with_single</th></tr><tr><td>i64</td><td>i64</td></tr></thead><tbody><tr><td>null</td><td>-1</td></tr><tr><td>2</td><td>2</td></tr><tr><td>3</td><td>3</td></tr><tr><td>4</td><td>4</td></tr><tr><td>null</td><td>-1</td></tr><tr><td>null</td><td>-1</td></tr><tr><td>7</td><td>7</td></tr><tr><td>8</td><td>8</td></tr><tr><td>9</td><td>9</td></tr><tr><td>null</td><td>-1</td></tr></tbody></table></div>"
      ],
      "text/plain": [
       "shape: (10, 2)\n",
       "┌───────┬────────────────────┐\n",
       "│ value ┆ filled_with_single │\n",
       "│ ---   ┆ ---                │\n",
       "│ i64   ┆ i64                │\n",
       "╞═══════╪════════════════════╡\n",
       "│ null  ┆ -1                 │\n",
       "│ 2     ┆ 2                  │\n",
       "│ 3     ┆ 3                  │\n",
       "│ 4     ┆ 4                  │\n",
       "│ null  ┆ -1                 │\n",
       "│ null  ┆ -1                 │\n",
       "│ 7     ┆ 7                  │\n",
       "│ 8     ┆ 8                  │\n",
       "│ 9     ┆ 9                  │\n",
       "│ null  ┆ -1                 │\n",
       "└───────┴────────────────────┘"
      ]
     },
     "execution_count": 11,
     "metadata": {},
     "output_type": "execute_result"
    }
   ],
   "source": [
    "missing_df.with_columns(filled_with_single=pl.col(\"value\").fill_null(-1))"
   ]
  },
  {
   "cell_type": "code",
   "execution_count": 12,
   "id": "c963e3de",
   "metadata": {},
   "outputs": [
    {
     "data": {
      "text/html": [
       "<div><style>\n",
       ".dataframe > thead > tr,\n",
       ".dataframe > tbody > tr {\n",
       "  text-align: right;\n",
       "  white-space: pre-wrap;\n",
       "}\n",
       "</style>\n",
       "<small>shape: (10, 8)</small><table border=\"1\" class=\"dataframe\"><thead><tr><th>value</th><th>forward</th><th>backward</th><th>min</th><th>max</th><th>mean</th><th>zero</th><th>one</th></tr><tr><td>i64</td><td>i64</td><td>i64</td><td>i64</td><td>i64</td><td>i64</td><td>i64</td><td>i64</td></tr></thead><tbody><tr><td>null</td><td>null</td><td>2</td><td>2</td><td>9</td><td>5</td><td>0</td><td>1</td></tr><tr><td>2</td><td>2</td><td>2</td><td>2</td><td>2</td><td>2</td><td>2</td><td>2</td></tr><tr><td>3</td><td>3</td><td>3</td><td>3</td><td>3</td><td>3</td><td>3</td><td>3</td></tr><tr><td>4</td><td>4</td><td>4</td><td>4</td><td>4</td><td>4</td><td>4</td><td>4</td></tr><tr><td>null</td><td>4</td><td>7</td><td>2</td><td>9</td><td>5</td><td>0</td><td>1</td></tr><tr><td>null</td><td>4</td><td>7</td><td>2</td><td>9</td><td>5</td><td>0</td><td>1</td></tr><tr><td>7</td><td>7</td><td>7</td><td>7</td><td>7</td><td>7</td><td>7</td><td>7</td></tr><tr><td>8</td><td>8</td><td>8</td><td>8</td><td>8</td><td>8</td><td>8</td><td>8</td></tr><tr><td>9</td><td>9</td><td>9</td><td>9</td><td>9</td><td>9</td><td>9</td><td>9</td></tr><tr><td>null</td><td>9</td><td>null</td><td>2</td><td>9</td><td>5</td><td>0</td><td>1</td></tr></tbody></table></div>"
      ],
      "text/plain": [
       "shape: (10, 8)\n",
       "┌───────┬─────────┬──────────┬─────┬─────┬──────┬──────┬─────┐\n",
       "│ value ┆ forward ┆ backward ┆ min ┆ max ┆ mean ┆ zero ┆ one │\n",
       "│ ---   ┆ ---     ┆ ---      ┆ --- ┆ --- ┆ ---  ┆ ---  ┆ --- │\n",
       "│ i64   ┆ i64     ┆ i64      ┆ i64 ┆ i64 ┆ i64  ┆ i64  ┆ i64 │\n",
       "╞═══════╪═════════╪══════════╪═════╪═════╪══════╪══════╪═════╡\n",
       "│ null  ┆ null    ┆ 2        ┆ 2   ┆ 9   ┆ 5    ┆ 0    ┆ 1   │\n",
       "│ 2     ┆ 2       ┆ 2        ┆ 2   ┆ 2   ┆ 2    ┆ 2    ┆ 2   │\n",
       "│ 3     ┆ 3       ┆ 3        ┆ 3   ┆ 3   ┆ 3    ┆ 3    ┆ 3   │\n",
       "│ 4     ┆ 4       ┆ 4        ┆ 4   ┆ 4   ┆ 4    ┆ 4    ┆ 4   │\n",
       "│ null  ┆ 4       ┆ 7        ┆ 2   ┆ 9   ┆ 5    ┆ 0    ┆ 1   │\n",
       "│ null  ┆ 4       ┆ 7        ┆ 2   ┆ 9   ┆ 5    ┆ 0    ┆ 1   │\n",
       "│ 7     ┆ 7       ┆ 7        ┆ 7   ┆ 7   ┆ 7    ┆ 7    ┆ 7   │\n",
       "│ 8     ┆ 8       ┆ 8        ┆ 8   ┆ 8   ┆ 8    ┆ 8    ┆ 8   │\n",
       "│ 9     ┆ 9       ┆ 9        ┆ 9   ┆ 9   ┆ 9    ┆ 9    ┆ 9   │\n",
       "│ null  ┆ 9       ┆ null     ┆ 2   ┆ 9   ┆ 5    ┆ 0    ┆ 1   │\n",
       "└───────┴─────────┴──────────┴─────┴─────┴──────┴──────┴─────┘"
      ]
     },
     "execution_count": 12,
     "metadata": {},
     "output_type": "execute_result"
    }
   ],
   "source": [
    "missing_df.with_columns(\n",
    "    forward=pl.col(\"value\").fill_null(strategy=\"forward\"),\n",
    "    backward=pl.col(\"value\").fill_null(strategy=\"backward\"),\n",
    "    min=pl.col(\"value\").fill_null(strategy=\"min\"),\n",
    "    max=pl.col(\"value\").fill_null(strategy=\"max\"),\n",
    "    mean=pl.col(\"value\").fill_null(strategy=\"mean\"),\n",
    "    zero=pl.col(\"value\").fill_null(strategy=\"zero\"),\n",
    "    one=pl.col(\"value\").fill_null(strategy=\"one\"),\n",
    ")"
   ]
  },
  {
   "cell_type": "code",
   "execution_count": 13,
   "id": "48ac6c88",
   "metadata": {},
   "outputs": [
    {
     "data": {
      "text/html": [
       "<div><style>\n",
       ".dataframe > thead > tr,\n",
       ".dataframe > tbody > tr {\n",
       "  text-align: right;\n",
       "  white-space: pre-wrap;\n",
       "}\n",
       "</style>\n",
       "<small>shape: (10, 2)</small><table border=\"1\" class=\"dataframe\"><thead><tr><th>value</th><th>expression_mean</th></tr><tr><td>i64</td><td>f64</td></tr></thead><tbody><tr><td>null</td><td>5.5</td></tr><tr><td>2</td><td>2.0</td></tr><tr><td>3</td><td>3.0</td></tr><tr><td>4</td><td>4.0</td></tr><tr><td>null</td><td>5.5</td></tr><tr><td>null</td><td>5.5</td></tr><tr><td>7</td><td>7.0</td></tr><tr><td>8</td><td>8.0</td></tr><tr><td>9</td><td>9.0</td></tr><tr><td>null</td><td>5.5</td></tr></tbody></table></div>"
      ],
      "text/plain": [
       "shape: (10, 2)\n",
       "┌───────┬─────────────────┐\n",
       "│ value ┆ expression_mean │\n",
       "│ ---   ┆ ---             │\n",
       "│ i64   ┆ f64             │\n",
       "╞═══════╪═════════════════╡\n",
       "│ null  ┆ 5.5             │\n",
       "│ 2     ┆ 2.0             │\n",
       "│ 3     ┆ 3.0             │\n",
       "│ 4     ┆ 4.0             │\n",
       "│ null  ┆ 5.5             │\n",
       "│ null  ┆ 5.5             │\n",
       "│ 7     ┆ 7.0             │\n",
       "│ 8     ┆ 8.0             │\n",
       "│ 9     ┆ 9.0             │\n",
       "│ null  ┆ 5.5             │\n",
       "└───────┴─────────────────┘"
      ]
     },
     "execution_count": 13,
     "metadata": {},
     "output_type": "execute_result"
    }
   ],
   "source": [
    "missing_df.with_columns(\n",
    "    expression_mean=pl.col(\"value\").fill_null(pl.col(\"value\").mean())\n",
    ")"
   ]
  },
  {
   "cell_type": "code",
   "execution_count": null,
   "id": "55923c4d",
   "metadata": {},
   "outputs": [
    {
     "data": {
      "text/html": [
       "<div><style>\n",
       ".dataframe > thead > tr,\n",
       ".dataframe > tbody > tr {\n",
       "  text-align: right;\n",
       "  white-space: pre-wrap;\n",
       "}\n",
       "</style>\n",
       "<small>shape: (10, 1)</small><table border=\"1\" class=\"dataframe\"><thead><tr><th>value</th></tr><tr><td>f64</td></tr></thead><tbody><tr><td>null</td></tr><tr><td>2.0</td></tr><tr><td>3.0</td></tr><tr><td>4.0</td></tr><tr><td>5.0</td></tr><tr><td>6.0</td></tr><tr><td>7.0</td></tr><tr><td>8.0</td></tr><tr><td>9.0</td></tr><tr><td>null</td></tr></tbody></table></div>"
      ],
      "text/plain": [
       "shape: (10, 1)\n",
       "┌───────┐\n",
       "│ value │\n",
       "│ ---   │\n",
       "│ f64   │\n",
       "╞═══════╡\n",
       "│ null  │\n",
       "│ 2.0   │\n",
       "│ 3.0   │\n",
       "│ 4.0   │\n",
       "│ 5.0   │\n",
       "│ 6.0   │\n",
       "│ 7.0   │\n",
       "│ 8.0   │\n",
       "│ 9.0   │\n",
       "│ null  │\n",
       "└───────┘"
      ]
     },
     "execution_count": 16,
     "metadata": {},
     "output_type": "execute_result"
    }
   ],
   "source": [
    "missing_df.interpolate()"
   ]
  },
  {
   "cell_type": "markdown",
   "id": "314a0c6d",
   "metadata": {},
   "source": [
    "# Data Type Conversion"
   ]
  },
  {
   "cell_type": "code",
   "execution_count": null,
   "id": "92ff821b",
   "metadata": {},
   "outputs": [
    {
     "name": "stdout",
     "output_type": "stream",
     "text": [
      "shape: (3, 1)\n",
      "┌───────┐\n",
      "│ id    │\n",
      "│ ---   │\n",
      "│ str   │\n",
      "╞═══════╡\n",
      "│ 10000 │\n",
      "│ 20000 │\n",
      "│ 30000 │\n",
      "└───────┘\n",
      "Estimated Size: 15 bytes\n"
     ]
    }
   ],
   "source": [
    "string_df = pl.DataFrame({\"id\": [\"10000\", \"20000\", \"30000\"]})\n",
    "print(string_df)\n",
    "print(f\"Estimated Size: {string_df.estimated_size('b')} bytes\")"
   ]
  },
  {
   "cell_type": "code",
   "execution_count": 18,
   "id": "753c3f66",
   "metadata": {},
   "outputs": [
    {
     "name": "stdout",
     "output_type": "stream",
     "text": [
      "shape: (3, 1)\n",
      "┌───────┐\n",
      "│ id    │\n",
      "│ ---   │\n",
      "│ u16   │\n",
      "╞═══════╡\n",
      "│ 10000 │\n",
      "│ 20000 │\n",
      "│ 30000 │\n",
      "└───────┘\n",
      "Estimated Size: 6 bytes\n"
     ]
    }
   ],
   "source": [
    "int_df = string_df.select(pl.col(\"id\").cast(pl.UInt16))\n",
    "print(int_df)\n",
    "print(f\"Estimated Size: {int_df.estimated_size('b')} bytes\")"
   ]
  },
  {
   "cell_type": "markdown",
   "id": "213a06be",
   "metadata": {},
   "source": [
    "cast everything to one data type:"
   ]
  },
  {
   "cell_type": "code",
   "execution_count": 20,
   "id": "c0a150f9",
   "metadata": {},
   "outputs": [],
   "source": [
    "data_types_df = pl.DataFrame(\n",
    "    {\n",
    "        \"id\": [1000, 2000, 3000],\n",
    "        \"value\": [1.0, 2.0, 3.0],\n",
    "        \"value2\": [\"1\", \"2\", \"3\"],\n",
    "    }\n",
    ")"
   ]
  },
  {
   "cell_type": "code",
   "execution_count": 21,
   "id": "aada9a09",
   "metadata": {},
   "outputs": [
    {
     "data": {
      "text/html": [
       "<div><style>\n",
       ".dataframe > thead > tr,\n",
       ".dataframe > tbody > tr {\n",
       "  text-align: right;\n",
       "  white-space: pre-wrap;\n",
       "}\n",
       "</style>\n",
       "<small>shape: (3, 3)</small><table border=\"1\" class=\"dataframe\"><thead><tr><th>id</th><th>value</th><th>value2</th></tr><tr><td>u16</td><td>u16</td><td>u16</td></tr></thead><tbody><tr><td>1000</td><td>1</td><td>1</td></tr><tr><td>2000</td><td>2</td><td>2</td></tr><tr><td>3000</td><td>3</td><td>3</td></tr></tbody></table></div>"
      ],
      "text/plain": [
       "shape: (3, 3)\n",
       "┌──────┬───────┬────────┐\n",
       "│ id   ┆ value ┆ value2 │\n",
       "│ ---  ┆ ---   ┆ ---    │\n",
       "│ u16  ┆ u16   ┆ u16    │\n",
       "╞══════╪═══════╪════════╡\n",
       "│ 1000 ┆ 1     ┆ 1      │\n",
       "│ 2000 ┆ 2     ┆ 2      │\n",
       "│ 3000 ┆ 3     ┆ 3      │\n",
       "└──────┴───────┴────────┘"
      ]
     },
     "execution_count": 21,
     "metadata": {},
     "output_type": "execute_result"
    }
   ],
   "source": [
    "data_types_df.cast(pl.UInt16)"
   ]
  },
  {
   "cell_type": "markdown",
   "id": "6b505775",
   "metadata": {},
   "source": [
    "or use a dictionary to cast certain Series differently:"
   ]
  },
  {
   "cell_type": "code",
   "execution_count": null,
   "id": "b32402a4",
   "metadata": {},
   "outputs": [
    {
     "data": {
      "text/html": [
       "<div><style>\n",
       ".dataframe > thead > tr,\n",
       ".dataframe > tbody > tr {\n",
       "  text-align: right;\n",
       "  white-space: pre-wrap;\n",
       "}\n",
       "</style>\n",
       "<small>shape: (3, 3)</small><table border=\"1\" class=\"dataframe\"><thead><tr><th>id</th><th>value</th><th>value2</th></tr><tr><td>u16</td><td>f32</td><td>u8</td></tr></thead><tbody><tr><td>1000</td><td>1.0</td><td>1</td></tr><tr><td>2000</td><td>2.0</td><td>2</td></tr><tr><td>3000</td><td>3.0</td><td>3</td></tr></tbody></table></div>"
      ],
      "text/plain": [
       "shape: (3, 3)\n",
       "┌──────┬───────┬────────┐\n",
       "│ id   ┆ value ┆ value2 │\n",
       "│ ---  ┆ ---   ┆ ---    │\n",
       "│ u16  ┆ f32   ┆ u8     │\n",
       "╞══════╪═══════╪════════╡\n",
       "│ 1000 ┆ 1.0   ┆ 1      │\n",
       "│ 2000 ┆ 2.0   ┆ 2      │\n",
       "│ 3000 ┆ 3.0   ┆ 3      │\n",
       "└──────┴───────┴────────┘"
      ]
     },
     "execution_count": 22,
     "metadata": {},
     "output_type": "execute_result"
    }
   ],
   "source": [
    "data_types_df.cast(\n",
    "    {\n",
    "        \"id\": pl.UInt16,\n",
    "        \"value\": pl.Float32,\n",
    "        \"value2\": pl.UInt8\n",
    "    }\n",
    ")"
   ]
  },
  {
   "cell_type": "markdown",
   "id": "6f5044d5",
   "metadata": {},
   "source": [
    "cast by type to other type"
   ]
  },
  {
   "cell_type": "code",
   "execution_count": null,
   "id": "57dc32ba",
   "metadata": {},
   "outputs": [
    {
     "data": {
      "text/html": [
       "<div><style>\n",
       ".dataframe > thead > tr,\n",
       ".dataframe > tbody > tr {\n",
       "  text-align: right;\n",
       "  white-space: pre-wrap;\n",
       "}\n",
       "</style>\n",
       "<small>shape: (3, 3)</small><table border=\"1\" class=\"dataframe\"><thead><tr><th>id</th><th>value</th><th>value2</th></tr><tr><td>i64</td><td>f32</td><td>u8</td></tr></thead><tbody><tr><td>1000</td><td>1.0</td><td>1</td></tr><tr><td>2000</td><td>2.0</td><td>2</td></tr><tr><td>3000</td><td>3.0</td><td>3</td></tr></tbody></table></div>"
      ],
      "text/plain": [
       "shape: (3, 3)\n",
       "┌──────┬───────┬────────┐\n",
       "│ id   ┆ value ┆ value2 │\n",
       "│ ---  ┆ ---   ┆ ---    │\n",
       "│ i64  ┆ f32   ┆ u8     │\n",
       "╞══════╪═══════╪════════╡\n",
       "│ 1000 ┆ 1.0   ┆ 1      │\n",
       "│ 2000 ┆ 2.0   ┆ 2      │\n",
       "│ 3000 ┆ 3.0   ┆ 3      │\n",
       "└──────┴───────┴────────┘"
      ]
     },
     "execution_count": 23,
     "metadata": {},
     "output_type": "execute_result"
    }
   ],
   "source": [
    "data_types_df.cast(\n",
    "    {\n",
    "        pl.Float64: pl.Float32,\n",
    "        pl.String: pl.UInt8\n",
    "    }\n",
    ")"
   ]
  },
  {
   "cell_type": "markdown",
   "id": "e66b5b77",
   "metadata": {},
   "source": [
    "...using column selectors:"
   ]
  },
  {
   "cell_type": "code",
   "execution_count": null,
   "id": "ea1ea686",
   "metadata": {},
   "outputs": [
    {
     "data": {
      "text/html": [
       "<div><style>\n",
       ".dataframe > thead > tr,\n",
       ".dataframe > tbody > tr {\n",
       "  text-align: right;\n",
       "  white-space: pre-wrap;\n",
       "}\n",
       "</style>\n",
       "<small>shape: (3, 3)</small><table border=\"1\" class=\"dataframe\"><thead><tr><th>id</th><th>value</th><th>value2</th></tr><tr><td>u16</td><td>u16</td><td>str</td></tr></thead><tbody><tr><td>1000</td><td>1</td><td>&quot;1&quot;</td></tr><tr><td>2000</td><td>2</td><td>&quot;2&quot;</td></tr><tr><td>3000</td><td>3</td><td>&quot;3&quot;</td></tr></tbody></table></div>"
      ],
      "text/plain": [
       "shape: (3, 3)\n",
       "┌──────┬───────┬────────┐\n",
       "│ id   ┆ value ┆ value2 │\n",
       "│ ---  ┆ ---   ┆ ---    │\n",
       "│ u16  ┆ u16   ┆ str    │\n",
       "╞══════╪═══════╪════════╡\n",
       "│ 1000 ┆ 1     ┆ 1      │\n",
       "│ 2000 ┆ 2     ┆ 2      │\n",
       "│ 3000 ┆ 3     ┆ 3      │\n",
       "└──────┴───────┴────────┘"
      ]
     },
     "execution_count": 24,
     "metadata": {},
     "output_type": "execute_result"
    }
   ],
   "source": [
    "import polars.selectors as cs\n",
    "\n",
    "data_types_df.cast(\n",
    "    {\n",
    "        cs.numeric(): pl.UInt16\n",
    "    }\n",
    ")"
   ]
  },
  {
   "cell_type": "code",
   "execution_count": null,
   "id": "02b3c317",
   "metadata": {},
   "outputs": [],
   "source": []
  }
 ],
 "metadata": {
  "kernelspec": {
   "display_name": ".venv",
   "language": "python",
   "name": "python3"
  },
  "language_info": {
   "codemirror_mode": {
    "name": "ipython",
    "version": 3
   },
   "file_extension": ".py",
   "mimetype": "text/x-python",
   "name": "python",
   "nbconvert_exporter": "python",
   "pygments_lexer": "ipython3",
   "version": "3.12.9"
  }
 },
 "nbformat": 4,
 "nbformat_minor": 5
}
