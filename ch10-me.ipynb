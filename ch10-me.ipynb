{
 "cells": [
  {
   "cell_type": "code",
   "execution_count": null,
   "id": "d569f5c5",
   "metadata": {},
   "outputs": [],
   "source": [
    "import polars as pl\n",
    "\n",
    "starwars = pl.scan_parquet(\"data/starwars.parquet\")\n",
    "rebels = starwars.drop(\"films\").filter(\n",
    "    pl.col(\"name\").is_in([\"Luke Skywalker\", \"Leia Organa\", \"Han Solo\"])\n",
    ")"
   ]
  },
  {
   "cell_type": "code",
   "execution_count": 4,
   "id": "3cda6de0",
   "metadata": {},
   "outputs": [
    {
     "data": {
      "text/html": [
       "<div><style>\n",
       ".dataframe > thead > tr,\n",
       ".dataframe > tbody > tr {\n",
       "  text-align: right;\n",
       "  white-space: pre-wrap;\n",
       "}\n",
       "</style>\n",
       "<small>shape: (3, 6)</small><table border=\"1\" class=\"dataframe\"><thead><tr><th>name</th><th>homeworld</th><th>hair_color</th><th>skin_color</th><th>eye_color</th><th>height_m</th></tr><tr><td>str</td><td>str</td><td>str</td><td>str</td><td>str</td><td>f64</td></tr></thead><tbody><tr><td>&quot;Han Solo&quot;</td><td>&quot;Corellia&quot;</td><td>&quot;brown&quot;</td><td>&quot;fair&quot;</td><td>&quot;brown&quot;</td><td>1.8</td></tr><tr><td>&quot;Leia Organa&quot;</td><td>&quot;Alderaan&quot;</td><td>&quot;brown&quot;</td><td>&quot;light&quot;</td><td>&quot;brown&quot;</td><td>1.5</td></tr><tr><td>&quot;Luke Skywalker&quot;</td><td>&quot;Tatooine&quot;</td><td>&quot;blond&quot;</td><td>&quot;fair&quot;</td><td>&quot;blue&quot;</td><td>1.72</td></tr></tbody></table></div>"
      ],
      "text/plain": [
       "shape: (3, 6)\n",
       "┌────────────────┬───────────┬────────────┬────────────┬───────────┬──────────┐\n",
       "│ name           ┆ homeworld ┆ hair_color ┆ skin_color ┆ eye_color ┆ height_m │\n",
       "│ ---            ┆ ---       ┆ ---        ┆ ---        ┆ ---       ┆ ---      │\n",
       "│ str            ┆ str       ┆ str        ┆ str        ┆ str       ┆ f64      │\n",
       "╞════════════════╪═══════════╪════════════╪════════════╪═══════════╪══════════╡\n",
       "│ Han Solo       ┆ Corellia  ┆ brown      ┆ fair       ┆ brown     ┆ 1.8      │\n",
       "│ Leia Organa    ┆ Alderaan  ┆ brown      ┆ light      ┆ brown     ┆ 1.5      │\n",
       "│ Luke Skywalker ┆ Tatooine  ┆ blond      ┆ fair       ┆ blue      ┆ 1.72     │\n",
       "└────────────────┴───────────┴────────────┴────────────┴───────────┴──────────┘"
      ]
     },
     "execution_count": 4,
     "metadata": {},
     "output_type": "execute_result"
    }
   ],
   "source": [
    "rebels.select(\n",
    "    \"name\",\n",
    "    pl.col(\"homeworld\"),\n",
    "    pl.col(\"^.*color$\"),\n",
    "    (pl.col(\"height\") / 100).alias(\"height_m\"),\n",
    ").collect()"
   ]
  },
  {
   "cell_type": "code",
   "execution_count": null,
   "id": "2ad49bcf",
   "metadata": {},
   "outputs": [
    {
     "data": {
      "text/html": [
       "<div><style>\n",
       ".dataframe > thead > tr,\n",
       ".dataframe > tbody > tr {\n",
       "  text-align: right;\n",
       "  white-space: pre-wrap;\n",
       "}\n",
       "</style>\n",
       "<small>shape: (3, 6)</small><table border=\"1\" class=\"dataframe\"><thead><tr><th>name</th><th>homeworld</th><th>hair_color</th><th>skin_color</th><th>eye_color</th><th>height_m</th></tr><tr><td>str</td><td>str</td><td>str</td><td>str</td><td>str</td><td>f64</td></tr></thead><tbody><tr><td>&quot;Han Solo&quot;</td><td>&quot;Corellia&quot;</td><td>&quot;brown&quot;</td><td>&quot;fair&quot;</td><td>&quot;brown&quot;</td><td>1.8</td></tr><tr><td>&quot;Leia Organa&quot;</td><td>&quot;Alderaan&quot;</td><td>&quot;brown&quot;</td><td>&quot;light&quot;</td><td>&quot;brown&quot;</td><td>1.5</td></tr><tr><td>&quot;Luke Skywalker&quot;</td><td>&quot;Tatooine&quot;</td><td>&quot;blond&quot;</td><td>&quot;fair&quot;</td><td>&quot;blue&quot;</td><td>1.72</td></tr></tbody></table></div>"
      ],
      "text/plain": [
       "shape: (3, 6)\n",
       "┌────────────────┬───────────┬────────────┬────────────┬───────────┬──────────┐\n",
       "│ name           ┆ homeworld ┆ hair_color ┆ skin_color ┆ eye_color ┆ height_m │\n",
       "│ ---            ┆ ---       ┆ ---        ┆ ---        ┆ ---       ┆ ---      │\n",
       "│ str            ┆ str       ┆ str        ┆ str        ┆ str       ┆ f64      │\n",
       "╞════════════════╪═══════════╪════════════╪════════════╪═══════════╪══════════╡\n",
       "│ Han Solo       ┆ Corellia  ┆ brown      ┆ fair       ┆ brown     ┆ 1.8      │\n",
       "│ Leia Organa    ┆ Alderaan  ┆ brown      ┆ light      ┆ brown     ┆ 1.5      │\n",
       "│ Luke Skywalker ┆ Tatooine  ┆ blond      ┆ fair       ┆ blue      ┆ 1.72     │\n",
       "└────────────────┴───────────┴────────────┴────────────┴───────────┴──────────┘"
      ]
     },
     "execution_count": 5,
     "metadata": {},
     "output_type": "execute_result"
    }
   ],
   "source": [
    "import polars.selectors as cs\n",
    "\n",
    "rebels.select(\n",
    "    \"name\",\n",
    "    cs.by_name(\"homeworld\"),\n",
    "    cs.by_name(\"^.*color$\"),\n",
    "    (cs.by_name(\"height\") / 100).alias(\"height_m\"),\n",
    ").collect()"
   ]
  },
  {
   "cell_type": "code",
   "execution_count": 6,
   "id": "2555f605",
   "metadata": {},
   "outputs": [
    {
     "data": {
      "text/html": [
       "<div><style>\n",
       ".dataframe > thead > tr,\n",
       ".dataframe > tbody > tr {\n",
       "  text-align: right;\n",
       "  white-space: pre-wrap;\n",
       "}\n",
       "</style>\n",
       "<small>shape: (3, 2)</small><table border=\"1\" class=\"dataframe\"><thead><tr><th>birth_year</th><th>birth_date</th></tr><tr><td>f64</td><td>date</td></tr></thead><tbody><tr><td>29.0</td><td>1948-06-01</td></tr><tr><td>19.0</td><td>1958-05-30</td></tr><tr><td>19.0</td><td>1958-05-30</td></tr></tbody></table></div>"
      ],
      "text/plain": [
       "shape: (3, 2)\n",
       "┌────────────┬────────────┐\n",
       "│ birth_year ┆ birth_date │\n",
       "│ ---        ┆ ---        │\n",
       "│ f64        ┆ date       │\n",
       "╞════════════╪════════════╡\n",
       "│ 29.0       ┆ 1948-06-01 │\n",
       "│ 19.0       ┆ 1958-05-30 │\n",
       "│ 19.0       ┆ 1958-05-30 │\n",
       "└────────────┴────────────┘"
      ]
     },
     "execution_count": 6,
     "metadata": {},
     "output_type": "execute_result"
    }
   ],
   "source": [
    "rebels.select(cs.starts_with(\"birth\")).collect()"
   ]
  },
  {
   "cell_type": "code",
   "execution_count": 7,
   "id": "0170bb4e",
   "metadata": {},
   "outputs": [
    {
     "data": {
      "text/html": [
       "<div><style>\n",
       ".dataframe > thead > tr,\n",
       ".dataframe > tbody > tr {\n",
       "  text-align: right;\n",
       "  white-space: pre-wrap;\n",
       "}\n",
       "</style>\n",
       "<small>shape: (3, 3)</small><table border=\"1\" class=\"dataframe\"><thead><tr><th>hair_color</th><th>skin_color</th><th>eye_color</th></tr><tr><td>str</td><td>str</td><td>str</td></tr></thead><tbody><tr><td>&quot;brown&quot;</td><td>&quot;fair&quot;</td><td>&quot;brown&quot;</td></tr><tr><td>&quot;brown&quot;</td><td>&quot;light&quot;</td><td>&quot;brown&quot;</td></tr><tr><td>&quot;blond&quot;</td><td>&quot;fair&quot;</td><td>&quot;blue&quot;</td></tr></tbody></table></div>"
      ],
      "text/plain": [
       "shape: (3, 3)\n",
       "┌────────────┬────────────┬───────────┐\n",
       "│ hair_color ┆ skin_color ┆ eye_color │\n",
       "│ ---        ┆ ---        ┆ ---       │\n",
       "│ str        ┆ str        ┆ str       │\n",
       "╞════════════╪════════════╪═══════════╡\n",
       "│ brown      ┆ fair       ┆ brown     │\n",
       "│ brown      ┆ light      ┆ brown     │\n",
       "│ blond      ┆ fair       ┆ blue      │\n",
       "└────────────┴────────────┴───────────┘"
      ]
     },
     "execution_count": 7,
     "metadata": {},
     "output_type": "execute_result"
    }
   ],
   "source": [
    "rebels.select(cs.ends_with(\"_color\")).collect()"
   ]
  },
  {
   "cell_type": "code",
   "execution_count": 8,
   "id": "57620baa",
   "metadata": {},
   "outputs": [
    {
     "data": {
      "text/html": [
       "<div><style>\n",
       ".dataframe > thead > tr,\n",
       ".dataframe > tbody > tr {\n",
       "  text-align: right;\n",
       "  white-space: pre-wrap;\n",
       "}\n",
       "</style>\n",
       "<small>shape: (3, 6)</small><table border=\"1\" class=\"dataframe\"><thead><tr><th>hair_color</th><th>skin_color</th><th>eye_color</th><th>birth_year</th><th>birth_date</th><th>screen_time</th></tr><tr><td>str</td><td>str</td><td>str</td><td>f64</td><td>date</td><td>duration[μs]</td></tr></thead><tbody><tr><td>&quot;brown&quot;</td><td>&quot;fair&quot;</td><td>&quot;brown&quot;</td><td>29.0</td><td>1948-06-01</td><td>1h 12m 37s</td></tr><tr><td>&quot;brown&quot;</td><td>&quot;light&quot;</td><td>&quot;brown&quot;</td><td>19.0</td><td>1958-05-30</td><td>1h 3m 40s</td></tr><tr><td>&quot;blond&quot;</td><td>&quot;fair&quot;</td><td>&quot;blue&quot;</td><td>19.0</td><td>1958-05-30</td><td>1h 58m 44s</td></tr></tbody></table></div>"
      ],
      "text/plain": [
       "shape: (3, 6)\n",
       "┌────────────┬────────────┬───────────┬────────────┬────────────┬──────────────┐\n",
       "│ hair_color ┆ skin_color ┆ eye_color ┆ birth_year ┆ birth_date ┆ screen_time  │\n",
       "│ ---        ┆ ---        ┆ ---       ┆ ---        ┆ ---        ┆ ---          │\n",
       "│ str        ┆ str        ┆ str       ┆ f64        ┆ date       ┆ duration[μs] │\n",
       "╞════════════╪════════════╪═══════════╪════════════╪════════════╪══════════════╡\n",
       "│ brown      ┆ fair       ┆ brown     ┆ 29.0       ┆ 1948-06-01 ┆ 1h 12m 37s   │\n",
       "│ brown      ┆ light      ┆ brown     ┆ 19.0       ┆ 1958-05-30 ┆ 1h 3m 40s    │\n",
       "│ blond      ┆ fair       ┆ blue      ┆ 19.0       ┆ 1958-05-30 ┆ 1h 58m 44s   │\n",
       "└────────────┴────────────┴───────────┴────────────┴────────────┴──────────────┘"
      ]
     },
     "execution_count": 8,
     "metadata": {},
     "output_type": "execute_result"
    }
   ],
   "source": [
    "rebels.select(cs.contains(\"_\")).collect()"
   ]
  },
  {
   "cell_type": "code",
   "execution_count": 9,
   "id": "f5d17870",
   "metadata": {},
   "outputs": [
    {
     "data": {
      "text/html": [
       "<div><style>\n",
       ".dataframe > thead > tr,\n",
       ".dataframe > tbody > tr {\n",
       "  text-align: right;\n",
       "  white-space: pre-wrap;\n",
       "}\n",
       "</style>\n",
       "<small>shape: (3, 2)</small><table border=\"1\" class=\"dataframe\"><thead><tr><th>name</th><th>mass</th></tr><tr><td>str</td><td>f64</td></tr></thead><tbody><tr><td>&quot;Han Solo&quot;</td><td>80.0</td></tr><tr><td>&quot;Leia Organa&quot;</td><td>49.0</td></tr><tr><td>&quot;Luke Skywalker&quot;</td><td>77.0</td></tr></tbody></table></div>"
      ],
      "text/plain": [
       "shape: (3, 2)\n",
       "┌────────────────┬──────┐\n",
       "│ name           ┆ mass │\n",
       "│ ---            ┆ ---  │\n",
       "│ str            ┆ f64  │\n",
       "╞════════════════╪══════╡\n",
       "│ Han Solo       ┆ 80.0 │\n",
       "│ Leia Organa    ┆ 49.0 │\n",
       "│ Luke Skywalker ┆ 77.0 │\n",
       "└────────────────┴──────┘"
      ]
     },
     "execution_count": 9,
     "metadata": {},
     "output_type": "execute_result"
    }
   ],
   "source": [
    "rebels.select(cs.matches(\"^[a-z]{4}$\")).collect()"
   ]
  },
  {
   "cell_type": "code",
   "execution_count": 10,
   "id": "2966c35a",
   "metadata": {},
   "outputs": [
    {
     "data": {
      "text/html": [
       "<div><style>\n",
       ".dataframe > thead > tr,\n",
       ".dataframe > tbody > tr {\n",
       "  text-align: right;\n",
       "  white-space: pre-wrap;\n",
       "}\n",
       "</style>\n",
       "<small>shape: (2, 4)</small><table border=\"1\" class=\"dataframe\"><thead><tr><th>hair_color</th><th>height</th><th>mass</th><th>birth_year</th></tr><tr><td>str</td><td>f64</td><td>f64</td><td>f64</td></tr></thead><tbody><tr><td>&quot;blond&quot;</td><td>172.0</td><td>77.0</td><td>19.0</td></tr><tr><td>&quot;brown&quot;</td><td>165.0</td><td>64.5</td><td>24.0</td></tr></tbody></table></div>"
      ],
      "text/plain": [
       "shape: (2, 4)\n",
       "┌────────────┬────────┬──────┬────────────┐\n",
       "│ hair_color ┆ height ┆ mass ┆ birth_year │\n",
       "│ ---        ┆ ---    ┆ ---  ┆ ---        │\n",
       "│ str        ┆ f64    ┆ f64  ┆ f64        │\n",
       "╞════════════╪════════╪══════╪════════════╡\n",
       "│ blond      ┆ 172.0  ┆ 77.0 ┆ 19.0       │\n",
       "│ brown      ┆ 165.0  ┆ 64.5 ┆ 24.0       │\n",
       "└────────────┴────────┴──────┴────────────┘"
      ]
     },
     "execution_count": 10,
     "metadata": {},
     "output_type": "execute_result"
    }
   ],
   "source": [
    "rebels.group_by(\"hair_color\").agg(cs.numeric().mean()).collect()"
   ]
  },
  {
   "cell_type": "code",
   "execution_count": 11,
   "id": "508f3859",
   "metadata": {},
   "outputs": [
    {
     "data": {
      "text/html": [
       "<div><style>\n",
       ".dataframe > thead > tr,\n",
       ".dataframe > tbody > tr {\n",
       "  text-align: right;\n",
       "  white-space: pre-wrap;\n",
       "}\n",
       "</style>\n",
       "<small>shape: (3, 6)</small><table border=\"1\" class=\"dataframe\"><thead><tr><th>name</th><th>hair_color</th><th>skin_color</th><th>eye_color</th><th>homeworld</th><th>species</th></tr><tr><td>str</td><td>str</td><td>str</td><td>str</td><td>str</td><td>str</td></tr></thead><tbody><tr><td>&quot;Han Solo&quot;</td><td>&quot;brown&quot;</td><td>&quot;fair&quot;</td><td>&quot;brown&quot;</td><td>&quot;Corellia&quot;</td><td>&quot;Human&quot;</td></tr><tr><td>&quot;Leia Organa&quot;</td><td>&quot;brown&quot;</td><td>&quot;light&quot;</td><td>&quot;brown&quot;</td><td>&quot;Alderaan&quot;</td><td>&quot;Human&quot;</td></tr><tr><td>&quot;Luke Skywalker&quot;</td><td>&quot;blond&quot;</td><td>&quot;fair&quot;</td><td>&quot;blue&quot;</td><td>&quot;Tatooine&quot;</td><td>&quot;Human&quot;</td></tr></tbody></table></div>"
      ],
      "text/plain": [
       "shape: (3, 6)\n",
       "┌────────────────┬────────────┬────────────┬───────────┬───────────┬─────────┐\n",
       "│ name           ┆ hair_color ┆ skin_color ┆ eye_color ┆ homeworld ┆ species │\n",
       "│ ---            ┆ ---        ┆ ---        ┆ ---       ┆ ---       ┆ ---     │\n",
       "│ str            ┆ str        ┆ str        ┆ str       ┆ str       ┆ str     │\n",
       "╞════════════════╪════════════╪════════════╪═══════════╪═══════════╪═════════╡\n",
       "│ Han Solo       ┆ brown      ┆ fair       ┆ brown     ┆ Corellia  ┆ Human   │\n",
       "│ Leia Organa    ┆ brown      ┆ light      ┆ brown     ┆ Alderaan  ┆ Human   │\n",
       "│ Luke Skywalker ┆ blond      ┆ fair       ┆ blue      ┆ Tatooine  ┆ Human   │\n",
       "└────────────────┴────────────┴────────────┴───────────┴───────────┴─────────┘"
      ]
     },
     "execution_count": 11,
     "metadata": {},
     "output_type": "execute_result"
    }
   ],
   "source": [
    "rebels.select(cs.string()).collect()"
   ]
  },
  {
   "cell_type": "code",
   "execution_count": null,
   "id": "a06f6197",
   "metadata": {},
   "outputs": [
    {
     "data": {
      "text/html": [
       "<div><style>\n",
       ".dataframe > thead > tr,\n",
       ".dataframe > tbody > tr {\n",
       "  text-align: right;\n",
       "  white-space: pre-wrap;\n",
       "}\n",
       "</style>\n",
       "<small>shape: (3, 2)</small><table border=\"1\" class=\"dataframe\"><thead><tr><th>vehicles</th><th>starships</th></tr><tr><td>list[str]</td><td>list[str]</td></tr></thead><tbody><tr><td>null</td><td>[&quot;Millennium Falcon&quot;, &quot;Imperial shuttle&quot;]</td></tr><tr><td>[&quot;Imperial Speeder Bike&quot;]</td><td>null</td></tr><tr><td>[&quot;Snowspeeder&quot;, &quot;Imperial Speeder Bike&quot;]</td><td>[&quot;X-wing&quot;, &quot;Imperial shuttle&quot;]</td></tr></tbody></table></div>"
      ],
      "text/plain": [
       "shape: (3, 2)\n",
       "┌─────────────────────────────────┬─────────────────────────────────┐\n",
       "│ vehicles                        ┆ starships                       │\n",
       "│ ---                             ┆ ---                             │\n",
       "│ list[str]                       ┆ list[str]                       │\n",
       "╞═════════════════════════════════╪═════════════════════════════════╡\n",
       "│ null                            ┆ [\"Millennium Falcon\", \"Imperia… │\n",
       "│ [\"Imperial Speeder Bike\"]       ┆ null                            │\n",
       "│ [\"Snowspeeder\", \"Imperial Spee… ┆ [\"X-wing\", \"Imperial shuttle\"]  │\n",
       "└─────────────────────────────────┴─────────────────────────────────┘"
      ]
     },
     "execution_count": 17,
     "metadata": {},
     "output_type": "execute_result"
    }
   ],
   "source": [
    "# .explode(pl.col(\"vehicles\"))\n",
    "rebels.select(cs.by_dtype(pl.List(pl.String))).collect()"
   ]
  },
  {
   "cell_type": "code",
   "execution_count": null,
   "id": "2d591fd3",
   "metadata": {},
   "outputs": [
    {
     "data": {
      "text/html": [
       "<div><style>\n",
       ".dataframe > thead > tr,\n",
       ".dataframe > tbody > tr {\n",
       "  text-align: right;\n",
       "  white-space: pre-wrap;\n",
       "}\n",
       "</style>\n",
       "<small>shape: (3, 4)</small><table border=\"1\" class=\"dataframe\"><thead><tr><th>height</th><th>mass</th><th>hair_color</th><th>birth_year</th></tr><tr><td>u16</td><td>f64</td><td>str</td><td>f64</td></tr></thead><tbody><tr><td>180</td><td>80.0</td><td>&quot;brown&quot;</td><td>29.0</td></tr><tr><td>150</td><td>49.0</td><td>&quot;brown&quot;</td><td>19.0</td></tr><tr><td>172</td><td>77.0</td><td>&quot;blond&quot;</td><td>19.0</td></tr></tbody></table></div>"
      ],
      "text/plain": [
       "shape: (3, 4)\n",
       "┌────────┬──────┬────────────┬────────────┐\n",
       "│ height ┆ mass ┆ hair_color ┆ birth_year │\n",
       "│ ---    ┆ ---  ┆ ---        ┆ ---        │\n",
       "│ u16    ┆ f64  ┆ str        ┆ f64        │\n",
       "╞════════╪══════╪════════════╪════════════╡\n",
       "│ 180    ┆ 80.0 ┆ brown      ┆ 29.0       │\n",
       "│ 150    ┆ 49.0 ┆ brown      ┆ 19.0       │\n",
       "│ 172    ┆ 77.0 ┆ blond      ┆ 19.0       │\n",
       "└────────┴──────┴────────────┴────────────┘"
      ]
     },
     "execution_count": 19,
     "metadata": {},
     "output_type": "execute_result"
    }
   ],
   "source": [
    "rebels.select(cs.by_name(\"hair_color\") | cs.numeric()).collect()"
   ]
  },
  {
   "cell_type": "markdown",
   "id": "a203090a",
   "metadata": {},
   "source": [
    "walrus :="
   ]
  },
  {
   "cell_type": "code",
   "execution_count": null,
   "id": "91650af1",
   "metadata": {},
   "outputs": [],
   "source": [
    "df = pl.DataFrame({\"d\": 1, \"i\": True, \"s\": True, \"c\": True, \"o\": 1.0})"
   ]
  },
  {
   "cell_type": "code",
   "execution_count": null,
   "id": "fb1d3131",
   "metadata": {},
   "outputs": [
    {
     "data": {
      "text/html": [
       "<div><style>\n",
       ".dataframe > thead > tr,\n",
       ".dataframe > tbody > tr {\n",
       "  text-align: right;\n",
       "  white-space: pre-wrap;\n",
       "}\n",
       "</style>\n",
       "<small>shape: (1, 5)</small><table border=\"1\" class=\"dataframe\"><thead><tr><th>d</th><th>i</th><th>s</th><th>c</th><th>o</th></tr><tr><td>i64</td><td>bool</td><td>bool</td><td>bool</td><td>f64</td></tr></thead><tbody><tr><td>1</td><td>true</td><td>true</td><td>true</td><td>1.0</td></tr></tbody></table></div>"
      ],
      "text/plain": [
       "shape: (1, 5)\n",
       "┌─────┬──────┬──────┬──────┬─────┐\n",
       "│ d   ┆ i    ┆ s    ┆ c    ┆ o   │\n",
       "│ --- ┆ ---  ┆ ---  ┆ ---  ┆ --- │\n",
       "│ i64 ┆ bool ┆ bool ┆ bool ┆ f64 │\n",
       "╞═════╪══════╪══════╪══════╪═════╡\n",
       "│ 1   ┆ true ┆ true ┆ true ┆ 1.0 │\n",
       "└─────┴──────┴──────┴──────┴─────┘"
      ]
     },
     "execution_count": 21,
     "metadata": {},
     "output_type": "execute_result"
    }
   ],
   "source": [
    "df"
   ]
  },
  {
   "cell_type": "code",
   "execution_count": null,
   "id": "aeb9dd57",
   "metadata": {},
   "outputs": [
    {
     "name": "stdout",
     "output_type": "stream",
     "text": [
      "shape: (1, 5)\n",
      "┌──────┬──────┬─────┬──────┬─────┐\n",
      "│ c    ┆ i    ┆ d   ┆ s    ┆ o   │\n",
      "│ ---  ┆ ---  ┆ --- ┆ ---  ┆ --- │\n",
      "│ bool ┆ bool ┆ i64 ┆ bool ┆ f64 │\n",
      "╞══════╪══════╪═════╪══════╪═════╡\n",
      "│ true ┆ true ┆ 1   ┆ true ┆ 1.0 │\n",
      "└──────┴──────┴─────┴──────┴─────┘\n"
     ]
    }
   ],
   "source": [
    "print(df.select(first := cs.by_name(\"c\", \"i\"), ~first))"
   ]
  },
  {
   "cell_type": "code",
   "execution_count": 24,
   "id": "07185722",
   "metadata": {},
   "outputs": [
    {
     "name": "stdout",
     "output_type": "stream",
     "text": [
      "first: cols([\"c\", \"i\"]), ~first:selector\n"
     ]
    }
   ],
   "source": [
    "print(f\"first: {first}, ~first:{~first}\")"
   ]
  },
  {
   "cell_type": "code",
   "execution_count": null,
   "id": "f1a9760a",
   "metadata": {},
   "outputs": [
    {
     "data": {
      "text/html": [
       "<div><style>\n",
       ".dataframe > thead > tr,\n",
       ".dataframe > tbody > tr {\n",
       "  text-align: right;\n",
       "  white-space: pre-wrap;\n",
       "}\n",
       "</style>\n",
       "<small>shape: (5, 3)</small><table border=\"1\" class=\"dataframe\"><thead><tr><th>name</th><th>bmi</th><th>species</th></tr><tr><td>str</td><td>f64</td><td>str</td></tr></thead><tbody><tr><td>&quot;Jabba Desilijic Tiure&quot;</td><td>443.428571</td><td>&quot;Hutt&quot;</td></tr><tr><td>&quot;Dud Bolt&quot;</td><td>50.928022</td><td>&quot;Vulptereen&quot;</td></tr><tr><td>&quot;Yoda&quot;</td><td>39.02663</td><td>&quot;Yoda&#x27;s species&quot;</td></tr><tr><td>&quot;Owen Lars&quot;</td><td>37.874006</td><td>&quot;Human&quot;</td></tr><tr><td>&quot;IG-88&quot;</td><td>35.0</td><td>&quot;Droid&quot;</td></tr></tbody></table></div>"
      ],
      "text/plain": [
       "shape: (5, 3)\n",
       "┌───────────────────────┬────────────┬────────────────┐\n",
       "│ name                  ┆ bmi        ┆ species        │\n",
       "│ ---                   ┆ ---        ┆ ---            │\n",
       "│ str                   ┆ f64        ┆ str            │\n",
       "╞═══════════════════════╪════════════╪════════════════╡\n",
       "│ Jabba Desilijic Tiure ┆ 443.428571 ┆ Hutt           │\n",
       "│ Dud Bolt              ┆ 50.928022  ┆ Vulptereen     │\n",
       "│ Yoda                  ┆ 39.02663   ┆ Yoda's species │\n",
       "│ Owen Lars             ┆ 37.874006  ┆ Human          │\n",
       "│ IG-88                 ┆ 35.0       ┆ Droid          │\n",
       "└───────────────────────┴────────────┴────────────────┘"
      ]
     },
     "execution_count": 26,
     "metadata": {},
     "output_type": "execute_result"
    }
   ],
   "source": [
    "(\n",
    "    starwars.select(\n",
    "        \"name\",\n",
    "        (pl.col(\"mass\") / ((pl.col(\"height\") / 100) ** 2)).alias(\"bmi\"),\n",
    "        \"species\",\n",
    "    )\n",
    "    .drop_nulls()\n",
    "    .top_k(5, by=\"bmi\")\n",
    "    .collect()\n",
    ")"
   ]
  },
  {
   "cell_type": "code",
   "execution_count": null,
   "id": "84d271a7",
   "metadata": {},
   "outputs": [],
   "source": []
  }
 ],
 "metadata": {
  "kernelspec": {
   "display_name": ".venv",
   "language": "python",
   "name": "python3"
  },
  "language_info": {
   "codemirror_mode": {
    "name": "ipython",
    "version": 3
   },
   "file_extension": ".py",
   "mimetype": "text/x-python",
   "name": "python",
   "nbconvert_exporter": "python",
   "pygments_lexer": "ipython3",
   "version": "3.12.9"
  }
 },
 "nbformat": 4,
 "nbformat_minor": 5
}
