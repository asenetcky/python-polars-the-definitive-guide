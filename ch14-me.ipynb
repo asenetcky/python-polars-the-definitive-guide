{
 "cells": [
  {
   "cell_type": "code",
   "execution_count": 1,
   "id": "0ab66336",
   "metadata": {},
   "outputs": [],
   "source": [
    "import polars as pl"
   ]
  },
  {
   "cell_type": "code",
   "execution_count": 4,
   "id": "3e431dca",
   "metadata": {},
   "outputs": [],
   "source": [
    "# joining\n",
    "# default is inner\n",
    "# then the usual suspects with left, right, full, cross, semi and anti\n",
    "\n",
    "# we'll be using these two dfs\n",
    "df_left = pl.DataFrame(\n",
    "    {\n",
    "        \"key\": [\"A\", \"B\", \"C\", \"D\"],\n",
    "        \"value\": [1, 2, 3, 4]\n",
    "    }\n",
    ")\n",
    "\n",
    "df_right = pl.DataFrame(\n",
    "    {\n",
    "        \"key\": [\"B\", \"C\", \"D\", \"E\"],\n",
    "        \"value\": [5, 6, 7, 8],\n",
    "    }\n",
    ")"
   ]
  },
  {
   "cell_type": "code",
   "execution_count": null,
   "id": "6921bc03",
   "metadata": {},
   "outputs": [
    {
     "data": {
      "text/html": [
       "<div><style>\n",
       ".dataframe > thead > tr,\n",
       ".dataframe > tbody > tr {\n",
       "  text-align: right;\n",
       "  white-space: pre-wrap;\n",
       "}\n",
       "</style>\n",
       "<small>shape: (3, 3)</small><table border=\"1\" class=\"dataframe\"><thead><tr><th>key</th><th>value</th><th>value_right</th></tr><tr><td>str</td><td>i64</td><td>i64</td></tr></thead><tbody><tr><td>&quot;B&quot;</td><td>2</td><td>5</td></tr><tr><td>&quot;C&quot;</td><td>3</td><td>6</td></tr><tr><td>&quot;D&quot;</td><td>4</td><td>7</td></tr></tbody></table></div>"
      ],
      "text/plain": [
       "shape: (3, 3)\n",
       "┌─────┬───────┬─────────────┐\n",
       "│ key ┆ value ┆ value_right │\n",
       "│ --- ┆ ---   ┆ ---         │\n",
       "│ str ┆ i64   ┆ i64         │\n",
       "╞═════╪═══════╪═════════════╡\n",
       "│ B   ┆ 2     ┆ 5           │\n",
       "│ C   ┆ 3     ┆ 6           │\n",
       "│ D   ┆ 4     ┆ 7           │\n",
       "└─────┴───────┴─────────────┘"
      ]
     },
     "execution_count": 5,
     "metadata": {},
     "output_type": "execute_result"
    }
   ],
   "source": [
    "# inner\n",
    "\n",
    "df_left.join(\n",
    "    df_right,\n",
    "    on=\"key\",\n",
    "    how=\"inner\"\n",
    ")"
   ]
  },
  {
   "cell_type": "code",
   "execution_count": 6,
   "id": "c46fef1e",
   "metadata": {},
   "outputs": [
    {
     "data": {
      "text/html": [
       "<div><style>\n",
       ".dataframe > thead > tr,\n",
       ".dataframe > tbody > tr {\n",
       "  text-align: right;\n",
       "  white-space: pre-wrap;\n",
       "}\n",
       "</style>\n",
       "<small>shape: (3, 3)</small><table border=\"1\" class=\"dataframe\"><thead><tr><th>key</th><th>value</th><th>value_right</th></tr><tr><td>str</td><td>i64</td><td>i64</td></tr></thead><tbody><tr><td>&quot;B&quot;</td><td>2</td><td>5</td></tr><tr><td>&quot;C&quot;</td><td>3</td><td>6</td></tr><tr><td>&quot;D&quot;</td><td>4</td><td>7</td></tr></tbody></table></div>"
      ],
      "text/plain": [
       "shape: (3, 3)\n",
       "┌─────┬───────┬─────────────┐\n",
       "│ key ┆ value ┆ value_right │\n",
       "│ --- ┆ ---   ┆ ---         │\n",
       "│ str ┆ i64   ┆ i64         │\n",
       "╞═════╪═══════╪═════════════╡\n",
       "│ B   ┆ 2     ┆ 5           │\n",
       "│ C   ┆ 3     ┆ 6           │\n",
       "│ D   ┆ 4     ┆ 7           │\n",
       "└─────┴───────┴─────────────┘"
      ]
     },
     "execution_count": 6,
     "metadata": {},
     "output_type": "execute_result"
    }
   ],
   "source": [
    "# what about with no how\n",
    "df_left.join(\n",
    "    df_right,\n",
    "    on=\"key\"\n",
    ")"
   ]
  },
  {
   "cell_type": "code",
   "execution_count": null,
   "id": "5a208e59",
   "metadata": {},
   "outputs": [],
   "source": []
  }
 ],
 "metadata": {
  "kernelspec": {
   "display_name": ".venv",
   "language": "python",
   "name": "python3"
  },
  "language_info": {
   "codemirror_mode": {
    "name": "ipython",
    "version": 3
   },
   "file_extension": ".py",
   "mimetype": "text/x-python",
   "name": "python",
   "nbconvert_exporter": "python",
   "pygments_lexer": "ipython3",
   "version": "3.12.9"
  }
 },
 "nbformat": 4,
 "nbformat_minor": 5
}
