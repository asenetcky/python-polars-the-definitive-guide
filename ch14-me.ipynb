{
 "cells": [
  {
   "cell_type": "code",
   "execution_count": 1,
   "id": "0ab66336",
   "metadata": {},
   "outputs": [],
   "source": [
    "import polars as pl"
   ]
  },
  {
   "cell_type": "code",
   "execution_count": 2,
   "id": "3e431dca",
   "metadata": {},
   "outputs": [],
   "source": [
    "# joining\n",
    "# default is inner\n",
    "# then the usual suspects with left, right, full, cross, semi and anti\n",
    "\n",
    "# we'll be using these two dfs\n",
    "df_left = pl.DataFrame({\"key\": [\"A\", \"B\", \"C\", \"D\"], \"value\": [1, 2, 3, 4]})\n",
    "\n",
    "df_right = pl.DataFrame(\n",
    "    {\n",
    "        \"key\": [\"B\", \"C\", \"D\", \"E\"],\n",
    "        \"value\": [5, 6, 7, 8],\n",
    "    }\n",
    ")"
   ]
  },
  {
   "cell_type": "code",
   "execution_count": 3,
   "id": "6921bc03",
   "metadata": {},
   "outputs": [
    {
     "data": {
      "text/html": [
       "<div><style>\n",
       ".dataframe > thead > tr,\n",
       ".dataframe > tbody > tr {\n",
       "  text-align: right;\n",
       "  white-space: pre-wrap;\n",
       "}\n",
       "</style>\n",
       "<small>shape: (3, 3)</small><table border=\"1\" class=\"dataframe\"><thead><tr><th>key</th><th>value</th><th>value_right</th></tr><tr><td>str</td><td>i64</td><td>i64</td></tr></thead><tbody><tr><td>&quot;B&quot;</td><td>2</td><td>5</td></tr><tr><td>&quot;C&quot;</td><td>3</td><td>6</td></tr><tr><td>&quot;D&quot;</td><td>4</td><td>7</td></tr></tbody></table></div>"
      ],
      "text/plain": [
       "shape: (3, 3)\n",
       "┌─────┬───────┬─────────────┐\n",
       "│ key ┆ value ┆ value_right │\n",
       "│ --- ┆ ---   ┆ ---         │\n",
       "│ str ┆ i64   ┆ i64         │\n",
       "╞═════╪═══════╪═════════════╡\n",
       "│ B   ┆ 2     ┆ 5           │\n",
       "│ C   ┆ 3     ┆ 6           │\n",
       "│ D   ┆ 4     ┆ 7           │\n",
       "└─────┴───────┴─────────────┘"
      ]
     },
     "execution_count": 3,
     "metadata": {},
     "output_type": "execute_result"
    }
   ],
   "source": [
    "# inner\n",
    "\n",
    "df_left.join(df_right, on=\"key\", how=\"inner\")"
   ]
  },
  {
   "cell_type": "code",
   "execution_count": 4,
   "id": "c46fef1e",
   "metadata": {},
   "outputs": [
    {
     "data": {
      "text/html": [
       "<div><style>\n",
       ".dataframe > thead > tr,\n",
       ".dataframe > tbody > tr {\n",
       "  text-align: right;\n",
       "  white-space: pre-wrap;\n",
       "}\n",
       "</style>\n",
       "<small>shape: (3, 3)</small><table border=\"1\" class=\"dataframe\"><thead><tr><th>key</th><th>value</th><th>value_right</th></tr><tr><td>str</td><td>i64</td><td>i64</td></tr></thead><tbody><tr><td>&quot;B&quot;</td><td>2</td><td>5</td></tr><tr><td>&quot;C&quot;</td><td>3</td><td>6</td></tr><tr><td>&quot;D&quot;</td><td>4</td><td>7</td></tr></tbody></table></div>"
      ],
      "text/plain": [
       "shape: (3, 3)\n",
       "┌─────┬───────┬─────────────┐\n",
       "│ key ┆ value ┆ value_right │\n",
       "│ --- ┆ ---   ┆ ---         │\n",
       "│ str ┆ i64   ┆ i64         │\n",
       "╞═════╪═══════╪═════════════╡\n",
       "│ B   ┆ 2     ┆ 5           │\n",
       "│ C   ┆ 3     ┆ 6           │\n",
       "│ D   ┆ 4     ┆ 7           │\n",
       "└─────┴───────┴─────────────┘"
      ]
     },
     "execution_count": 4,
     "metadata": {},
     "output_type": "execute_result"
    }
   ],
   "source": [
    "# what about with no how\n",
    "df_left.join(df_right, on=\"key\")"
   ]
  },
  {
   "cell_type": "code",
   "execution_count": 5,
   "id": "5a208e59",
   "metadata": {},
   "outputs": [
    {
     "data": {
      "text/html": [
       "<div><style>\n",
       ".dataframe > thead > tr,\n",
       ".dataframe > tbody > tr {\n",
       "  text-align: right;\n",
       "  white-space: pre-wrap;\n",
       "}\n",
       "</style>\n",
       "<small>shape: (1, 3)</small><table border=\"1\" class=\"dataframe\"><thead><tr><th>Campaign Name</th><th>Campaign Date</th><th>Product Type</th></tr><tr><td>str</td><td>str</td><td>str</td></tr></thead><tbody><tr><td>&quot;Launch&quot;</td><td>&quot;2023-01-01 20:00:00&quot;</td><td>&quot;Electronics&quot;</td></tr></tbody></table></div>"
      ],
      "text/plain": [
       "shape: (1, 3)\n",
       "┌───────────────┬─────────────────────┬──────────────┐\n",
       "│ Campaign Name ┆ Campaign Date       ┆ Product Type │\n",
       "│ ---           ┆ ---                 ┆ ---          │\n",
       "│ str           ┆ str                 ┆ str          │\n",
       "╞═══════════════╪═════════════════════╪══════════════╡\n",
       "│ Launch        ┆ 2023-01-01 20:00:00 ┆ Electronics  │\n",
       "└───────────────┴─────────────────────┴──────────────┘"
      ]
     },
     "execution_count": 5,
     "metadata": {},
     "output_type": "execute_result"
    }
   ],
   "source": [
    "campaigns = pl.scan_csv(\"data/campaigns.csv\")\n",
    "campaigns.head(1).collect()"
   ]
  },
  {
   "cell_type": "code",
   "execution_count": 6,
   "id": "0cf3b1e3",
   "metadata": {},
   "outputs": [
    {
     "data": {
      "text/plain": [
       "Schema([('Campaign Name', String),\n",
       "        ('Campaign Date', String),\n",
       "        ('Product Type', String)])"
      ]
     },
     "execution_count": 6,
     "metadata": {},
     "output_type": "execute_result"
    }
   ],
   "source": [
    "campaigns.collect_schema()"
   ]
  },
  {
   "cell_type": "code",
   "execution_count": 7,
   "id": "67e3076e",
   "metadata": {},
   "outputs": [
    {
     "data": {
      "text/html": [
       "<div><style>\n",
       ".dataframe > thead > tr,\n",
       ".dataframe > tbody > tr {\n",
       "  text-align: right;\n",
       "  white-space: pre-wrap;\n",
       "}\n",
       "</style>\n",
       "<small>shape: (5, 2)</small><table border=\"1\" class=\"dataframe\"><thead><tr><th>Campaign Name</th><th>len</th></tr><tr><td>str</td><td>u32</td></tr></thead><tbody><tr><td>&quot;Seasonal Sale&quot;</td><td>1</td></tr><tr><td>&quot;Launch&quot;</td><td>1</td></tr><tr><td>&quot;Clearance&quot;</td><td>1</td></tr><tr><td>&quot;New Arrivals&quot;</td><td>1</td></tr><tr><td>&quot;Discount&quot;</td><td>1</td></tr></tbody></table></div>"
      ],
      "text/plain": [
       "shape: (5, 2)\n",
       "┌───────────────┬─────┐\n",
       "│ Campaign Name ┆ len │\n",
       "│ ---           ┆ --- │\n",
       "│ str           ┆ u32 │\n",
       "╞═══════════════╪═════╡\n",
       "│ Seasonal Sale ┆ 1   │\n",
       "│ Launch        ┆ 1   │\n",
       "│ Clearance     ┆ 1   │\n",
       "│ New Arrivals  ┆ 1   │\n",
       "│ Discount      ┆ 1   │\n",
       "└───────────────┴─────┘"
      ]
     },
     "execution_count": 7,
     "metadata": {},
     "output_type": "execute_result"
    }
   ],
   "source": [
    "campaigns.group_by(\"Campaign Name\").len().collect()"
   ]
  },
  {
   "cell_type": "code",
   "execution_count": 8,
   "id": "7533085c",
   "metadata": {},
   "outputs": [
    {
     "data": {
      "text/html": [
       "<div><style>\n",
       ".dataframe > thead > tr,\n",
       ".dataframe > tbody > tr {\n",
       "  text-align: right;\n",
       "  white-space: pre-wrap;\n",
       "}\n",
       "</style>\n",
       "<small>shape: (4, 1)</small><table border=\"1\" class=\"dataframe\"><thead><tr><th>Product Type</th></tr><tr><td>str</td></tr></thead><tbody><tr><td>&quot;Furniture&quot;</td></tr><tr><td>&quot;Books&quot;</td></tr><tr><td>&quot;Electronics&quot;</td></tr><tr><td>&quot;Clothing&quot;</td></tr></tbody></table></div>"
      ],
      "text/plain": [
       "shape: (4, 1)\n",
       "┌──────────────┐\n",
       "│ Product Type │\n",
       "│ ---          │\n",
       "│ str          │\n",
       "╞══════════════╡\n",
       "│ Furniture    │\n",
       "│ Books        │\n",
       "│ Electronics  │\n",
       "│ Clothing     │\n",
       "└──────────────┘"
      ]
     },
     "execution_count": 8,
     "metadata": {},
     "output_type": "execute_result"
    }
   ],
   "source": [
    "campaigns.select(pl.col(\"Product Type\").unique()).collect()"
   ]
  },
  {
   "cell_type": "code",
   "execution_count": 9,
   "id": "27ec2eb9",
   "metadata": {},
   "outputs": [
    {
     "data": {
      "text/html": [
       "<div><style>\n",
       ".dataframe > thead > tr,\n",
       ".dataframe > tbody > tr {\n",
       "  text-align: right;\n",
       "  white-space: pre-wrap;\n",
       "}\n",
       "</style>\n",
       "<small>shape: (1, 3)</small><table border=\"1\" class=\"dataframe\"><thead><tr><th>Sale Date</th><th>Product Type</th><th>Quantity</th></tr><tr><td>str</td><td>str</td><td>i64</td></tr></thead><tbody><tr><td>&quot;2023-01-01 02:00:00.000000000&quot;</td><td>&quot;Books&quot;</td><td>7</td></tr></tbody></table></div>"
      ],
      "text/plain": [
       "shape: (1, 3)\n",
       "┌───────────────────────────────┬──────────────┬──────────┐\n",
       "│ Sale Date                     ┆ Product Type ┆ Quantity │\n",
       "│ ---                           ┆ ---          ┆ ---      │\n",
       "│ str                           ┆ str          ┆ i64      │\n",
       "╞═══════════════════════════════╪══════════════╪══════════╡\n",
       "│ 2023-01-01 02:00:00.000000000 ┆ Books        ┆ 7        │\n",
       "└───────────────────────────────┴──────────────┴──────────┘"
      ]
     },
     "execution_count": 9,
     "metadata": {},
     "output_type": "execute_result"
    }
   ],
   "source": [
    "transactions = pl.scan_csv(\"data/transactions.csv\")\n",
    "transactions.collect_schema()\n",
    "transactions.head(1).collect()"
   ]
  },
  {
   "cell_type": "code",
   "execution_count": 10,
   "id": "38c5991a",
   "metadata": {},
   "outputs": [],
   "source": [
    "transactions = transactions.with_columns(\n",
    "    pl.col(\"Sale Date\").str.to_datetime(\n",
    "        \"%Y-%m-%d %H:%M:%S%.f\").cast(pl.Datetime(\"us\"))\n",
    ")"
   ]
  },
  {
   "cell_type": "code",
   "execution_count": 11,
   "id": "313b96f6",
   "metadata": {},
   "outputs": [
    {
     "data": {
      "text/html": [
       "<div><style>\n",
       ".dataframe > thead > tr,\n",
       ".dataframe > tbody > tr {\n",
       "  text-align: right;\n",
       "  white-space: pre-wrap;\n",
       "}\n",
       "</style>\n",
       "<small>shape: (1, 3)</small><table border=\"1\" class=\"dataframe\"><thead><tr><th>Campaign Name</th><th>Campaign Date</th><th>Product Type</th></tr><tr><td>str</td><td>str</td><td>str</td></tr></thead><tbody><tr><td>&quot;Launch&quot;</td><td>&quot;2023-01-01 20:00:00&quot;</td><td>&quot;Electronics&quot;</td></tr></tbody></table></div>"
      ],
      "text/plain": [
       "shape: (1, 3)\n",
       "┌───────────────┬─────────────────────┬──────────────┐\n",
       "│ Campaign Name ┆ Campaign Date       ┆ Product Type │\n",
       "│ ---           ┆ ---                 ┆ ---          │\n",
       "│ str           ┆ str                 ┆ str          │\n",
       "╞═══════════════╪═════════════════════╪══════════════╡\n",
       "│ Launch        ┆ 2023-01-01 20:00:00 ┆ Electronics  │\n",
       "└───────────────┴─────────────────────┴──────────────┘"
      ]
     },
     "execution_count": 11,
     "metadata": {},
     "output_type": "execute_result"
    }
   ],
   "source": [
    "campaigns.head(1).collect()"
   ]
  },
  {
   "cell_type": "code",
   "execution_count": 12,
   "id": "c6aa38b9",
   "metadata": {},
   "outputs": [],
   "source": [
    "campaigns = campaigns.with_columns(\n",
    "    pl.col(\"Campaign Date\").str.to_datetime(\"%Y-%m-%d %H:%M:%S\")\n",
    ")"
   ]
  },
  {
   "cell_type": "code",
   "execution_count": 13,
   "id": "700954c4",
   "metadata": {},
   "outputs": [
    {
     "data": {
      "text/html": [
       "<div><style>\n",
       ".dataframe > thead > tr,\n",
       ".dataframe > tbody > tr {\n",
       "  text-align: right;\n",
       "  white-space: pre-wrap;\n",
       "}\n",
       "</style>\n",
       "<small>shape: (20_000, 5)</small><table border=\"1\" class=\"dataframe\"><thead><tr><th>Sale Date</th><th>Product Type</th><th>Quantity</th><th>Campaign Name</th><th>Campaign Date</th></tr><tr><td>datetime[μs]</td><td>str</td><td>i64</td><td>str</td><td>datetime[μs]</td></tr></thead><tbody><tr><td>2023-01-01 01:26:12.558627</td><td>&quot;Electronics&quot;</td><td>2</td><td>null</td><td>null</td></tr><tr><td>2023-01-01 02:00:00</td><td>&quot;Books&quot;</td><td>7</td><td>null</td><td>null</td></tr><tr><td>2023-01-01 06:14:30.703535</td><td>&quot;Toys&quot;</td><td>9</td><td>null</td><td>null</td></tr><tr><td>2023-01-01 06:52:25.117255</td><td>&quot;Clothing&quot;</td><td>9</td><td>null</td><td>null</td></tr><tr><td>2023-01-01 07:44:50.234511</td><td>&quot;Books&quot;</td><td>7</td><td>null</td><td>null</td></tr><tr><td>&hellip;</td><td>&hellip;</td><td>&hellip;</td><td>&hellip;</td><td>&hellip;</td></tr><tr><td>2023-12-31 15:45:29.296464</td><td>&quot;Clothing&quot;</td><td>10</td><td>null</td><td>null</td></tr><tr><td>2023-12-31 18:15:09.765488</td><td>&quot;Toys&quot;</td><td>4</td><td>null</td><td>null</td></tr><tr><td>2023-12-31 18:33:47.441372</td><td>&quot;Electronics&quot;</td><td>7</td><td>null</td><td>null</td></tr><tr><td>2023-12-31 18:37:54.413720</td><td>&quot;Books&quot;</td><td>6</td><td>null</td><td>null</td></tr><tr><td>2023-12-31 19:41:22.324116</td><td>&quot;Furniture&quot;</td><td>4</td><td>null</td><td>null</td></tr></tbody></table></div>"
      ],
      "text/plain": [
       "shape: (20_000, 5)\n",
       "┌────────────────────────────┬──────────────┬──────────┬───────────────┬───────────────┐\n",
       "│ Sale Date                  ┆ Product Type ┆ Quantity ┆ Campaign Name ┆ Campaign Date │\n",
       "│ ---                        ┆ ---          ┆ ---      ┆ ---           ┆ ---           │\n",
       "│ datetime[μs]               ┆ str          ┆ i64      ┆ str           ┆ datetime[μs]  │\n",
       "╞════════════════════════════╪══════════════╪══════════╪═══════════════╪═══════════════╡\n",
       "│ 2023-01-01 01:26:12.558627 ┆ Electronics  ┆ 2        ┆ null          ┆ null          │\n",
       "│ 2023-01-01 02:00:00        ┆ Books        ┆ 7        ┆ null          ┆ null          │\n",
       "│ 2023-01-01 06:14:30.703535 ┆ Toys         ┆ 9        ┆ null          ┆ null          │\n",
       "│ 2023-01-01 06:52:25.117255 ┆ Clothing     ┆ 9        ┆ null          ┆ null          │\n",
       "│ 2023-01-01 07:44:50.234511 ┆ Books        ┆ 7        ┆ null          ┆ null          │\n",
       "│ …                          ┆ …            ┆ …        ┆ …             ┆ …             │\n",
       "│ 2023-12-31 15:45:29.296464 ┆ Clothing     ┆ 10       ┆ null          ┆ null          │\n",
       "│ 2023-12-31 18:15:09.765488 ┆ Toys         ┆ 4        ┆ null          ┆ null          │\n",
       "│ 2023-12-31 18:33:47.441372 ┆ Electronics  ┆ 7        ┆ null          ┆ null          │\n",
       "│ 2023-12-31 18:37:54.413720 ┆ Books        ┆ 6        ┆ null          ┆ null          │\n",
       "│ 2023-12-31 19:41:22.324116 ┆ Furniture    ┆ 4        ┆ null          ┆ null          │\n",
       "└────────────────────────────┴──────────────┴──────────┴───────────────┴───────────────┘"
      ]
     },
     "execution_count": 13,
     "metadata": {},
     "output_type": "execute_result"
    }
   ],
   "source": [
    "sales_with_campaign_df = (\n",
    "    transactions.sort(\"Sale Date\")\n",
    "    .join_asof(\n",
    "        campaigns.sort(\"Campaign Date\"),\n",
    "        left_on=\"Sale Date\",\n",
    "        right_on=\"Campaign Date\",\n",
    "        by=\"Product Type\",\n",
    "        strategy=\"backward\",\n",
    "        tolerance=\"60d\",\n",
    "    )\n",
    "    .collect()\n",
    ")\n",
    "sales_with_campaign_df"
   ]
  },
  {
   "cell_type": "code",
   "execution_count": 14,
   "id": "a8bc3d93",
   "metadata": {},
   "outputs": [
    {
     "data": {
      "text/html": [
       "<div><style>\n",
       ".dataframe > thead > tr,\n",
       ".dataframe > tbody > tr {\n",
       "  text-align: right;\n",
       "  white-space: pre-wrap;\n",
       "}\n",
       "</style>\n",
       "<small>shape: (9, 3)</small><table border=\"1\" class=\"dataframe\"><thead><tr><th>Product Type</th><th>Campaign Name</th><th>Quantity</th></tr><tr><td>str</td><td>str</td><td>f64</td></tr></thead><tbody><tr><td>&quot;Books&quot;</td><td>null</td><td>5.527716</td></tr><tr><td>&quot;Clothing&quot;</td><td>null</td><td>5.433385</td></tr><tr><td>&quot;Clothing&quot;</td><td>&quot;New Arrivals&quot;</td><td>8.200581</td></tr><tr><td>&quot;Electronics&quot;</td><td>null</td><td>5.486832</td></tr><tr><td>&quot;Electronics&quot;</td><td>&quot;Launch&quot;</td><td>8.080775</td></tr><tr><td>&quot;Electronics&quot;</td><td>&quot;Seasonal Sale&quot;</td><td>8.471406</td></tr><tr><td>&quot;Furniture&quot;</td><td>null</td><td>5.430222</td></tr><tr><td>&quot;Furniture&quot;</td><td>&quot;Discount&quot;</td><td>8.191888</td></tr><tr><td>&quot;Toys&quot;</td><td>null</td><td>5.50318</td></tr></tbody></table></div>"
      ],
      "text/plain": [
       "shape: (9, 3)\n",
       "┌──────────────┬───────────────┬──────────┐\n",
       "│ Product Type ┆ Campaign Name ┆ Quantity │\n",
       "│ ---          ┆ ---           ┆ ---      │\n",
       "│ str          ┆ str           ┆ f64      │\n",
       "╞══════════════╪═══════════════╪══════════╡\n",
       "│ Books        ┆ null          ┆ 5.527716 │\n",
       "│ Clothing     ┆ null          ┆ 5.433385 │\n",
       "│ Clothing     ┆ New Arrivals  ┆ 8.200581 │\n",
       "│ Electronics  ┆ null          ┆ 5.486832 │\n",
       "│ Electronics  ┆ Launch        ┆ 8.080775 │\n",
       "│ Electronics  ┆ Seasonal Sale ┆ 8.471406 │\n",
       "│ Furniture    ┆ null          ┆ 5.430222 │\n",
       "│ Furniture    ┆ Discount      ┆ 8.191888 │\n",
       "│ Toys         ┆ null          ┆ 5.50318  │\n",
       "└──────────────┴───────────────┴──────────┘"
      ]
     },
     "execution_count": 14,
     "metadata": {},
     "output_type": "execute_result"
    }
   ],
   "source": [
    "(\n",
    "    sales_with_campaign_df.group_by(\"Product Type\", \"Campaign Name\")\n",
    "    .agg(pl.col(\"Quantity\").mean())\n",
    "    .sort(\"Product Type\", \"Campaign Name\")\n",
    ")"
   ]
  },
  {
   "cell_type": "code",
   "execution_count": 15,
   "id": "38a71d96",
   "metadata": {},
   "outputs": [
    {
     "data": {
      "text/html": [
       "<div><style>\n",
       ".dataframe > thead > tr,\n",
       ".dataframe > tbody > tr {\n",
       "  text-align: right;\n",
       "  white-space: pre-wrap;\n",
       "}\n",
       "</style>\n",
       "<small>shape: (1, 3)</small><table border=\"1\" class=\"dataframe\"><thead><tr><th>Campaign Name</th><th>Campaign Date</th><th>Product Type</th></tr><tr><td>str</td><td>datetime[μs]</td><td>str</td></tr></thead><tbody><tr><td>&quot;Clearance&quot;</td><td>2023-12-31 21:00:00</td><td>&quot;Books&quot;</td></tr></tbody></table></div>"
      ],
      "text/plain": [
       "shape: (1, 3)\n",
       "┌───────────────┬─────────────────────┬──────────────┐\n",
       "│ Campaign Name ┆ Campaign Date       ┆ Product Type │\n",
       "│ ---           ┆ ---                 ┆ ---          │\n",
       "│ str           ┆ datetime[μs]        ┆ str          │\n",
       "╞═══════════════╪═════════════════════╪══════════════╡\n",
       "│ Clearance     ┆ 2023-12-31 21:00:00 ┆ Books        │\n",
       "└───────────────┴─────────────────────┴──────────────┘"
      ]
     },
     "execution_count": 15,
     "metadata": {},
     "output_type": "execute_result"
    }
   ],
   "source": [
    "campaigns.filter(pl.col(\"Product Type\") == \"Books\").collect()"
   ]
  },
  {
   "cell_type": "code",
   "execution_count": 16,
   "id": "87d8f219",
   "metadata": {},
   "outputs": [
    {
     "data": {
      "text/html": [
       "<div><style>\n",
       ".dataframe > thead > tr,\n",
       ".dataframe > tbody > tr {\n",
       "  text-align: right;\n",
       "  white-space: pre-wrap;\n",
       "}\n",
       "</style>\n",
       "<small>shape: (0, 3)</small><table border=\"1\" class=\"dataframe\"><thead><tr><th>Sale Date</th><th>Product Type</th><th>Quantity</th></tr><tr><td>datetime[μs]</td><td>str</td><td>i64</td></tr></thead><tbody></tbody></table></div>"
      ],
      "text/plain": [
       "shape: (0, 3)\n",
       "┌──────────────┬──────────────┬──────────┐\n",
       "│ Sale Date    ┆ Product Type ┆ Quantity │\n",
       "│ ---          ┆ ---          ┆ ---      │\n",
       "│ datetime[μs] ┆ str          ┆ i64      │\n",
       "╞══════════════╪══════════════╪══════════╡\n",
       "└──────────────┴──────────────┴──────────┘"
      ]
     },
     "execution_count": 16,
     "metadata": {},
     "output_type": "execute_result"
    }
   ],
   "source": [
    "(\n",
    "    transactions.filter(\n",
    "        (pl.col(\"Product Type\") == \"Books\")\n",
    "        & (pl.col(\"Sale Date\") > pl.lit(\"2023-12-31 21:00:00\").str.to_datetime())\n",
    "    ).collect()\n",
    ")"
   ]
  },
  {
   "cell_type": "markdown",
   "id": "96f6530c",
   "metadata": {},
   "source": [
    "vertical and horizontal concatenation"
   ]
  },
  {
   "cell_type": "code",
   "execution_count": 17,
   "id": "8a59692e",
   "metadata": {},
   "outputs": [],
   "source": [
    "df1 = pl.DataFrame(\n",
    "    {\n",
    "        \"id\": [1, 2, 3],\n",
    "        \"value\": [\"a\", \"b\", \"c\"],\n",
    "    }\n",
    ")\n",
    "df2 = pl.DataFrame(\n",
    "    {\n",
    "        \"id\": [4, 5],\n",
    "        \"value\": [\"d\", \"e\"],\n",
    "    }\n",
    ")"
   ]
  },
  {
   "cell_type": "code",
   "execution_count": 18,
   "id": "29909d00",
   "metadata": {},
   "outputs": [
    {
     "data": {
      "text/html": [
       "<div><style>\n",
       ".dataframe > thead > tr,\n",
       ".dataframe > tbody > tr {\n",
       "  text-align: right;\n",
       "  white-space: pre-wrap;\n",
       "}\n",
       "</style>\n",
       "<small>shape: (5, 2)</small><table border=\"1\" class=\"dataframe\"><thead><tr><th>id</th><th>value</th></tr><tr><td>i64</td><td>str</td></tr></thead><tbody><tr><td>1</td><td>&quot;a&quot;</td></tr><tr><td>2</td><td>&quot;b&quot;</td></tr><tr><td>3</td><td>&quot;c&quot;</td></tr><tr><td>4</td><td>&quot;d&quot;</td></tr><tr><td>5</td><td>&quot;e&quot;</td></tr></tbody></table></div>"
      ],
      "text/plain": [
       "shape: (5, 2)\n",
       "┌─────┬───────┐\n",
       "│ id  ┆ value │\n",
       "│ --- ┆ ---   │\n",
       "│ i64 ┆ str   │\n",
       "╞═════╪═══════╡\n",
       "│ 1   ┆ a     │\n",
       "│ 2   ┆ b     │\n",
       "│ 3   ┆ c     │\n",
       "│ 4   ┆ d     │\n",
       "│ 5   ┆ e     │\n",
       "└─────┴───────┘"
      ]
     },
     "execution_count": 18,
     "metadata": {},
     "output_type": "execute_result"
    }
   ],
   "source": [
    "pl.concat([df1, df2], how=\"vertical\")"
   ]
  },
  {
   "cell_type": "code",
   "execution_count": null,
   "id": "11db1f9b",
   "metadata": {},
   "outputs": [
    {
     "data": {
      "text/html": [
       "<div><style>\n",
       ".dataframe > thead > tr,\n",
       ".dataframe > tbody > tr {\n",
       "  text-align: right;\n",
       "  white-space: pre-wrap;\n",
       "}\n",
       "</style>\n",
       "<small>shape: (5, 2)</small><table border=\"1\" class=\"dataframe\"><thead><tr><th>id</th><th>value</th></tr><tr><td>i64</td><td>str</td></tr></thead><tbody><tr><td>1</td><td>&quot;a&quot;</td></tr><tr><td>2</td><td>&quot;b&quot;</td></tr><tr><td>3</td><td>&quot;c&quot;</td></tr><tr><td>4</td><td>&quot;d&quot;</td></tr><tr><td>5</td><td>&quot;e&quot;</td></tr></tbody></table></div>"
      ],
      "text/plain": [
       "shape: (5, 2)\n",
       "┌─────┬───────┐\n",
       "│ id  ┆ value │\n",
       "│ --- ┆ ---   │\n",
       "│ i64 ┆ str   │\n",
       "╞═════╪═══════╡\n",
       "│ 1   ┆ a     │\n",
       "│ 2   ┆ b     │\n",
       "│ 3   ┆ c     │\n",
       "│ 4   ┆ d     │\n",
       "│ 5   ┆ e     │\n",
       "└─────┴───────┘"
      ]
     },
     "execution_count": 20,
     "metadata": {},
     "output_type": "execute_result"
    }
   ],
   "source": [
    "pl.concat([df1, df2])"
   ]
  },
  {
   "cell_type": "code",
   "execution_count": null,
   "id": "4eeac89f",
   "metadata": {},
   "outputs": [],
   "source": [
    "df2 = pl.DataFrame(\n",
    "    {\n",
    "        \"value2\": [\"x\", \"y\"],\n",
    "    }\n",
    ")"
   ]
  },
  {
   "cell_type": "code",
   "execution_count": null,
   "id": "e78c6a12",
   "metadata": {},
   "outputs": [
    {
     "data": {
      "text/html": [
       "<div><style>\n",
       ".dataframe > thead > tr,\n",
       ".dataframe > tbody > tr {\n",
       "  text-align: right;\n",
       "  white-space: pre-wrap;\n",
       "}\n",
       "</style>\n",
       "<small>shape: (3, 3)</small><table border=\"1\" class=\"dataframe\"><thead><tr><th>id</th><th>value</th><th>value2</th></tr><tr><td>i64</td><td>str</td><td>str</td></tr></thead><tbody><tr><td>1</td><td>&quot;a&quot;</td><td>&quot;x&quot;</td></tr><tr><td>2</td><td>&quot;b&quot;</td><td>&quot;y&quot;</td></tr><tr><td>3</td><td>&quot;c&quot;</td><td>null</td></tr></tbody></table></div>"
      ],
      "text/plain": [
       "shape: (3, 3)\n",
       "┌─────┬───────┬────────┐\n",
       "│ id  ┆ value ┆ value2 │\n",
       "│ --- ┆ ---   ┆ ---    │\n",
       "│ i64 ┆ str   ┆ str    │\n",
       "╞═════╪═══════╪════════╡\n",
       "│ 1   ┆ a     ┆ x      │\n",
       "│ 2   ┆ b     ┆ y      │\n",
       "│ 3   ┆ c     ┆ null   │\n",
       "└─────┴───────┴────────┘"
      ]
     },
     "execution_count": 23,
     "metadata": {},
     "output_type": "execute_result"
    }
   ],
   "source": [
    "pl.concat([df1, df2], how=\"horizontal\")"
   ]
  },
  {
   "cell_type": "code",
   "execution_count": null,
   "id": "cd466d01",
   "metadata": {},
   "outputs": [],
   "source": []
  }
 ],
 "metadata": {
  "kernelspec": {
   "display_name": ".venv",
   "language": "python",
   "name": "python3"
  },
  "language_info": {
   "codemirror_mode": {
    "name": "ipython",
    "version": 3
   },
   "file_extension": ".py",
   "mimetype": "text/x-python",
   "name": "python",
   "nbconvert_exporter": "python",
   "pygments_lexer": "ipython3",
   "version": "3.12.9"
  }
 },
 "nbformat": 4,
 "nbformat_minor": 5
}
