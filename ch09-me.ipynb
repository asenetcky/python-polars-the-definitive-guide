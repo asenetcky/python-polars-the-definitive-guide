{
 "cells": [
  {
   "cell_type": "code",
   "execution_count": 1,
   "id": "1f0009eb",
   "metadata": {},
   "outputs": [
    {
     "data": {
      "text/html": [
       "<div><style>\n",
       ".dataframe > thead > tr,\n",
       ".dataframe > tbody > tr {\n",
       "  text-align: right;\n",
       "  white-space: pre-wrap;\n",
       "}\n",
       "</style>\n",
       "<small>shape: (2, 5)</small><table border=\"1\" class=\"dataframe\"><thead><tr><th>name</th><th>weight</th><th>color</th><th>is_round</th><th>origin</th></tr><tr><td>str</td><td>i64</td><td>str</td><td>bool</td><td>str</td></tr></thead><tbody><tr><td>&quot;Cantaloupe&quot;</td><td>2500</td><td>&quot;orange&quot;</td><td>true</td><td>&quot;Africa&quot;</td></tr><tr><td>&quot;Watermelon&quot;</td><td>5000</td><td>&quot;green&quot;</td><td>true</td><td>&quot;Africa&quot;</td></tr></tbody></table></div>"
      ],
      "text/plain": [
       "shape: (2, 5)\n",
       "┌────────────┬────────┬────────┬──────────┬────────┐\n",
       "│ name       ┆ weight ┆ color  ┆ is_round ┆ origin │\n",
       "│ ---        ┆ ---    ┆ ---    ┆ ---      ┆ ---    │\n",
       "│ str        ┆ i64    ┆ str    ┆ bool     ┆ str    │\n",
       "╞════════════╪════════╪════════╪══════════╪════════╡\n",
       "│ Cantaloupe ┆ 2500   ┆ orange ┆ true     ┆ Africa │\n",
       "│ Watermelon ┆ 5000   ┆ green  ┆ true     ┆ Africa │\n",
       "└────────────┴────────┴────────┴──────────┴────────┘"
      ]
     },
     "execution_count": 1,
     "metadata": {},
     "output_type": "execute_result"
    }
   ],
   "source": [
    "import polars as pl\n",
    "\n",
    "fruit = pl.read_csv(\"data/fruit.csv\")\n",
    "fruit.filter(pl.col(\"is_round\") & (pl.col(\"weight\") > 1000))"
   ]
  },
  {
   "cell_type": "code",
   "execution_count": 2,
   "id": "5324bb42",
   "metadata": {},
   "outputs": [
    {
     "data": {
      "text/html": [
       "<div><style>\n",
       ".dataframe > thead > tr,\n",
       ".dataframe > tbody > tr {\n",
       "  text-align: right;\n",
       "  white-space: pre-wrap;\n",
       "}\n",
       "</style>\n",
       "<small>shape: (4, 4)</small><table border=\"1\" class=\"dataframe\"><thead><tr><th>i</th><th>j</th><th>*</th><th>Expr.mul()</th></tr><tr><td>f64</td><td>f64</td><td>f64</td><td>f64</td></tr></thead><tbody><tr><td>6.0</td><td>7.0</td><td>42.0</td><td>42.0</td></tr><tr><td>0.0</td><td>1.0</td><td>0.0</td><td>0.0</td></tr><tr><td>2.0</td><td>2.0</td><td>4.0</td><td>4.0</td></tr><tr><td>2.5</td><td>3.0</td><td>7.5</td><td>7.5</td></tr></tbody></table></div>"
      ],
      "text/plain": [
       "shape: (4, 4)\n",
       "┌─────┬─────┬──────┬────────────┐\n",
       "│ i   ┆ j   ┆ *    ┆ Expr.mul() │\n",
       "│ --- ┆ --- ┆ ---  ┆ ---        │\n",
       "│ f64 ┆ f64 ┆ f64  ┆ f64        │\n",
       "╞═════╪═════╪══════╪════════════╡\n",
       "│ 6.0 ┆ 7.0 ┆ 42.0 ┆ 42.0       │\n",
       "│ 0.0 ┆ 1.0 ┆ 0.0  ┆ 0.0        │\n",
       "│ 2.0 ┆ 2.0 ┆ 4.0  ┆ 4.0        │\n",
       "│ 2.5 ┆ 3.0 ┆ 7.5  ┆ 7.5        │\n",
       "└─────┴─────┴──────┴────────────┘"
      ]
     },
     "execution_count": 2,
     "metadata": {},
     "output_type": "execute_result"
    }
   ],
   "source": [
    "(\n",
    "    pl.DataFrame({\"i\": [6.0, 0, 2, 2.5], \"j\": [7.0, 1, 2, 3,]}).with_columns(\n",
    "        (pl.col(\"i\")*pl.col(\"j\")).alias(\"*\"),\n",
    "        pl.col(\"i\").mul(pl.col(\"j\")).alias(\"Expr.mul()\"),\n",
    "    )\n",
    ")"
   ]
  },
  {
   "cell_type": "code",
   "execution_count": null,
   "id": "95c99161",
   "metadata": {},
   "outputs": [
    {
     "data": {
      "text/html": [
       "<div><style>\n",
       ".dataframe > thead > tr,\n",
       ".dataframe > tbody > tr {\n",
       "  text-align: right;\n",
       "  white-space: pre-wrap;\n",
       "}\n",
       "</style>\n",
       "<small>shape: (10, 2)</small><table border=\"1\" class=\"dataframe\"><thead><tr><th>name</th><th>NAMENAME</th></tr><tr><td>str</td><td>f64</td></tr></thead><tbody><tr><td>&quot;Avocado&quot;</td><td>0.2</td></tr><tr><td>&quot;Banana&quot;</td><td>0.12</td></tr><tr><td>&quot;Blueberry&quot;</td><td>0.001</td></tr><tr><td>&quot;Cantaloupe&quot;</td><td>2.5</td></tr><tr><td>&quot;Cranberry&quot;</td><td>0.002</td></tr><tr><td>&quot;Elderberry&quot;</td><td>0.001</td></tr><tr><td>&quot;Orange&quot;</td><td>0.13</td></tr><tr><td>&quot;Papaya&quot;</td><td>1.0</td></tr><tr><td>&quot;Peach&quot;</td><td>0.15</td></tr><tr><td>&quot;Watermelon&quot;</td><td>5.0</td></tr></tbody></table></div>"
      ],
      "text/plain": [
       "shape: (10, 2)\n",
       "┌────────────┬──────────┐\n",
       "│ name       ┆ NAMENAME │\n",
       "│ ---        ┆ ---      │\n",
       "│ str        ┆ f64      │\n",
       "╞════════════╪══════════╡\n",
       "│ Avocado    ┆ 0.2      │\n",
       "│ Banana     ┆ 0.12     │\n",
       "│ Blueberry  ┆ 0.001    │\n",
       "│ Cantaloupe ┆ 2.5      │\n",
       "│ Cranberry  ┆ 0.002    │\n",
       "│ Elderberry ┆ 0.001    │\n",
       "│ Orange     ┆ 0.13     │\n",
       "│ Papaya     ┆ 1.0      │\n",
       "│ Peach      ┆ 0.15     │\n",
       "│ Watermelon ┆ 5.0      │\n",
       "└────────────┴──────────┘"
      ]
     },
     "execution_count": 4,
     "metadata": {},
     "output_type": "execute_result"
    }
   ],
   "source": [
    "fruit.select(pl.col(\"name\"), (pl.col(\"weight\")/1000).alias(\"NAMENAME\"))"
   ]
  },
  {
   "cell_type": "code",
   "execution_count": 6,
   "id": "5fe194be",
   "metadata": {},
   "outputs": [
    {
     "data": {
      "text/html": [
       "<div><style>\n",
       ".dataframe > thead > tr,\n",
       ".dataframe > tbody > tr {\n",
       "  text-align: right;\n",
       "  white-space: pre-wrap;\n",
       "}\n",
       "</style>\n",
       "<small>shape: (10, 5)</small><table border=\"1\" class=\"dataframe\"><thead><tr><th>name</th><th>weight</th><th>color</th><th>is_round</th><th>origin</th></tr><tr><td>str</td><td>i64</td><td>str</td><td>bool</td><td>str</td></tr></thead><tbody><tr><td>&quot;Avocado&quot;</td><td>200</td><td>&quot;green&quot;</td><td>false</td><td>&quot;South America&quot;</td></tr><tr><td>&quot;Banana&quot;</td><td>120</td><td>&quot;yellow&quot;</td><td>false</td><td>&quot;Asia&quot;</td></tr><tr><td>&quot;Blueberry&quot;</td><td>1</td><td>&quot;blue&quot;</td><td>false</td><td>&quot;North America&quot;</td></tr><tr><td>&quot;Cantaloupe&quot;</td><td>2500</td><td>&quot;orange&quot;</td><td>true</td><td>&quot;Africa&quot;</td></tr><tr><td>&quot;Cranberry&quot;</td><td>2</td><td>&quot;red&quot;</td><td>false</td><td>&quot;North America&quot;</td></tr><tr><td>&quot;Elderberry&quot;</td><td>1</td><td>&quot;black&quot;</td><td>false</td><td>&quot;Europe&quot;</td></tr><tr><td>&quot;Orange&quot;</td><td>130</td><td>&quot;orange&quot;</td><td>true</td><td>&quot;Asia&quot;</td></tr><tr><td>&quot;Papaya&quot;</td><td>1000</td><td>&quot;orange&quot;</td><td>false</td><td>&quot;South America&quot;</td></tr><tr><td>&quot;Peach&quot;</td><td>150</td><td>&quot;orange&quot;</td><td>true</td><td>&quot;Asia&quot;</td></tr><tr><td>&quot;Watermelon&quot;</td><td>5000</td><td>&quot;green&quot;</td><td>true</td><td>&quot;Africa&quot;</td></tr></tbody></table></div>"
      ],
      "text/plain": [
       "shape: (10, 5)\n",
       "┌────────────┬────────┬────────┬──────────┬───────────────┐\n",
       "│ name       ┆ weight ┆ color  ┆ is_round ┆ origin        │\n",
       "│ ---        ┆ ---    ┆ ---    ┆ ---      ┆ ---           │\n",
       "│ str        ┆ i64    ┆ str    ┆ bool     ┆ str           │\n",
       "╞════════════╪════════╪════════╪══════════╪═══════════════╡\n",
       "│ Avocado    ┆ 200    ┆ green  ┆ false    ┆ South America │\n",
       "│ Banana     ┆ 120    ┆ yellow ┆ false    ┆ Asia          │\n",
       "│ Blueberry  ┆ 1      ┆ blue   ┆ false    ┆ North America │\n",
       "│ Cantaloupe ┆ 2500   ┆ orange ┆ true     ┆ Africa        │\n",
       "│ Cranberry  ┆ 2      ┆ red    ┆ false    ┆ North America │\n",
       "│ Elderberry ┆ 1      ┆ black  ┆ false    ┆ Europe        │\n",
       "│ Orange     ┆ 130    ┆ orange ┆ true     ┆ Asia          │\n",
       "│ Papaya     ┆ 1000   ┆ orange ┆ false    ┆ South America │\n",
       "│ Peach      ┆ 150    ┆ orange ┆ true     ┆ Asia          │\n",
       "│ Watermelon ┆ 5000   ┆ green  ┆ true     ┆ Africa        │\n",
       "└────────────┴────────┴────────┴──────────┴───────────────┘"
      ]
     },
     "execution_count": 6,
     "metadata": {},
     "output_type": "execute_result"
    }
   ],
   "source": [
    "fruit"
   ]
  },
  {
   "cell_type": "code",
   "execution_count": 8,
   "id": "8efd6035",
   "metadata": {},
   "outputs": [
    {
     "data": {
      "text/html": [
       "<div><style>\n",
       ".dataframe > thead > tr,\n",
       ".dataframe > tbody > tr {\n",
       "  text-align: right;\n",
       "  white-space: pre-wrap;\n",
       "}\n",
       "</style>\n",
       "<small>shape: (2, 5)</small><table border=\"1\" class=\"dataframe\"><thead><tr><th>name</th><th>weight</th><th>color</th><th>is_round</th><th>origin</th></tr><tr><td>str</td><td>i64</td><td>str</td><td>bool</td><td>str</td></tr></thead><tbody><tr><td>&quot;Papaya&quot;</td><td>1000</td><td>&quot;orange&quot;</td><td>false</td><td>&quot;South America&quot;</td></tr><tr><td>&quot;Watermelon&quot;</td><td>5000</td><td>&quot;green&quot;</td><td>true</td><td>&quot;Africa&quot;</td></tr></tbody></table></div>"
      ],
      "text/plain": [
       "shape: (2, 5)\n",
       "┌────────────┬────────┬────────┬──────────┬───────────────┐\n",
       "│ name       ┆ weight ┆ color  ┆ is_round ┆ origin        │\n",
       "│ ---        ┆ ---    ┆ ---    ┆ ---      ┆ ---           │\n",
       "│ str        ┆ i64    ┆ str    ┆ bool     ┆ str           │\n",
       "╞════════════╪════════╪════════╪══════════╪═══════════════╡\n",
       "│ Papaya     ┆ 1000   ┆ orange ┆ false    ┆ South America │\n",
       "│ Watermelon ┆ 5000   ┆ green  ┆ true     ┆ Africa        │\n",
       "└────────────┴────────┴────────┴──────────┴───────────────┘"
      ]
     },
     "execution_count": 8,
     "metadata": {},
     "output_type": "execute_result"
    }
   ],
   "source": [
    "fruit.filter(\n",
    "    pl.col(\"name\").is_in([\"Papaya\", \"Watermelon\"])\n",
    ")"
   ]
  },
  {
   "cell_type": "code",
   "execution_count": 9,
   "id": "4552c96d",
   "metadata": {},
   "outputs": [
    {
     "data": {
      "text/html": [
       "<div><style>\n",
       ".dataframe > thead > tr,\n",
       ".dataframe > tbody > tr {\n",
       "  text-align: right;\n",
       "  white-space: pre-wrap;\n",
       "}\n",
       "</style>\n",
       "<small>shape: (10, 1)</small><table border=\"1\" class=\"dataframe\"><thead><tr><th>weight</th></tr><tr><td>i64</td></tr></thead><tbody><tr><td>200</td></tr><tr><td>120</td></tr><tr><td>1</td></tr><tr><td>2500</td></tr><tr><td>2</td></tr><tr><td>1</td></tr><tr><td>130</td></tr><tr><td>1000</td></tr><tr><td>150</td></tr><tr><td>5000</td></tr></tbody></table></div>"
      ],
      "text/plain": [
       "shape: (10, 1)\n",
       "┌────────┐\n",
       "│ weight │\n",
       "│ ---    │\n",
       "│ i64    │\n",
       "╞════════╡\n",
       "│ 200    │\n",
       "│ 120    │\n",
       "│ 1      │\n",
       "│ 2500   │\n",
       "│ 2      │\n",
       "│ 1      │\n",
       "│ 130    │\n",
       "│ 1000   │\n",
       "│ 150    │\n",
       "│ 5000   │\n",
       "└────────┘"
      ]
     },
     "execution_count": 9,
     "metadata": {},
     "output_type": "execute_result"
    }
   ],
   "source": [
    "fruit.select(pl.max_horizontal(pl.col(\"weight\"), pl.col(\"is_round\")))"
   ]
  },
  {
   "cell_type": "code",
   "execution_count": 12,
   "id": "840b607c",
   "metadata": {},
   "outputs": [
    {
     "data": {
      "text/html": [
       "<div><style>\n",
       ".dataframe > thead > tr,\n",
       ".dataframe > tbody > tr {\n",
       "  text-align: right;\n",
       "  white-space: pre-wrap;\n",
       "}\n",
       "</style>\n",
       "<small>shape: (4, 8)</small><table border=\"1\" class=\"dataframe\"><thead><tr><th>a</th><th>b</th><th>a==b</th><th>a&lt;=b</th><th>a&gt;0</th><th>b&gt;0</th><th>b almost sqrt(2)</th><th>1&lt; b &lt; 3</th></tr><tr><td>f64</td><td>f64</td><td>bool</td><td>bool</td><td>bool</td><td>bool</td><td>bool</td><td>bool</td></tr></thead><tbody><tr><td>-273.15</td><td>1.4142</td><td>false</td><td>true</td><td>false</td><td>true</td><td>true</td><td>true</td></tr><tr><td>0.0</td><td>2.7183</td><td>false</td><td>true</td><td>false</td><td>true</td><td>false</td><td>true</td></tr><tr><td>42.0</td><td>42.0</td><td>true</td><td>true</td><td>true</td><td>true</td><td>false</td><td>false</td></tr><tr><td>100.0</td><td>3.1415</td><td>false</td><td>false</td><td>true</td><td>true</td><td>false</td><td>false</td></tr></tbody></table></div>"
      ],
      "text/plain": [
       "shape: (4, 8)\n",
       "┌─────────┬────────┬───────┬───────┬───────┬──────┬──────────────────┬──────────┐\n",
       "│ a       ┆ b      ┆ a==b  ┆ a<=b  ┆ a>0   ┆ b>0  ┆ b almost sqrt(2) ┆ 1< b < 3 │\n",
       "│ ---     ┆ ---    ┆ ---   ┆ ---   ┆ ---   ┆ ---  ┆ ---              ┆ ---      │\n",
       "│ f64     ┆ f64    ┆ bool  ┆ bool  ┆ bool  ┆ bool ┆ bool             ┆ bool     │\n",
       "╞═════════╪════════╪═══════╪═══════╪═══════╪══════╪══════════════════╪══════════╡\n",
       "│ -273.15 ┆ 1.4142 ┆ false ┆ true  ┆ false ┆ true ┆ true             ┆ true     │\n",
       "│ 0.0     ┆ 2.7183 ┆ false ┆ true  ┆ false ┆ true ┆ false            ┆ true     │\n",
       "│ 42.0    ┆ 42.0   ┆ true  ┆ true  ┆ true  ┆ true ┆ false            ┆ false    │\n",
       "│ 100.0   ┆ 3.1415 ┆ false ┆ false ┆ true  ┆ true ┆ false            ┆ false    │\n",
       "└─────────┴────────┴───────┴───────┴───────┴──────┴──────────────────┴──────────┘"
      ]
     },
     "execution_count": 12,
     "metadata": {},
     "output_type": "execute_result"
    }
   ],
   "source": [
    "pl.DataFrame(\n",
    "    {\"a\": [-273.15, 0, 42, 100], \"b\": [1.4142, 2.7183, 42, 3.1415]}\n",
    ").with_columns(\n",
    "    (pl.col(\"a\") == pl.col(\"b\")).alias(\"a==b\"),\n",
    "    (pl.col(\"a\") <= pl.col(\"b\")).alias(\"a<=b\"),\n",
    "    (pl.all() > 0).name.suffix(\">0\"),\n",
    "    ((pl.col(\"b\")-pl.lit(2).sqrt()).abs() < 1e-3).alias(\"b almost sqrt(2)\"),\n",
    "    ((1 < pl.col(\"b\")) & (pl.col(\"b\") < 3)).alias(\"1< b < 3\")\n",
    ")"
   ]
  },
  {
   "cell_type": "code",
   "execution_count": 13,
   "id": "d4b34175",
   "metadata": {},
   "outputs": [
    {
     "data": {
      "text/html": [
       "<div><style>\n",
       ".dataframe > thead > tr,\n",
       ".dataframe > tbody > tr {\n",
       "  text-align: right;\n",
       "  white-space: pre-wrap;\n",
       "}\n",
       "</style>\n",
       "<small>shape: (5, 2)</small><table border=\"1\" class=\"dataframe\"><thead><tr><th>comparison</th><th>allowed</th></tr><tr><td>str</td><td>bool</td></tr></thead><tbody><tr><td>&quot;bool_num&quot;</td><td>true</td></tr><tr><td>&quot;time_time&quot;</td><td>true</td></tr><tr><td>&quot;datetime_date&quot;</td><td>true</td></tr><tr><td>&quot;str_num&quot;</td><td>false</td></tr><tr><td>&quot;datetime_time&quot;</td><td>false</td></tr></tbody></table></div>"
      ],
      "text/plain": [
       "shape: (5, 2)\n",
       "┌───────────────┬─────────┐\n",
       "│ comparison    ┆ allowed │\n",
       "│ ---           ┆ ---     │\n",
       "│ str           ┆ bool    │\n",
       "╞═══════════════╪═════════╡\n",
       "│ bool_num      ┆ true    │\n",
       "│ time_time     ┆ true    │\n",
       "│ datetime_date ┆ true    │\n",
       "│ str_num       ┆ false   │\n",
       "│ datetime_time ┆ false   │\n",
       "└───────────────┴─────────┘"
      ]
     },
     "execution_count": 13,
     "metadata": {},
     "output_type": "execute_result"
    }
   ],
   "source": [
    "pl.select(\n",
    "    bool_num=pl.lit(True) > 0,\n",
    "    time_time=pl.time(23, 58) > pl.time(0, 0),\n",
    "    datetime_date=pl.datetime(1969, 7, 21, 2, 56) < pl.date(1976, 7, 20),\n",
    "    str_num=pl.lit(\"5\") < pl.lit(3).cast(pl.String),\n",
    "    datetime_time=pl.datetime(1999, 1, 1).dt.time() != pl.time(0, 0),\n",
    ").transpose(\n",
    "    include_header=True, header_name=\"comparison\", column_names=[\"allowed\"]\n",
    ")"
   ]
  },
  {
   "cell_type": "code",
   "execution_count": null,
   "id": "6e66cf1d",
   "metadata": {},
   "outputs": [
    {
     "data": {
      "text/plain": [
       "False"
      ]
     },
     "execution_count": 15,
     "metadata": {},
     "output_type": "execute_result"
    }
   ],
   "source": [
    "x = 7\n",
    "p = pl.lit(3) < pl.lit(x)\n",
    "q = pl.lit(x) < pl.lit(5)\n",
    "pl.select(p & q).item()"
   ]
  },
  {
   "cell_type": "code",
   "execution_count": null,
   "id": "a0e028d2",
   "metadata": {},
   "outputs": [
    {
     "data": {
      "text/html": [
       "<div><style>\n",
       ".dataframe > thead > tr,\n",
       ".dataframe > tbody > tr {\n",
       "  text-align: right;\n",
       "  white-space: pre-wrap;\n",
       "}\n",
       "</style>\n",
       "<small>shape: (5, 7)</small><table border=\"1\" class=\"dataframe\"><thead><tr><th>id</th><th>has_pet</th><th>likes_travel</th><th>likes_movies</th><th>likes_books</th><th>all</th><th>any</th></tr><tr><td>i64</td><td>bool</td><td>bool</td><td>bool</td><td>bool</td><td>bool</td><td>bool</td></tr></thead><tbody><tr><td>1</td><td>true</td><td>false</td><td>true</td><td>false</td><td>false</td><td>true</td></tr><tr><td>7</td><td>false</td><td>false</td><td>false</td><td>false</td><td>false</td><td>false</td></tr><tr><td>42</td><td>true</td><td>false</td><td>true</td><td>true</td><td>false</td><td>true</td></tr><tr><td>101</td><td>false</td><td>false</td><td>false</td><td>true</td><td>false</td><td>true</td></tr><tr><td>999</td><td>true</td><td>true</td><td>true</td><td>true</td><td>true</td><td>true</td></tr></tbody></table></div>"
      ],
      "text/plain": [
       "shape: (5, 7)\n",
       "┌─────┬─────────┬──────────────┬──────────────┬─────────────┬───────┬───────┐\n",
       "│ id  ┆ has_pet ┆ likes_travel ┆ likes_movies ┆ likes_books ┆ all   ┆ any   │\n",
       "│ --- ┆ ---     ┆ ---          ┆ ---          ┆ ---         ┆ ---   ┆ ---   │\n",
       "│ i64 ┆ bool    ┆ bool         ┆ bool         ┆ bool        ┆ bool  ┆ bool  │\n",
       "╞═════╪═════════╪══════════════╪══════════════╪═════════════╪═══════╪═══════╡\n",
       "│ 1   ┆ true    ┆ false        ┆ true         ┆ false       ┆ false ┆ true  │\n",
       "│ 7   ┆ false   ┆ false        ┆ false        ┆ false       ┆ false ┆ false │\n",
       "│ 42  ┆ true    ┆ false        ┆ true         ┆ true        ┆ false ┆ true  │\n",
       "│ 101 ┆ false   ┆ false        ┆ false        ┆ true        ┆ false ┆ true  │\n",
       "│ 999 ┆ true    ┆ true         ┆ true         ┆ true        ┆ true  ┆ true  │\n",
       "└─────┴─────────┴──────────────┴──────────────┴─────────────┴───────┴───────┘"
      ]
     },
     "execution_count": 22,
     "metadata": {},
     "output_type": "execute_result"
    }
   ],
   "source": [
    "prefs = pl.DataFrame(\n",
    "    {\n",
    "        \"id\": [1, 7, 42, 101, 999],\n",
    "        \"has_pet\": [True, False, True, False, True],\n",
    "        \"likes_travel\": [False, False, False, False, True],\n",
    "        \"likes_movies\": [True, False, True, False, True],\n",
    "        \"likes_books\": [False, False, True, True, True],\n",
    "    }\n",
    ").with_columns(\n",
    "    all=pl.all_horizontal(pl.exclude(\"id\")),\n",
    "    any=pl.any_horizontal(pl.exclude(\"id\")),\n",
    ")\n",
    "prefs"
   ]
  },
  {
   "cell_type": "code",
   "execution_count": 23,
   "id": "46c6994c",
   "metadata": {},
   "outputs": [
    {
     "data": {
      "text/html": [
       "<div><style>\n",
       ".dataframe > thead > tr,\n",
       ".dataframe > tbody > tr {\n",
       "  text-align: right;\n",
       "  white-space: pre-wrap;\n",
       "}\n",
       "</style>\n",
       "<small>shape: (5, 3)</small><table border=\"1\" class=\"dataframe\"><thead><tr><th>sum</th><th>max</th><th>mix</th></tr><tr><td>i64</td><td>i64</td><td>i64</td></tr></thead><tbody><tr><td>4</td><td>1</td><td>0</td></tr><tr><td>7</td><td>7</td><td>0</td></tr><tr><td>46</td><td>42</td><td>0</td></tr><tr><td>103</td><td>101</td><td>0</td></tr><tr><td>1005</td><td>999</td><td>1</td></tr></tbody></table></div>"
      ],
      "text/plain": [
       "shape: (5, 3)\n",
       "┌──────┬─────┬─────┐\n",
       "│ sum  ┆ max ┆ mix │\n",
       "│ ---  ┆ --- ┆ --- │\n",
       "│ i64  ┆ i64 ┆ i64 │\n",
       "╞══════╪═════╪═════╡\n",
       "│ 4    ┆ 1   ┆ 0   │\n",
       "│ 7    ┆ 7   ┆ 0   │\n",
       "│ 46   ┆ 42  ┆ 0   │\n",
       "│ 103  ┆ 101 ┆ 0   │\n",
       "│ 1005 ┆ 999 ┆ 1   │\n",
       "└──────┴─────┴─────┘"
      ]
     },
     "execution_count": 23,
     "metadata": {},
     "output_type": "execute_result"
    }
   ],
   "source": [
    "prefs.select(\n",
    "    sum=pl.sum_horizontal(pl.all()),\n",
    "    max=pl.max_horizontal(pl.all()),\n",
    "    mix=pl.min_horizontal(pl.all()),\n",
    ")"
   ]
  },
  {
   "cell_type": "markdown",
   "id": "9e68d26e",
   "metadata": {},
   "source": [
    "when then otherwise - kinda like case_when I think"
   ]
  },
  {
   "cell_type": "code",
   "execution_count": 26,
   "id": "377e8dfc",
   "metadata": {},
   "outputs": [
    {
     "data": {
      "text/html": [
       "<div><style>\n",
       ".dataframe > thead > tr,\n",
       ".dataframe > tbody > tr {\n",
       "  text-align: right;\n",
       "  white-space: pre-wrap;\n",
       "}\n",
       "</style>\n",
       "<small>shape: (5, 2)</small><table border=\"1\" class=\"dataframe\"><thead><tr><th>id</th><th>likes_what</th></tr><tr><td>i64</td><td>str</td></tr></thead><tbody><tr><td>1</td><td>&quot;likes something&quot;</td></tr><tr><td>7</td><td>&quot;likes nothing&quot;</td></tr><tr><td>42</td><td>&quot;likes something&quot;</td></tr><tr><td>101</td><td>&quot;likes something&quot;</td></tr><tr><td>999</td><td>&quot;Likes everything&quot;</td></tr></tbody></table></div>"
      ],
      "text/plain": [
       "shape: (5, 2)\n",
       "┌─────┬──────────────────┐\n",
       "│ id  ┆ likes_what       │\n",
       "│ --- ┆ ---              │\n",
       "│ i64 ┆ str              │\n",
       "╞═════╪══════════════════╡\n",
       "│ 1   ┆ likes something  │\n",
       "│ 7   ┆ likes nothing    │\n",
       "│ 42  ┆ likes something  │\n",
       "│ 101 ┆ likes something  │\n",
       "│ 999 ┆ Likes everything │\n",
       "└─────┴──────────────────┘"
      ]
     },
     "execution_count": 26,
     "metadata": {},
     "output_type": "execute_result"
    }
   ],
   "source": [
    "prefs.select(\n",
    "    pl.col(\"id\"),\n",
    "    likes_what=pl.when(pl.all_horizontal(pl.col(\"^likes_.*$\")))\n",
    "    .then(pl.lit(\"Likes everything\"))\n",
    "    .when(pl.any_horizontal(pl.col(\"^likes_.*$\")))\n",
    "    .then(pl.lit(\"likes something\"))\n",
    "    .otherwise(pl.lit(\"likes nothing\"))\n",
    ")"
   ]
  },
  {
   "cell_type": "code",
   "execution_count": null,
   "id": "bf521c4b",
   "metadata": {},
   "outputs": [],
   "source": []
  }
 ],
 "metadata": {
  "kernelspec": {
   "display_name": ".venv",
   "language": "python",
   "name": "python3"
  },
  "language_info": {
   "codemirror_mode": {
    "name": "ipython",
    "version": 3
   },
   "file_extension": ".py",
   "mimetype": "text/x-python",
   "name": "python",
   "nbconvert_exporter": "python",
   "pygments_lexer": "ipython3",
   "version": "3.12.9"
  }
 },
 "nbformat": 4,
 "nbformat_minor": 5
}
