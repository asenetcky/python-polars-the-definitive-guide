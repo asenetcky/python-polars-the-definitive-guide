{
 "cells": [
  {
   "cell_type": "code",
   "execution_count": 1,
   "id": "4de74fc3",
   "metadata": {},
   "outputs": [],
   "source": [
    "import polars as pl"
   ]
  },
  {
   "cell_type": "markdown",
   "id": "2080f976",
   "metadata": {},
   "source": [
    "working with text, temporal and ensted data types\n"
   ]
  },
  {
   "cell_type": "markdown",
   "id": "89985c41",
   "metadata": {},
   "source": [
    "string methods"
   ]
  },
  {
   "cell_type": "code",
   "execution_count": 2,
   "id": "b982c48b",
   "metadata": {},
   "outputs": [
    {
     "data": {
      "text/html": [
       "<div><style>\n",
       ".dataframe > thead > tr,\n",
       ".dataframe > tbody > tr {\n",
       "  text-align: right;\n",
       "  white-space: pre-wrap;\n",
       "}\n",
       "</style>\n",
       "<small>shape: (3, 1)</small><table border=\"1\" class=\"dataframe\"><thead><tr><th>raw_text</th></tr><tr><td>str</td></tr></thead><tbody><tr><td>&quot; Data Science is amazing&quot;</td></tr><tr><td>&quot;Data_analysis &gt; Data entry&quot;</td></tr><tr><td>&quot; Python&amp;Polars;Fast&quot;</td></tr></tbody></table></div>"
      ],
      "text/plain": [
       "shape: (3, 1)\n",
       "┌────────────────────────────┐\n",
       "│ raw_text                   │\n",
       "│ ---                        │\n",
       "│ str                        │\n",
       "╞════════════════════════════╡\n",
       "│  Data Science is amazing   │\n",
       "│ Data_analysis > Data entry │\n",
       "│  Python&Polars;Fast        │\n",
       "└────────────────────────────┘"
      ]
     },
     "execution_count": 2,
     "metadata": {},
     "output_type": "execute_result"
    }
   ],
   "source": [
    "corpus = pl.DataFrame(\n",
    "    {\n",
    "        \"raw_text\": [\n",
    "            \" Data Science is amazing\",\n",
    "            \"Data_analysis > Data entry\",\n",
    "            \" Python&Polars;Fast\"\n",
    "        ]\n",
    "    }\n",
    ")\n",
    "corpus"
   ]
  },
  {
   "cell_type": "markdown",
   "id": "79d56ead",
   "metadata": {},
   "source": [
    "just me playing around "
   ]
  },
  {
   "cell_type": "code",
   "execution_count": 3,
   "id": "40da6c3b",
   "metadata": {},
   "outputs": [
    {
     "data": {
      "text/html": [
       "<div><style>\n",
       ".dataframe > thead > tr,\n",
       ".dataframe > tbody > tr {\n",
       "  text-align: right;\n",
       "  white-space: pre-wrap;\n",
       "}\n",
       "</style>\n",
       "<small>shape: (8, 2)</small><table border=\"1\" class=\"dataframe\"><thead><tr><th>id</th><th>unique_token</th></tr><tr><td>u32</td><td>str</td></tr></thead><tbody><tr><td>0</td><td>&quot;&gt;&quot;</td></tr><tr><td>1</td><td>&quot;Data_analysis&quot;</td></tr><tr><td>2</td><td>&quot;Python&amp;Polars;Fast&quot;</td></tr><tr><td>3</td><td>&quot;Data&quot;</td></tr><tr><td>4</td><td>&quot;amazing&quot;</td></tr><tr><td>5</td><td>&quot;is&quot;</td></tr><tr><td>6</td><td>&quot;entry&quot;</td></tr><tr><td>7</td><td>&quot;Science&quot;</td></tr></tbody></table></div>"
      ],
      "text/plain": [
       "shape: (8, 2)\n",
       "┌─────┬────────────────────┐\n",
       "│ id  ┆ unique_token       │\n",
       "│ --- ┆ ---                │\n",
       "│ u32 ┆ str                │\n",
       "╞═════╪════════════════════╡\n",
       "│ 0   ┆ >                  │\n",
       "│ 1   ┆ Data_analysis      │\n",
       "│ 2   ┆ Python&Polars;Fast │\n",
       "│ 3   ┆ Data               │\n",
       "│ 4   ┆ amazing            │\n",
       "│ 5   ┆ is                 │\n",
       "│ 6   ┆ entry              │\n",
       "│ 7   ┆ Science            │\n",
       "└─────┴────────────────────┘"
      ]
     },
     "execution_count": 3,
     "metadata": {},
     "output_type": "execute_result"
    }
   ],
   "source": [
    "(\n",
    "    corpus\n",
    "    .select(pl.col(\"raw_text\").str.split(\" \").explode().alias(\"token\"))\n",
    "    .filter(pl.col(\"token\") != \"\")\n",
    "    .select(pl.col(\"token\").unique().alias(\"unique_token\"))\n",
    "    .with_row_index(\"id\")\n",
    ")"
   ]
  },
  {
   "cell_type": "code",
   "execution_count": 4,
   "id": "c7ffe8f5",
   "metadata": {},
   "outputs": [
    {
     "data": {
      "text/html": [
       "<div><style>\n",
       ".dataframe > thead > tr,\n",
       ".dataframe > tbody > tr {\n",
       "  text-align: right;\n",
       "  white-space: pre-wrap;\n",
       "}\n",
       "</style>\n",
       "<small>shape: (3, 2)</small><table border=\"1\" class=\"dataframe\"><thead><tr><th>raw_text</th><th>processed_text</th></tr><tr><td>str</td><td>str</td></tr></thead><tbody><tr><td>&quot; Data Science is amazing&quot;</td><td>&quot;data science is amazing&quot;</td></tr><tr><td>&quot;Data_analysis &gt; Data entry&quot;</td><td>&quot;dataanalysis &gt; data entry&quot;</td></tr><tr><td>&quot; Python&amp;Polars;Fast&quot;</td><td>&quot;python&amp;polars;fast&quot;</td></tr></tbody></table></div>"
      ],
      "text/plain": [
       "shape: (3, 2)\n",
       "┌────────────────────────────┬───────────────────────────┐\n",
       "│ raw_text                   ┆ processed_text            │\n",
       "│ ---                        ┆ ---                       │\n",
       "│ str                        ┆ str                       │\n",
       "╞════════════════════════════╪═══════════════════════════╡\n",
       "│  Data Science is amazing   ┆ data science is amazing   │\n",
       "│ Data_analysis > Data entry ┆ dataanalysis > data entry │\n",
       "│  Python&Polars;Fast        ┆ python&polars;fast        │\n",
       "└────────────────────────────┴───────────────────────────┘"
      ]
     },
     "execution_count": 4,
     "metadata": {},
     "output_type": "execute_result"
    }
   ],
   "source": [
    "corpus = corpus.with_columns(\n",
    "    processed_text=pl.col(\"raw_text\")\n",
    "    .str.strip_chars()\n",
    "    .str.to_lowercase()\n",
    "    .str.replace_all(\"_\", \"\")\n",
    ")\n",
    "corpus"
   ]
  },
  {
   "cell_type": "code",
   "execution_count": null,
   "id": "e9b53097",
   "metadata": {},
   "outputs": [
    {
     "data": {
      "text/html": [
       "<div><style>\n",
       ".dataframe > thead > tr,\n",
       ".dataframe > tbody > tr {\n",
       "  text-align: right;\n",
       "  white-space: pre-wrap;\n",
       "}\n",
       "</style>\n",
       "<small>shape: (3, 5)</small><table border=\"1\" class=\"dataframe\"><thead><tr><th>raw_text</th><th>processed_text</th><th>first_5_chars</th><th>first_word</th><th>second_word</th></tr><tr><td>str</td><td>str</td><td>str</td><td>str</td><td>str</td></tr></thead><tbody><tr><td>&quot; Data Science is amazing&quot;</td><td>&quot;data science is amazing&quot;</td><td>&quot;data &quot;</td><td>&quot;d&quot;</td><td>&quot;a&quot;</td></tr><tr><td>&quot;Data_analysis &gt; Data entry&quot;</td><td>&quot;dataanalysis &gt; data entry&quot;</td><td>&quot;dataa&quot;</td><td>&quot;d&quot;</td><td>&quot;a&quot;</td></tr><tr><td>&quot; Python&amp;Polars;Fast&quot;</td><td>&quot;python&amp;polars;fast&quot;</td><td>&quot;pytho&quot;</td><td>&quot;p&quot;</td><td>&quot;y&quot;</td></tr></tbody></table></div>"
      ],
      "text/plain": [
       "shape: (3, 5)\n",
       "┌───────────────────────────┬───────────────────────────┬───────────────┬────────────┬─────────────┐\n",
       "│ raw_text                  ┆ processed_text            ┆ first_5_chars ┆ first_word ┆ second_word │\n",
       "│ ---                       ┆ ---                       ┆ ---           ┆ ---        ┆ ---         │\n",
       "│ str                       ┆ str                       ┆ str           ┆ str        ┆ str         │\n",
       "╞═══════════════════════════╪═══════════════════════════╪═══════════════╪════════════╪═════════════╡\n",
       "│  Data Science is amazing  ┆ data science is amazing   ┆ data          ┆ d          ┆ a           │\n",
       "│ Data_analysis > Data      ┆ dataanalysis > data entry ┆ dataa         ┆ d          ┆ a           │\n",
       "│ entry                     ┆                           ┆               ┆            ┆             │\n",
       "│  Python&Polars;Fast       ┆ python&polars;fast        ┆ pytho         ┆ p          ┆ y           │\n",
       "└───────────────────────────┴───────────────────────────┴───────────────┴────────────┴─────────────┘"
      ]
     },
     "execution_count": 5,
     "metadata": {},
     "output_type": "execute_result"
    }
   ],
   "source": [
    "corpus.with_columns(\n",
    "    first_5_chars=pl.col(\"processed_text\").str.slice(0, 5),\n",
    "    first_word=pl.col(\"processed_text\")\n",
    "    .str.split(\"\")\n",
    "    .list.get(0),\n",
    "    second_word=pl.col(\"processed_text\").str.split(\"\").list.get(1),\n",
    ")"
   ]
  },
  {
   "cell_type": "code",
   "execution_count": null,
   "id": "b7629f08",
   "metadata": {},
   "outputs": [
    {
     "data": {
      "text/html": [
       "<div><style>\n",
       ".dataframe > thead > tr,\n",
       ".dataframe > tbody > tr {\n",
       "  text-align: right;\n",
       "  white-space: pre-wrap;\n",
       "}\n",
       "</style>\n",
       "<small>shape: (3, 5)</small><table border=\"1\" class=\"dataframe\"><thead><tr><th>raw_text</th><th>processed_text</th><th>len_chars</th><th>len_bytes</th><th>count_a</th></tr><tr><td>str</td><td>str</td><td>u32</td><td>u32</td><td>u32</td></tr></thead><tbody><tr><td>&quot; Data Science is amazing&quot;</td><td>&quot;data science is amazing&quot;</td><td>23</td><td>23</td><td>4</td></tr><tr><td>&quot;Data_analysis &gt; Data entry&quot;</td><td>&quot;dataanalysis &gt; data entry&quot;</td><td>25</td><td>25</td><td>6</td></tr><tr><td>&quot; Python&amp;Polars;Fast&quot;</td><td>&quot;python&amp;polars;fast&quot;</td><td>18</td><td>18</td><td>2</td></tr></tbody></table></div>"
      ],
      "text/plain": [
       "shape: (3, 5)\n",
       "┌────────────────────────────┬───────────────────────────┬───────────┬───────────┬─────────┐\n",
       "│ raw_text                   ┆ processed_text            ┆ len_chars ┆ len_bytes ┆ count_a │\n",
       "│ ---                        ┆ ---                       ┆ ---       ┆ ---       ┆ ---     │\n",
       "│ str                        ┆ str                       ┆ u32       ┆ u32       ┆ u32     │\n",
       "╞════════════════════════════╪═══════════════════════════╪═══════════╪═══════════╪═════════╡\n",
       "│  Data Science is amazing   ┆ data science is amazing   ┆ 23        ┆ 23        ┆ 4       │\n",
       "│ Data_analysis > Data entry ┆ dataanalysis > data entry ┆ 25        ┆ 25        ┆ 6       │\n",
       "│  Python&Polars;Fast        ┆ python&polars;fast        ┆ 18        ┆ 18        ┆ 2       │\n",
       "└────────────────────────────┴───────────────────────────┴───────────┴───────────┴─────────┘"
      ]
     },
     "execution_count": 6,
     "metadata": {},
     "output_type": "execute_result"
    }
   ],
   "source": [
    "corpus.with_columns(\n",
    "    len_chars=pl.col(\"processed_text\").str.len_chars(),\n",
    "    len_bytes=pl.col(\"processed_text\").str.len_bytes(),\n",
    "    count_a=pl.col(\"processed_text\").str.count_matches(\"a\",)\n",
    ")"
   ]
  },
  {
   "cell_type": "code",
   "execution_count": null,
   "id": "ae7b8900",
   "metadata": {},
   "outputs": [],
   "source": [
    "posts = pl.DataFrame(\n",
    "    {\"post\": [\"Loving #python and #polars!\",\n",
    "              \"a boomer post without a hashtag\"]}\n",
    ")"
   ]
  },
  {
   "cell_type": "code",
   "execution_count": null,
   "id": "d09f4b11",
   "metadata": {},
   "outputs": [
    {
     "data": {
      "text/html": [
       "<div><style>\n",
       ".dataframe > thead > tr,\n",
       ".dataframe > tbody > tr {\n",
       "  text-align: right;\n",
       "  white-space: pre-wrap;\n",
       "}\n",
       "</style>\n",
       "<small>shape: (2, 2)</small><table border=\"1\" class=\"dataframe\"><thead><tr><th>post</th><th>hashtags</th></tr><tr><td>str</td><td>list[str]</td></tr></thead><tbody><tr><td>&quot;Loving #python and #polars!&quot;</td><td>[&quot;#python&quot;, &quot;#polars&quot;]</td></tr><tr><td>&quot;a boomer post without a hashta…</td><td>[]</td></tr></tbody></table></div>"
      ],
      "text/plain": [
       "shape: (2, 2)\n",
       "┌─────────────────────────────────┬────────────────────────┐\n",
       "│ post                            ┆ hashtags               │\n",
       "│ ---                             ┆ ---                    │\n",
       "│ str                             ┆ list[str]              │\n",
       "╞═════════════════════════════════╪════════════════════════╡\n",
       "│ Loving #python and #polars!     ┆ [\"#python\", \"#polars\"] │\n",
       "│ a boomer post without a hashta… ┆ []                     │\n",
       "└─────────────────────────────────┴────────────────────────┘"
      ]
     },
     "execution_count": 8,
     "metadata": {},
     "output_type": "execute_result"
    }
   ],
   "source": [
    "hashtag_regex = r\"#(\\w+)\"\n",
    "\n",
    "posts.with_columns(\n",
    "    hashtags=pl.col(\"post\").str.extract_all(hashtag_regex)\n",
    ")"
   ]
  },
  {
   "cell_type": "markdown",
   "id": "1e044a00",
   "metadata": {},
   "source": [
    "categorical stuff"
   ]
  },
  {
   "cell_type": "code",
   "execution_count": null,
   "id": "e2871464",
   "metadata": {},
   "outputs": [
    {
     "data": {
      "text/html": [
       "<div><style>\n",
       ".dataframe > thead > tr,\n",
       ".dataframe > tbody > tr {\n",
       "  text-align: right;\n",
       "  white-space: pre-wrap;\n",
       "}\n",
       "</style>\n",
       "<small>shape: (4, 2)</small><table border=\"1\" class=\"dataframe\"><thead><tr><th>name</th><th>name_physical</th></tr><tr><td>cat</td><td>u32</td></tr></thead><tbody><tr><td>&quot;Persian cat&quot;</td><td>0</td></tr><tr><td>&quot;Siamese cat&quot;</td><td>1</td></tr><tr><td>&quot;Lynx&quot;</td><td>2</td></tr><tr><td>&quot;Lynx&quot;</td><td>2</td></tr></tbody></table></div>"
      ],
      "text/plain": [
       "shape: (4, 2)\n",
       "┌─────────────┬───────────────┐\n",
       "│ name        ┆ name_physical │\n",
       "│ ---         ┆ ---           │\n",
       "│ cat         ┆ u32           │\n",
       "╞═════════════╪═══════════════╡\n",
       "│ Persian cat ┆ 0             │\n",
       "│ Siamese cat ┆ 1             │\n",
       "│ Lynx        ┆ 2             │\n",
       "│ Lynx        ┆ 2             │\n",
       "└─────────────┴───────────────┘"
      ]
     },
     "execution_count": 9,
     "metadata": {},
     "output_type": "execute_result"
    }
   ],
   "source": [
    "cats = pl.DataFrame(\n",
    "    {\"name\": [\"Persian cat\", \"Siamese cat\", \"Lynx\", \"Lynx\"]},\n",
    "    schema={\"name\": pl.Categorical},\n",
    ")\n",
    "\n",
    "cats.with_columns(name_physical=pl.col(\"name\").to_physical())"
   ]
  },
  {
   "cell_type": "code",
   "execution_count": null,
   "id": "465d839f",
   "metadata": {},
   "outputs": [
    {
     "data": {
      "text/html": [
       "<div><style>\n",
       ".dataframe > thead > tr,\n",
       ".dataframe > tbody > tr {\n",
       "  text-align: right;\n",
       "  white-space: pre-wrap;\n",
       "}\n",
       "</style>\n",
       "<small>shape: (4, 2)</small><table border=\"1\" class=\"dataframe\"><thead><tr><th>name</th><th>name_physical</th></tr><tr><td>cat</td><td>u32</td></tr></thead><tbody><tr><td>&quot;Maine Coon Cat&quot;</td><td>0</td></tr><tr><td>&quot;Lynx&quot;</td><td>1</td></tr><tr><td>&quot;lynx&quot;</td><td>2</td></tr><tr><td>&quot;Siamese Cat&quot;</td><td>3</td></tr></tbody></table></div>"
      ],
      "text/plain": [
       "shape: (4, 2)\n",
       "┌────────────────┬───────────────┐\n",
       "│ name           ┆ name_physical │\n",
       "│ ---            ┆ ---           │\n",
       "│ cat            ┆ u32           │\n",
       "╞════════════════╪═══════════════╡\n",
       "│ Maine Coon Cat ┆ 0             │\n",
       "│ Lynx           ┆ 1             │\n",
       "│ lynx           ┆ 2             │\n",
       "│ Siamese Cat    ┆ 3             │\n",
       "└────────────────┴───────────────┘"
      ]
     },
     "execution_count": 13,
     "metadata": {},
     "output_type": "execute_result"
    }
   ],
   "source": [
    "more_cats = pl.DataFrame(\n",
    "    {\"name\": [\"Maine Coon Cat\", \"Lynx\", \"lynx\", \"Siamese Cat\"]},\n",
    "    schema={\"name\": pl.Categorical},\n",
    ")\n",
    "\n",
    "more_cats.with_columns(\n",
    "    pl.col(\"name\").alias(\"name_physical\").to_physical()\n",
    ")"
   ]
  },
  {
   "cell_type": "code",
   "execution_count": 15,
   "id": "9a9e2fe5",
   "metadata": {},
   "outputs": [
    {
     "name": "stderr",
     "output_type": "stream",
     "text": [
      "/tmp/ipykernel_45372/2655482357.py:1: CategoricalRemappingWarning: Local categoricals have different encodings, expensive re-encoding is done to perform this merge operation. Consider using a StringCache or an Enum type if the categories are known in advance\n",
      "  cats.join(more_cats, on=\"name\")\n"
     ]
    },
    {
     "data": {
      "text/html": [
       "<div><style>\n",
       ".dataframe > thead > tr,\n",
       ".dataframe > tbody > tr {\n",
       "  text-align: right;\n",
       "  white-space: pre-wrap;\n",
       "}\n",
       "</style>\n",
       "<small>shape: (2, 1)</small><table border=\"1\" class=\"dataframe\"><thead><tr><th>name</th></tr><tr><td>cat</td></tr></thead><tbody><tr><td>&quot;Lynx&quot;</td></tr><tr><td>&quot;Lynx&quot;</td></tr></tbody></table></div>"
      ],
      "text/plain": [
       "shape: (2, 1)\n",
       "┌──────┐\n",
       "│ name │\n",
       "│ ---  │\n",
       "│ cat  │\n",
       "╞══════╡\n",
       "│ Lynx │\n",
       "│ Lynx │\n",
       "└──────┘"
      ]
     },
     "execution_count": 15,
     "metadata": {},
     "output_type": "execute_result"
    }
   ],
   "source": [
    "cats.join(more_cats, on=\"name\")"
   ]
  },
  {
   "cell_type": "code",
   "execution_count": null,
   "id": "ebc41ef4",
   "metadata": {},
   "outputs": [],
   "source": [
    "bear_enum_dtype = pl.Enum([\"Polar\", \"Panda\", \"Brown\"])\n",
    "\n",
    "bear_enum_series = pl.Series(\n",
    "    [\"Polar\", \"Panda\", \"Brown\", \"Polar\"], dtype=bear_enum_dtype\n",
    ")\n",
    "\n",
    "bear_cat_series = pl.Series(\n",
    "    [\"Polar\", \"Panda\", \"Brown\", \"Brown\", \"Polar\"], dtype=pl.Categorical\n",
    ")"
   ]
  },
  {
   "cell_type": "code",
   "execution_count": 23,
   "id": "45afaa93",
   "metadata": {},
   "outputs": [
    {
     "data": {
      "text/html": [
       "<div><style>\n",
       ".dataframe > thead > tr,\n",
       ".dataframe > tbody > tr {\n",
       "  text-align: right;\n",
       "  white-space: pre-wrap;\n",
       "}\n",
       "</style>\n",
       "<small>shape: (4,)</small><table border=\"1\" class=\"dataframe\"><thead><tr><th></th></tr><tr><td>enum</td></tr></thead><tbody><tr><td>&quot;Polar&quot;</td></tr><tr><td>&quot;Panda&quot;</td></tr><tr><td>&quot;Brown&quot;</td></tr><tr><td>&quot;Polar&quot;</td></tr></tbody></table></div>"
      ],
      "text/plain": [
       "shape: (4,)\n",
       "Series: '' [enum]\n",
       "[\n",
       "\t\"Polar\"\n",
       "\t\"Panda\"\n",
       "\t\"Brown\"\n",
       "\t\"Polar\"\n",
       "]"
      ]
     },
     "execution_count": 23,
     "metadata": {},
     "output_type": "execute_result"
    }
   ],
   "source": [
    "bear_enum_series"
   ]
  },
  {
   "cell_type": "code",
   "execution_count": 24,
   "id": "3573af66",
   "metadata": {},
   "outputs": [
    {
     "data": {
      "text/html": [
       "<div><style>\n",
       ".dataframe > thead > tr,\n",
       ".dataframe > tbody > tr {\n",
       "  text-align: right;\n",
       "  white-space: pre-wrap;\n",
       "}\n",
       "</style>\n",
       "<small>shape: (5,)</small><table border=\"1\" class=\"dataframe\"><thead><tr><th></th></tr><tr><td>cat</td></tr></thead><tbody><tr><td>&quot;Polar&quot;</td></tr><tr><td>&quot;Panda&quot;</td></tr><tr><td>&quot;Brown&quot;</td></tr><tr><td>&quot;Brown&quot;</td></tr><tr><td>&quot;Polar&quot;</td></tr></tbody></table></div>"
      ],
      "text/plain": [
       "shape: (5,)\n",
       "Series: '' [cat]\n",
       "[\n",
       "\t\"Polar\"\n",
       "\t\"Panda\"\n",
       "\t\"Brown\"\n",
       "\t\"Brown\"\n",
       "\t\"Polar\"\n",
       "]"
      ]
     },
     "execution_count": 24,
     "metadata": {},
     "output_type": "execute_result"
    }
   ],
   "source": [
    "bear_cat_series"
   ]
  },
  {
   "cell_type": "code",
   "execution_count": null,
   "id": "1cb3a2de",
   "metadata": {},
   "outputs": [],
   "source": [
    "data1 = {\"name\": [\"kane\", \"bane\", \"shane\"],\n",
    "         \"type\": [\"Polar\", \"Polar\", \"Brown\"]}\n",
    "\n",
    "data2 = {\"avg_weight\": [255, 128, 512], \"type\": [\"Polar\", \"Panda\", \"Brown\"]}\n",
    "\n",
    "bear1 = pl.DataFrame(\n",
    "    data1, schema={\"name\": pl.String, \"type\": bear_enum_dtype})\n",
    "bear2 = pl.DataFrame(\n",
    "    data2, schema={\"avg_weight\": pl.Int16, \"type\": bear_enum_dtype})"
   ]
  },
  {
   "cell_type": "code",
   "execution_count": 36,
   "id": "19d04a79",
   "metadata": {},
   "outputs": [
    {
     "data": {
      "text/html": [
       "<div><style>\n",
       ".dataframe > thead > tr,\n",
       ".dataframe > tbody > tr {\n",
       "  text-align: right;\n",
       "  white-space: pre-wrap;\n",
       "}\n",
       "</style>\n",
       "<small>shape: (3, 2)</small><table border=\"1\" class=\"dataframe\"><thead><tr><th>name</th><th>type</th></tr><tr><td>str</td><td>enum</td></tr></thead><tbody><tr><td>&quot;kane&quot;</td><td>&quot;Polar&quot;</td></tr><tr><td>&quot;bane&quot;</td><td>&quot;Polar&quot;</td></tr><tr><td>&quot;shane&quot;</td><td>&quot;Brown&quot;</td></tr></tbody></table></div>"
      ],
      "text/plain": [
       "shape: (3, 2)\n",
       "┌───────┬───────┐\n",
       "│ name  ┆ type  │\n",
       "│ ---   ┆ ---   │\n",
       "│ str   ┆ enum  │\n",
       "╞═══════╪═══════╡\n",
       "│ kane  ┆ Polar │\n",
       "│ bane  ┆ Polar │\n",
       "│ shane ┆ Brown │\n",
       "└───────┴───────┘"
      ]
     },
     "execution_count": 36,
     "metadata": {},
     "output_type": "execute_result"
    }
   ],
   "source": [
    "bear1"
   ]
  },
  {
   "cell_type": "code",
   "execution_count": 37,
   "id": "2a0f63fa",
   "metadata": {},
   "outputs": [
    {
     "data": {
      "text/html": [
       "<div><style>\n",
       ".dataframe > thead > tr,\n",
       ".dataframe > tbody > tr {\n",
       "  text-align: right;\n",
       "  white-space: pre-wrap;\n",
       "}\n",
       "</style>\n",
       "<small>shape: (3, 2)</small><table border=\"1\" class=\"dataframe\"><thead><tr><th>avg_weight</th><th>type</th></tr><tr><td>i16</td><td>enum</td></tr></thead><tbody><tr><td>255</td><td>&quot;Polar&quot;</td></tr><tr><td>128</td><td>&quot;Panda&quot;</td></tr><tr><td>512</td><td>&quot;Brown&quot;</td></tr></tbody></table></div>"
      ],
      "text/plain": [
       "shape: (3, 2)\n",
       "┌────────────┬───────┐\n",
       "│ avg_weight ┆ type  │\n",
       "│ ---        ┆ ---   │\n",
       "│ i16        ┆ enum  │\n",
       "╞════════════╪═══════╡\n",
       "│ 255        ┆ Polar │\n",
       "│ 128        ┆ Panda │\n",
       "│ 512        ┆ Brown │\n",
       "└────────────┴───────┘"
      ]
     },
     "execution_count": 37,
     "metadata": {},
     "output_type": "execute_result"
    }
   ],
   "source": [
    "bear2"
   ]
  },
  {
   "cell_type": "code",
   "execution_count": 38,
   "id": "82739d8b",
   "metadata": {},
   "outputs": [
    {
     "data": {
      "text/html": [
       "<div><style>\n",
       ".dataframe > thead > tr,\n",
       ".dataframe > tbody > tr {\n",
       "  text-align: right;\n",
       "  white-space: pre-wrap;\n",
       "}\n",
       "</style>\n",
       "<small>shape: (3, 3)</small><table border=\"1\" class=\"dataframe\"><thead><tr><th>name</th><th>type</th><th>avg_weight</th></tr><tr><td>str</td><td>enum</td><td>i16</td></tr></thead><tbody><tr><td>&quot;kane&quot;</td><td>&quot;Polar&quot;</td><td>255</td></tr><tr><td>&quot;bane&quot;</td><td>&quot;Polar&quot;</td><td>255</td></tr><tr><td>&quot;shane&quot;</td><td>&quot;Brown&quot;</td><td>512</td></tr></tbody></table></div>"
      ],
      "text/plain": [
       "shape: (3, 3)\n",
       "┌───────┬───────┬────────────┐\n",
       "│ name  ┆ type  ┆ avg_weight │\n",
       "│ ---   ┆ ---   ┆ ---        │\n",
       "│ str   ┆ enum  ┆ i16        │\n",
       "╞═══════╪═══════╪════════════╡\n",
       "│ kane  ┆ Polar ┆ 255        │\n",
       "│ bane  ┆ Polar ┆ 255        │\n",
       "│ shane ┆ Brown ┆ 512        │\n",
       "└───────┴───────┴────────────┘"
      ]
     },
     "execution_count": 38,
     "metadata": {},
     "output_type": "execute_result"
    }
   ],
   "source": [
    "bear1.join(bear2, on=\"type\")"
   ]
  },
  {
   "cell_type": "markdown",
   "id": "13302228",
   "metadata": {},
   "source": [
    "time"
   ]
  },
  {
   "cell_type": "code",
   "execution_count": null,
   "id": "39d78796",
   "metadata": {},
   "outputs": [
    {
     "data": {
      "text/html": [
       "<div><style>\n",
       ".dataframe > thead > tr,\n",
       ".dataframe > tbody > tr {\n",
       "  text-align: right;\n",
       "  white-space: pre-wrap;\n",
       "}\n",
       "</style>\n",
       "<small>shape: (18_476, 8)</small><table border=\"1\" class=\"dataframe\"><thead><tr><th>symbol</th><th>date</th><th>open</th><th>high</th><th>low</th><th>close</th><th>adj close</th><th>volume</th></tr><tr><td>str</td><td>date</td><td>f64</td><td>f64</td><td>f64</td><td>f64</td><td>f64</td><td>i64</td></tr></thead><tbody><tr><td>&quot;ASML&quot;</td><td>1999-01-04</td><td>11.765625</td><td>12.28125</td><td>11.765625</td><td>12.140625</td><td>7.522523</td><td>1801867</td></tr><tr><td>&quot;ASML&quot;</td><td>1999-01-05</td><td>11.859375</td><td>14.25</td><td>11.71875</td><td>13.96875</td><td>8.655257</td><td>8241600</td></tr><tr><td>&quot;ASML&quot;</td><td>1999-01-06</td><td>14.25</td><td>17.601563</td><td>14.203125</td><td>16.875</td><td>10.456018</td><td>16400267</td></tr><tr><td>&quot;ASML&quot;</td><td>1999-01-07</td><td>14.742188</td><td>17.8125</td><td>14.53125</td><td>16.851563</td><td>10.441495</td><td>17722133</td></tr><tr><td>&quot;ASML&quot;</td><td>1999-01-08</td><td>16.078125</td><td>16.289063</td><td>15.023438</td><td>15.796875</td><td>9.787995</td><td>10696000</td></tr><tr><td>&hellip;</td><td>&hellip;</td><td>&hellip;</td><td>&hellip;</td><td>&hellip;</td><td>&hellip;</td><td>&hellip;</td><td>&hellip;</td></tr><tr><td>&quot;TSM&quot;</td><td>2023-06-26</td><td>102.019997</td><td>103.040001</td><td>100.089996</td><td>100.110001</td><td>99.125954</td><td>8560000</td></tr><tr><td>&quot;TSM&quot;</td><td>2023-06-27</td><td>101.150002</td><td>102.790001</td><td>100.019997</td><td>102.080002</td><td>101.076591</td><td>9732000</td></tr><tr><td>&quot;TSM&quot;</td><td>2023-06-28</td><td>100.5</td><td>101.879997</td><td>100.220001</td><td>100.919998</td><td>99.927986</td><td>8160900</td></tr><tr><td>&quot;TSM&quot;</td><td>2023-06-29</td><td>101.339996</td><td>101.519997</td><td>100.019997</td><td>100.639999</td><td>99.650742</td><td>7383900</td></tr><tr><td>&quot;TSM&quot;</td><td>2023-06-30</td><td>101.400002</td><td>101.889999</td><td>100.410004</td><td>100.919998</td><td>99.927986</td><td>11701700</td></tr></tbody></table></div>"
      ],
      "text/plain": [
       "shape: (18_476, 8)\n",
       "┌────────┬────────────┬────────────┬────────────┬────────────┬────────────┬────────────┬──────────┐\n",
       "│ symbol ┆ date       ┆ open       ┆ high       ┆ low        ┆ close      ┆ adj close  ┆ volume   │\n",
       "│ ---    ┆ ---        ┆ ---        ┆ ---        ┆ ---        ┆ ---        ┆ ---        ┆ ---      │\n",
       "│ str    ┆ date       ┆ f64        ┆ f64        ┆ f64        ┆ f64        ┆ f64        ┆ i64      │\n",
       "╞════════╪════════════╪════════════╪════════════╪════════════╪════════════╪════════════╪══════════╡\n",
       "│ ASML   ┆ 1999-01-04 ┆ 11.765625  ┆ 12.28125   ┆ 11.765625  ┆ 12.140625  ┆ 7.522523   ┆ 1801867  │\n",
       "│ ASML   ┆ 1999-01-05 ┆ 11.859375  ┆ 14.25      ┆ 11.71875   ┆ 13.96875   ┆ 8.655257   ┆ 8241600  │\n",
       "│ ASML   ┆ 1999-01-06 ┆ 14.25      ┆ 17.601563  ┆ 14.203125  ┆ 16.875     ┆ 10.456018  ┆ 16400267 │\n",
       "│ ASML   ┆ 1999-01-07 ┆ 14.742188  ┆ 17.8125    ┆ 14.53125   ┆ 16.851563  ┆ 10.441495  ┆ 17722133 │\n",
       "│ ASML   ┆ 1999-01-08 ┆ 16.078125  ┆ 16.289063  ┆ 15.023438  ┆ 15.796875  ┆ 9.787995   ┆ 10696000 │\n",
       "│ …      ┆ …          ┆ …          ┆ …          ┆ …          ┆ …          ┆ …          ┆ …        │\n",
       "│ TSM    ┆ 2023-06-26 ┆ 102.019997 ┆ 103.040001 ┆ 100.089996 ┆ 100.110001 ┆ 99.125954  ┆ 8560000  │\n",
       "│ TSM    ┆ 2023-06-27 ┆ 101.150002 ┆ 102.790001 ┆ 100.019997 ┆ 102.080002 ┆ 101.076591 ┆ 9732000  │\n",
       "│ TSM    ┆ 2023-06-28 ┆ 100.5      ┆ 101.879997 ┆ 100.220001 ┆ 100.919998 ┆ 99.927986  ┆ 8160900  │\n",
       "│ TSM    ┆ 2023-06-29 ┆ 101.339996 ┆ 101.519997 ┆ 100.019997 ┆ 100.639999 ┆ 99.650742  ┆ 7383900  │\n",
       "│ TSM    ┆ 2023-06-30 ┆ 101.400002 ┆ 101.889999 ┆ 100.410004 ┆ 100.919998 ┆ 99.927986  ┆ 11701700 │\n",
       "└────────┴────────────┴────────────┴────────────┴────────────┴────────────┴────────────┴──────────┘"
      ]
     },
     "execution_count": 39,
     "metadata": {},
     "output_type": "execute_result"
    }
   ],
   "source": [
    "pl.read_csv(\"data/all_stocks.csv\", try_parse_dates=True)"
   ]
  }
 ],
 "metadata": {
  "kernelspec": {
   "display_name": ".venv",
   "language": "python",
   "name": "python3"
  },
  "language_info": {
   "codemirror_mode": {
    "name": "ipython",
    "version": 3
   },
   "file_extension": ".py",
   "mimetype": "text/x-python",
   "name": "python",
   "nbconvert_exporter": "python",
   "pygments_lexer": "ipython3",
   "version": "3.12.9"
  }
 },
 "nbformat": 4,
 "nbformat_minor": 5
}
