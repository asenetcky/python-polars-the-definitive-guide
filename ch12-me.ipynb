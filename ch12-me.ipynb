{
 "cells": [
  {
   "cell_type": "code",
   "execution_count": 1,
   "id": "4de74fc3",
   "metadata": {},
   "outputs": [],
   "source": [
    "import polars as pl"
   ]
  },
  {
   "cell_type": "markdown",
   "id": "2080f976",
   "metadata": {},
   "source": [
    "working with text, temporal and ensted data types\n"
   ]
  },
  {
   "cell_type": "markdown",
   "id": "89985c41",
   "metadata": {},
   "source": [
    "string methods"
   ]
  },
  {
   "cell_type": "code",
   "execution_count": 2,
   "id": "b982c48b",
   "metadata": {},
   "outputs": [
    {
     "data": {
      "text/html": [
       "<div><style>\n",
       ".dataframe > thead > tr,\n",
       ".dataframe > tbody > tr {\n",
       "  text-align: right;\n",
       "  white-space: pre-wrap;\n",
       "}\n",
       "</style>\n",
       "<small>shape: (3, 1)</small><table border=\"1\" class=\"dataframe\"><thead><tr><th>raw_text</th></tr><tr><td>str</td></tr></thead><tbody><tr><td>&quot; Data Science is amazing&quot;</td></tr><tr><td>&quot;Data_analysis &gt; Data entry&quot;</td></tr><tr><td>&quot; Python&amp;Polars;Fast&quot;</td></tr></tbody></table></div>"
      ],
      "text/plain": [
       "shape: (3, 1)\n",
       "┌────────────────────────────┐\n",
       "│ raw_text                   │\n",
       "│ ---                        │\n",
       "│ str                        │\n",
       "╞════════════════════════════╡\n",
       "│  Data Science is amazing   │\n",
       "│ Data_analysis > Data entry │\n",
       "│  Python&Polars;Fast        │\n",
       "└────────────────────────────┘"
      ]
     },
     "execution_count": 2,
     "metadata": {},
     "output_type": "execute_result"
    }
   ],
   "source": [
    "corpus = pl.DataFrame(\n",
    "    {\n",
    "        \"raw_text\": [\n",
    "            \" Data Science is amazing\",\n",
    "            \"Data_analysis > Data entry\",\n",
    "            \" Python&Polars;Fast\",\n",
    "        ]\n",
    "    }\n",
    ")\n",
    "corpus"
   ]
  },
  {
   "cell_type": "markdown",
   "id": "79d56ead",
   "metadata": {},
   "source": [
    "just me playing around "
   ]
  },
  {
   "cell_type": "code",
   "execution_count": 3,
   "id": "40da6c3b",
   "metadata": {},
   "outputs": [
    {
     "data": {
      "text/html": [
       "<div><style>\n",
       ".dataframe > thead > tr,\n",
       ".dataframe > tbody > tr {\n",
       "  text-align: right;\n",
       "  white-space: pre-wrap;\n",
       "}\n",
       "</style>\n",
       "<small>shape: (8, 2)</small><table border=\"1\" class=\"dataframe\"><thead><tr><th>id</th><th>unique_token</th></tr><tr><td>u32</td><td>str</td></tr></thead><tbody><tr><td>0</td><td>&quot;amazing&quot;</td></tr><tr><td>1</td><td>&quot;Data_analysis&quot;</td></tr><tr><td>2</td><td>&quot;Science&quot;</td></tr><tr><td>3</td><td>&quot;Data&quot;</td></tr><tr><td>4</td><td>&quot;is&quot;</td></tr><tr><td>5</td><td>&quot;entry&quot;</td></tr><tr><td>6</td><td>&quot;Python&amp;Polars;Fast&quot;</td></tr><tr><td>7</td><td>&quot;&gt;&quot;</td></tr></tbody></table></div>"
      ],
      "text/plain": [
       "shape: (8, 2)\n",
       "┌─────┬────────────────────┐\n",
       "│ id  ┆ unique_token       │\n",
       "│ --- ┆ ---                │\n",
       "│ u32 ┆ str                │\n",
       "╞═════╪════════════════════╡\n",
       "│ 0   ┆ amazing            │\n",
       "│ 1   ┆ Data_analysis      │\n",
       "│ 2   ┆ Science            │\n",
       "│ 3   ┆ Data               │\n",
       "│ 4   ┆ is                 │\n",
       "│ 5   ┆ entry              │\n",
       "│ 6   ┆ Python&Polars;Fast │\n",
       "│ 7   ┆ >                  │\n",
       "└─────┴────────────────────┘"
      ]
     },
     "execution_count": 3,
     "metadata": {},
     "output_type": "execute_result"
    }
   ],
   "source": [
    "(\n",
    "    corpus.select(pl.col(\"raw_text\").str.split(\" \").explode().alias(\"token\"))\n",
    "    .filter(pl.col(\"token\") != \"\")\n",
    "    .select(pl.col(\"token\").unique().alias(\"unique_token\"))\n",
    "    .with_row_index(\"id\")\n",
    ")"
   ]
  },
  {
   "cell_type": "code",
   "execution_count": 4,
   "id": "c7ffe8f5",
   "metadata": {},
   "outputs": [
    {
     "data": {
      "text/html": [
       "<div><style>\n",
       ".dataframe > thead > tr,\n",
       ".dataframe > tbody > tr {\n",
       "  text-align: right;\n",
       "  white-space: pre-wrap;\n",
       "}\n",
       "</style>\n",
       "<small>shape: (3, 2)</small><table border=\"1\" class=\"dataframe\"><thead><tr><th>raw_text</th><th>processed_text</th></tr><tr><td>str</td><td>str</td></tr></thead><tbody><tr><td>&quot; Data Science is amazing&quot;</td><td>&quot;data science is amazing&quot;</td></tr><tr><td>&quot;Data_analysis &gt; Data entry&quot;</td><td>&quot;dataanalysis &gt; data entry&quot;</td></tr><tr><td>&quot; Python&amp;Polars;Fast&quot;</td><td>&quot;python&amp;polars;fast&quot;</td></tr></tbody></table></div>"
      ],
      "text/plain": [
       "shape: (3, 2)\n",
       "┌────────────────────────────┬───────────────────────────┐\n",
       "│ raw_text                   ┆ processed_text            │\n",
       "│ ---                        ┆ ---                       │\n",
       "│ str                        ┆ str                       │\n",
       "╞════════════════════════════╪═══════════════════════════╡\n",
       "│  Data Science is amazing   ┆ data science is amazing   │\n",
       "│ Data_analysis > Data entry ┆ dataanalysis > data entry │\n",
       "│  Python&Polars;Fast        ┆ python&polars;fast        │\n",
       "└────────────────────────────┴───────────────────────────┘"
      ]
     },
     "execution_count": 4,
     "metadata": {},
     "output_type": "execute_result"
    }
   ],
   "source": [
    "corpus = corpus.with_columns(\n",
    "    processed_text=pl.col(\"raw_text\")\n",
    "    .str.strip_chars()\n",
    "    .str.to_lowercase()\n",
    "    .str.replace_all(\"_\", \"\")\n",
    ")\n",
    "corpus"
   ]
  },
  {
   "cell_type": "code",
   "execution_count": 5,
   "id": "e9b53097",
   "metadata": {},
   "outputs": [
    {
     "data": {
      "text/html": [
       "<div><style>\n",
       ".dataframe > thead > tr,\n",
       ".dataframe > tbody > tr {\n",
       "  text-align: right;\n",
       "  white-space: pre-wrap;\n",
       "}\n",
       "</style>\n",
       "<small>shape: (3, 5)</small><table border=\"1\" class=\"dataframe\"><thead><tr><th>raw_text</th><th>processed_text</th><th>first_5_chars</th><th>first_word</th><th>second_word</th></tr><tr><td>str</td><td>str</td><td>str</td><td>str</td><td>str</td></tr></thead><tbody><tr><td>&quot; Data Science is amazing&quot;</td><td>&quot;data science is amazing&quot;</td><td>&quot;data &quot;</td><td>&quot;d&quot;</td><td>&quot;a&quot;</td></tr><tr><td>&quot;Data_analysis &gt; Data entry&quot;</td><td>&quot;dataanalysis &gt; data entry&quot;</td><td>&quot;dataa&quot;</td><td>&quot;d&quot;</td><td>&quot;a&quot;</td></tr><tr><td>&quot; Python&amp;Polars;Fast&quot;</td><td>&quot;python&amp;polars;fast&quot;</td><td>&quot;pytho&quot;</td><td>&quot;p&quot;</td><td>&quot;y&quot;</td></tr></tbody></table></div>"
      ],
      "text/plain": [
       "shape: (3, 5)\n",
       "┌───────────────────────────┬───────────────────────────┬───────────────┬────────────┬─────────────┐\n",
       "│ raw_text                  ┆ processed_text            ┆ first_5_chars ┆ first_word ┆ second_word │\n",
       "│ ---                       ┆ ---                       ┆ ---           ┆ ---        ┆ ---         │\n",
       "│ str                       ┆ str                       ┆ str           ┆ str        ┆ str         │\n",
       "╞═══════════════════════════╪═══════════════════════════╪═══════════════╪════════════╪═════════════╡\n",
       "│  Data Science is amazing  ┆ data science is amazing   ┆ data          ┆ d          ┆ a           │\n",
       "│ Data_analysis > Data      ┆ dataanalysis > data entry ┆ dataa         ┆ d          ┆ a           │\n",
       "│ entry                     ┆                           ┆               ┆            ┆             │\n",
       "│  Python&Polars;Fast       ┆ python&polars;fast        ┆ pytho         ┆ p          ┆ y           │\n",
       "└───────────────────────────┴───────────────────────────┴───────────────┴────────────┴─────────────┘"
      ]
     },
     "execution_count": 5,
     "metadata": {},
     "output_type": "execute_result"
    }
   ],
   "source": [
    "corpus.with_columns(\n",
    "    first_5_chars=pl.col(\"processed_text\").str.slice(0, 5),\n",
    "    first_word=pl.col(\"processed_text\").str.split(\"\").list.get(0),\n",
    "    second_word=pl.col(\"processed_text\").str.split(\"\").list.get(1),\n",
    ")"
   ]
  },
  {
   "cell_type": "code",
   "execution_count": 6,
   "id": "b7629f08",
   "metadata": {},
   "outputs": [
    {
     "data": {
      "text/html": [
       "<div><style>\n",
       ".dataframe > thead > tr,\n",
       ".dataframe > tbody > tr {\n",
       "  text-align: right;\n",
       "  white-space: pre-wrap;\n",
       "}\n",
       "</style>\n",
       "<small>shape: (3, 5)</small><table border=\"1\" class=\"dataframe\"><thead><tr><th>raw_text</th><th>processed_text</th><th>len_chars</th><th>len_bytes</th><th>count_a</th></tr><tr><td>str</td><td>str</td><td>u32</td><td>u32</td><td>u32</td></tr></thead><tbody><tr><td>&quot; Data Science is amazing&quot;</td><td>&quot;data science is amazing&quot;</td><td>23</td><td>23</td><td>4</td></tr><tr><td>&quot;Data_analysis &gt; Data entry&quot;</td><td>&quot;dataanalysis &gt; data entry&quot;</td><td>25</td><td>25</td><td>6</td></tr><tr><td>&quot; Python&amp;Polars;Fast&quot;</td><td>&quot;python&amp;polars;fast&quot;</td><td>18</td><td>18</td><td>2</td></tr></tbody></table></div>"
      ],
      "text/plain": [
       "shape: (3, 5)\n",
       "┌────────────────────────────┬───────────────────────────┬───────────┬───────────┬─────────┐\n",
       "│ raw_text                   ┆ processed_text            ┆ len_chars ┆ len_bytes ┆ count_a │\n",
       "│ ---                        ┆ ---                       ┆ ---       ┆ ---       ┆ ---     │\n",
       "│ str                        ┆ str                       ┆ u32       ┆ u32       ┆ u32     │\n",
       "╞════════════════════════════╪═══════════════════════════╪═══════════╪═══════════╪═════════╡\n",
       "│  Data Science is amazing   ┆ data science is amazing   ┆ 23        ┆ 23        ┆ 4       │\n",
       "│ Data_analysis > Data entry ┆ dataanalysis > data entry ┆ 25        ┆ 25        ┆ 6       │\n",
       "│  Python&Polars;Fast        ┆ python&polars;fast        ┆ 18        ┆ 18        ┆ 2       │\n",
       "└────────────────────────────┴───────────────────────────┴───────────┴───────────┴─────────┘"
      ]
     },
     "execution_count": 6,
     "metadata": {},
     "output_type": "execute_result"
    }
   ],
   "source": [
    "corpus.with_columns(\n",
    "    len_chars=pl.col(\"processed_text\").str.len_chars(),\n",
    "    len_bytes=pl.col(\"processed_text\").str.len_bytes(),\n",
    "    count_a=pl.col(\"processed_text\").str.count_matches(\n",
    "        \"a\",\n",
    "    ),\n",
    ")"
   ]
  },
  {
   "cell_type": "code",
   "execution_count": 7,
   "id": "ae7b8900",
   "metadata": {},
   "outputs": [],
   "source": [
    "posts = pl.DataFrame(\n",
    "    {\"post\": [\"Loving #python and #polars!\", \"a boomer post without a hashtag\"]}\n",
    ")"
   ]
  },
  {
   "cell_type": "code",
   "execution_count": 8,
   "id": "d09f4b11",
   "metadata": {},
   "outputs": [
    {
     "data": {
      "text/html": [
       "<div><style>\n",
       ".dataframe > thead > tr,\n",
       ".dataframe > tbody > tr {\n",
       "  text-align: right;\n",
       "  white-space: pre-wrap;\n",
       "}\n",
       "</style>\n",
       "<small>shape: (2, 2)</small><table border=\"1\" class=\"dataframe\"><thead><tr><th>post</th><th>hashtags</th></tr><tr><td>str</td><td>list[str]</td></tr></thead><tbody><tr><td>&quot;Loving #python and #polars!&quot;</td><td>[&quot;#python&quot;, &quot;#polars&quot;]</td></tr><tr><td>&quot;a boomer post without a hashta…</td><td>[]</td></tr></tbody></table></div>"
      ],
      "text/plain": [
       "shape: (2, 2)\n",
       "┌─────────────────────────────────┬────────────────────────┐\n",
       "│ post                            ┆ hashtags               │\n",
       "│ ---                             ┆ ---                    │\n",
       "│ str                             ┆ list[str]              │\n",
       "╞═════════════════════════════════╪════════════════════════╡\n",
       "│ Loving #python and #polars!     ┆ [\"#python\", \"#polars\"] │\n",
       "│ a boomer post without a hashta… ┆ []                     │\n",
       "└─────────────────────────────────┴────────────────────────┘"
      ]
     },
     "execution_count": 8,
     "metadata": {},
     "output_type": "execute_result"
    }
   ],
   "source": [
    "hashtag_regex = r\"#(\\w+)\"\n",
    "\n",
    "posts.with_columns(hashtags=pl.col(\"post\").str.extract_all(hashtag_regex))"
   ]
  },
  {
   "cell_type": "markdown",
   "id": "1e044a00",
   "metadata": {},
   "source": [
    "categorical stuff"
   ]
  },
  {
   "cell_type": "code",
   "execution_count": 9,
   "id": "e2871464",
   "metadata": {},
   "outputs": [
    {
     "data": {
      "text/html": [
       "<div><style>\n",
       ".dataframe > thead > tr,\n",
       ".dataframe > tbody > tr {\n",
       "  text-align: right;\n",
       "  white-space: pre-wrap;\n",
       "}\n",
       "</style>\n",
       "<small>shape: (4, 2)</small><table border=\"1\" class=\"dataframe\"><thead><tr><th>name</th><th>name_physical</th></tr><tr><td>cat</td><td>u32</td></tr></thead><tbody><tr><td>&quot;Persian cat&quot;</td><td>0</td></tr><tr><td>&quot;Siamese cat&quot;</td><td>1</td></tr><tr><td>&quot;Lynx&quot;</td><td>2</td></tr><tr><td>&quot;Lynx&quot;</td><td>2</td></tr></tbody></table></div>"
      ],
      "text/plain": [
       "shape: (4, 2)\n",
       "┌─────────────┬───────────────┐\n",
       "│ name        ┆ name_physical │\n",
       "│ ---         ┆ ---           │\n",
       "│ cat         ┆ u32           │\n",
       "╞═════════════╪═══════════════╡\n",
       "│ Persian cat ┆ 0             │\n",
       "│ Siamese cat ┆ 1             │\n",
       "│ Lynx        ┆ 2             │\n",
       "│ Lynx        ┆ 2             │\n",
       "└─────────────┴───────────────┘"
      ]
     },
     "execution_count": 9,
     "metadata": {},
     "output_type": "execute_result"
    }
   ],
   "source": [
    "cats = pl.DataFrame(\n",
    "    {\"name\": [\"Persian cat\", \"Siamese cat\", \"Lynx\", \"Lynx\"]},\n",
    "    schema={\"name\": pl.Categorical},\n",
    ")\n",
    "\n",
    "cats.with_columns(name_physical=pl.col(\"name\").to_physical())"
   ]
  },
  {
   "cell_type": "code",
   "execution_count": 10,
   "id": "465d839f",
   "metadata": {},
   "outputs": [
    {
     "data": {
      "text/html": [
       "<div><style>\n",
       ".dataframe > thead > tr,\n",
       ".dataframe > tbody > tr {\n",
       "  text-align: right;\n",
       "  white-space: pre-wrap;\n",
       "}\n",
       "</style>\n",
       "<small>shape: (4, 2)</small><table border=\"1\" class=\"dataframe\"><thead><tr><th>name</th><th>name_physical</th></tr><tr><td>cat</td><td>u32</td></tr></thead><tbody><tr><td>&quot;Maine Coon Cat&quot;</td><td>0</td></tr><tr><td>&quot;Lynx&quot;</td><td>1</td></tr><tr><td>&quot;lynx&quot;</td><td>2</td></tr><tr><td>&quot;Siamese Cat&quot;</td><td>3</td></tr></tbody></table></div>"
      ],
      "text/plain": [
       "shape: (4, 2)\n",
       "┌────────────────┬───────────────┐\n",
       "│ name           ┆ name_physical │\n",
       "│ ---            ┆ ---           │\n",
       "│ cat            ┆ u32           │\n",
       "╞════════════════╪═══════════════╡\n",
       "│ Maine Coon Cat ┆ 0             │\n",
       "│ Lynx           ┆ 1             │\n",
       "│ lynx           ┆ 2             │\n",
       "│ Siamese Cat    ┆ 3             │\n",
       "└────────────────┴───────────────┘"
      ]
     },
     "execution_count": 10,
     "metadata": {},
     "output_type": "execute_result"
    }
   ],
   "source": [
    "more_cats = pl.DataFrame(\n",
    "    {\"name\": [\"Maine Coon Cat\", \"Lynx\", \"lynx\", \"Siamese Cat\"]},\n",
    "    schema={\"name\": pl.Categorical},\n",
    ")\n",
    "\n",
    "more_cats.with_columns(pl.col(\"name\").alias(\"name_physical\").to_physical())"
   ]
  },
  {
   "cell_type": "code",
   "execution_count": 11,
   "id": "9a9e2fe5",
   "metadata": {},
   "outputs": [
    {
     "name": "stderr",
     "output_type": "stream",
     "text": [
      "/tmp/ipykernel_764/2655482357.py:1: CategoricalRemappingWarning: Local categoricals have different encodings, expensive re-encoding is done to perform this merge operation. Consider using a StringCache or an Enum type if the categories are known in advance\n",
      "  cats.join(more_cats, on=\"name\")\n"
     ]
    },
    {
     "data": {
      "text/html": [
       "<div><style>\n",
       ".dataframe > thead > tr,\n",
       ".dataframe > tbody > tr {\n",
       "  text-align: right;\n",
       "  white-space: pre-wrap;\n",
       "}\n",
       "</style>\n",
       "<small>shape: (2, 1)</small><table border=\"1\" class=\"dataframe\"><thead><tr><th>name</th></tr><tr><td>cat</td></tr></thead><tbody><tr><td>&quot;Lynx&quot;</td></tr><tr><td>&quot;Lynx&quot;</td></tr></tbody></table></div>"
      ],
      "text/plain": [
       "shape: (2, 1)\n",
       "┌──────┐\n",
       "│ name │\n",
       "│ ---  │\n",
       "│ cat  │\n",
       "╞══════╡\n",
       "│ Lynx │\n",
       "│ Lynx │\n",
       "└──────┘"
      ]
     },
     "execution_count": 11,
     "metadata": {},
     "output_type": "execute_result"
    }
   ],
   "source": [
    "cats.join(more_cats, on=\"name\")"
   ]
  },
  {
   "cell_type": "code",
   "execution_count": 12,
   "id": "ebc41ef4",
   "metadata": {},
   "outputs": [],
   "source": [
    "bear_enum_dtype = pl.Enum([\"Polar\", \"Panda\", \"Brown\"])\n",
    "\n",
    "bear_enum_series = pl.Series(\n",
    "    [\"Polar\", \"Panda\", \"Brown\", \"Polar\"], dtype=bear_enum_dtype\n",
    ")\n",
    "\n",
    "bear_cat_series = pl.Series(\n",
    "    [\"Polar\", \"Panda\", \"Brown\", \"Brown\", \"Polar\"], dtype=pl.Categorical\n",
    ")"
   ]
  },
  {
   "cell_type": "code",
   "execution_count": 13,
   "id": "45afaa93",
   "metadata": {},
   "outputs": [
    {
     "data": {
      "text/html": [
       "<div><style>\n",
       ".dataframe > thead > tr,\n",
       ".dataframe > tbody > tr {\n",
       "  text-align: right;\n",
       "  white-space: pre-wrap;\n",
       "}\n",
       "</style>\n",
       "<small>shape: (4,)</small><table border=\"1\" class=\"dataframe\"><thead><tr><th></th></tr><tr><td>enum</td></tr></thead><tbody><tr><td>&quot;Polar&quot;</td></tr><tr><td>&quot;Panda&quot;</td></tr><tr><td>&quot;Brown&quot;</td></tr><tr><td>&quot;Polar&quot;</td></tr></tbody></table></div>"
      ],
      "text/plain": [
       "shape: (4,)\n",
       "Series: '' [enum]\n",
       "[\n",
       "\t\"Polar\"\n",
       "\t\"Panda\"\n",
       "\t\"Brown\"\n",
       "\t\"Polar\"\n",
       "]"
      ]
     },
     "execution_count": 13,
     "metadata": {},
     "output_type": "execute_result"
    }
   ],
   "source": [
    "bear_enum_series"
   ]
  },
  {
   "cell_type": "code",
   "execution_count": 14,
   "id": "3573af66",
   "metadata": {},
   "outputs": [
    {
     "data": {
      "text/html": [
       "<div><style>\n",
       ".dataframe > thead > tr,\n",
       ".dataframe > tbody > tr {\n",
       "  text-align: right;\n",
       "  white-space: pre-wrap;\n",
       "}\n",
       "</style>\n",
       "<small>shape: (5,)</small><table border=\"1\" class=\"dataframe\"><thead><tr><th></th></tr><tr><td>cat</td></tr></thead><tbody><tr><td>&quot;Polar&quot;</td></tr><tr><td>&quot;Panda&quot;</td></tr><tr><td>&quot;Brown&quot;</td></tr><tr><td>&quot;Brown&quot;</td></tr><tr><td>&quot;Polar&quot;</td></tr></tbody></table></div>"
      ],
      "text/plain": [
       "shape: (5,)\n",
       "Series: '' [cat]\n",
       "[\n",
       "\t\"Polar\"\n",
       "\t\"Panda\"\n",
       "\t\"Brown\"\n",
       "\t\"Brown\"\n",
       "\t\"Polar\"\n",
       "]"
      ]
     },
     "execution_count": 14,
     "metadata": {},
     "output_type": "execute_result"
    }
   ],
   "source": [
    "bear_cat_series"
   ]
  },
  {
   "cell_type": "code",
   "execution_count": 15,
   "id": "1cb3a2de",
   "metadata": {},
   "outputs": [],
   "source": [
    "data1 = {\"name\": [\"kane\", \"bane\", \"shane\"], \"type\": [\"Polar\", \"Polar\", \"Brown\"]}\n",
    "\n",
    "data2 = {\"avg_weight\": [255, 128, 512], \"type\": [\"Polar\", \"Panda\", \"Brown\"]}\n",
    "\n",
    "bear1 = pl.DataFrame(data1, schema={\"name\": pl.String, \"type\": bear_enum_dtype})\n",
    "bear2 = pl.DataFrame(data2, schema={\"avg_weight\": pl.Int16, \"type\": bear_enum_dtype})"
   ]
  },
  {
   "cell_type": "code",
   "execution_count": 16,
   "id": "19d04a79",
   "metadata": {},
   "outputs": [
    {
     "data": {
      "text/html": [
       "<div><style>\n",
       ".dataframe > thead > tr,\n",
       ".dataframe > tbody > tr {\n",
       "  text-align: right;\n",
       "  white-space: pre-wrap;\n",
       "}\n",
       "</style>\n",
       "<small>shape: (3, 2)</small><table border=\"1\" class=\"dataframe\"><thead><tr><th>name</th><th>type</th></tr><tr><td>str</td><td>enum</td></tr></thead><tbody><tr><td>&quot;kane&quot;</td><td>&quot;Polar&quot;</td></tr><tr><td>&quot;bane&quot;</td><td>&quot;Polar&quot;</td></tr><tr><td>&quot;shane&quot;</td><td>&quot;Brown&quot;</td></tr></tbody></table></div>"
      ],
      "text/plain": [
       "shape: (3, 2)\n",
       "┌───────┬───────┐\n",
       "│ name  ┆ type  │\n",
       "│ ---   ┆ ---   │\n",
       "│ str   ┆ enum  │\n",
       "╞═══════╪═══════╡\n",
       "│ kane  ┆ Polar │\n",
       "│ bane  ┆ Polar │\n",
       "│ shane ┆ Brown │\n",
       "└───────┴───────┘"
      ]
     },
     "execution_count": 16,
     "metadata": {},
     "output_type": "execute_result"
    }
   ],
   "source": [
    "bear1"
   ]
  },
  {
   "cell_type": "code",
   "execution_count": 17,
   "id": "2a0f63fa",
   "metadata": {},
   "outputs": [
    {
     "data": {
      "text/html": [
       "<div><style>\n",
       ".dataframe > thead > tr,\n",
       ".dataframe > tbody > tr {\n",
       "  text-align: right;\n",
       "  white-space: pre-wrap;\n",
       "}\n",
       "</style>\n",
       "<small>shape: (3, 2)</small><table border=\"1\" class=\"dataframe\"><thead><tr><th>avg_weight</th><th>type</th></tr><tr><td>i16</td><td>enum</td></tr></thead><tbody><tr><td>255</td><td>&quot;Polar&quot;</td></tr><tr><td>128</td><td>&quot;Panda&quot;</td></tr><tr><td>512</td><td>&quot;Brown&quot;</td></tr></tbody></table></div>"
      ],
      "text/plain": [
       "shape: (3, 2)\n",
       "┌────────────┬───────┐\n",
       "│ avg_weight ┆ type  │\n",
       "│ ---        ┆ ---   │\n",
       "│ i16        ┆ enum  │\n",
       "╞════════════╪═══════╡\n",
       "│ 255        ┆ Polar │\n",
       "│ 128        ┆ Panda │\n",
       "│ 512        ┆ Brown │\n",
       "└────────────┴───────┘"
      ]
     },
     "execution_count": 17,
     "metadata": {},
     "output_type": "execute_result"
    }
   ],
   "source": [
    "bear2"
   ]
  },
  {
   "cell_type": "code",
   "execution_count": 18,
   "id": "82739d8b",
   "metadata": {},
   "outputs": [
    {
     "data": {
      "text/html": [
       "<div><style>\n",
       ".dataframe > thead > tr,\n",
       ".dataframe > tbody > tr {\n",
       "  text-align: right;\n",
       "  white-space: pre-wrap;\n",
       "}\n",
       "</style>\n",
       "<small>shape: (3, 3)</small><table border=\"1\" class=\"dataframe\"><thead><tr><th>name</th><th>type</th><th>avg_weight</th></tr><tr><td>str</td><td>enum</td><td>i16</td></tr></thead><tbody><tr><td>&quot;kane&quot;</td><td>&quot;Polar&quot;</td><td>255</td></tr><tr><td>&quot;bane&quot;</td><td>&quot;Polar&quot;</td><td>255</td></tr><tr><td>&quot;shane&quot;</td><td>&quot;Brown&quot;</td><td>512</td></tr></tbody></table></div>"
      ],
      "text/plain": [
       "shape: (3, 3)\n",
       "┌───────┬───────┬────────────┐\n",
       "│ name  ┆ type  ┆ avg_weight │\n",
       "│ ---   ┆ ---   ┆ ---        │\n",
       "│ str   ┆ enum  ┆ i16        │\n",
       "╞═══════╪═══════╪════════════╡\n",
       "│ kane  ┆ Polar ┆ 255        │\n",
       "│ bane  ┆ Polar ┆ 255        │\n",
       "│ shane ┆ Brown ┆ 512        │\n",
       "└───────┴───────┴────────────┘"
      ]
     },
     "execution_count": 18,
     "metadata": {},
     "output_type": "execute_result"
    }
   ],
   "source": [
    "bear1.join(bear2, on=\"type\")"
   ]
  },
  {
   "cell_type": "markdown",
   "id": "13302228",
   "metadata": {},
   "source": [
    "time"
   ]
  },
  {
   "cell_type": "code",
   "execution_count": 19,
   "id": "39d78796",
   "metadata": {},
   "outputs": [
    {
     "data": {
      "text/html": [
       "<div><style>\n",
       ".dataframe > thead > tr,\n",
       ".dataframe > tbody > tr {\n",
       "  text-align: right;\n",
       "  white-space: pre-wrap;\n",
       "}\n",
       "</style>\n",
       "<small>shape: (18_476, 8)</small><table border=\"1\" class=\"dataframe\"><thead><tr><th>symbol</th><th>date</th><th>open</th><th>high</th><th>low</th><th>close</th><th>adj close</th><th>volume</th></tr><tr><td>str</td><td>date</td><td>f64</td><td>f64</td><td>f64</td><td>f64</td><td>f64</td><td>i64</td></tr></thead><tbody><tr><td>&quot;ASML&quot;</td><td>1999-01-04</td><td>11.765625</td><td>12.28125</td><td>11.765625</td><td>12.140625</td><td>7.522523</td><td>1801867</td></tr><tr><td>&quot;ASML&quot;</td><td>1999-01-05</td><td>11.859375</td><td>14.25</td><td>11.71875</td><td>13.96875</td><td>8.655257</td><td>8241600</td></tr><tr><td>&quot;ASML&quot;</td><td>1999-01-06</td><td>14.25</td><td>17.601563</td><td>14.203125</td><td>16.875</td><td>10.456018</td><td>16400267</td></tr><tr><td>&quot;ASML&quot;</td><td>1999-01-07</td><td>14.742188</td><td>17.8125</td><td>14.53125</td><td>16.851563</td><td>10.441495</td><td>17722133</td></tr><tr><td>&quot;ASML&quot;</td><td>1999-01-08</td><td>16.078125</td><td>16.289063</td><td>15.023438</td><td>15.796875</td><td>9.787995</td><td>10696000</td></tr><tr><td>&hellip;</td><td>&hellip;</td><td>&hellip;</td><td>&hellip;</td><td>&hellip;</td><td>&hellip;</td><td>&hellip;</td><td>&hellip;</td></tr><tr><td>&quot;TSM&quot;</td><td>2023-06-26</td><td>102.019997</td><td>103.040001</td><td>100.089996</td><td>100.110001</td><td>99.125954</td><td>8560000</td></tr><tr><td>&quot;TSM&quot;</td><td>2023-06-27</td><td>101.150002</td><td>102.790001</td><td>100.019997</td><td>102.080002</td><td>101.076591</td><td>9732000</td></tr><tr><td>&quot;TSM&quot;</td><td>2023-06-28</td><td>100.5</td><td>101.879997</td><td>100.220001</td><td>100.919998</td><td>99.927986</td><td>8160900</td></tr><tr><td>&quot;TSM&quot;</td><td>2023-06-29</td><td>101.339996</td><td>101.519997</td><td>100.019997</td><td>100.639999</td><td>99.650742</td><td>7383900</td></tr><tr><td>&quot;TSM&quot;</td><td>2023-06-30</td><td>101.400002</td><td>101.889999</td><td>100.410004</td><td>100.919998</td><td>99.927986</td><td>11701700</td></tr></tbody></table></div>"
      ],
      "text/plain": [
       "shape: (18_476, 8)\n",
       "┌────────┬────────────┬────────────┬────────────┬────────────┬────────────┬────────────┬──────────┐\n",
       "│ symbol ┆ date       ┆ open       ┆ high       ┆ low        ┆ close      ┆ adj close  ┆ volume   │\n",
       "│ ---    ┆ ---        ┆ ---        ┆ ---        ┆ ---        ┆ ---        ┆ ---        ┆ ---      │\n",
       "│ str    ┆ date       ┆ f64        ┆ f64        ┆ f64        ┆ f64        ┆ f64        ┆ i64      │\n",
       "╞════════╪════════════╪════════════╪════════════╪════════════╪════════════╪════════════╪══════════╡\n",
       "│ ASML   ┆ 1999-01-04 ┆ 11.765625  ┆ 12.28125   ┆ 11.765625  ┆ 12.140625  ┆ 7.522523   ┆ 1801867  │\n",
       "│ ASML   ┆ 1999-01-05 ┆ 11.859375  ┆ 14.25      ┆ 11.71875   ┆ 13.96875   ┆ 8.655257   ┆ 8241600  │\n",
       "│ ASML   ┆ 1999-01-06 ┆ 14.25      ┆ 17.601563  ┆ 14.203125  ┆ 16.875     ┆ 10.456018  ┆ 16400267 │\n",
       "│ ASML   ┆ 1999-01-07 ┆ 14.742188  ┆ 17.8125    ┆ 14.53125   ┆ 16.851563  ┆ 10.441495  ┆ 17722133 │\n",
       "│ ASML   ┆ 1999-01-08 ┆ 16.078125  ┆ 16.289063  ┆ 15.023438  ┆ 15.796875  ┆ 9.787995   ┆ 10696000 │\n",
       "│ …      ┆ …          ┆ …          ┆ …          ┆ …          ┆ …          ┆ …          ┆ …        │\n",
       "│ TSM    ┆ 2023-06-26 ┆ 102.019997 ┆ 103.040001 ┆ 100.089996 ┆ 100.110001 ┆ 99.125954  ┆ 8560000  │\n",
       "│ TSM    ┆ 2023-06-27 ┆ 101.150002 ┆ 102.790001 ┆ 100.019997 ┆ 102.080002 ┆ 101.076591 ┆ 9732000  │\n",
       "│ TSM    ┆ 2023-06-28 ┆ 100.5      ┆ 101.879997 ┆ 100.220001 ┆ 100.919998 ┆ 99.927986  ┆ 8160900  │\n",
       "│ TSM    ┆ 2023-06-29 ┆ 101.339996 ┆ 101.519997 ┆ 100.019997 ┆ 100.639999 ┆ 99.650742  ┆ 7383900  │\n",
       "│ TSM    ┆ 2023-06-30 ┆ 101.400002 ┆ 101.889999 ┆ 100.410004 ┆ 100.919998 ┆ 99.927986  ┆ 11701700 │\n",
       "└────────┴────────────┴────────────┴────────────┴────────────┴────────────┴────────────┴──────────┘"
      ]
     },
     "execution_count": 19,
     "metadata": {},
     "output_type": "execute_result"
    }
   ],
   "source": [
    "pl.read_csv(\"data/all_stocks.csv\", try_parse_dates=True)"
   ]
  },
  {
   "cell_type": "code",
   "execution_count": null,
   "id": "d6b6b9c6",
   "metadata": {},
   "outputs": [],
   "source": [
    "dates = pl.DataFrame({\"date_str\": [\"2023-12-31\", \"2024-02-29\"]}).with_columns(\n",
    "    date=pl.col(\"date_str\").str.to_date(\"%Y-%m-%d\")\n",
    ")"
   ]
  },
  {
   "cell_type": "code",
   "execution_count": 21,
   "id": "71ed9ce0",
   "metadata": {},
   "outputs": [
    {
     "data": {
      "text/html": [
       "<div><style>\n",
       ".dataframe > thead > tr,\n",
       ".dataframe > tbody > tr {\n",
       "  text-align: right;\n",
       "  white-space: pre-wrap;\n",
       "}\n",
       "</style>\n",
       "<small>shape: (2, 2)</small><table border=\"1\" class=\"dataframe\"><thead><tr><th>date_str</th><th>date</th></tr><tr><td>str</td><td>date</td></tr></thead><tbody><tr><td>&quot;2023-12-31&quot;</td><td>2023-12-31</td></tr><tr><td>&quot;2024-02-29&quot;</td><td>2024-02-29</td></tr></tbody></table></div>"
      ],
      "text/plain": [
       "shape: (2, 2)\n",
       "┌────────────┬────────────┐\n",
       "│ date_str   ┆ date       │\n",
       "│ ---        ┆ ---        │\n",
       "│ str        ┆ date       │\n",
       "╞════════════╪════════════╡\n",
       "│ 2023-12-31 ┆ 2023-12-31 │\n",
       "│ 2024-02-29 ┆ 2024-02-29 │\n",
       "└────────────┴────────────┘"
      ]
     },
     "execution_count": 21,
     "metadata": {},
     "output_type": "execute_result"
    }
   ],
   "source": [
    "dates"
   ]
  },
  {
   "cell_type": "code",
   "execution_count": 22,
   "id": "de2c6790",
   "metadata": {},
   "outputs": [
    {
     "data": {
      "text/html": [
       "<div><style>\n",
       ".dataframe > thead > tr,\n",
       ".dataframe > tbody > tr {\n",
       "  text-align: right;\n",
       "  white-space: pre-wrap;\n",
       "}\n",
       "</style>\n",
       "<small>shape: (2, 3)</small><table border=\"1\" class=\"dataframe\"><thead><tr><th>date_str</th><th>date</th><th>formatted_date</th></tr><tr><td>str</td><td>date</td><td>str</td></tr></thead><tbody><tr><td>&quot;2023-12-31&quot;</td><td>2023-12-31</td><td>&quot;31-12-2023&quot;</td></tr><tr><td>&quot;2024-02-29&quot;</td><td>2024-02-29</td><td>&quot;29-02-2024&quot;</td></tr></tbody></table></div>"
      ],
      "text/plain": [
       "shape: (2, 3)\n",
       "┌────────────┬────────────┬────────────────┐\n",
       "│ date_str   ┆ date       ┆ formatted_date │\n",
       "│ ---        ┆ ---        ┆ ---            │\n",
       "│ str        ┆ date       ┆ str            │\n",
       "╞════════════╪════════════╪════════════════╡\n",
       "│ 2023-12-31 ┆ 2023-12-31 ┆ 31-12-2023     │\n",
       "│ 2024-02-29 ┆ 2024-02-29 ┆ 29-02-2024     │\n",
       "└────────────┴────────────┴────────────────┘"
      ]
     },
     "execution_count": 22,
     "metadata": {},
     "output_type": "execute_result"
    }
   ],
   "source": [
    "(dates.with_columns(formatted_date=pl.col(\"date\").dt.to_string(\"%d-%m-%Y\")))"
   ]
  },
  {
   "cell_type": "code",
   "execution_count": null,
   "id": "e0ab5fe0",
   "metadata": {},
   "outputs": [
    {
     "data": {
      "text/html": [
       "<div><style>\n",
       ".dataframe > thead > tr,\n",
       ".dataframe > tbody > tr {\n",
       "  text-align: right;\n",
       "  white-space: pre-wrap;\n",
       "}\n",
       "</style>\n",
       "<small>shape: (5, 1)</small><table border=\"1\" class=\"dataframe\"><thead><tr><th>monday</th></tr><tr><td>date</td></tr></thead><tbody><tr><td>2024-10-28</td></tr><tr><td>2024-11-04</td></tr><tr><td>2024-11-11</td></tr><tr><td>2024-11-18</td></tr><tr><td>2024-11-25</td></tr></tbody></table></div>"
      ],
      "text/plain": [
       "shape: (5, 1)\n",
       "┌────────────┐\n",
       "│ monday     │\n",
       "│ ---        │\n",
       "│ date       │\n",
       "╞════════════╡\n",
       "│ 2024-10-28 │\n",
       "│ 2024-11-04 │\n",
       "│ 2024-11-11 │\n",
       "│ 2024-11-18 │\n",
       "│ 2024-11-25 │\n",
       "└────────────┘"
      ]
     },
     "execution_count": 23,
     "metadata": {},
     "output_type": "execute_result"
    }
   ],
   "source": [
    "pl.DataFrame(\n",
    "    {\n",
    "        \"monday\": pl.date_range(\n",
    "            start=pl.date(2024, 10, 28),\n",
    "            end=pl.date(2024, 12, 1),\n",
    "            interval=\"1 w\",\n",
    "            eager=True,\n",
    "        ),\n",
    "    }\n",
    ")"
   ]
  },
  {
   "cell_type": "markdown",
   "id": "b59873e1",
   "metadata": {},
   "source": [
    "list in polars"
   ]
  },
  {
   "cell_type": "code",
   "execution_count": null,
   "id": "79651eda",
   "metadata": {},
   "outputs": [],
   "source": [
    "bools = pl.DataFrame({\"values\": [[True, True], [False, False, True], [False]]})"
   ]
  },
  {
   "cell_type": "code",
   "execution_count": 29,
   "id": "77eee60d",
   "metadata": {},
   "outputs": [
    {
     "data": {
      "text/html": [
       "<div><style>\n",
       ".dataframe > thead > tr,\n",
       ".dataframe > tbody > tr {\n",
       "  text-align: right;\n",
       "  white-space: pre-wrap;\n",
       "}\n",
       "</style>\n",
       "<small>shape: (3, 5)</small><table border=\"1\" class=\"dataframe\"><thead><tr><th>values</th><th>all_true</th><th>any_true</th><th>last</th><th>first</th></tr><tr><td>list[bool]</td><td>bool</td><td>bool</td><td>bool</td><td>bool</td></tr></thead><tbody><tr><td>[true, true]</td><td>true</td><td>true</td><td>true</td><td>true</td></tr><tr><td>[false, false, true]</td><td>false</td><td>true</td><td>true</td><td>false</td></tr><tr><td>[false]</td><td>false</td><td>false</td><td>false</td><td>false</td></tr></tbody></table></div>"
      ],
      "text/plain": [
       "shape: (3, 5)\n",
       "┌──────────────────────┬──────────┬──────────┬───────┬───────┐\n",
       "│ values               ┆ all_true ┆ any_true ┆ last  ┆ first │\n",
       "│ ---                  ┆ ---      ┆ ---      ┆ ---   ┆ ---   │\n",
       "│ list[bool]           ┆ bool     ┆ bool     ┆ bool  ┆ bool  │\n",
       "╞══════════════════════╪══════════╪══════════╪═══════╪═══════╡\n",
       "│ [true, true]         ┆ true     ┆ true     ┆ true  ┆ true  │\n",
       "│ [false, false, true] ┆ false    ┆ true     ┆ true  ┆ false │\n",
       "│ [false]              ┆ false    ┆ false    ┆ false ┆ false │\n",
       "└──────────────────────┴──────────┴──────────┴───────┴───────┘"
      ]
     },
     "execution_count": 29,
     "metadata": {},
     "output_type": "execute_result"
    }
   ],
   "source": [
    "bools.with_columns(\n",
    "    all_true=pl.col(\"values\").list.all(),\n",
    "    any_true=pl.col(\"values\").list.any(),\n",
    "    last=pl.col(\"values\").list.last(),\n",
    "    first=pl.col(\"values\").list.first(),\n",
    "    # second=pl.col(\"values\").list.get(1) throws error\n",
    ")"
   ]
  },
  {
   "cell_type": "code",
   "execution_count": null,
   "id": "b0886b4a",
   "metadata": {},
   "outputs": [],
   "source": [
    "groups = pl.DataFrame({\"ages\": [[12, 21], [30, 40, 50], [42, 69]]})"
   ]
  },
  {
   "cell_type": "code",
   "execution_count": 37,
   "id": "29cbf033",
   "metadata": {},
   "outputs": [
    {
     "data": {
      "text/html": [
       "<div><style>\n",
       ".dataframe > thead > tr,\n",
       ".dataframe > tbody > tr {\n",
       "  text-align: right;\n",
       "  white-space: pre-wrap;\n",
       "}\n",
       "</style>\n",
       "<small>shape: (3, 3)</small><table border=\"1\" class=\"dataframe\"><thead><tr><th>ages</th><th>over_forty</th><th>all_over_forty</th></tr><tr><td>list[i64]</td><td>list[bool]</td><td>bool</td></tr></thead><tbody><tr><td>[12, 21]</td><td>[false, false]</td><td>false</td></tr><tr><td>[30, 40, 50]</td><td>[false, false, true]</td><td>false</td></tr><tr><td>[42, 69]</td><td>[true, true]</td><td>true</td></tr></tbody></table></div>"
      ],
      "text/plain": [
       "shape: (3, 3)\n",
       "┌──────────────┬──────────────────────┬────────────────┐\n",
       "│ ages         ┆ over_forty           ┆ all_over_forty │\n",
       "│ ---          ┆ ---                  ┆ ---            │\n",
       "│ list[i64]    ┆ list[bool]           ┆ bool           │\n",
       "╞══════════════╪══════════════════════╪════════════════╡\n",
       "│ [12, 21]     ┆ [false, false]       ┆ false          │\n",
       "│ [30, 40, 50] ┆ [false, false, true] ┆ false          │\n",
       "│ [42, 69]     ┆ [true, true]         ┆ true           │\n",
       "└──────────────┴──────────────────────┴────────────────┘"
      ]
     },
     "execution_count": 37,
     "metadata": {},
     "output_type": "execute_result"
    }
   ],
   "source": [
    "groups.with_columns(\n",
    "    over_forty=pl.col(\"ages\").list.eval(pl.element() > 40, parallel=True)\n",
    ").with_columns(all_over_forty=pl.col(\"over_forty\").list.all())"
   ]
  },
  {
   "cell_type": "markdown",
   "id": "a04e6e8a",
   "metadata": {},
   "source": [
    "that was cool - like purrr. so you slap em in a list and then zip right through em. nice."
   ]
  },
  {
   "cell_type": "code",
   "execution_count": 38,
   "id": "296923cb",
   "metadata": {},
   "outputs": [
    {
     "data": {
      "text/html": [
       "<div><style>\n",
       ".dataframe > thead > tr,\n",
       ".dataframe > tbody > tr {\n",
       "  text-align: right;\n",
       "  white-space: pre-wrap;\n",
       "}\n",
       "</style>\n",
       "<small>shape: (7, 1)</small><table border=\"1\" class=\"dataframe\"><thead><tr><th>ages</th></tr><tr><td>i64</td></tr></thead><tbody><tr><td>12</td></tr><tr><td>21</td></tr><tr><td>30</td></tr><tr><td>40</td></tr><tr><td>50</td></tr><tr><td>42</td></tr><tr><td>69</td></tr></tbody></table></div>"
      ],
      "text/plain": [
       "shape: (7, 1)\n",
       "┌──────┐\n",
       "│ ages │\n",
       "│ ---  │\n",
       "│ i64  │\n",
       "╞══════╡\n",
       "│ 12   │\n",
       "│ 21   │\n",
       "│ 30   │\n",
       "│ 40   │\n",
       "│ 50   │\n",
       "│ 42   │\n",
       "│ 69   │\n",
       "└──────┘"
      ]
     },
     "execution_count": 38,
     "metadata": {},
     "output_type": "execute_result"
    }
   ],
   "source": [
    "groups.explode(\"ages\")"
   ]
  },
  {
   "cell_type": "code",
   "execution_count": 39,
   "id": "98cf75b7",
   "metadata": {},
   "outputs": [
    {
     "data": {
      "text/html": [
       "<div><style>\n",
       ".dataframe > thead > tr,\n",
       ".dataframe > tbody > tr {\n",
       "  text-align: right;\n",
       "  white-space: pre-wrap;\n",
       "}\n",
       "</style>\n",
       "<small>shape: (7, 1)</small><table border=\"1\" class=\"dataframe\"><thead><tr><th>ages</th></tr><tr><td>i64</td></tr></thead><tbody><tr><td>12</td></tr><tr><td>21</td></tr><tr><td>30</td></tr><tr><td>40</td></tr><tr><td>50</td></tr><tr><td>42</td></tr><tr><td>69</td></tr></tbody></table></div>"
      ],
      "text/plain": [
       "shape: (7, 1)\n",
       "┌──────┐\n",
       "│ ages │\n",
       "│ ---  │\n",
       "│ i64  │\n",
       "╞══════╡\n",
       "│ 12   │\n",
       "│ 21   │\n",
       "│ 30   │\n",
       "│ 40   │\n",
       "│ 50   │\n",
       "│ 42   │\n",
       "│ 69   │\n",
       "└──────┘"
      ]
     },
     "execution_count": 39,
     "metadata": {},
     "output_type": "execute_result"
    }
   ],
   "source": [
    "groups.select(ages=pl.col(\"ages\").list.explode())"
   ]
  },
  {
   "cell_type": "markdown",
   "id": "62b0b8cf",
   "metadata": {},
   "source": [
    "arrays"
   ]
  },
  {
   "cell_type": "code",
   "execution_count": null,
   "id": "24d272ab",
   "metadata": {},
   "outputs": [],
   "source": [
    "events = pl.DataFrame(\n",
    "    [\n",
    "        pl.Series(\"locations\", [\"Paris\", \"Amsterdam\", \"Barcelona\"], dtype=pl.String),\n",
    "        pl.Series(\n",
    "            \"temperatures\",\n",
    "            [\n",
    "                [23, 27, 21, 22, 24, 23, 22],\n",
    "                [17, 19, 15, 22, 18, 20, 21],\n",
    "                [30, 32, 28, 29, 34, 33, 31],\n",
    "            ],\n",
    "            dtype=pl.Array(pl.Int64, shape=7),\n",
    "        ),\n",
    "    ]\n",
    ")"
   ]
  },
  {
   "cell_type": "code",
   "execution_count": 48,
   "id": "5000de43",
   "metadata": {},
   "outputs": [
    {
     "data": {
      "text/html": [
       "<div><style>\n",
       ".dataframe > thead > tr,\n",
       ".dataframe > tbody > tr {\n",
       "  text-align: right;\n",
       "  white-space: pre-wrap;\n",
       "}\n",
       "</style>\n",
       "<small>shape: (3, 2)</small><table border=\"1\" class=\"dataframe\"><thead><tr><th>locations</th><th>temperatures</th></tr><tr><td>str</td><td>array[i64, 7]</td></tr></thead><tbody><tr><td>&quot;Paris&quot;</td><td>[23, 27, … 22]</td></tr><tr><td>&quot;Amsterdam&quot;</td><td>[17, 19, … 21]</td></tr><tr><td>&quot;Barcelona&quot;</td><td>[30, 32, … 31]</td></tr></tbody></table></div>"
      ],
      "text/plain": [
       "shape: (3, 2)\n",
       "┌───────────┬────────────────┐\n",
       "│ locations ┆ temperatures   │\n",
       "│ ---       ┆ ---            │\n",
       "│ str       ┆ array[i64, 7]  │\n",
       "╞═══════════╪════════════════╡\n",
       "│ Paris     ┆ [23, 27, … 22] │\n",
       "│ Amsterdam ┆ [17, 19, … 21] │\n",
       "│ Barcelona ┆ [30, 32, … 31] │\n",
       "└───────────┴────────────────┘"
      ]
     },
     "execution_count": 48,
     "metadata": {},
     "output_type": "execute_result"
    }
   ],
   "source": [
    "events"
   ]
  },
  {
   "cell_type": "code",
   "execution_count": 49,
   "id": "d4b34378",
   "metadata": {},
   "outputs": [
    {
     "data": {
      "text/html": [
       "<div><style>\n",
       ".dataframe > thead > tr,\n",
       ".dataframe > tbody > tr {\n",
       "  text-align: right;\n",
       "  white-space: pre-wrap;\n",
       "}\n",
       "</style>\n",
       "<small>shape: (3, 5)</small><table border=\"1\" class=\"dataframe\"><thead><tr><th>locations</th><th>temperatures</th><th>median</th><th>max</th><th>warmest_dow</th></tr><tr><td>str</td><td>array[i64, 7]</td><td>f64</td><td>i64</td><td>u32</td></tr></thead><tbody><tr><td>&quot;Paris&quot;</td><td>[23, 27, … 22]</td><td>23.0</td><td>27</td><td>1</td></tr><tr><td>&quot;Amsterdam&quot;</td><td>[17, 19, … 21]</td><td>19.0</td><td>22</td><td>3</td></tr><tr><td>&quot;Barcelona&quot;</td><td>[30, 32, … 31]</td><td>31.0</td><td>34</td><td>4</td></tr></tbody></table></div>"
      ],
      "text/plain": [
       "shape: (3, 5)\n",
       "┌───────────┬────────────────┬────────┬─────┬─────────────┐\n",
       "│ locations ┆ temperatures   ┆ median ┆ max ┆ warmest_dow │\n",
       "│ ---       ┆ ---            ┆ ---    ┆ --- ┆ ---         │\n",
       "│ str       ┆ array[i64, 7]  ┆ f64    ┆ i64 ┆ u32         │\n",
       "╞═══════════╪════════════════╪════════╪═════╪═════════════╡\n",
       "│ Paris     ┆ [23, 27, … 22] ┆ 23.0   ┆ 27  ┆ 1           │\n",
       "│ Amsterdam ┆ [17, 19, … 21] ┆ 19.0   ┆ 22  ┆ 3           │\n",
       "│ Barcelona ┆ [30, 32, … 31] ┆ 31.0   ┆ 34  ┆ 4           │\n",
       "└───────────┴────────────────┴────────┴─────┴─────────────┘"
      ]
     },
     "execution_count": 49,
     "metadata": {},
     "output_type": "execute_result"
    }
   ],
   "source": [
    "events.with_columns(\n",
    "    median=pl.col(\"temperatures\").arr.median(),\n",
    "    max=pl.col(\"temperatures\").arr.max(),\n",
    "    warmest_dow=pl.col(\"temperatures\").arr.arg_max(),\n",
    ")"
   ]
  },
  {
   "cell_type": "code",
   "execution_count": null,
   "id": "c43f1f9c",
   "metadata": {},
   "outputs": [],
   "source": [
    "from datetime import date\n",
    "\n",
    "orders = pl.DataFrame(\n",
    "    {\n",
    "        \"customer_id\": [2781, 6139, 5392],\n",
    "        \"order_details\": [\n",
    "            {\"amount\": 250.00, \"date\": date(2024, 1, 3), \"items\": 5},\n",
    "            {\"amount\": 150.00, \"date\": date(2024, 1, 5), \"items\": 1},\n",
    "            {\"amount\": 100.00, \"date\": date(2024, 1, 5), \"items\": 3},\n",
    "        ],\n",
    "    },\n",
    ")"
   ]
  },
  {
   "cell_type": "code",
   "execution_count": 59,
   "id": "4a943520",
   "metadata": {},
   "outputs": [
    {
     "data": {
      "text/html": [
       "<div><style>\n",
       ".dataframe > thead > tr,\n",
       ".dataframe > tbody > tr {\n",
       "  text-align: right;\n",
       "  white-space: pre-wrap;\n",
       "}\n",
       "</style>\n",
       "<small>shape: (3, 2)</small><table border=\"1\" class=\"dataframe\"><thead><tr><th>customer_id</th><th>order_details</th></tr><tr><td>i64</td><td>struct[3]</td></tr></thead><tbody><tr><td>2781</td><td>{250.0,2024-01-03,5}</td></tr><tr><td>6139</td><td>{150.0,2024-01-05,1}</td></tr><tr><td>5392</td><td>{100.0,2024-01-05,3}</td></tr></tbody></table></div>"
      ],
      "text/plain": [
       "shape: (3, 2)\n",
       "┌─────────────┬──────────────────────┐\n",
       "│ customer_id ┆ order_details        │\n",
       "│ ---         ┆ ---                  │\n",
       "│ i64         ┆ struct[3]            │\n",
       "╞═════════════╪══════════════════════╡\n",
       "│ 2781        ┆ {250.0,2024-01-03,5} │\n",
       "│ 6139        ┆ {150.0,2024-01-05,1} │\n",
       "│ 5392        ┆ {100.0,2024-01-05,3} │\n",
       "└─────────────┴──────────────────────┘"
      ]
     },
     "execution_count": 59,
     "metadata": {},
     "output_type": "execute_result"
    }
   ],
   "source": [
    "orders"
   ]
  },
  {
   "cell_type": "code",
   "execution_count": 60,
   "id": "70c179a9",
   "metadata": {},
   "outputs": [
    {
     "data": {
      "text/html": [
       "<div><style>\n",
       ".dataframe > thead > tr,\n",
       ".dataframe > tbody > tr {\n",
       "  text-align: right;\n",
       "  white-space: pre-wrap;\n",
       "}\n",
       "</style>\n",
       "<small>shape: (3, 1)</small><table border=\"1\" class=\"dataframe\"><thead><tr><th>amount</th></tr><tr><td>f64</td></tr></thead><tbody><tr><td>250.0</td></tr><tr><td>150.0</td></tr><tr><td>100.0</td></tr></tbody></table></div>"
      ],
      "text/plain": [
       "shape: (3, 1)\n",
       "┌────────┐\n",
       "│ amount │\n",
       "│ ---    │\n",
       "│ f64    │\n",
       "╞════════╡\n",
       "│ 250.0  │\n",
       "│ 150.0  │\n",
       "│ 100.0  │\n",
       "└────────┘"
      ]
     },
     "execution_count": 60,
     "metadata": {},
     "output_type": "execute_result"
    }
   ],
   "source": [
    "orders.select(pl.col(\"order_details\").struct.field(\"amount\"))"
   ]
  },
  {
   "cell_type": "code",
   "execution_count": null,
   "id": "5849b122",
   "metadata": {},
   "outputs": [
    {
     "data": {
      "text/html": [
       "<div><style>\n",
       ".dataframe > thead > tr,\n",
       ".dataframe > tbody > tr {\n",
       "  text-align: right;\n",
       "  white-space: pre-wrap;\n",
       "}\n",
       "</style>\n",
       "<small>shape: (3, 4)</small><table border=\"1\" class=\"dataframe\"><thead><tr><th>customer_id</th><th>amount</th><th>date</th><th>items</th></tr><tr><td>i64</td><td>f64</td><td>date</td><td>i64</td></tr></thead><tbody><tr><td>2781</td><td>250.0</td><td>2024-01-03</td><td>5</td></tr><tr><td>6139</td><td>150.0</td><td>2024-01-05</td><td>1</td></tr><tr><td>5392</td><td>100.0</td><td>2024-01-05</td><td>3</td></tr></tbody></table></div>"
      ],
      "text/plain": [
       "shape: (3, 4)\n",
       "┌─────────────┬────────┬────────────┬───────┐\n",
       "│ customer_id ┆ amount ┆ date       ┆ items │\n",
       "│ ---         ┆ ---    ┆ ---        ┆ ---   │\n",
       "│ i64         ┆ f64    ┆ date       ┆ i64   │\n",
       "╞═════════════╪════════╪════════════╪═══════╡\n",
       "│ 2781        ┆ 250.0  ┆ 2024-01-03 ┆ 5     │\n",
       "│ 6139        ┆ 150.0  ┆ 2024-01-05 ┆ 1     │\n",
       "│ 5392        ┆ 100.0  ┆ 2024-01-05 ┆ 3     │\n",
       "└─────────────┴────────┴────────────┴───────┘"
      ]
     },
     "execution_count": 61,
     "metadata": {},
     "output_type": "execute_result"
    }
   ],
   "source": [
    "order_details_df = orders.unnest(\"order_details\")\n",
    "order_details_df"
   ]
  },
  {
   "cell_type": "code",
   "execution_count": null,
   "id": "c453deff",
   "metadata": {},
   "outputs": [
    {
     "data": {
      "text/html": [
       "<div><style>\n",
       ".dataframe > thead > tr,\n",
       ".dataframe > tbody > tr {\n",
       "  text-align: right;\n",
       "  white-space: pre-wrap;\n",
       "}\n",
       "</style>\n",
       "<small>shape: (3, 4)</small><table border=\"1\" class=\"dataframe\"><thead><tr><th>amount</th><th>date</th><th>items</th><th>order_details</th></tr><tr><td>f64</td><td>date</td><td>i64</td><td>struct[3]</td></tr></thead><tbody><tr><td>250.0</td><td>2024-01-03</td><td>5</td><td>{250.0,2024-01-03,5}</td></tr><tr><td>150.0</td><td>2024-01-05</td><td>1</td><td>{150.0,2024-01-05,1}</td></tr><tr><td>100.0</td><td>2024-01-05</td><td>3</td><td>{100.0,2024-01-05,3}</td></tr></tbody></table></div>"
      ],
      "text/plain": [
       "shape: (3, 4)\n",
       "┌────────┬────────────┬───────┬──────────────────────┐\n",
       "│ amount ┆ date       ┆ items ┆ order_details        │\n",
       "│ ---    ┆ ---        ┆ ---   ┆ ---                  │\n",
       "│ f64    ┆ date       ┆ i64   ┆ struct[3]            │\n",
       "╞════════╪════════════╪═══════╪══════════════════════╡\n",
       "│ 250.0  ┆ 2024-01-03 ┆ 5     ┆ {250.0,2024-01-03,5} │\n",
       "│ 150.0  ┆ 2024-01-05 ┆ 1     ┆ {150.0,2024-01-05,1} │\n",
       "│ 100.0  ┆ 2024-01-05 ┆ 3     ┆ {100.0,2024-01-05,3} │\n",
       "└────────┴────────────┴───────┴──────────────────────┘"
      ]
     },
     "execution_count": 62,
     "metadata": {},
     "output_type": "execute_result"
    }
   ],
   "source": [
    "order_details_df.select(\n",
    "    \"amount\",\n",
    "    \"date\",\n",
    "    \"items\",\n",
    "    order_details=pl.struct(pl.col(\"amount\"), pl.col(\"date\"), pl.col(\"items\")),\n",
    ")"
   ]
  },
  {
   "cell_type": "code",
   "execution_count": null,
   "id": "d844795c",
   "metadata": {},
   "outputs": [],
   "source": [
    "basket = pl.DataFrame(\n",
    "    {\"fruit\": [\"cherry\", \"apple\", \"banana\", \"banana\", \"apple\", \"banana\"]}\n",
    ")"
   ]
  },
  {
   "cell_type": "code",
   "execution_count": 65,
   "id": "e51bf374",
   "metadata": {},
   "outputs": [
    {
     "data": {
      "text/html": [
       "<div><style>\n",
       ".dataframe > thead > tr,\n",
       ".dataframe > tbody > tr {\n",
       "  text-align: right;\n",
       "  white-space: pre-wrap;\n",
       "}\n",
       "</style>\n",
       "<small>shape: (6, 1)</small><table border=\"1\" class=\"dataframe\"><thead><tr><th>fruit</th></tr><tr><td>str</td></tr></thead><tbody><tr><td>&quot;cherry&quot;</td></tr><tr><td>&quot;apple&quot;</td></tr><tr><td>&quot;banana&quot;</td></tr><tr><td>&quot;banana&quot;</td></tr><tr><td>&quot;apple&quot;</td></tr><tr><td>&quot;banana&quot;</td></tr></tbody></table></div>"
      ],
      "text/plain": [
       "shape: (6, 1)\n",
       "┌────────┐\n",
       "│ fruit  │\n",
       "│ ---    │\n",
       "│ str    │\n",
       "╞════════╡\n",
       "│ cherry │\n",
       "│ apple  │\n",
       "│ banana │\n",
       "│ banana │\n",
       "│ apple  │\n",
       "│ banana │\n",
       "└────────┘"
      ]
     },
     "execution_count": 65,
     "metadata": {},
     "output_type": "execute_result"
    }
   ],
   "source": [
    "basket"
   ]
  },
  {
   "cell_type": "code",
   "execution_count": 66,
   "id": "2a112b0b",
   "metadata": {},
   "outputs": [
    {
     "data": {
      "text/html": [
       "<div><style>\n",
       ".dataframe > thead > tr,\n",
       ".dataframe > tbody > tr {\n",
       "  text-align: right;\n",
       "  white-space: pre-wrap;\n",
       "}\n",
       "</style>\n",
       "<small>shape: (3, 2)</small><table border=\"1\" class=\"dataframe\"><thead><tr><th>fruit</th><th>count</th></tr><tr><td>str</td><td>u32</td></tr></thead><tbody><tr><td>&quot;banana&quot;</td><td>3</td></tr><tr><td>&quot;apple&quot;</td><td>2</td></tr><tr><td>&quot;cherry&quot;</td><td>1</td></tr></tbody></table></div>"
      ],
      "text/plain": [
       "shape: (3, 2)\n",
       "┌────────┬───────┐\n",
       "│ fruit  ┆ count │\n",
       "│ ---    ┆ ---   │\n",
       "│ str    ┆ u32   │\n",
       "╞════════╪═══════╡\n",
       "│ banana ┆ 3     │\n",
       "│ apple  ┆ 2     │\n",
       "│ cherry ┆ 1     │\n",
       "└────────┴───────┘"
      ]
     },
     "execution_count": 66,
     "metadata": {},
     "output_type": "execute_result"
    }
   ],
   "source": [
    "basket.select(pl.col(\"fruit\").value_counts(sort=True).struct.unnest())"
   ]
  },
  {
   "cell_type": "code",
   "execution_count": null,
   "id": "10d9ff27",
   "metadata": {},
   "outputs": [],
   "source": []
  }
 ],
 "metadata": {
  "kernelspec": {
   "display_name": ".venv",
   "language": "python",
   "name": "python3"
  },
  "language_info": {
   "codemirror_mode": {
    "name": "ipython",
    "version": 3
   },
   "file_extension": ".py",
   "mimetype": "text/x-python",
   "name": "python",
   "nbconvert_exporter": "python",
   "pygments_lexer": "ipython3",
   "version": "3.12.9"
  }
 },
 "nbformat": 4,
 "nbformat_minor": 5
}
