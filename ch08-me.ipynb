{
 "cells": [
  {
   "cell_type": "markdown",
   "id": "b2b646ee",
   "metadata": {},
   "source": [
    "chapter 8 "
   ]
  },
  {
   "cell_type": "code",
   "execution_count": 1,
   "id": "419346cb",
   "metadata": {},
   "outputs": [],
   "source": [
    "import polars as pl\n",
    "import math\n",
    "import numpy as np"
   ]
  },
  {
   "cell_type": "code",
   "execution_count": 2,
   "id": "3d28dd36",
   "metadata": {},
   "outputs": [
    {
     "name": "stdout",
     "output_type": "stream",
     "text": [
      "math.pi=3.141592653589793\n"
     ]
    }
   ],
   "source": [
    "print(f\"{math.pi=}\")"
   ]
  },
  {
   "cell_type": "code",
   "execution_count": null,
   "id": "667a3094",
   "metadata": {},
   "outputs": [
    {
     "name": "stdout",
     "output_type": "stream",
     "text": [
      "rng.random()=0.03074202960516803\n"
     ]
    }
   ],
   "source": [
    "rng = np.random.default_rng(1729)\n",
    "print(f\"{rng.random()=}\")"
   ]
  },
  {
   "cell_type": "code",
   "execution_count": 12,
   "id": "c7ce0009",
   "metadata": {},
   "outputs": [],
   "source": [
    "math.pi = 3.141592653589793\n",
    "# rng.random()=0.03074202960516803"
   ]
  },
  {
   "cell_type": "markdown",
   "id": "b5f901b4",
   "metadata": {},
   "source": [
    "element wise"
   ]
  },
  {
   "cell_type": "code",
   "execution_count": 13,
   "id": "0a2ebfa5",
   "metadata": {},
   "outputs": [
    {
     "data": {
      "text/html": [
       "<div><style>\n",
       ".dataframe > thead > tr,\n",
       ".dataframe > tbody > tr {\n",
       "  text-align: right;\n",
       "  white-space: pre-wrap;\n",
       "}\n",
       "</style>\n",
       "<small>shape: (344, 7)</small><table border=\"1\" class=\"dataframe\"><thead><tr><th>species</th><th>island</th><th>sex</th><th>year</th><th>mass</th><th>mass_sqrt</th><th>mass_exp</th></tr><tr><td>str</td><td>str</td><td>str</td><td>i64</td><td>f64</td><td>f64</td><td>f64</td></tr></thead><tbody><tr><td>&quot;Adelie&quot;</td><td>&quot;Torgersen&quot;</td><td>&quot;male&quot;</td><td>2007</td><td>3.75</td><td>1.936492</td><td>42.521082</td></tr><tr><td>&quot;Adelie&quot;</td><td>&quot;Torgersen&quot;</td><td>&quot;female&quot;</td><td>2007</td><td>3.8</td><td>1.949359</td><td>44.701184</td></tr><tr><td>&quot;Adelie&quot;</td><td>&quot;Torgersen&quot;</td><td>&quot;female&quot;</td><td>2007</td><td>3.25</td><td>1.802776</td><td>25.79034</td></tr><tr><td>&quot;Adelie&quot;</td><td>&quot;Torgersen&quot;</td><td>null</td><td>2007</td><td>null</td><td>null</td><td>null</td></tr><tr><td>&quot;Adelie&quot;</td><td>&quot;Torgersen&quot;</td><td>&quot;female&quot;</td><td>2007</td><td>3.45</td><td>1.857418</td><td>31.500392</td></tr><tr><td>&hellip;</td><td>&hellip;</td><td>&hellip;</td><td>&hellip;</td><td>&hellip;</td><td>&hellip;</td><td>&hellip;</td></tr><tr><td>&quot;Chinstrap&quot;</td><td>&quot;Dream&quot;</td><td>&quot;male&quot;</td><td>2009</td><td>4.0</td><td>2.0</td><td>54.59815</td></tr><tr><td>&quot;Chinstrap&quot;</td><td>&quot;Dream&quot;</td><td>&quot;female&quot;</td><td>2009</td><td>3.4</td><td>1.843909</td><td>29.9641</td></tr><tr><td>&quot;Chinstrap&quot;</td><td>&quot;Dream&quot;</td><td>&quot;male&quot;</td><td>2009</td><td>3.775</td><td>1.942936</td><td>43.597508</td></tr><tr><td>&quot;Chinstrap&quot;</td><td>&quot;Dream&quot;</td><td>&quot;male&quot;</td><td>2009</td><td>4.1</td><td>2.024846</td><td>60.340288</td></tr><tr><td>&quot;Chinstrap&quot;</td><td>&quot;Dream&quot;</td><td>&quot;female&quot;</td><td>2009</td><td>3.775</td><td>1.942936</td><td>43.597508</td></tr></tbody></table></div>"
      ],
      "text/plain": [
       "shape: (344, 7)\n",
       "┌───────────┬───────────┬────────┬──────┬───────┬───────────┬───────────┐\n",
       "│ species   ┆ island    ┆ sex    ┆ year ┆ mass  ┆ mass_sqrt ┆ mass_exp  │\n",
       "│ ---       ┆ ---       ┆ ---    ┆ ---  ┆ ---   ┆ ---       ┆ ---       │\n",
       "│ str       ┆ str       ┆ str    ┆ i64  ┆ f64   ┆ f64       ┆ f64       │\n",
       "╞═══════════╪═══════════╪════════╪══════╪═══════╪═══════════╪═══════════╡\n",
       "│ Adelie    ┆ Torgersen ┆ male   ┆ 2007 ┆ 3.75  ┆ 1.936492  ┆ 42.521082 │\n",
       "│ Adelie    ┆ Torgersen ┆ female ┆ 2007 ┆ 3.8   ┆ 1.949359  ┆ 44.701184 │\n",
       "│ Adelie    ┆ Torgersen ┆ female ┆ 2007 ┆ 3.25  ┆ 1.802776  ┆ 25.79034  │\n",
       "│ Adelie    ┆ Torgersen ┆ null   ┆ 2007 ┆ null  ┆ null      ┆ null      │\n",
       "│ Adelie    ┆ Torgersen ┆ female ┆ 2007 ┆ 3.45  ┆ 1.857418  ┆ 31.500392 │\n",
       "│ …         ┆ …         ┆ …      ┆ …    ┆ …     ┆ …         ┆ …         │\n",
       "│ Chinstrap ┆ Dream     ┆ male   ┆ 2009 ┆ 4.0   ┆ 2.0       ┆ 54.59815  │\n",
       "│ Chinstrap ┆ Dream     ┆ female ┆ 2009 ┆ 3.4   ┆ 1.843909  ┆ 29.9641   │\n",
       "│ Chinstrap ┆ Dream     ┆ male   ┆ 2009 ┆ 3.775 ┆ 1.942936  ┆ 43.597508 │\n",
       "│ Chinstrap ┆ Dream     ┆ male   ┆ 2009 ┆ 4.1   ┆ 2.024846  ┆ 60.340288 │\n",
       "│ Chinstrap ┆ Dream     ┆ female ┆ 2009 ┆ 3.775 ┆ 1.942936  ┆ 43.597508 │\n",
       "└───────────┴───────────┴────────┴──────┴───────┴───────────┴───────────┘"
      ]
     },
     "execution_count": 13,
     "metadata": {},
     "output_type": "execute_result"
    }
   ],
   "source": [
    "penguins = pl.read_csv(\"data/penguins.csv\",null_values=\"NA\").select(\n",
    "    \"species\",\n",
    "    \"island\",\n",
    "    \"sex\",\n",
    "    \"year\",\n",
    "    mass=pl.col(\"body_mass_g\")/1000,\n",
    ")\n",
    "penguins.with_columns(\n",
    "    mass_sqrt=pl.col(\"mass\").sqrt(),\n",
    "    mass_exp=pl.col(\"mass\").exp()\n",
    ")"
   ]
  }
 ],
 "metadata": {
  "kernelspec": {
   "display_name": ".venv",
   "language": "python",
   "name": "python3"
  },
  "language_info": {
   "codemirror_mode": {
    "name": "ipython",
    "version": 3
   },
   "file_extension": ".py",
   "mimetype": "text/x-python",
   "name": "python",
   "nbconvert_exporter": "python",
   "pygments_lexer": "ipython3",
   "version": "3.12.9"
  }
 },
 "nbformat": 4,
 "nbformat_minor": 5
}
