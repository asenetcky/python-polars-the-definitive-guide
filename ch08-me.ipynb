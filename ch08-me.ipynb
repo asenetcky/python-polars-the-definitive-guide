{
 "cells": [
  {
   "cell_type": "markdown",
   "id": "b2b646ee",
   "metadata": {},
   "source": [
    "chapter 8 "
   ]
  },
  {
   "cell_type": "code",
   "execution_count": 1,
   "id": "419346cb",
   "metadata": {},
   "outputs": [],
   "source": [
    "import polars as pl\n",
    "import math\n",
    "import numpy as np"
   ]
  },
  {
   "cell_type": "code",
   "execution_count": 2,
   "id": "3d28dd36",
   "metadata": {},
   "outputs": [
    {
     "name": "stdout",
     "output_type": "stream",
     "text": [
      "math.pi=3.141592653589793\n"
     ]
    }
   ],
   "source": [
    "print(f\"{math.pi=}\")"
   ]
  },
  {
   "cell_type": "code",
   "execution_count": null,
   "id": "667a3094",
   "metadata": {},
   "outputs": [
    {
     "name": "stdout",
     "output_type": "stream",
     "text": [
      "rng.random()=0.03074202960516803\n"
     ]
    }
   ],
   "source": [
    "rng = np.random.default_rng(1729)\n",
    "print(f\"{rng.random()=}\")"
   ]
  },
  {
   "cell_type": "code",
   "execution_count": 12,
   "id": "c7ce0009",
   "metadata": {},
   "outputs": [],
   "source": [
    "math.pi = 3.141592653589793\n",
    "# rng.random()=0.03074202960516803"
   ]
  },
  {
   "cell_type": "markdown",
   "id": "b5f901b4",
   "metadata": {},
   "source": [
    "element wise"
   ]
  },
  {
   "cell_type": "code",
   "execution_count": null,
   "id": "0a2ebfa5",
   "metadata": {},
   "outputs": [
    {
     "data": {
      "text/html": [
       "<div><style>\n",
       ".dataframe > thead > tr,\n",
       ".dataframe > tbody > tr {\n",
       "  text-align: right;\n",
       "  white-space: pre-wrap;\n",
       "}\n",
       "</style>\n",
       "<small>shape: (344, 7)</small><table border=\"1\" class=\"dataframe\"><thead><tr><th>species</th><th>island</th><th>sex</th><th>year</th><th>mass</th><th>mass_sqrt</th><th>mass_exp</th></tr><tr><td>str</td><td>str</td><td>str</td><td>i64</td><td>f64</td><td>f64</td><td>f64</td></tr></thead><tbody><tr><td>&quot;Adelie&quot;</td><td>&quot;Torgersen&quot;</td><td>&quot;male&quot;</td><td>2007</td><td>3.75</td><td>1.936492</td><td>42.521082</td></tr><tr><td>&quot;Adelie&quot;</td><td>&quot;Torgersen&quot;</td><td>&quot;female&quot;</td><td>2007</td><td>3.8</td><td>1.949359</td><td>44.701184</td></tr><tr><td>&quot;Adelie&quot;</td><td>&quot;Torgersen&quot;</td><td>&quot;female&quot;</td><td>2007</td><td>3.25</td><td>1.802776</td><td>25.79034</td></tr><tr><td>&quot;Adelie&quot;</td><td>&quot;Torgersen&quot;</td><td>null</td><td>2007</td><td>null</td><td>null</td><td>null</td></tr><tr><td>&quot;Adelie&quot;</td><td>&quot;Torgersen&quot;</td><td>&quot;female&quot;</td><td>2007</td><td>3.45</td><td>1.857418</td><td>31.500392</td></tr><tr><td>&hellip;</td><td>&hellip;</td><td>&hellip;</td><td>&hellip;</td><td>&hellip;</td><td>&hellip;</td><td>&hellip;</td></tr><tr><td>&quot;Chinstrap&quot;</td><td>&quot;Dream&quot;</td><td>&quot;male&quot;</td><td>2009</td><td>4.0</td><td>2.0</td><td>54.59815</td></tr><tr><td>&quot;Chinstrap&quot;</td><td>&quot;Dream&quot;</td><td>&quot;female&quot;</td><td>2009</td><td>3.4</td><td>1.843909</td><td>29.9641</td></tr><tr><td>&quot;Chinstrap&quot;</td><td>&quot;Dream&quot;</td><td>&quot;male&quot;</td><td>2009</td><td>3.775</td><td>1.942936</td><td>43.597508</td></tr><tr><td>&quot;Chinstrap&quot;</td><td>&quot;Dream&quot;</td><td>&quot;male&quot;</td><td>2009</td><td>4.1</td><td>2.024846</td><td>60.340288</td></tr><tr><td>&quot;Chinstrap&quot;</td><td>&quot;Dream&quot;</td><td>&quot;female&quot;</td><td>2009</td><td>3.775</td><td>1.942936</td><td>43.597508</td></tr></tbody></table></div>"
      ],
      "text/plain": [
       "shape: (344, 7)\n",
       "┌───────────┬───────────┬────────┬──────┬───────┬───────────┬───────────┐\n",
       "│ species   ┆ island    ┆ sex    ┆ year ┆ mass  ┆ mass_sqrt ┆ mass_exp  │\n",
       "│ ---       ┆ ---       ┆ ---    ┆ ---  ┆ ---   ┆ ---       ┆ ---       │\n",
       "│ str       ┆ str       ┆ str    ┆ i64  ┆ f64   ┆ f64       ┆ f64       │\n",
       "╞═══════════╪═══════════╪════════╪══════╪═══════╪═══════════╪═══════════╡\n",
       "│ Adelie    ┆ Torgersen ┆ male   ┆ 2007 ┆ 3.75  ┆ 1.936492  ┆ 42.521082 │\n",
       "│ Adelie    ┆ Torgersen ┆ female ┆ 2007 ┆ 3.8   ┆ 1.949359  ┆ 44.701184 │\n",
       "│ Adelie    ┆ Torgersen ┆ female ┆ 2007 ┆ 3.25  ┆ 1.802776  ┆ 25.79034  │\n",
       "│ Adelie    ┆ Torgersen ┆ null   ┆ 2007 ┆ null  ┆ null      ┆ null      │\n",
       "│ Adelie    ┆ Torgersen ┆ female ┆ 2007 ┆ 3.45  ┆ 1.857418  ┆ 31.500392 │\n",
       "│ …         ┆ …         ┆ …      ┆ …    ┆ …     ┆ …         ┆ …         │\n",
       "│ Chinstrap ┆ Dream     ┆ male   ┆ 2009 ┆ 4.0   ┆ 2.0       ┆ 54.59815  │\n",
       "│ Chinstrap ┆ Dream     ┆ female ┆ 2009 ┆ 3.4   ┆ 1.843909  ┆ 29.9641   │\n",
       "│ Chinstrap ┆ Dream     ┆ male   ┆ 2009 ┆ 3.775 ┆ 1.942936  ┆ 43.597508 │\n",
       "│ Chinstrap ┆ Dream     ┆ male   ┆ 2009 ┆ 4.1   ┆ 2.024846  ┆ 60.340288 │\n",
       "│ Chinstrap ┆ Dream     ┆ female ┆ 2009 ┆ 3.775 ┆ 1.942936  ┆ 43.597508 │\n",
       "└───────────┴───────────┴────────┴──────┴───────┴───────────┴───────────┘"
      ]
     },
     "execution_count": 14,
     "metadata": {},
     "output_type": "execute_result"
    }
   ],
   "source": [
    "penguins = pl.read_csv(\"data/penguins.csv\", null_values=\"NA\").select(\n",
    "    \"species\",\n",
    "    \"island\",\n",
    "    \"sex\",\n",
    "    \"year\",\n",
    "    mass=pl.col(\"body_mass_g\")/1000,\n",
    ")\n",
    "penguins.with_columns(\n",
    "    mass_sqrt=pl.col(\"mass\").sqrt(),\n",
    "    mass_exp=pl.col(\"mass\").exp()\n",
    ")"
   ]
  },
  {
   "cell_type": "code",
   "execution_count": null,
   "id": "0babd8e9",
   "metadata": {},
   "outputs": [
    {
     "data": {
      "text/html": [
       "<div><style>\n",
       ".dataframe > thead > tr,\n",
       ".dataframe > tbody > tr {\n",
       "  text-align: right;\n",
       "  white-space: pre-wrap;\n",
       "}\n",
       "</style>\n",
       "<small>shape: (1, 2)</small><table border=\"1\" class=\"dataframe\"><thead><tr><th>mass</th><th>island</th></tr><tr><td>f64</td><td>str</td></tr></thead><tbody><tr><td>4.201754</td><td>&quot;Torgersen&quot;</td></tr></tbody></table></div>"
      ],
      "text/plain": [
       "shape: (1, 2)\n",
       "┌──────────┬───────────┐\n",
       "│ mass     ┆ island    │\n",
       "│ ---      ┆ ---       │\n",
       "│ f64      ┆ str       │\n",
       "╞══════════╪═══════════╡\n",
       "│ 4.201754 ┆ Torgersen │\n",
       "└──────────┴───────────┘"
      ]
     },
     "execution_count": 16,
     "metadata": {},
     "output_type": "execute_result"
    }
   ],
   "source": [
    "penguins.select(pl.col(\"mass\").mean(), pl.col(\"island\").first())"
   ]
  },
  {
   "cell_type": "code",
   "execution_count": 18,
   "id": "e422b438",
   "metadata": {},
   "outputs": [
    {
     "data": {
      "text/html": [
       "<div><style>\n",
       ".dataframe > thead > tr,\n",
       ".dataframe > tbody > tr {\n",
       "  text-align: right;\n",
       "  white-space: pre-wrap;\n",
       "}\n",
       "</style>\n",
       "<small>shape: (344, 5)</small><table border=\"1\" class=\"dataframe\"><thead><tr><th>species</th><th>island</th><th>sex</th><th>year</th><th>mass</th></tr><tr><td>str</td><td>str</td><td>str</td><td>i64</td><td>f64</td></tr></thead><tbody><tr><td>&quot;Adelie&quot;</td><td>&quot;Torgersen&quot;</td><td>&quot;male&quot;</td><td>2007</td><td>3.75</td></tr><tr><td>&quot;Adelie&quot;</td><td>&quot;Torgersen&quot;</td><td>&quot;female&quot;</td><td>2007</td><td>3.8</td></tr><tr><td>&quot;Adelie&quot;</td><td>&quot;Torgersen&quot;</td><td>&quot;female&quot;</td><td>2007</td><td>3.25</td></tr><tr><td>&quot;Adelie&quot;</td><td>&quot;Torgersen&quot;</td><td>null</td><td>2007</td><td>null</td></tr><tr><td>&quot;Adelie&quot;</td><td>&quot;Torgersen&quot;</td><td>&quot;female&quot;</td><td>2007</td><td>3.45</td></tr><tr><td>&hellip;</td><td>&hellip;</td><td>&hellip;</td><td>&hellip;</td><td>&hellip;</td></tr><tr><td>&quot;Chinstrap&quot;</td><td>&quot;Dream&quot;</td><td>&quot;male&quot;</td><td>2009</td><td>4.0</td></tr><tr><td>&quot;Chinstrap&quot;</td><td>&quot;Dream&quot;</td><td>&quot;female&quot;</td><td>2009</td><td>3.4</td></tr><tr><td>&quot;Chinstrap&quot;</td><td>&quot;Dream&quot;</td><td>&quot;male&quot;</td><td>2009</td><td>3.775</td></tr><tr><td>&quot;Chinstrap&quot;</td><td>&quot;Dream&quot;</td><td>&quot;male&quot;</td><td>2009</td><td>4.1</td></tr><tr><td>&quot;Chinstrap&quot;</td><td>&quot;Dream&quot;</td><td>&quot;female&quot;</td><td>2009</td><td>3.775</td></tr></tbody></table></div>"
      ],
      "text/plain": [
       "shape: (344, 5)\n",
       "┌───────────┬───────────┬────────┬──────┬───────┐\n",
       "│ species   ┆ island    ┆ sex    ┆ year ┆ mass  │\n",
       "│ ---       ┆ ---       ┆ ---    ┆ ---  ┆ ---   │\n",
       "│ str       ┆ str       ┆ str    ┆ i64  ┆ f64   │\n",
       "╞═══════════╪═══════════╪════════╪══════╪═══════╡\n",
       "│ Adelie    ┆ Torgersen ┆ male   ┆ 2007 ┆ 3.75  │\n",
       "│ Adelie    ┆ Torgersen ┆ female ┆ 2007 ┆ 3.8   │\n",
       "│ Adelie    ┆ Torgersen ┆ female ┆ 2007 ┆ 3.25  │\n",
       "│ Adelie    ┆ Torgersen ┆ null   ┆ 2007 ┆ null  │\n",
       "│ Adelie    ┆ Torgersen ┆ female ┆ 2007 ┆ 3.45  │\n",
       "│ …         ┆ …         ┆ …      ┆ …    ┆ …     │\n",
       "│ Chinstrap ┆ Dream     ┆ male   ┆ 2009 ┆ 4.0   │\n",
       "│ Chinstrap ┆ Dream     ┆ female ┆ 2009 ┆ 3.4   │\n",
       "│ Chinstrap ┆ Dream     ┆ male   ┆ 2009 ┆ 3.775 │\n",
       "│ Chinstrap ┆ Dream     ┆ male   ┆ 2009 ┆ 4.1   │\n",
       "│ Chinstrap ┆ Dream     ┆ female ┆ 2009 ┆ 3.775 │\n",
       "└───────────┴───────────┴────────┴──────┴───────┘"
      ]
     },
     "execution_count": 18,
     "metadata": {},
     "output_type": "execute_result"
    }
   ],
   "source": [
    "penguins"
   ]
  },
  {
   "cell_type": "code",
   "execution_count": 20,
   "id": "9a613328",
   "metadata": {},
   "outputs": [
    {
     "data": {
      "text/html": [
       "<div><style>\n",
       ".dataframe > thead > tr,\n",
       ".dataframe > tbody > tr {\n",
       "  text-align: right;\n",
       "  white-space: pre-wrap;\n",
       "}\n",
       "</style>\n",
       "<small>shape: (3, 1)</small><table border=\"1\" class=\"dataframe\"><thead><tr><th>island</th></tr><tr><td>str</td></tr></thead><tbody><tr><td>&quot;Dream&quot;</td></tr><tr><td>&quot;Torgersen&quot;</td></tr><tr><td>&quot;Biscoe&quot;</td></tr></tbody></table></div>"
      ],
      "text/plain": [
       "shape: (3, 1)\n",
       "┌───────────┐\n",
       "│ island    │\n",
       "│ ---       │\n",
       "│ str       │\n",
       "╞═══════════╡\n",
       "│ Dream     │\n",
       "│ Torgersen │\n",
       "│ Biscoe    │\n",
       "└───────────┘"
      ]
     },
     "execution_count": 20,
     "metadata": {},
     "output_type": "execute_result"
    }
   ],
   "source": [
    "penguins.select(pl.col(\"island\").unique())"
   ]
  },
  {
   "cell_type": "code",
   "execution_count": null,
   "id": "5bb68022",
   "metadata": {},
   "outputs": [
    {
     "data": {
      "text/html": [
       "<div><style>\n",
       ".dataframe > thead > tr,\n",
       ".dataframe > tbody > tr {\n",
       "  text-align: right;\n",
       "  white-space: pre-wrap;\n",
       "}\n",
       "</style>\n",
       "<small>shape: (9_001, 1)</small><table border=\"1\" class=\"dataframe\"><thead><tr><th>species</th></tr><tr><td>str</td></tr></thead><tbody><tr><td>&quot;Gentoo&quot;</td></tr><tr><td>&quot;Gentoo&quot;</td></tr><tr><td>&quot;Gentoo&quot;</td></tr><tr><td>&quot;Gentoo&quot;</td></tr><tr><td>&quot;Gentoo&quot;</td></tr><tr><td>&hellip;</td></tr><tr><td>&quot;Chinstrap&quot;</td></tr><tr><td>&quot;Chinstrap&quot;</td></tr><tr><td>&quot;Chinstrap&quot;</td></tr><tr><td>&quot;Chinstrap&quot;</td></tr><tr><td>&quot;Saiyan&quot;</td></tr></tbody></table></div>"
      ],
      "text/plain": [
       "shape: (9_001, 1)\n",
       "┌───────────┐\n",
       "│ species   │\n",
       "│ ---       │\n",
       "│ str       │\n",
       "╞═══════════╡\n",
       "│ Gentoo    │\n",
       "│ Gentoo    │\n",
       "│ Gentoo    │\n",
       "│ Gentoo    │\n",
       "│ Gentoo    │\n",
       "│ …         │\n",
       "│ Chinstrap │\n",
       "│ Chinstrap │\n",
       "│ Chinstrap │\n",
       "│ Chinstrap │\n",
       "│ Saiyan    │\n",
       "└───────────┘"
      ]
     },
     "execution_count": 24,
     "metadata": {},
     "output_type": "execute_result"
    }
   ],
   "source": [
    "penguins.select(\n",
    "    pl.col(\"species\")\n",
    "    .unique()\n",
    "    .repeat_by(3000)\n",
    "    .explode()\n",
    "    .extend_constant(\"Saiyan\", n=1\n",
    "                     )\n",
    ")"
   ]
  },
  {
   "cell_type": "code",
   "execution_count": 25,
   "id": "0808c809",
   "metadata": {},
   "outputs": [
    {
     "data": {
      "text/html": [
       "<div><style>\n",
       ".dataframe > thead > tr,\n",
       ".dataframe > tbody > tr {\n",
       "  text-align: right;\n",
       "  white-space: pre-wrap;\n",
       "}\n",
       "</style>\n",
       "<small>shape: (6, 8)</small><table border=\"1\" class=\"dataframe\"><thead><tr><th>x</th><th>abs</th><th>exp</th><th>log2</th><th>log10</th><th>log1p</th><th>sign</th><th>sqrt</th></tr><tr><td>f64</td><td>f64</td><td>f64</td><td>f64</td><td>f64</td><td>f64</td><td>f64</td><td>f64</td></tr></thead><tbody><tr><td>-2.0</td><td>2.0</td><td>0.135335</td><td>NaN</td><td>NaN</td><td>NaN</td><td>-1.0</td><td>NaN</td></tr><tr><td>0.0</td><td>0.0</td><td>1.0</td><td>-inf</td><td>-inf</td><td>0.0</td><td>0.0</td><td>0.0</td></tr><tr><td>0.5</td><td>0.5</td><td>1.648721</td><td>-1.0</td><td>-0.30103</td><td>0.405465</td><td>1.0</td><td>0.707107</td></tr><tr><td>1.0</td><td>1.0</td><td>2.718282</td><td>0.0</td><td>0.0</td><td>0.693147</td><td>1.0</td><td>1.0</td></tr><tr><td>2.718282</td><td>2.718282</td><td>15.154262</td><td>1.442695</td><td>0.434294</td><td>1.313262</td><td>1.0</td><td>1.648721</td></tr><tr><td>1000.0</td><td>1000.0</td><td>inf</td><td>9.965784</td><td>3.0</td><td>6.908755</td><td>1.0</td><td>31.622777</td></tr></tbody></table></div>"
      ],
      "text/plain": [
       "shape: (6, 8)\n",
       "┌──────────┬──────────┬───────────┬──────────┬──────────┬──────────┬──────┬───────────┐\n",
       "│ x        ┆ abs      ┆ exp       ┆ log2     ┆ log10    ┆ log1p    ┆ sign ┆ sqrt      │\n",
       "│ ---      ┆ ---      ┆ ---       ┆ ---      ┆ ---      ┆ ---      ┆ ---  ┆ ---       │\n",
       "│ f64      ┆ f64      ┆ f64       ┆ f64      ┆ f64      ┆ f64      ┆ f64  ┆ f64       │\n",
       "╞══════════╪══════════╪═══════════╪══════════╪══════════╪══════════╪══════╪═══════════╡\n",
       "│ -2.0     ┆ 2.0      ┆ 0.135335  ┆ NaN      ┆ NaN      ┆ NaN      ┆ -1.0 ┆ NaN       │\n",
       "│ 0.0      ┆ 0.0      ┆ 1.0       ┆ -inf     ┆ -inf     ┆ 0.0      ┆ 0.0  ┆ 0.0       │\n",
       "│ 0.5      ┆ 0.5      ┆ 1.648721  ┆ -1.0     ┆ -0.30103 ┆ 0.405465 ┆ 1.0  ┆ 0.707107  │\n",
       "│ 1.0      ┆ 1.0      ┆ 2.718282  ┆ 0.0      ┆ 0.0      ┆ 0.693147 ┆ 1.0  ┆ 1.0       │\n",
       "│ 2.718282 ┆ 2.718282 ┆ 15.154262 ┆ 1.442695 ┆ 0.434294 ┆ 1.313262 ┆ 1.0  ┆ 1.648721  │\n",
       "│ 1000.0   ┆ 1000.0   ┆ inf       ┆ 9.965784 ┆ 3.0      ┆ 6.908755 ┆ 1.0  ┆ 31.622777 │\n",
       "└──────────┴──────────┴───────────┴──────────┴──────────┴──────────┴──────┴───────────┘"
      ]
     },
     "execution_count": 25,
     "metadata": {},
     "output_type": "execute_result"
    }
   ],
   "source": [
    "pl.DataFrame(\n",
    "    {\n",
    "        \"x\": [-2.0, 0.0, 0.5, 1.0, math.e, 1000.0]\n",
    "    }\n",
    ").with_columns(\n",
    "    abs=pl.col(\"x\").abs(),\n",
    "    exp=pl.col(\"x\").exp(),\n",
    "    log2=pl.col(\"x\").log(2),\n",
    "    log10=pl.col(\"x\").log10(),\n",
    "    log1p=pl.col(\"x\").log1p(),\n",
    "    sign=pl.col(\"x\").sign(),\n",
    "    sqrt=pl.col(\"x\").sqrt(),\n",
    ")"
   ]
  },
  {
   "cell_type": "code",
   "execution_count": null,
   "id": "2f29f3f6",
   "metadata": {},
   "outputs": [
    {
     "data": {
      "text/html": [
       "<div><style>\n",
       ".dataframe > thead > tr,\n",
       ".dataframe > tbody > tr {\n",
       "  text-align: right;\n",
       "  white-space: pre-wrap;\n",
       "}\n",
       "</style>\n",
       "<small>shape: (8, 6)</small><table border=\"1\" class=\"dataframe\"><thead><tr><th>x</th><th>arccos</th><th>cos</th><th>degrees</th><th>radians</th><th>sin</th></tr><tr><td>f64</td><td>f64</td><td>f64</td><td>f64</td><td>f64</td><td>f64</td></tr></thead><tbody><tr><td>-3.141593</td><td>NaN</td><td>-1.0</td><td>-180.0</td><td>-0.054831</td><td>-1.2246e-16</td></tr><tr><td>0.0</td><td>1.570796</td><td>1.0</td><td>0.0</td><td>0.0</td><td>0.0</td></tr><tr><td>1.0</td><td>0.0</td><td>0.540302</td><td>57.29578</td><td>0.017453</td><td>0.841471</td></tr><tr><td>3.141593</td><td>NaN</td><td>-1.0</td><td>180.0</td><td>0.054831</td><td>1.2246e-16</td></tr><tr><td>6.283185</td><td>NaN</td><td>1.0</td><td>360.0</td><td>0.109662</td><td>-2.4493e-16</td></tr><tr><td>90.0</td><td>NaN</td><td>-0.448074</td><td>5156.620156</td><td>1.570796</td><td>0.893997</td></tr><tr><td>180.0</td><td>NaN</td><td>-0.59846</td><td>10313.240312</td><td>3.141593</td><td>-0.801153</td></tr><tr><td>360.0</td><td>NaN</td><td>-0.283691</td><td>20626.480625</td><td>6.283185</td><td>0.958916</td></tr></tbody></table></div>"
      ],
      "text/plain": [
       "shape: (8, 6)\n",
       "┌───────────┬──────────┬───────────┬──────────────┬───────────┬─────────────┐\n",
       "│ x         ┆ arccos   ┆ cos       ┆ degrees      ┆ radians   ┆ sin         │\n",
       "│ ---       ┆ ---      ┆ ---       ┆ ---          ┆ ---       ┆ ---         │\n",
       "│ f64       ┆ f64      ┆ f64       ┆ f64          ┆ f64       ┆ f64         │\n",
       "╞═══════════╪══════════╪═══════════╪══════════════╪═══════════╪═════════════╡\n",
       "│ -3.141593 ┆ NaN      ┆ -1.0      ┆ -180.0       ┆ -0.054831 ┆ -1.2246e-16 │\n",
       "│ 0.0       ┆ 1.570796 ┆ 1.0       ┆ 0.0          ┆ 0.0       ┆ 0.0         │\n",
       "│ 1.0       ┆ 0.0      ┆ 0.540302  ┆ 57.29578     ┆ 0.017453  ┆ 0.841471    │\n",
       "│ 3.141593  ┆ NaN      ┆ -1.0      ┆ 180.0        ┆ 0.054831  ┆ 1.2246e-16  │\n",
       "│ 6.283185  ┆ NaN      ┆ 1.0       ┆ 360.0        ┆ 0.109662  ┆ -2.4493e-16 │\n",
       "│ 90.0      ┆ NaN      ┆ -0.448074 ┆ 5156.620156  ┆ 1.570796  ┆ 0.893997    │\n",
       "│ 180.0     ┆ NaN      ┆ -0.59846  ┆ 10313.240312 ┆ 3.141593  ┆ -0.801153   │\n",
       "│ 360.0     ┆ NaN      ┆ -0.283691 ┆ 20626.480625 ┆ 6.283185  ┆ 0.958916    │\n",
       "└───────────┴──────────┴───────────┴──────────────┴───────────┴─────────────┘"
      ]
     },
     "execution_count": 26,
     "metadata": {},
     "output_type": "execute_result"
    }
   ],
   "source": [
    "pl.DataFrame(\n",
    "    {\"x\": [-math.pi, 0.0, 1.0, math.pi, 2*math.pi, 90.0, 180.0, 360.0]}\n",
    ").with_columns(\n",
    "    arccos=pl.col(\"x\").arccos(),\n",
    "    cos=pl.col(\"x\").cos(),\n",
    "    degrees=pl.col(\"x\").degrees(),\n",
    "    radians=pl.col(\"x\").radians(),\n",
    "    sin=pl.col(\"x\").sin()\n",
    ")"
   ]
  },
  {
   "cell_type": "code",
   "execution_count": null,
   "id": "b2329443",
   "metadata": {},
   "outputs": [
    {
     "data": {
      "text/html": [
       "<div><style>\n",
       ".dataframe > thead > tr,\n",
       ".dataframe > tbody > tr {\n",
       "  text-align: right;\n",
       "  white-space: pre-wrap;\n",
       "}\n",
       "</style>\n",
       "<small>shape: (8, 8)</small><table border=\"1\" class=\"dataframe\"><thead><tr><th>x</th><th>ceil</th><th>clip</th><th>cut</th><th>floor</th><th>qcut</th><th>round2</th><th>round0</th></tr><tr><td>f64</td><td>f64</td><td>f64</td><td>cat</td><td>f64</td><td>cat</td><td>f64</td><td>f64</td></tr></thead><tbody><tr><td>-6.0</td><td>-6.0</td><td>-1.0</td><td>&quot;bad&quot;</td><td>-6.0</td><td>&quot;below median&quot;</td><td>-6.0</td><td>-6.0</td></tr><tr><td>-0.5</td><td>-0.0</td><td>-0.5</td><td>&quot;neutral&quot;</td><td>-1.0</td><td>&quot;below median&quot;</td><td>-0.5</td><td>-1.0</td></tr><tr><td>0.0</td><td>0.0</td><td>0.0</td><td>&quot;neutral&quot;</td><td>0.0</td><td>&quot;below median&quot;</td><td>0.0</td><td>0.0</td></tr><tr><td>0.5</td><td>1.0</td><td>0.5</td><td>&quot;neutral&quot;</td><td>0.0</td><td>&quot;below median&quot;</td><td>0.5</td><td>1.0</td></tr><tr><td>3.141593</td><td>4.0</td><td>1.0</td><td>&quot;good&quot;</td><td>3.0</td><td>&quot;above median&quot;</td><td>3.14</td><td>3.0</td></tr><tr><td>9.9</td><td>10.0</td><td>1.0</td><td>&quot;good&quot;</td><td>9.0</td><td>&quot;above median&quot;</td><td>9.9</td><td>10.0</td></tr><tr><td>9.99</td><td>10.0</td><td>1.0</td><td>&quot;good&quot;</td><td>9.0</td><td>&quot;above median&quot;</td><td>9.99</td><td>10.0</td></tr><tr><td>9.999</td><td>10.0</td><td>1.0</td><td>&quot;good&quot;</td><td>9.0</td><td>&quot;above median&quot;</td><td>10.0</td><td>10.0</td></tr></tbody></table></div>"
      ],
      "text/plain": [
       "shape: (8, 8)\n",
       "┌──────────┬──────┬──────┬─────────┬───────┬──────────────┬────────┬────────┐\n",
       "│ x        ┆ ceil ┆ clip ┆ cut     ┆ floor ┆ qcut         ┆ round2 ┆ round0 │\n",
       "│ ---      ┆ ---  ┆ ---  ┆ ---     ┆ ---   ┆ ---          ┆ ---    ┆ ---    │\n",
       "│ f64      ┆ f64  ┆ f64  ┆ cat     ┆ f64   ┆ cat          ┆ f64    ┆ f64    │\n",
       "╞══════════╪══════╪══════╪═════════╪═══════╪══════════════╪════════╪════════╡\n",
       "│ -6.0     ┆ -6.0 ┆ -1.0 ┆ bad     ┆ -6.0  ┆ below median ┆ -6.0   ┆ -6.0   │\n",
       "│ -0.5     ┆ -0.0 ┆ -0.5 ┆ neutral ┆ -1.0  ┆ below median ┆ -0.5   ┆ -1.0   │\n",
       "│ 0.0      ┆ 0.0  ┆ 0.0  ┆ neutral ┆ 0.0   ┆ below median ┆ 0.0    ┆ 0.0    │\n",
       "│ 0.5      ┆ 1.0  ┆ 0.5  ┆ neutral ┆ 0.0   ┆ below median ┆ 0.5    ┆ 1.0    │\n",
       "│ 3.141593 ┆ 4.0  ┆ 1.0  ┆ good    ┆ 3.0   ┆ above median ┆ 3.14   ┆ 3.0    │\n",
       "│ 9.9      ┆ 10.0 ┆ 1.0  ┆ good    ┆ 9.0   ┆ above median ┆ 9.9    ┆ 10.0   │\n",
       "│ 9.99     ┆ 10.0 ┆ 1.0  ┆ good    ┆ 9.0   ┆ above median ┆ 9.99   ┆ 10.0   │\n",
       "│ 9.999    ┆ 10.0 ┆ 1.0  ┆ good    ┆ 9.0   ┆ above median ┆ 10.0   ┆ 10.0   │\n",
       "└──────────┴──────┴──────┴─────────┴───────┴──────────────┴────────┴────────┘"
      ]
     },
     "execution_count": 30,
     "metadata": {},
     "output_type": "execute_result"
    }
   ],
   "source": [
    "pl.DataFrame(\n",
    "    {\"x\": [-6.0, -0.5, 0.0, 0.5, math.pi, 9.9, 9.99, 9.999]}\n",
    ").with_columns(\n",
    "    ceil=pl.col(\"x\").ceil(),\n",
    "    clip=pl.col(\"x\").clip(-1, 1),\n",
    "    cut=pl.col(\"x\").cut([-1, 1], labels=[\"bad\", \"neutral\", \"good\"]),\n",
    "    floor=pl.col(\"x\").floor(),\n",
    "    qcut=pl.col(\"x\").qcut([0.5], labels=[\"below median\", \"above median\"]),\n",
    "    round2=pl.col(\"x\").round(2),\n",
    "    round0=pl.col(\"x\").round(0),\n",
    ")"
   ]
  },
  {
   "cell_type": "code",
   "execution_count": null,
   "id": "5945e7a2",
   "metadata": {},
   "outputs": [
    {
     "data": {
      "text/html": [
       "<div><style>\n",
       ".dataframe > thead > tr,\n",
       ".dataframe > tbody > tr {\n",
       "  text-align: right;\n",
       "  white-space: pre-wrap;\n",
       "}\n",
       "</style>\n",
       "<small>shape: (5, 7)</small><table border=\"1\" class=\"dataframe\"><thead><tr><th>x</th><th>fill_nan</th><th>fill_nill</th><th>is_finite</th><th>is_infinite</th><th>is_nan</th><th>is_null</th></tr><tr><td>f64</td><td>f64</td><td>f64</td><td>bool</td><td>bool</td><td>bool</td><td>bool</td></tr></thead><tbody><tr><td>42.0</td><td>42.0</td><td>42.0</td><td>true</td><td>false</td><td>false</td><td>false</td></tr><tr><td>NaN</td><td>999.0</td><td>NaN</td><td>false</td><td>false</td><td>true</td><td>false</td></tr><tr><td>null</td><td>null</td><td>0.0</td><td>null</td><td>null</td><td>null</td><td>true</td></tr><tr><td>inf</td><td>inf</td><td>inf</td><td>false</td><td>true</td><td>false</td><td>false</td></tr><tr><td>-inf</td><td>-inf</td><td>-inf</td><td>false</td><td>true</td><td>false</td><td>false</td></tr></tbody></table></div>"
      ],
      "text/plain": [
       "shape: (5, 7)\n",
       "┌──────┬──────────┬───────────┬───────────┬─────────────┬────────┬─────────┐\n",
       "│ x    ┆ fill_nan ┆ fill_nill ┆ is_finite ┆ is_infinite ┆ is_nan ┆ is_null │\n",
       "│ ---  ┆ ---      ┆ ---       ┆ ---       ┆ ---         ┆ ---    ┆ ---     │\n",
       "│ f64  ┆ f64      ┆ f64       ┆ bool      ┆ bool        ┆ bool   ┆ bool    │\n",
       "╞══════╪══════════╪═══════════╪═══════════╪═════════════╪════════╪═════════╡\n",
       "│ 42.0 ┆ 42.0     ┆ 42.0      ┆ true      ┆ false       ┆ false  ┆ false   │\n",
       "│ NaN  ┆ 999.0    ┆ NaN       ┆ false     ┆ false       ┆ true   ┆ false   │\n",
       "│ null ┆ null     ┆ 0.0       ┆ null      ┆ null        ┆ null   ┆ true    │\n",
       "│ inf  ┆ inf      ┆ inf       ┆ false     ┆ true        ┆ false  ┆ false   │\n",
       "│ -inf ┆ -inf     ┆ -inf      ┆ false     ┆ true        ┆ false  ┆ false   │\n",
       "└──────┴──────────┴───────────┴───────────┴─────────────┴────────┴─────────┘"
      ]
     },
     "execution_count": 31,
     "metadata": {},
     "output_type": "execute_result"
    }
   ],
   "source": [
    "x = [42.0, math.nan, None, math.inf, -math.inf]\n",
    "(\n",
    "    pl.DataFrame({\"x\": x}).with_columns(\n",
    "        fill_nan=pl.col(\"x\").fill_nan(999),\n",
    "        fill_nill=pl.col(\"x\").fill_null(0),\n",
    "        is_finite=pl.col(\"x\").is_finite(),\n",
    "        is_infinite=pl.col(\"x\").is_infinite(),\n",
    "        is_nan=pl.col(\"x\").is_nan(),\n",
    "        is_null=pl.col(\"x\").is_null()\n",
    "\n",
    "    )\n",
    ")"
   ]
  },
  {
   "cell_type": "code",
   "execution_count": 34,
   "id": "76ee4165",
   "metadata": {},
   "outputs": [
    {
     "data": {
      "text/html": [
       "<div><style>\n",
       ".dataframe > thead > tr,\n",
       ".dataframe > tbody > tr {\n",
       "  text-align: right;\n",
       "  white-space: pre-wrap;\n",
       "}\n",
       "</style>\n",
       "<small>shape: (4, 4)</small><table border=\"1\" class=\"dataframe\"><thead><tr><th>x</th><th>hash</th><th>repeat_by</th><th>replace</th></tr><tr><td>str</td><td>u64</td><td>list[str]</td><td>str</td></tr></thead><tbody><tr><td>&quot;here&quot;</td><td>12695211751326448172</td><td>[&quot;here&quot;, &quot;here&quot;, &quot;here&quot;]</td><td>&quot;there&quot;</td></tr><tr><td>&quot;there&quot;</td><td>17329794691236705436</td><td>[&quot;there&quot;, &quot;there&quot;, &quot;there&quot;]</td><td>&quot;there&quot;</td></tr><tr><td>&quot;their&quot;</td><td>2663095961041830581</td><td>[&quot;their&quot;, &quot;their&quot;, &quot;their&quot;]</td><td>&quot;their&quot;</td></tr><tr><td>&quot;they&#x27;re&quot;</td><td>6743063676290245144</td><td>[&quot;they&#x27;re&quot;, &quot;they&#x27;re&quot;, &quot;they&#x27;re&quot;]</td><td>&quot;they are&quot;</td></tr></tbody></table></div>"
      ],
      "text/plain": [
       "shape: (4, 4)\n",
       "┌─────────┬──────────────────────┬─────────────────────────────────┬──────────┐\n",
       "│ x       ┆ hash                 ┆ repeat_by                       ┆ replace  │\n",
       "│ ---     ┆ ---                  ┆ ---                             ┆ ---      │\n",
       "│ str     ┆ u64                  ┆ list[str]                       ┆ str      │\n",
       "╞═════════╪══════════════════════╪═════════════════════════════════╪══════════╡\n",
       "│ here    ┆ 12695211751326448172 ┆ [\"here\", \"here\", \"here\"]        ┆ there    │\n",
       "│ there   ┆ 17329794691236705436 ┆ [\"there\", \"there\", \"there\"]     ┆ there    │\n",
       "│ their   ┆ 2663095961041830581  ┆ [\"their\", \"their\", \"their\"]     ┆ their    │\n",
       "│ they're ┆ 6743063676290245144  ┆ [\"they're\", \"they're\", \"they'r… ┆ they are │\n",
       "└─────────┴──────────────────────┴─────────────────────────────────┴──────────┘"
      ]
     },
     "execution_count": 34,
     "metadata": {},
     "output_type": "execute_result"
    }
   ],
   "source": [
    "(\n",
    "    pl.DataFrame({\"x\": [\"here\", \"there\", \"their\", \"they're\"]}).with_columns(\n",
    "        hash=pl.col(\"x\").hash(seed=1337),\n",
    "        repeat_by=pl.col(\"x\").repeat_by(3),\n",
    "        replace=pl.col(\"x\").replace(\n",
    "            {\n",
    "                \"here\": \"there\",\n",
    "                \"they're\": \"they are\",\n",
    "            }\n",
    "        ),\n",
    "    )\n",
    ")"
   ]
  },
  {
   "cell_type": "markdown",
   "id": "eb895a96",
   "metadata": {},
   "source": [
    "skip a few - and just read the boook"
   ]
  },
  {
   "cell_type": "code",
   "execution_count": null,
   "id": "571160ad",
   "metadata": {},
   "outputs": [],
   "source": []
  }
 ],
 "metadata": {
  "kernelspec": {
   "display_name": ".venv",
   "language": "python",
   "name": "python3"
  },
  "language_info": {
   "codemirror_mode": {
    "name": "ipython",
    "version": 3
   },
   "file_extension": ".py",
   "mimetype": "text/x-python",
   "name": "python",
   "nbconvert_exporter": "python",
   "pygments_lexer": "ipython3",
   "version": "3.12.9"
  }
 },
 "nbformat": 4,
 "nbformat_minor": 5
}
