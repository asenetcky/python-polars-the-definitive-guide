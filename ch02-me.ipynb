{
 "cells": [
  {
   "cell_type": "code",
   "execution_count": 2,
   "id": "410b4271",
   "metadata": {},
   "outputs": [],
   "source": [
    "import random\n",
    "import string\n",
    "import polars as pl"
   ]
  },
  {
   "cell_type": "code",
   "execution_count": 3,
   "id": "e3321b46",
   "metadata": {},
   "outputs": [],
   "source": [
    "def generate_random_string(length: int) -> str:\n",
    "    return \"\".join(random.choice(string.ascii_letters) for i in range(length))"
   ]
  },
  {
   "cell_type": "code",
   "execution_count": 4,
   "id": "9230357d",
   "metadata": {},
   "outputs": [],
   "source": [
    "data = {}\n",
    "for i in range(1, 11):\n",
    "    data[f\"column_{i}\"] = [generate_random_string(50) for _ in range(5)]\n",
    "\n",
    "df = pl.DataFrame(data)"
   ]
  },
  {
   "cell_type": "code",
   "execution_count": 5,
   "id": "d1619f3b",
   "metadata": {},
   "outputs": [
    {
     "data": {
      "text/html": [
       "<div><style>\n",
       ".dataframe > thead > tr,\n",
       ".dataframe > tbody > tr {\n",
       "  text-align: right;\n",
       "  white-space: pre-wrap;\n",
       "}\n",
       "</style>\n",
       "<small>shape: (5, 10)</small><table border=\"1\" class=\"dataframe\"><thead><tr><th>column_1</th><th>column_2</th><th>column_3</th><th>column_4</th><th>column_5</th><th>column_6</th><th>column_7</th><th>column_8</th><th>column_9</th><th>column_10</th></tr><tr><td>str</td><td>str</td><td>str</td><td>str</td><td>str</td><td>str</td><td>str</td><td>str</td><td>str</td><td>str</td></tr></thead><tbody><tr><td>&quot;SJUSYVciQLEAZIePeDtOAOTXhrcQtZ…</td><td>&quot;WTCgGMwXTLRJfUjGuLTJBqngNkSyXJ…</td><td>&quot;RdiZtwrwkvaztkJPjPaXeMfZUGQsMo…</td><td>&quot;gQspypWOQbiBOvsvXQrFOLTrAtPwje…</td><td>&quot;jFCuGUKFZOGheyDcJTwjPgdwUppomp…</td><td>&quot;VXGLaRyosGrIMgtpguXggNWtZRFmME…</td><td>&quot;qmPkNobEHRtKGKiFJrpEuAiGYxnYAK…</td><td>&quot;QrwiMXWjlbMUBHlPnhJXvcVxCqgSei…</td><td>&quot;qEwVzSHdbkdvMgIUUuuABPqSUdnuJk…</td><td>&quot;DyJgrfhdIhQcXfpMNTDKzrJQIBBaoh…</td></tr><tr><td>&quot;wyablCvYlBhYtfRsGmSJVPhoPAehlQ…</td><td>&quot;kkolgooclxOTcHLGnKmkLwZQmfCYQp…</td><td>&quot;IwaYcjCuvnAXntkWVEIOnXNwPVeuLQ…</td><td>&quot;NAOOBmRmIlQqPZrGOhVeSGvKsniUvB…</td><td>&quot;IBiokNPlNizNUNAOQQynHxuoeofRtT…</td><td>&quot;CMIAGNLTfNYngqxZLEccCcIXCkScjj…</td><td>&quot;wQDNecKRUqompjlysmSUiYoPCIqkpy…</td><td>&quot;GqAcltYjZUHIgIlBFcHzfcAythuVyY…</td><td>&quot;XydPULYXiGtdSLZUtFcDRnPluemcdZ…</td><td>&quot;BFxVgzWKcnhnVUEESeTpllNPmAUyIV…</td></tr><tr><td>&quot;SfTsqIhVmbLeaktAIhmnDsTcigbQVn…</td><td>&quot;yvMRJgYXmONenXjYqbNoZfCvqGAOrM…</td><td>&quot;KOLDkMAsikefuYhuKKhhfTfcSWDqRZ…</td><td>&quot;EPDfbUgqKBYVbHLfSKLNnUdUkGlMMk…</td><td>&quot;TurVublgIetKpdXoCzMYOymAPqAbmg…</td><td>&quot;uakJYgmqTUUyocSlDXawLAQWsPNiWD…</td><td>&quot;JHccOzcQWZwlgCUkgCXviBROdLiwXn…</td><td>&quot;MyqDRZwQKRkbXiHCrUwArzvRdtcXrl…</td><td>&quot;EZhZDkOEDqEnehRFymVHhvfyDgQmDm…</td><td>&quot;rPpeWyzLpWxpGXtmolnmAtHmQPUavF…</td></tr><tr><td>&quot;choxXCDCDMCsRIzPpnpdbpweCUrTFl…</td><td>&quot;iQMzkHYwERPlsTpiYZHVmIGuQYeVlS…</td><td>&quot;xBvEgLRApZneARJxYIMMFlHHPnwpRr…</td><td>&quot;qYMAmymaRnMnXPuEMrXlhPoRVzOSvf…</td><td>&quot;psBwOkiiukEWHtOtnDUHoPDyyNHxSo…</td><td>&quot;TSqPONQesWExKwIDembSoziCqOctRs…</td><td>&quot;sHKeZpzovSbGPEaGAtxBXDDEHRPrKY…</td><td>&quot;mkZuFYrRHcAsOMCiYaTUjeixArMnCK…</td><td>&quot;apatBNszltbdCflSZwUOCVFoJekywo…</td><td>&quot;RNoyDeYeJkWTqlIYJwBSwPYPwuQrjy…</td></tr><tr><td>&quot;XDMvfBxKryMAIXZZWcMKTONbZASlxq…</td><td>&quot;aVBbubEkzoNnaHUcCkfcFtyopILEXa…</td><td>&quot;EsqIZrQtwOPZIbIYxnuZBrNaOxddYP…</td><td>&quot;exheZPTyjeFPelwmrPuqrOZYFSIXiX…</td><td>&quot;dZRsgmrvDRbhMachfwLvVjDhPOHQtO…</td><td>&quot;IidWduLbJggjcMsIORPiGnwKhcMqNf…</td><td>&quot;sVgAZtxyTSrcpqyzGbuelGWSHTGKRf…</td><td>&quot;CTMKobfpqOgWBBFUdJXImdqzpRHpkh…</td><td>&quot;tBvNVIBuzLYtehSjKprEksJswmxmnE…</td><td>&quot;yqStzgDuyjJCrBYSBkejuBhfGdXtAb…</td></tr></tbody></table></div>"
      ],
      "text/plain": [
       "shape: (5, 10)\n",
       "┌───────────┬───────────┬───────────┬───────────┬───┬───────────┬───────────┬───────────┬──────────┐\n",
       "│ column_1  ┆ column_2  ┆ column_3  ┆ column_4  ┆ … ┆ column_7  ┆ column_8  ┆ column_9  ┆ column_1 │\n",
       "│ ---       ┆ ---       ┆ ---       ┆ ---       ┆   ┆ ---       ┆ ---       ┆ ---       ┆ 0        │\n",
       "│ str       ┆ str       ┆ str       ┆ str       ┆   ┆ str       ┆ str       ┆ str       ┆ ---      │\n",
       "│           ┆           ┆           ┆           ┆   ┆           ┆           ┆           ┆ str      │\n",
       "╞═══════════╪═══════════╪═══════════╪═══════════╪═══╪═══════════╪═══════════╪═══════════╪══════════╡\n",
       "│ SJUSYVciQ ┆ WTCgGMwXT ┆ RdiZtwrwk ┆ gQspypWOQ ┆ … ┆ qmPkNobEH ┆ QrwiMXWjl ┆ qEwVzSHdb ┆ DyJgrfhd │\n",
       "│ LEAZIePeD ┆ LRJfUjGuL ┆ vaztkJPjP ┆ biBOvsvXQ ┆   ┆ RtKGKiFJr ┆ bMUBHlPnh ┆ kdvMgIUUu ┆ IhQcXfpM │\n",
       "│ tOAOTXhrc ┆ TJBqngNkS ┆ aXeMfZUGQ ┆ rFOLTrAtP ┆   ┆ pEuAiGYxn ┆ JXvcVxCqg ┆ uABPqSUdn ┆ NTDKzrJQ │\n",
       "│ QtZ…      ┆ yXJ…      ┆ sMo…      ┆ wje…      ┆   ┆ YAK…      ┆ Sei…      ┆ uJk…      ┆ IBBaoh…  │\n",
       "│ wyablCvYl ┆ kkolgoocl ┆ IwaYcjCuv ┆ NAOOBmRmI ┆ … ┆ wQDNecKRU ┆ GqAcltYjZ ┆ XydPULYXi ┆ BFxVgzWK │\n",
       "│ BhYtfRsGm ┆ xOTcHLGnK ┆ nAXntkWVE ┆ lQqPZrGOh ┆   ┆ qompjlysm ┆ UHIgIlBFc ┆ GtdSLZUtF ┆ cnhnVUEE │\n",
       "│ SJVPhoPAe ┆ mkLwZQmfC ┆ IOnXNwPVe ┆ VeSGvKsni ┆   ┆ SUiYoPCIq ┆ HzfcAythu ┆ cDRnPluem ┆ SeTpllNP │\n",
       "│ hlQ…      ┆ YQp…      ┆ uLQ…      ┆ UvB…      ┆   ┆ kpy…      ┆ VyY…      ┆ cdZ…      ┆ mAUyIV…  │\n",
       "│ SfTsqIhVm ┆ yvMRJgYXm ┆ KOLDkMAsi ┆ EPDfbUgqK ┆ … ┆ JHccOzcQW ┆ MyqDRZwQK ┆ EZhZDkOED ┆ rPpeWyzL │\n",
       "│ bLeaktAIh ┆ ONenXjYqb ┆ kefuYhuKK ┆ BYVbHLfSK ┆   ┆ ZwlgCUkgC ┆ RkbXiHCrU ┆ qEnehRFym ┆ pWxpGXtm │\n",
       "│ mnDsTcigb ┆ NoZfCvqGA ┆ hhfTfcSWD ┆ LNnUdUkGl ┆   ┆ XviBROdLi ┆ wArzvRdtc ┆ VHhvfyDgQ ┆ olnmAtHm │\n",
       "│ QVn…      ┆ OrM…      ┆ qRZ…      ┆ MMk…      ┆   ┆ wXn…      ┆ Xrl…      ┆ mDm…      ┆ QPUavF…  │\n",
       "│ choxXCDCD ┆ iQMzkHYwE ┆ xBvEgLRAp ┆ qYMAmymaR ┆ … ┆ sHKeZpzov ┆ mkZuFYrRH ┆ apatBNszl ┆ RNoyDeYe │\n",
       "│ MCsRIzPpn ┆ RPlsTpiYZ ┆ ZneARJxYI ┆ nMnXPuEMr ┆   ┆ SbGPEaGAt ┆ cAsOMCiYa ┆ tbdCflSZw ┆ JkWTqlIY │\n",
       "│ pdbpweCUr ┆ HVmIGuQYe ┆ MMFlHHPnw ┆ XlhPoRVzO ┆   ┆ xBXDDEHRP ┆ TUjeixArM ┆ UOCVFoJek ┆ JwBSwPYP │\n",
       "│ TFl…      ┆ VlS…      ┆ pRr…      ┆ Svf…      ┆   ┆ rKY…      ┆ nCK…      ┆ ywo…      ┆ wuQrjy…  │\n",
       "│ XDMvfBxKr ┆ aVBbubEkz ┆ EsqIZrQtw ┆ exheZPTyj ┆ … ┆ sVgAZtxyT ┆ CTMKobfpq ┆ tBvNVIBuz ┆ yqStzgDu │\n",
       "│ yMAIXZZWc ┆ oNnaHUcCk ┆ OPZIbIYxn ┆ eFPelwmrP ┆   ┆ SrcpqyzGb ┆ OgWBBFUdJ ┆ LYtehSjKp ┆ yjJCrBYS │\n",
       "│ MKTONbZAS ┆ fcFtyopIL ┆ uZBrNaOxd ┆ uqrOZYFSI ┆   ┆ uelGWSHTG ┆ XImdqzpRH ┆ rEksJswmx ┆ BkejuBhf │\n",
       "│ lxq…      ┆ EXa…      ┆ dYP…      ┆ XiX…      ┆   ┆ KRf…      ┆ pkh…      ┆ mnE…      ┆ GdXtAb…  │\n",
       "└───────────┴───────────┴───────────┴───────────┴───┴───────────┴───────────┴───────────┴──────────┘"
      ]
     },
     "execution_count": 5,
     "metadata": {},
     "output_type": "execute_result"
    }
   ],
   "source": [
    "df"
   ]
  },
  {
   "cell_type": "code",
   "execution_count": 6,
   "id": "a65309e0",
   "metadata": {},
   "outputs": [
    {
     "name": "stdout",
     "output_type": "stream",
     "text": [
      "shape: (5, 10)\n",
      "┌───────┬───────┬───────┬───────┬───────┬───────┬───────┬───────┬───────┬───────┐\n",
      "│ colu… ┆ colu… ┆ colu… ┆ colu… ┆ colu… ┆ colu… ┆ colu… ┆ colu… ┆ colu… ┆ colu… │\n",
      "│ ---   ┆ ---   ┆ ---   ┆ ---   ┆ ---   ┆ ---   ┆ ---   ┆ ---   ┆ ---   ┆ ---   │\n",
      "│ str   ┆ str   ┆ str   ┆ str   ┆ str   ┆ str   ┆ str   ┆ str   ┆ str   ┆ str   │\n",
      "╞═══════╪═══════╪═══════╪═══════╪═══════╪═══════╪═══════╪═══════╪═══════╪═══════╡\n",
      "│ SJUS… ┆ WTCg… ┆ RdiZ… ┆ gQsp… ┆ jFCu… ┆ VXGL… ┆ qmPk… ┆ Qrwi… ┆ qEwV… ┆ DyJg… │\n",
      "│ wyab… ┆ kkol… ┆ IwaY… ┆ NAOO… ┆ IBio… ┆ CMIA… ┆ wQDN… ┆ GqAc… ┆ XydP… ┆ BFxV… │\n",
      "│ SfTs… ┆ yvMR… ┆ KOLD… ┆ EPDf… ┆ TurV… ┆ uakJ… ┆ JHcc… ┆ MyqD… ┆ EZhZ… ┆ rPpe… │\n",
      "│ chox… ┆ iQMz… ┆ xBvE… ┆ qYMA… ┆ psBw… ┆ TSqP… ┆ sHKe… ┆ mkZu… ┆ apat… ┆ RNoy… │\n",
      "│ XDMv… ┆ aVBb… ┆ EsqI… ┆ exhe… ┆ dZRs… ┆ IidW… ┆ sVgA… ┆ CTMK… ┆ tBvN… ┆ yqSt… │\n",
      "└───────┴───────┴───────┴───────┴───────┴───────┴───────┴───────┴───────┴───────┘\n"
     ]
    }
   ],
   "source": [
    "with pl.Config(tbl_cols=-1, fmt_str_lengths=4):\n",
    "    print(df)"
   ]
  },
  {
   "cell_type": "code",
   "execution_count": 7,
   "id": "a9136255",
   "metadata": {},
   "outputs": [
    {
     "data": {
      "text/html": [
       "<div><style>\n",
       ".dataframe > thead > tr,\n",
       ".dataframe > tbody > tr {\n",
       "  text-align: right;\n",
       "  white-space: pre-wrap;\n",
       "}\n",
       "</style>\n",
       "<small>shape: (5, 10)</small><table border=\"1\" class=\"dataframe\"><thead><tr><th>column_1</th><th>column_2</th><th>column_3</th><th>column_4</th><th>column_5</th><th>column_6</th><th>column_7</th><th>column_8</th><th>column_9</th><th>column_10</th></tr><tr><td>str</td><td>str</td><td>str</td><td>str</td><td>str</td><td>str</td><td>str</td><td>str</td><td>str</td><td>str</td></tr></thead><tbody><tr><td>&quot;SJUSYVciQLEAZIePeDtOAOTXhrcQtZ…</td><td>&quot;WTCgGMwXTLRJfUjGuLTJBqngNkSyXJ…</td><td>&quot;RdiZtwrwkvaztkJPjPaXeMfZUGQsMo…</td><td>&quot;gQspypWOQbiBOvsvXQrFOLTrAtPwje…</td><td>&quot;jFCuGUKFZOGheyDcJTwjPgdwUppomp…</td><td>&quot;VXGLaRyosGrIMgtpguXggNWtZRFmME…</td><td>&quot;qmPkNobEHRtKGKiFJrpEuAiGYxnYAK…</td><td>&quot;QrwiMXWjlbMUBHlPnhJXvcVxCqgSei…</td><td>&quot;qEwVzSHdbkdvMgIUUuuABPqSUdnuJk…</td><td>&quot;DyJgrfhdIhQcXfpMNTDKzrJQIBBaoh…</td></tr><tr><td>&quot;wyablCvYlBhYtfRsGmSJVPhoPAehlQ…</td><td>&quot;kkolgooclxOTcHLGnKmkLwZQmfCYQp…</td><td>&quot;IwaYcjCuvnAXntkWVEIOnXNwPVeuLQ…</td><td>&quot;NAOOBmRmIlQqPZrGOhVeSGvKsniUvB…</td><td>&quot;IBiokNPlNizNUNAOQQynHxuoeofRtT…</td><td>&quot;CMIAGNLTfNYngqxZLEccCcIXCkScjj…</td><td>&quot;wQDNecKRUqompjlysmSUiYoPCIqkpy…</td><td>&quot;GqAcltYjZUHIgIlBFcHzfcAythuVyY…</td><td>&quot;XydPULYXiGtdSLZUtFcDRnPluemcdZ…</td><td>&quot;BFxVgzWKcnhnVUEESeTpllNPmAUyIV…</td></tr><tr><td>&quot;SfTsqIhVmbLeaktAIhmnDsTcigbQVn…</td><td>&quot;yvMRJgYXmONenXjYqbNoZfCvqGAOrM…</td><td>&quot;KOLDkMAsikefuYhuKKhhfTfcSWDqRZ…</td><td>&quot;EPDfbUgqKBYVbHLfSKLNnUdUkGlMMk…</td><td>&quot;TurVublgIetKpdXoCzMYOymAPqAbmg…</td><td>&quot;uakJYgmqTUUyocSlDXawLAQWsPNiWD…</td><td>&quot;JHccOzcQWZwlgCUkgCXviBROdLiwXn…</td><td>&quot;MyqDRZwQKRkbXiHCrUwArzvRdtcXrl…</td><td>&quot;EZhZDkOEDqEnehRFymVHhvfyDgQmDm…</td><td>&quot;rPpeWyzLpWxpGXtmolnmAtHmQPUavF…</td></tr><tr><td>&quot;choxXCDCDMCsRIzPpnpdbpweCUrTFl…</td><td>&quot;iQMzkHYwERPlsTpiYZHVmIGuQYeVlS…</td><td>&quot;xBvEgLRApZneARJxYIMMFlHHPnwpRr…</td><td>&quot;qYMAmymaRnMnXPuEMrXlhPoRVzOSvf…</td><td>&quot;psBwOkiiukEWHtOtnDUHoPDyyNHxSo…</td><td>&quot;TSqPONQesWExKwIDembSoziCqOctRs…</td><td>&quot;sHKeZpzovSbGPEaGAtxBXDDEHRPrKY…</td><td>&quot;mkZuFYrRHcAsOMCiYaTUjeixArMnCK…</td><td>&quot;apatBNszltbdCflSZwUOCVFoJekywo…</td><td>&quot;RNoyDeYeJkWTqlIYJwBSwPYPwuQrjy…</td></tr><tr><td>&quot;XDMvfBxKryMAIXZZWcMKTONbZASlxq…</td><td>&quot;aVBbubEkzoNnaHUcCkfcFtyopILEXa…</td><td>&quot;EsqIZrQtwOPZIbIYxnuZBrNaOxddYP…</td><td>&quot;exheZPTyjeFPelwmrPuqrOZYFSIXiX…</td><td>&quot;dZRsgmrvDRbhMachfwLvVjDhPOHQtO…</td><td>&quot;IidWduLbJggjcMsIORPiGnwKhcMqNf…</td><td>&quot;sVgAZtxyTSrcpqyzGbuelGWSHTGKRf…</td><td>&quot;CTMKobfpqOgWBBFUdJXImdqzpRHpkh…</td><td>&quot;tBvNVIBuzLYtehSjKprEksJswmxmnE…</td><td>&quot;yqStzgDuyjJCrBYSBkejuBhfGdXtAb…</td></tr></tbody></table></div>"
      ],
      "text/plain": [
       "shape: (5, 10)\n",
       "┌───────────┬───────────┬───────────┬───────────┬───┬───────────┬───────────┬───────────┬──────────┐\n",
       "│ column_1  ┆ column_2  ┆ column_3  ┆ column_4  ┆ … ┆ column_7  ┆ column_8  ┆ column_9  ┆ column_1 │\n",
       "│ ---       ┆ ---       ┆ ---       ┆ ---       ┆   ┆ ---       ┆ ---       ┆ ---       ┆ 0        │\n",
       "│ str       ┆ str       ┆ str       ┆ str       ┆   ┆ str       ┆ str       ┆ str       ┆ ---      │\n",
       "│           ┆           ┆           ┆           ┆   ┆           ┆           ┆           ┆ str      │\n",
       "╞═══════════╪═══════════╪═══════════╪═══════════╪═══╪═══════════╪═══════════╪═══════════╪══════════╡\n",
       "│ SJUSYVciQ ┆ WTCgGMwXT ┆ RdiZtwrwk ┆ gQspypWOQ ┆ … ┆ qmPkNobEH ┆ QrwiMXWjl ┆ qEwVzSHdb ┆ DyJgrfhd │\n",
       "│ LEAZIePeD ┆ LRJfUjGuL ┆ vaztkJPjP ┆ biBOvsvXQ ┆   ┆ RtKGKiFJr ┆ bMUBHlPnh ┆ kdvMgIUUu ┆ IhQcXfpM │\n",
       "│ tOAOTXhrc ┆ TJBqngNkS ┆ aXeMfZUGQ ┆ rFOLTrAtP ┆   ┆ pEuAiGYxn ┆ JXvcVxCqg ┆ uABPqSUdn ┆ NTDKzrJQ │\n",
       "│ QtZ…      ┆ yXJ…      ┆ sMo…      ┆ wje…      ┆   ┆ YAK…      ┆ Sei…      ┆ uJk…      ┆ IBBaoh…  │\n",
       "│ wyablCvYl ┆ kkolgoocl ┆ IwaYcjCuv ┆ NAOOBmRmI ┆ … ┆ wQDNecKRU ┆ GqAcltYjZ ┆ XydPULYXi ┆ BFxVgzWK │\n",
       "│ BhYtfRsGm ┆ xOTcHLGnK ┆ nAXntkWVE ┆ lQqPZrGOh ┆   ┆ qompjlysm ┆ UHIgIlBFc ┆ GtdSLZUtF ┆ cnhnVUEE │\n",
       "│ SJVPhoPAe ┆ mkLwZQmfC ┆ IOnXNwPVe ┆ VeSGvKsni ┆   ┆ SUiYoPCIq ┆ HzfcAythu ┆ cDRnPluem ┆ SeTpllNP │\n",
       "│ hlQ…      ┆ YQp…      ┆ uLQ…      ┆ UvB…      ┆   ┆ kpy…      ┆ VyY…      ┆ cdZ…      ┆ mAUyIV…  │\n",
       "│ SfTsqIhVm ┆ yvMRJgYXm ┆ KOLDkMAsi ┆ EPDfbUgqK ┆ … ┆ JHccOzcQW ┆ MyqDRZwQK ┆ EZhZDkOED ┆ rPpeWyzL │\n",
       "│ bLeaktAIh ┆ ONenXjYqb ┆ kefuYhuKK ┆ BYVbHLfSK ┆   ┆ ZwlgCUkgC ┆ RkbXiHCrU ┆ qEnehRFym ┆ pWxpGXtm │\n",
       "│ mnDsTcigb ┆ NoZfCvqGA ┆ hhfTfcSWD ┆ LNnUdUkGl ┆   ┆ XviBROdLi ┆ wArzvRdtc ┆ VHhvfyDgQ ┆ olnmAtHm │\n",
       "│ QVn…      ┆ OrM…      ┆ qRZ…      ┆ MMk…      ┆   ┆ wXn…      ┆ Xrl…      ┆ mDm…      ┆ QPUavF…  │\n",
       "│ choxXCDCD ┆ iQMzkHYwE ┆ xBvEgLRAp ┆ qYMAmymaR ┆ … ┆ sHKeZpzov ┆ mkZuFYrRH ┆ apatBNszl ┆ RNoyDeYe │\n",
       "│ MCsRIzPpn ┆ RPlsTpiYZ ┆ ZneARJxYI ┆ nMnXPuEMr ┆   ┆ SbGPEaGAt ┆ cAsOMCiYa ┆ tbdCflSZw ┆ JkWTqlIY │\n",
       "│ pdbpweCUr ┆ HVmIGuQYe ┆ MMFlHHPnw ┆ XlhPoRVzO ┆   ┆ xBXDDEHRP ┆ TUjeixArM ┆ UOCVFoJek ┆ JwBSwPYP │\n",
       "│ TFl…      ┆ VlS…      ┆ pRr…      ┆ Svf…      ┆   ┆ rKY…      ┆ nCK…      ┆ ywo…      ┆ wuQrjy…  │\n",
       "│ XDMvfBxKr ┆ aVBbubEkz ┆ EsqIZrQtw ┆ exheZPTyj ┆ … ┆ sVgAZtxyT ┆ CTMKobfpq ┆ tBvNVIBuz ┆ yqStzgDu │\n",
       "│ yMAIXZZWc ┆ oNnaHUcCk ┆ OPZIbIYxn ┆ eFPelwmrP ┆   ┆ SrcpqyzGb ┆ OgWBBFUdJ ┆ LYtehSjKp ┆ yjJCrBYS │\n",
       "│ MKTONbZAS ┆ fcFtyopIL ┆ uZBrNaOxd ┆ uqrOZYFSI ┆   ┆ uelGWSHTG ┆ XImdqzpRH ┆ rEksJswmx ┆ BkejuBhf │\n",
       "│ lxq…      ┆ EXa…      ┆ dYP…      ┆ XiX…      ┆   ┆ KRf…      ┆ pkh…      ┆ mnE…      ┆ GdXtAb…  │\n",
       "└───────────┴───────────┴───────────┴───────────┴───┴───────────┴───────────┴───────────┴──────────┘"
      ]
     },
     "execution_count": 7,
     "metadata": {},
     "output_type": "execute_result"
    }
   ],
   "source": [
    "df"
   ]
  },
  {
   "cell_type": "code",
   "execution_count": 9,
   "id": "a53c505c",
   "metadata": {},
   "outputs": [
    {
     "name": "stdout",
     "output_type": "stream",
     "text": [
      "shape: (5, 10)\n",
      "+-----------+-----------+-----------+-----------+-----+-----------+----------+----------+----------+\n",
      "| column_1  | column_2  | column_3  | column_4  | ... | column_7  | column_8 | column_9 | column_1 |\n",
      "| ---       | ---       | ---       | ---       |     | ---       | ---      | ---      | 0        |\n",
      "| str       | str       | str       | str       |     | str       | str      | str      | ---      |\n",
      "|           |           |           |           |     |           |          |          | str      |\n",
      "+==================================================================================================+\n",
      "| SJUSYVciQ | WTCgGMwXT | RdiZtwrwk | gQspypWOQ | ... | qmPkNobEH | QrwiMXWj | qEwVzSHd | DyJgrfhd |\n",
      "| LEAZIePeD | LRJfUjGuL | vaztkJPjP | biBOvsvXQ |     | RtKGKiFJr | lbMUBHlP | bkdvMgIU | IhQcXfpM |\n",
      "| tOAOTXhrc | TJBqngNkS | aXeMfZUGQ | rFOLTrAtP |     | pEuAiGYxn | nhJXvcVx | UuuABPqS | NTDKzrJQ |\n",
      "| QtZ...    | yXJ...    | sMo...    | wje...    |     | YAK...    | CqgSei.. | UdnuJk.. | IBBaoh.. |\n",
      "|           |           |           |           |     |           | .        | .        | .        |\n",
      "| wyablCvYl | kkolgoocl | IwaYcjCuv | NAOOBmRmI | ... | wQDNecKRU | GqAcltYj | XydPULYX | BFxVgzWK |\n",
      "| BhYtfRsGm | xOTcHLGnK | nAXntkWVE | lQqPZrGOh |     | qompjlysm | ZUHIgIlB | iGtdSLZU | cnhnVUEE |\n",
      "| SJVPhoPAe | mkLwZQmfC | IOnXNwPVe | VeSGvKsni |     | SUiYoPCIq | FcHzfcAy | tFcDRnPl | SeTpllNP |\n",
      "| hlQ...    | YQp...    | uLQ...    | UvB...    |     | kpy...    | thuVyY.. | uemcdZ.. | mAUyIV.. |\n",
      "|           |           |           |           |     |           | .        | .        | .        |\n",
      "| SfTsqIhVm | yvMRJgYXm | KOLDkMAsi | EPDfbUgqK | ... | JHccOzcQW | MyqDRZwQ | EZhZDkOE | rPpeWyzL |\n",
      "| bLeaktAIh | ONenXjYqb | kefuYhuKK | BYVbHLfSK |     | ZwlgCUkgC | KRkbXiHC | DqEnehRF | pWxpGXtm |\n",
      "| mnDsTcigb | NoZfCvqGA | hhfTfcSWD | LNnUdUkGl |     | XviBROdLi | rUwArzvR | ymVHhvfy | olnmAtHm |\n",
      "| QVn...    | OrM...    | qRZ...    | MMk...    |     | wXn...    | dtcXrl.. | DgQmDm.. | QPUavF.. |\n",
      "|           |           |           |           |     |           | .        | .        | .        |\n",
      "| choxXCDCD | iQMzkHYwE | xBvEgLRAp | qYMAmymaR | ... | sHKeZpzov | mkZuFYrR | apatBNsz | RNoyDeYe |\n",
      "| MCsRIzPpn | RPlsTpiYZ | ZneARJxYI | nMnXPuEMr |     | SbGPEaGAt | HcAsOMCi | ltbdCflS | JkWTqlIY |\n",
      "| pdbpweCUr | HVmIGuQYe | MMFlHHPnw | XlhPoRVzO |     | xBXDDEHRP | YaTUjeix | ZwUOCVFo | JwBSwPYP |\n",
      "| TFl...    | VlS...    | pRr...    | Svf...    |     | rKY...    | ArMnCK.. | Jekywo.. | wuQrjy.. |\n",
      "|           |           |           |           |     |           | .        | .        | .        |\n",
      "| XDMvfBxKr | aVBbubEkz | EsqIZrQtw | exheZPTyj | ... | sVgAZtxyT | CTMKobfp | tBvNVIBu | yqStzgDu |\n",
      "| yMAIXZZWc | oNnaHUcCk | OPZIbIYxn | eFPelwmrP |     | SrcpqyzGb | qOgWBBFU | zLYtehSj | yjJCrBYS |\n",
      "| MKTONbZAS | fcFtyopIL | uZBrNaOxd | uqrOZYFSI |     | uelGWSHTG | dJXImdqz | KprEksJs | BkejuBhf |\n",
      "| lxq...    | EXa...    | dYP...    | XiX...    |     | KRf...    | pRHpkh.. | wmxmnE.. | GdXtAb.. |\n",
      "|           |           |           |           |     |           | .        | .        | .        |\n",
      "+-----------+-----------+-----------+-----------+-----+-----------+----------+----------+----------+\n"
     ]
    }
   ],
   "source": [
    "@pl.Config(ascii_tables=True)\n",
    "def write_ascii_frame_to_stdout(df: pl.DataFrame) -> None:\n",
    "    print(str(df))\n",
    "\n",
    "write_ascii_frame_to_stdout(df)"
   ]
  }
 ],
 "metadata": {
  "kernelspec": {
   "display_name": ".venv",
   "language": "python",
   "name": "python3"
  },
  "language_info": {
   "codemirror_mode": {
    "name": "ipython",
    "version": 3
   },
   "file_extension": ".py",
   "mimetype": "text/x-python",
   "name": "python",
   "nbconvert_exporter": "python",
   "pygments_lexer": "ipython3",
   "version": "3.12.9"
  }
 },
 "nbformat": 4,
 "nbformat_minor": 5
}
