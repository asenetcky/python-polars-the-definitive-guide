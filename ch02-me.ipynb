{
 "cells": [
  {
   "cell_type": "code",
   "execution_count": 3,
   "id": "410b4271",
   "metadata": {},
   "outputs": [],
   "source": [
    "import random\n",
    "import string\n",
    "import polars as pl"
   ]
  },
  {
   "cell_type": "code",
   "execution_count": 4,
   "id": "e3321b46",
   "metadata": {},
   "outputs": [],
   "source": [
    "def generate_random_string(length: int) -> str:\n",
    "    return \"\".join(random.choice(string.ascii_letters) for i in range(length))"
   ]
  },
  {
   "cell_type": "code",
   "execution_count": 5,
   "id": "9230357d",
   "metadata": {},
   "outputs": [],
   "source": [
    "data = {}\n",
    "for i in range(1, 11):\n",
    "    data[f\"column_{i}\"] = [generate_random_string(50) for _ in range(5)]\n",
    "\n",
    "df = pl.DataFrame(data)"
   ]
  },
  {
   "cell_type": "code",
   "execution_count": 6,
   "id": "d1619f3b",
   "metadata": {},
   "outputs": [
    {
     "data": {
      "text/html": [
       "<div><style>\n",
       ".dataframe > thead > tr,\n",
       ".dataframe > tbody > tr {\n",
       "  text-align: right;\n",
       "  white-space: pre-wrap;\n",
       "}\n",
       "</style>\n",
       "<small>shape: (5, 10)</small><table border=\"1\" class=\"dataframe\"><thead><tr><th>column_1</th><th>column_2</th><th>column_3</th><th>column_4</th><th>column_5</th><th>column_6</th><th>column_7</th><th>column_8</th><th>column_9</th><th>column_10</th></tr><tr><td>str</td><td>str</td><td>str</td><td>str</td><td>str</td><td>str</td><td>str</td><td>str</td><td>str</td><td>str</td></tr></thead><tbody><tr><td>&quot;LxIdrCWptNgdxxXDzEJEfGlZEAZcEE…</td><td>&quot;AkffkSMFMtfcpwthjrvjPcRwGWCfiY…</td><td>&quot;drYgQESATvachPLwjzVpclZCLIDGrP…</td><td>&quot;jJTKvTUlUuvFGZRdXWcCQXUaTHrrDD…</td><td>&quot;sNfpWPBgqvudvvkEnDpuKqZoxnTgja…</td><td>&quot;dOBCogSdEdmOJfhEPYsyuBkQSNXuSl…</td><td>&quot;oDjGBSuDZKTSzlgncnsraWDrwhZrgU…</td><td>&quot;ZGzMoijjksemoQuvlbhqLNmakHgubp…</td><td>&quot;MvGJdfbvPRvqlYkIIPFaPXpdWpyLcF…</td><td>&quot;zyBnZEBgzmGFuuPlCvZINZeSApCJJd…</td></tr><tr><td>&quot;KhfKjZKRMKjjiXmOBlQzkGxgvDESVo…</td><td>&quot;PubzGkdXrqJuIsckifMCBeNVIdpoHq…</td><td>&quot;oNFMmOsgHEZSYytYQYvHhbSUaUQCLw…</td><td>&quot;TrzYYUyoakokHYtKPlVypAWMfBJwLN…</td><td>&quot;GMLWmKpDbQoksMvyJOAwPyikkWFdmR…</td><td>&quot;wsNaJDYDygPHlBBBdYmDthIEnUTYDv…</td><td>&quot;KvEAuNDsgNOhgIoCrkkMaZDkGBnELb…</td><td>&quot;hXCjjUIpMpYZeJLekfTMmLMjQtbJzy…</td><td>&quot;vADNihsjoVlhQfVmfNwxrcjOUDdcop…</td><td>&quot;MkXmKhIqTgNEcairxusJzCzmrGuZFl…</td></tr><tr><td>&quot;gpgsnpcJjHmdOCsSHNTndiHXScwsCW…</td><td>&quot;hbyxLjqxMaAJSthShTAJoWDrHlQSCN…</td><td>&quot;bOEgVhddFQoSlAXzbDrRpqNFnrLaTt…</td><td>&quot;SVOySYOGwZCbwRscRmuhtghLRfUtGp…</td><td>&quot;tKEoDPyEeXKouYbDQdJERsRLDZcAOW…</td><td>&quot;RZZjnUIcxkjZgrEScCwtZmFhTZVeJx…</td><td>&quot;tllhBmUwgpqKvANTJaKIBCsAxFRGNr…</td><td>&quot;whFlPUPQAVXVgxtCFfDMIhAfUQxYDf…</td><td>&quot;UWIjucFlZpfvsgOsjkbQayRZoqlWto…</td><td>&quot;USaqUfuvrjjbSkTmKcEKomrUrCSEjh…</td></tr><tr><td>&quot;qKqVuPuWhlnWylymeyOlTitKBaMZyB…</td><td>&quot;vQDTNDZgfzMfRlXtFuaugDnOtxXkEh…</td><td>&quot;BYNAvBHipHfOaknNLKjypRIhDTJRCD…</td><td>&quot;hFHeQVoCUZnkWAQbrWvekwWpCnGgad…</td><td>&quot;vSpOjmJPvLrXJESHvcAcETvNwNoCCs…</td><td>&quot;ncOxfshUxZCjZFAvdxihgVcgwZQrOW…</td><td>&quot;WktTBYVvHqYcuvfOOGMFPylqCgdJoi…</td><td>&quot;jeYZtvtWzqXAgMpwOBgElxPKqQvNMc…</td><td>&quot;WdWAUSzXxBHgVyjHecXWIBnGERGgVd…</td><td>&quot;fvsKBaKHkmJYiXnHwAlQxqdryIVteg…</td></tr><tr><td>&quot;BXnjnYVBdjgjLCJmLovcWPTVjYxqXg…</td><td>&quot;WrZEQxYHigSaWvirOveMRzsOEXgaao…</td><td>&quot;seFYVoAhsWdqFDcqWzLBDMdgcFgVej…</td><td>&quot;UzDohFtyZIVXhxTHJaCUbCDRJkHuSM…</td><td>&quot;UsxvjcqFgVZSCPwyTnSARluRwOzxPJ…</td><td>&quot;LfSXAsRSUJOHpHgoRFpapIhiZpWoOe…</td><td>&quot;KumfLWDQzmTOuKRiQALpprLthLqXOC…</td><td>&quot;iIpotBGyzeWOwDDkocRjpRsEHnuIlB…</td><td>&quot;oackqARoKcZIpiHBiwTqFBICzAMYOT…</td><td>&quot;JYJdLhRqsXZVPQbEBQXRxNGzknXadZ…</td></tr></tbody></table></div>"
      ],
      "text/plain": [
       "shape: (5, 10)\n",
       "┌─────────┬─────────┬─────────┬─────────┬─────────┬─────────┬─────────┬─────────┬─────────┬────────┐\n",
       "│ column_ ┆ column_ ┆ column_ ┆ column_ ┆ column_ ┆ column_ ┆ column_ ┆ column_ ┆ column_ ┆ column │\n",
       "│ 1       ┆ 2       ┆ 3       ┆ 4       ┆ 5       ┆ 6       ┆ 7       ┆ 8       ┆ 9       ┆ _10    │\n",
       "│ ---     ┆ ---     ┆ ---     ┆ ---     ┆ ---     ┆ ---     ┆ ---     ┆ ---     ┆ ---     ┆ ---    │\n",
       "│ str     ┆ str     ┆ str     ┆ str     ┆ str     ┆ str     ┆ str     ┆ str     ┆ str     ┆ str    │\n",
       "╞═════════╪═════════╪═════════╪═════════╪═════════╪═════════╪═════════╪═════════╪═════════╪════════╡\n",
       "│ LxIdrCW ┆ AkffkSM ┆ drYgQES ┆ jJTKvTU ┆ sNfpWPB ┆ dOBCogS ┆ oDjGBSu ┆ ZGzMoij ┆ MvGJdfb ┆ zyBnZE │\n",
       "│ ptNgdxx ┆ FMtfcpw ┆ ATvachP ┆ lUuvFGZ ┆ gqvudvv ┆ dEdmOJf ┆ DZKTSzl ┆ jksemoQ ┆ vPRvqlY ┆ BgzmGF │\n",
       "│ XDzEJEf ┆ thjrvjP ┆ LwjzVpc ┆ RdXWcCQ ┆ kEnDpuK ┆ hEPYsyu ┆ gncnsra ┆ uvlbhqL ┆ kIIPFaP ┆ uuPlCv │\n",
       "│ GlZEAZc ┆ cRwGWCf ┆ lZCLIDG ┆ XUaTHrr ┆ qZoxnTg ┆ BkQSNXu ┆ WDrwhZr ┆ NmakHgu ┆ XpdWpyL ┆ ZINZeS │\n",
       "│ EE…     ┆ iY…     ┆ rP…     ┆ DD…     ┆ ja…     ┆ Sl…     ┆ gU…     ┆ bp…     ┆ cF…     ┆ ApCJJd │\n",
       "│         ┆         ┆         ┆         ┆         ┆         ┆         ┆         ┆         ┆ …      │\n",
       "│ KhfKjZK ┆ PubzGkd ┆ oNFMmOs ┆ TrzYYUy ┆ GMLWmKp ┆ wsNaJDY ┆ KvEAuND ┆ hXCjjUI ┆ vADNihs ┆ MkXmKh │\n",
       "│ RMKjjiX ┆ XrqJuIs ┆ gHEZSYy ┆ oakokHY ┆ DbQoksM ┆ DygPHlB ┆ sgNOhgI ┆ pMpYZeJ ┆ joVlhQf ┆ IqTgNE │\n",
       "│ mOBlQzk ┆ ckifMCB ┆ tYQYvHh ┆ tKPlVyp ┆ vyJOAwP ┆ BBdYmDt ┆ oCrkkMa ┆ LekfTMm ┆ VmfNwxr ┆ cairxu │\n",
       "│ GxgvDES ┆ eNVIdpo ┆ bSUaUQC ┆ AWMfBJw ┆ yikkWFd ┆ hIEnUTY ┆ ZDkGBnE ┆ LMjQtbJ ┆ cjOUDdc ┆ sJzCzm │\n",
       "│ Vo…     ┆ Hq…     ┆ Lw…     ┆ LN…     ┆ mR…     ┆ Dv…     ┆ Lb…     ┆ zy…     ┆ op…     ┆ rGuZFl │\n",
       "│         ┆         ┆         ┆         ┆         ┆         ┆         ┆         ┆         ┆ …      │\n",
       "│ gpgsnpc ┆ hbyxLjq ┆ bOEgVhd ┆ SVOySYO ┆ tKEoDPy ┆ RZZjnUI ┆ tllhBmU ┆ whFlPUP ┆ UWIjucF ┆ USaqUf │\n",
       "│ JjHmdOC ┆ xMaAJSt ┆ dFQoSlA ┆ GwZCbwR ┆ EeXKouY ┆ cxkjZgr ┆ wgpqKvA ┆ QAVXVgx ┆ lZpfvsg ┆ uvrjjb │\n",
       "│ sSHNTnd ┆ hShTAJo ┆ XzbDrRp ┆ scRmuht ┆ bDQdJER ┆ EScCwtZ ┆ NTJaKIB ┆ tCFfDMI ┆ OsjkbQa ┆ SkTmKc │\n",
       "│ iHXScws ┆ WDrHlQS ┆ qNFnrLa ┆ ghLRfUt ┆ sRLDZcA ┆ mFhTZVe ┆ CsAxFRG ┆ hAfUQxY ┆ yRZoqlW ┆ EKomrU │\n",
       "│ CW…     ┆ CN…     ┆ Tt…     ┆ Gp…     ┆ OW…     ┆ Jx…     ┆ Nr…     ┆ Df…     ┆ to…     ┆ rCSEjh │\n",
       "│         ┆         ┆         ┆         ┆         ┆         ┆         ┆         ┆         ┆ …      │\n",
       "│ qKqVuPu ┆ vQDTNDZ ┆ BYNAvBH ┆ hFHeQVo ┆ vSpOjmJ ┆ ncOxfsh ┆ WktTBYV ┆ jeYZtvt ┆ WdWAUSz ┆ fvsKBa │\n",
       "│ WhlnWyl ┆ gfzMfRl ┆ ipHfOak ┆ CUZnkWA ┆ PvLrXJE ┆ UxZCjZF ┆ vHqYcuv ┆ WzqXAgM ┆ XxBHgVy ┆ KHkmJY │\n",
       "│ ymeyOlT ┆ XtFuaug ┆ nNLKjyp ┆ QbrWvek ┆ SHvcAcE ┆ Avdxihg ┆ fOOGMFP ┆ pwOBgEl ┆ jHecXWI ┆ iXnHwA │\n",
       "│ itKBaMZ ┆ DnOtxXk ┆ RIhDTJR ┆ wWpCnGg ┆ TvNwNoC ┆ VcgwZQr ┆ ylqCgdJ ┆ xPKqQvN ┆ BnGERGg ┆ lQxqdr │\n",
       "│ yB…     ┆ Eh…     ┆ CD…     ┆ ad…     ┆ Cs…     ┆ OW…     ┆ oi…     ┆ Mc…     ┆ Vd…     ┆ yIVteg │\n",
       "│         ┆         ┆         ┆         ┆         ┆         ┆         ┆         ┆         ┆ …      │\n",
       "│ BXnjnYV ┆ WrZEQxY ┆ seFYVoA ┆ UzDohFt ┆ Usxvjcq ┆ LfSXAsR ┆ KumfLWD ┆ iIpotBG ┆ oackqAR ┆ JYJdLh │\n",
       "│ BdjgjLC ┆ HigSaWv ┆ hsWdqFD ┆ yZIVXhx ┆ FgVZSCP ┆ SUJOHpH ┆ QzmTOuK ┆ yzeWOwD ┆ oKcZIpi ┆ RqsXZV │\n",
       "│ JmLovcW ┆ irOveMR ┆ cqWzLBD ┆ THJaCUb ┆ wyTnSAR ┆ goRFpap ┆ RiQALpp ┆ DkocRjp ┆ HBiwTqF ┆ PQbEBQ │\n",
       "│ PTVjYxq ┆ zsOEXga ┆ MdgcFgV ┆ CDRJkHu ┆ luRwOzx ┆ IhiZpWo ┆ rLthLqX ┆ RsEHnuI ┆ BICzAMY ┆ XRxNGz │\n",
       "│ Xg…     ┆ ao…     ┆ ej…     ┆ SM…     ┆ PJ…     ┆ Oe…     ┆ OC…     ┆ lB…     ┆ OT…     ┆ knXadZ │\n",
       "│         ┆         ┆         ┆         ┆         ┆         ┆         ┆         ┆         ┆ …      │\n",
       "└─────────┴─────────┴─────────┴─────────┴─────────┴─────────┴─────────┴─────────┴─────────┴────────┘"
      ]
     },
     "execution_count": 12,
     "metadata": {},
     "output_type": "execute_result"
    }
   ],
   "source": [
    "df"
   ]
  },
  {
   "cell_type": "code",
   "execution_count": 15,
   "id": "a65309e0",
   "metadata": {},
   "outputs": [
    {
     "name": "stdout",
     "output_type": "stream",
     "text": [
      "shape: (5, 10)\n",
      "┌───────┬───────┬───────┬───────┬───────┬───────┬───────┬───────┬───────┬───────┐\n",
      "│ colu… ┆ colu… ┆ colu… ┆ colu… ┆ colu… ┆ colu… ┆ colu… ┆ colu… ┆ colu… ┆ colu… │\n",
      "│ ---   ┆ ---   ┆ ---   ┆ ---   ┆ ---   ┆ ---   ┆ ---   ┆ ---   ┆ ---   ┆ ---   │\n",
      "│ str   ┆ str   ┆ str   ┆ str   ┆ str   ┆ str   ┆ str   ┆ str   ┆ str   ┆ str   │\n",
      "╞═══════╪═══════╪═══════╪═══════╪═══════╪═══════╪═══════╪═══════╪═══════╪═══════╡\n",
      "│ LxId… ┆ Akff… ┆ drYg… ┆ jJTK… ┆ sNfp… ┆ dOBC… ┆ oDjG… ┆ ZGzM… ┆ MvGJ… ┆ zyBn… │\n",
      "│ KhfK… ┆ Pubz… ┆ oNFM… ┆ TrzY… ┆ GMLW… ┆ wsNa… ┆ KvEA… ┆ hXCj… ┆ vADN… ┆ MkXm… │\n",
      "│ gpgs… ┆ hbyx… ┆ bOEg… ┆ SVOy… ┆ tKEo… ┆ RZZj… ┆ tllh… ┆ whFl… ┆ UWIj… ┆ USaq… │\n",
      "│ qKqV… ┆ vQDT… ┆ BYNA… ┆ hFHe… ┆ vSpO… ┆ ncOx… ┆ WktT… ┆ jeYZ… ┆ WdWA… ┆ fvsK… │\n",
      "│ BXnj… ┆ WrZE… ┆ seFY… ┆ UzDo… ┆ Usxv… ┆ LfSX… ┆ Kumf… ┆ iIpo… ┆ oack… ┆ JYJd… │\n",
      "└───────┴───────┴───────┴───────┴───────┴───────┴───────┴───────┴───────┴───────┘\n"
     ]
    }
   ],
   "source": [
    "with pl.Config(tbl_cols=-1, fmt_str_lengths=4):\n",
    "    print(df)"
   ]
  },
  {
   "cell_type": "code",
   "execution_count": null,
   "id": "a9136255",
   "metadata": {},
   "outputs": [],
   "source": []
  }
 ],
 "metadata": {
  "kernelspec": {
   "display_name": ".venv",
   "language": "python",
   "name": "python3"
  },
  "language_info": {
   "codemirror_mode": {
    "name": "ipython",
    "version": 3
   },
   "file_extension": ".py",
   "mimetype": "text/x-python",
   "name": "python",
   "nbconvert_exporter": "python",
   "pygments_lexer": "ipython3",
   "version": "3.12.9"
  }
 },
 "nbformat": 4,
 "nbformat_minor": 5
}
