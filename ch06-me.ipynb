{
 "cells": [
  {
   "cell_type": "markdown",
   "id": "05942de3",
   "metadata": {},
   "source": [
    "# Reading and Writing Data"
   ]
  },
  {
   "cell_type": "code",
   "execution_count": 1,
   "id": "12687fc0",
   "metadata": {},
   "outputs": [
    {
     "name": "stdout",
     "output_type": "stream",
     "text": [
      "\"rowid\",\"species\",\"island\",\"bill_length_mm\",\"bill_depth_mm\",\"flipper_length_mm\",\"body_mass_g\",\"sex\",\"year\"\n",
      "\"1\",\"Adelie\",\"Torgersen\",39.1,18.7,181,3750,\"male\",2007\n",
      "\"2\",\"Adelie\",\"Torgersen\",39.5,17.4,186,3800,\"female\",2007\n",
      "\"3\",\"Adelie\",\"Torgersen\",40.3,18,195,3250,\"female\",2007\n",
      "\"4\",\"Adelie\",\"Torgersen\",NA,NA,NA,NA,NA,2007\n",
      "\"5\",\"Adelie\",\"Torgersen\",36.7,19.3,193,3450,\"female\",2007\n",
      "\"6\",\"Adelie\",\"Torgersen\",39.3,20.6,190,3650,\"male\",2007\n",
      "\"7\",\"Adelie\",\"Torgersen\",38.9,17.8,181,3625,\"female\",2007\n",
      "\"8\",\"Adelie\",\"Torgersen\",39.2,19.6,195,4675,\"male\",2007\n",
      "\"9\",\"Adelie\",\"Torgersen\",34.1,18.1,193,3475,NA,2007\n",
      "\"10\",\"Adelie\",\"Torgersen\",42,20.2,190,4250,NA,2007\n",
      "\"11\",\"Adelie\",\"Torgersen\",37.8,17.1,186,3300,NA,2007\n",
      "\"12\",\"Adelie\",\"Torgersen\",37.8,17.3,180,3700,NA,2007\n",
      "\"13\",\"Adelie\",\"Torgersen\",41.1,17.6,182,3200,\"female\",2007\n",
      "\"14\",\"Adelie\",\"Torgersen\",38.6,21.2,191,3800,\"male\",2007\n",
      "\"15\",\"Adelie\",\"Torgersen\",34.6,21.1,198,4400,\"male\",2007\n",
      "\"16\",\"Adelie\",\"Torgersen\",36.6,17.8,185,3700,\"female\",2007\n",
      "\"17\",\"Adelie\",\"Torgersen\",38.7,19,195,3450,\"female\",2007\n",
      "\"18\",\"Adelie\",\"Torgersen\",42.5,20.7,197,4500,\"male\",2007\n",
      "\"19\",\"Adelie\",\"Torgersen\",34.4,18.4,184,3325,\"female\",2007\n",
      "\"20\",\"Adelie\",\"Torgersen\",46,21.5,194,4200,\"male\",2007\n",
      "\"21\",\"Adelie\",\"Biscoe\",37.8,18.3,174,3400,\"female\",2007\n",
      "\"22\",\"Adelie\",\"Biscoe\",37.7,18.7,180,3600,\"male\",2007\n",
      "\"23\",\"Adelie\",\"Biscoe\",35.9,19.2,189,3800,\"female\",2007\n",
      "\"24\",\"Adelie\",\"Biscoe\",38.2,18.1,185,3950,\"male\",2007\n",
      "\"25\",\"Adelie\",\"Biscoe\",38.8,17.2,180,3800,\"male\",2007\n",
      "\"26\",\"Adelie\",\"Biscoe\",35.3,18.9,187,3800,\"female\",2007\n",
      "\"27\",\"Adelie\",\"Biscoe\",40.6,18.6,183,3550,\"male\",2007\n",
      "\"28\",\"Adelie\",\"Biscoe\",40.5,17.9,187,3200,\"female\",2007\n",
      "\"29\",\"Adelie\",\"Biscoe\",37.9,18.6,172,3150,\"female\",2007\n",
      "\"30\",\"Adelie\",\"Biscoe\",40.5,18.9,180,3950,\"male\",2007\n",
      "\"31\",\"Adelie\",\"Dream\",39.5,16.7,178,3250,\"female\",2007\n",
      "\"32\",\"Adelie\",\"Dream\",37.2,18.1,178,3900,\"male\",2007\n",
      "\"33\",\"Adelie\",\"Dream\",39.5,17.8,188,3300,\"female\",2007\n",
      "\"34\",\"Adelie\",\"Dream\",40.9,18.9,184,3900,\"male\",2007\n",
      "\"35\",\"Adelie\",\"Dream\",36.4,17,195,3325,\"female\",2007\n",
      "\"36\",\"Adelie\",\"Dream\",39.2,21.1,196,4150,\"male\",2007\n",
      "\"37\",\"Adelie\",\"Dream\",38.8,20,190,3950,\"male\",2007\n",
      "\"38\",\"Adelie\",\"Dream\",42.2,18.5,180,3550,\"female\",2007\n",
      "\"39\",\"Adelie\",\"Dream\",37.6,19.3,181,3300,\"female\",2007\n",
      "\"40\",\"Adelie\",\"Dream\",39.8,19.1,184,4650,\"male\",2007\n",
      "\"41\",\"Adelie\",\"Dream\",36.5,18,182,3150,\"female\",2007\n",
      "\"42\",\"Adelie\",\"Dream\",40.8,18.4,195,3900,\"male\",2007\n",
      "\"43\",\"Adelie\",\"Dream\",36,18.5,186,3100,\"female\",2007\n",
      "\"44\",\"Adelie\",\"Dream\",44.1,19.7,196,4400,\"male\",2007\n",
      "\"45\",\"Adelie\",\"Dream\",37,16.9,185,3000,\"female\",2007\n",
      "\"46\",\"Adelie\",\"Dream\",39.6,18.8,190,4600,\"male\",2007\n",
      "\"47\",\"Adelie\",\"Dream\",41.1,19,182,3425,\"male\",2007\n",
      "\"48\",\"Adelie\",\"Dream\",37.5,18.9,179,2975,NA,2007\n",
      "\"49\",\"Adelie\",\"Dream\",36,17.9,190,3450,\"female\",2007\n",
      "\"50\",\"Adelie\",\"Dream\",42.3,21.2,191,4150,\"male\",2007\n",
      "\"51\",\"Adelie\",\"Biscoe\",39.6,17.7,186,3500,\"female\",2008\n",
      "\"52\",\"Adelie\",\"Biscoe\",40.1,18.9,188,4300,\"male\",2008\n",
      "\"53\",\"Adelie\",\"Biscoe\",35,17.9,190,3450,\"female\",2008\n",
      "\"54\",\"Adelie\",\"Biscoe\",42,19.5,200,4050,\"male\",2008\n",
      "\"55\",\"Adelie\",\"Biscoe\",34.5,18.1,187,2900,\"female\",2008\n",
      "\"56\",\"Adelie\",\"Biscoe\",41.4,18.6,191,3700,\"male\",2008\n",
      "\"57\",\"Adelie\",\"Biscoe\",39,17.5,186,3550,\"female\",2008\n",
      "\"58\",\"Adelie\",\"Biscoe\",40.6,18.8,193,3800,\"male\",2008\n",
      "\"59\",\"Adelie\",\"Biscoe\",36.5,16.6,181,2850,\"female\",2008\n",
      "\"60\",\"Adelie\",\"Biscoe\",37.6,19.1,194,3750,\"male\",2008\n",
      "\"61\",\"Adelie\",\"Biscoe\",35.7,16.9,185,3150,\"female\",2008\n",
      "\"62\",\"Adelie\",\"Biscoe\",41.3,21.1,195,4400,\"male\",2008\n",
      "\"63\",\"Adelie\",\"Biscoe\",37.6,17,185,3600,\"female\",2008\n",
      "\"64\",\"Adelie\",\"Biscoe\",41.1,18.2,192,4050,\"male\",2008\n",
      "\"65\",\"Adelie\",\"Biscoe\",36.4,17.1,184,2850,\"female\",2008\n",
      "\"66\",\"Adelie\",\"Biscoe\",41.6,18,192,3950,\"male\",2008\n",
      "\"67\",\"Adelie\",\"Biscoe\",35.5,16.2,195,3350,\"female\",2008\n",
      "\"68\",\"Adelie\",\"Biscoe\",41.1,19.1,188,4100,\"male\",2008\n",
      "\"69\",\"Adelie\",\"Torgersen\",35.9,16.6,190,3050,\"female\",2008\n",
      "\"70\",\"Adelie\",\"Torgersen\",41.8,19.4,198,4450,\"male\",2008\n",
      "\"71\",\"Adelie\",\"Torgersen\",33.5,19,190,3600,\"female\",2008\n",
      "\"72\",\"Adelie\",\"Torgersen\",39.7,18.4,190,3900,\"male\",2008\n",
      "\"73\",\"Adelie\",\"Torgersen\",39.6,17.2,196,3550,\"female\",2008\n",
      "\"74\",\"Adelie\",\"Torgersen\",45.8,18.9,197,4150,\"male\",2008\n",
      "\"75\",\"Adelie\",\"Torgersen\",35.5,17.5,190,3700,\"female\",2008\n",
      "\"76\",\"Adelie\",\"Torgersen\",42.8,18.5,195,4250,\"male\",2008\n",
      "\"77\",\"Adelie\",\"Torgersen\",40.9,16.8,191,3700,\"female\",2008\n",
      "\"78\",\"Adelie\",\"Torgersen\",37.2,19.4,184,3900,\"male\",2008\n",
      "\"79\",\"Adelie\",\"Torgersen\",36.2,16.1,187,3550,\"female\",2008\n",
      "\"80\",\"Adelie\",\"Torgersen\",42.1,19.1,195,4000,\"male\",2008\n",
      "\"81\",\"Adelie\",\"Torgersen\",34.6,17.2,189,3200,\"female\",2008\n",
      "\"82\",\"Adelie\",\"Torgersen\",42.9,17.6,196,4700,\"male\",2008\n",
      "\"83\",\"Adelie\",\"Torgersen\",36.7,18.8,187,3800,\"female\",2008\n",
      "\"84\",\"Adelie\",\"Torgersen\",35.1,19.4,193,4200,\"male\",2008\n",
      "\"85\",\"Adelie\",\"Dream\",37.3,17.8,191,3350,\"female\",2008\n",
      "\"86\",\"Adelie\",\"Dream\",41.3,20.3,194,3550,\"male\",2008\n",
      "\"87\",\"Adelie\",\"Dream\",36.3,19.5,190,3800,\"male\",2008\n",
      "\"88\",\"Adelie\",\"Dream\",36.9,18.6,189,3500,\"female\",2008\n",
      "\"89\",\"Adelie\",\"Dream\",38.3,19.2,189,3950,\"male\",2008\n",
      "\"90\",\"Adelie\",\"Dream\",38.9,18.8,190,3600,\"female\",2008\n",
      "\"91\",\"Adelie\",\"Dream\",35.7,18,202,3550,\"female\",2008\n",
      "\"92\",\"Adelie\",\"Dream\",41.1,18.1,205,4300,\"male\",2008\n",
      "\"93\",\"Adelie\",\"Dream\",34,17.1,185,3400,\"female\",2008\n",
      "\"94\",\"Adelie\",\"Dream\",39.6,18.1,186,4450,\"male\",2008\n",
      "\"95\",\"Adelie\",\"Dream\",36.2,17.3,187,3300,\"female\",2008\n",
      "\"96\",\"Adelie\",\"Dream\",40.8,18.9,208,4300,\"male\",2008\n",
      "\"97\",\"Adelie\",\"Dream\",38.1,18.6,190,3700,\"female\",2008\n",
      "\"98\",\"Adelie\",\"Dream\",40.3,18.5,196,4350,\"male\",2008\n",
      "\"99\",\"Adelie\",\"Dream\",33.1,16.1,178,2900,\"female\",2008\n",
      "\"100\",\"Adelie\",\"Dream\",43.2,18.5,192,4100,\"male\",2008\n",
      "\"101\",\"Adelie\",\"Biscoe\",35,17.9,192,3725,\"female\",2009\n",
      "\"102\",\"Adelie\",\"Biscoe\",41,20,203,4725,\"male\",2009\n",
      "\"103\",\"Adelie\",\"Biscoe\",37.7,16,183,3075,\"female\",2009\n",
      "\"104\",\"Adelie\",\"Biscoe\",37.8,20,190,4250,\"male\",2009\n",
      "\"105\",\"Adelie\",\"Biscoe\",37.9,18.6,193,2925,\"female\",2009\n",
      "\"106\",\"Adelie\",\"Biscoe\",39.7,18.9,184,3550,\"male\",2009\n",
      "\"107\",\"Adelie\",\"Biscoe\",38.6,17.2,199,3750,\"female\",2009\n",
      "\"108\",\"Adelie\",\"Biscoe\",38.2,20,190,3900,\"male\",2009\n",
      "\"109\",\"Adelie\",\"Biscoe\",38.1,17,181,3175,\"female\",2009\n",
      "\"110\",\"Adelie\",\"Biscoe\",43.2,19,197,4775,\"male\",2009\n",
      "\"111\",\"Adelie\",\"Biscoe\",38.1,16.5,198,3825,\"female\",2009\n",
      "\"112\",\"Adelie\",\"Biscoe\",45.6,20.3,191,4600,\"male\",2009\n",
      "\"113\",\"Adelie\",\"Biscoe\",39.7,17.7,193,3200,\"female\",2009\n",
      "\"114\",\"Adelie\",\"Biscoe\",42.2,19.5,197,4275,\"male\",2009\n",
      "\"115\",\"Adelie\",\"Biscoe\",39.6,20.7,191,3900,\"female\",2009\n",
      "\"116\",\"Adelie\",\"Biscoe\",42.7,18.3,196,4075,\"male\",2009\n",
      "\"117\",\"Adelie\",\"Torgersen\",38.6,17,188,2900,\"female\",2009\n",
      "\"118\",\"Adelie\",\"Torgersen\",37.3,20.5,199,3775,\"male\",2009\n",
      "\"119\",\"Adelie\",\"Torgersen\",35.7,17,189,3350,\"female\",2009\n",
      "\"120\",\"Adelie\",\"Torgersen\",41.1,18.6,189,3325,\"male\",2009\n",
      "\"121\",\"Adelie\",\"Torgersen\",36.2,17.2,187,3150,\"female\",2009\n",
      "\"122\",\"Adelie\",\"Torgersen\",37.7,19.8,198,3500,\"male\",2009\n",
      "\"123\",\"Adelie\",\"Torgersen\",40.2,17,176,3450,\"female\",2009\n",
      "\"124\",\"Adelie\",\"Torgersen\",41.4,18.5,202,3875,\"male\",2009\n",
      "\"125\",\"Adelie\",\"Torgersen\",35.2,15.9,186,3050,\"female\",2009\n",
      "\"126\",\"Adelie\",\"Torgersen\",40.6,19,199,4000,\"male\",2009\n",
      "\"127\",\"Adelie\",\"Torgersen\",38.8,17.6,191,3275,\"female\",2009\n",
      "\"128\",\"Adelie\",\"Torgersen\",41.5,18.3,195,4300,\"male\",2009\n",
      "\"129\",\"Adelie\",\"Torgersen\",39,17.1,191,3050,\"female\",2009\n",
      "\"130\",\"Adelie\",\"Torgersen\",44.1,18,210,4000,\"male\",2009\n",
      "\"131\",\"Adelie\",\"Torgersen\",38.5,17.9,190,3325,\"female\",2009\n",
      "\"132\",\"Adelie\",\"Torgersen\",43.1,19.2,197,3500,\"male\",2009\n",
      "\"133\",\"Adelie\",\"Dream\",36.8,18.5,193,3500,\"female\",2009\n",
      "\"134\",\"Adelie\",\"Dream\",37.5,18.5,199,4475,\"male\",2009\n",
      "\"135\",\"Adelie\",\"Dream\",38.1,17.6,187,3425,\"female\",2009\n",
      "\"136\",\"Adelie\",\"Dream\",41.1,17.5,190,3900,\"male\",2009\n",
      "\"137\",\"Adelie\",\"Dream\",35.6,17.5,191,3175,\"female\",2009\n",
      "\"138\",\"Adelie\",\"Dream\",40.2,20.1,200,3975,\"male\",2009\n",
      "\"139\",\"Adelie\",\"Dream\",37,16.5,185,3400,\"female\",2009\n",
      "\"140\",\"Adelie\",\"Dream\",39.7,17.9,193,4250,\"male\",2009\n",
      "\"141\",\"Adelie\",\"Dream\",40.2,17.1,193,3400,\"female\",2009\n",
      "\"142\",\"Adelie\",\"Dream\",40.6,17.2,187,3475,\"male\",2009\n",
      "\"143\",\"Adelie\",\"Dream\",32.1,15.5,188,3050,\"female\",2009\n",
      "\"144\",\"Adelie\",\"Dream\",40.7,17,190,3725,\"male\",2009\n",
      "\"145\",\"Adelie\",\"Dream\",37.3,16.8,192,3000,\"female\",2009\n",
      "\"146\",\"Adelie\",\"Dream\",39,18.7,185,3650,\"male\",2009\n",
      "\"147\",\"Adelie\",\"Dream\",39.2,18.6,190,4250,\"male\",2009\n",
      "\"148\",\"Adelie\",\"Dream\",36.6,18.4,184,3475,\"female\",2009\n",
      "\"149\",\"Adelie\",\"Dream\",36,17.8,195,3450,\"female\",2009\n",
      "\"150\",\"Adelie\",\"Dream\",37.8,18.1,193,3750,\"male\",2009\n",
      "\"151\",\"Adelie\",\"Dream\",36,17.1,187,3700,\"female\",2009\n",
      "\"152\",\"Adelie\",\"Dream\",41.5,18.5,201,4000,\"male\",2009\n",
      "\"153\",\"Gentoo\",\"Biscoe\",46.1,13.2,211,4500,\"female\",2007\n",
      "\"154\",\"Gentoo\",\"Biscoe\",50,16.3,230,5700,\"male\",2007\n",
      "\"155\",\"Gentoo\",\"Biscoe\",48.7,14.1,210,4450,\"female\",2007\n",
      "\"156\",\"Gentoo\",\"Biscoe\",50,15.2,218,5700,\"male\",2007\n",
      "\"157\",\"Gentoo\",\"Biscoe\",47.6,14.5,215,5400,\"male\",2007\n",
      "\"158\",\"Gentoo\",\"Biscoe\",46.5,13.5,210,4550,\"female\",2007\n",
      "\"159\",\"Gentoo\",\"Biscoe\",45.4,14.6,211,4800,\"female\",2007\n",
      "\"160\",\"Gentoo\",\"Biscoe\",46.7,15.3,219,5200,\"male\",2007\n",
      "\"161\",\"Gentoo\",\"Biscoe\",43.3,13.4,209,4400,\"female\",2007\n",
      "\"162\",\"Gentoo\",\"Biscoe\",46.8,15.4,215,5150,\"male\",2007\n",
      "\"163\",\"Gentoo\",\"Biscoe\",40.9,13.7,214,4650,\"female\",2007\n",
      "\"164\",\"Gentoo\",\"Biscoe\",49,16.1,216,5550,\"male\",2007\n",
      "\"165\",\"Gentoo\",\"Biscoe\",45.5,13.7,214,4650,\"female\",2007\n",
      "\"166\",\"Gentoo\",\"Biscoe\",48.4,14.6,213,5850,\"male\",2007\n",
      "\"167\",\"Gentoo\",\"Biscoe\",45.8,14.6,210,4200,\"female\",2007\n",
      "\"168\",\"Gentoo\",\"Biscoe\",49.3,15.7,217,5850,\"male\",2007\n",
      "\"169\",\"Gentoo\",\"Biscoe\",42,13.5,210,4150,\"female\",2007\n",
      "\"170\",\"Gentoo\",\"Biscoe\",49.2,15.2,221,6300,\"male\",2007\n",
      "\"171\",\"Gentoo\",\"Biscoe\",46.2,14.5,209,4800,\"female\",2007\n",
      "\"172\",\"Gentoo\",\"Biscoe\",48.7,15.1,222,5350,\"male\",2007\n",
      "\"173\",\"Gentoo\",\"Biscoe\",50.2,14.3,218,5700,\"male\",2007\n",
      "\"174\",\"Gentoo\",\"Biscoe\",45.1,14.5,215,5000,\"female\",2007\n",
      "\"175\",\"Gentoo\",\"Biscoe\",46.5,14.5,213,4400,\"female\",2007\n",
      "\"176\",\"Gentoo\",\"Biscoe\",46.3,15.8,215,5050,\"male\",2007\n",
      "\"177\",\"Gentoo\",\"Biscoe\",42.9,13.1,215,5000,\"female\",2007\n",
      "\"178\",\"Gentoo\",\"Biscoe\",46.1,15.1,215,5100,\"male\",2007\n",
      "\"179\",\"Gentoo\",\"Biscoe\",44.5,14.3,216,4100,NA,2007\n",
      "\"180\",\"Gentoo\",\"Biscoe\",47.8,15,215,5650,\"male\",2007\n",
      "\"181\",\"Gentoo\",\"Biscoe\",48.2,14.3,210,4600,\"female\",2007\n",
      "\"182\",\"Gentoo\",\"Biscoe\",50,15.3,220,5550,\"male\",2007\n",
      "\"183\",\"Gentoo\",\"Biscoe\",47.3,15.3,222,5250,\"male\",2007\n",
      "\"184\",\"Gentoo\",\"Biscoe\",42.8,14.2,209,4700,\"female\",2007\n",
      "\"185\",\"Gentoo\",\"Biscoe\",45.1,14.5,207,5050,\"female\",2007\n",
      "\"186\",\"Gentoo\",\"Biscoe\",59.6,17,230,6050,\"male\",2007\n",
      "\"187\",\"Gentoo\",\"Biscoe\",49.1,14.8,220,5150,\"female\",2008\n",
      "\"188\",\"Gentoo\",\"Biscoe\",48.4,16.3,220,5400,\"male\",2008\n",
      "\"189\",\"Gentoo\",\"Biscoe\",42.6,13.7,213,4950,\"female\",2008\n",
      "\"190\",\"Gentoo\",\"Biscoe\",44.4,17.3,219,5250,\"male\",2008\n",
      "\"191\",\"Gentoo\",\"Biscoe\",44,13.6,208,4350,\"female\",2008\n",
      "\"192\",\"Gentoo\",\"Biscoe\",48.7,15.7,208,5350,\"male\",2008\n",
      "\"193\",\"Gentoo\",\"Biscoe\",42.7,13.7,208,3950,\"female\",2008\n",
      "\"194\",\"Gentoo\",\"Biscoe\",49.6,16,225,5700,\"male\",2008\n",
      "\"195\",\"Gentoo\",\"Biscoe\",45.3,13.7,210,4300,\"female\",2008\n",
      "\"196\",\"Gentoo\",\"Biscoe\",49.6,15,216,4750,\"male\",2008\n",
      "\"197\",\"Gentoo\",\"Biscoe\",50.5,15.9,222,5550,\"male\",2008\n",
      "\"198\",\"Gentoo\",\"Biscoe\",43.6,13.9,217,4900,\"female\",2008\n",
      "\"199\",\"Gentoo\",\"Biscoe\",45.5,13.9,210,4200,\"female\",2008\n",
      "\"200\",\"Gentoo\",\"Biscoe\",50.5,15.9,225,5400,\"male\",2008\n",
      "\"201\",\"Gentoo\",\"Biscoe\",44.9,13.3,213,5100,\"female\",2008\n",
      "\"202\",\"Gentoo\",\"Biscoe\",45.2,15.8,215,5300,\"male\",2008\n",
      "\"203\",\"Gentoo\",\"Biscoe\",46.6,14.2,210,4850,\"female\",2008\n",
      "\"204\",\"Gentoo\",\"Biscoe\",48.5,14.1,220,5300,\"male\",2008\n",
      "\"205\",\"Gentoo\",\"Biscoe\",45.1,14.4,210,4400,\"female\",2008\n",
      "\"206\",\"Gentoo\",\"Biscoe\",50.1,15,225,5000,\"male\",2008\n",
      "\"207\",\"Gentoo\",\"Biscoe\",46.5,14.4,217,4900,\"female\",2008\n",
      "\"208\",\"Gentoo\",\"Biscoe\",45,15.4,220,5050,\"male\",2008\n",
      "\"209\",\"Gentoo\",\"Biscoe\",43.8,13.9,208,4300,\"female\",2008\n",
      "\"210\",\"Gentoo\",\"Biscoe\",45.5,15,220,5000,\"male\",2008\n",
      "\"211\",\"Gentoo\",\"Biscoe\",43.2,14.5,208,4450,\"female\",2008\n",
      "\"212\",\"Gentoo\",\"Biscoe\",50.4,15.3,224,5550,\"male\",2008\n",
      "\"213\",\"Gentoo\",\"Biscoe\",45.3,13.8,208,4200,\"female\",2008\n",
      "\"214\",\"Gentoo\",\"Biscoe\",46.2,14.9,221,5300,\"male\",2008\n",
      "\"215\",\"Gentoo\",\"Biscoe\",45.7,13.9,214,4400,\"female\",2008\n",
      "\"216\",\"Gentoo\",\"Biscoe\",54.3,15.7,231,5650,\"male\",2008\n",
      "\"217\",\"Gentoo\",\"Biscoe\",45.8,14.2,219,4700,\"female\",2008\n",
      "\"218\",\"Gentoo\",\"Biscoe\",49.8,16.8,230,5700,\"male\",2008\n",
      "\"219\",\"Gentoo\",\"Biscoe\",46.2,14.4,214,4650,NA,2008\n",
      "\"220\",\"Gentoo\",\"Biscoe\",49.5,16.2,229,5800,\"male\",2008\n",
      "\"221\",\"Gentoo\",\"Biscoe\",43.5,14.2,220,4700,\"female\",2008\n",
      "\"222\",\"Gentoo\",\"Biscoe\",50.7,15,223,5550,\"male\",2008\n",
      "\"223\",\"Gentoo\",\"Biscoe\",47.7,15,216,4750,\"female\",2008\n",
      "\"224\",\"Gentoo\",\"Biscoe\",46.4,15.6,221,5000,\"male\",2008\n",
      "\"225\",\"Gentoo\",\"Biscoe\",48.2,15.6,221,5100,\"male\",2008\n",
      "\"226\",\"Gentoo\",\"Biscoe\",46.5,14.8,217,5200,\"female\",2008\n",
      "\"227\",\"Gentoo\",\"Biscoe\",46.4,15,216,4700,\"female\",2008\n",
      "\"228\",\"Gentoo\",\"Biscoe\",48.6,16,230,5800,\"male\",2008\n",
      "\"229\",\"Gentoo\",\"Biscoe\",47.5,14.2,209,4600,\"female\",2008\n",
      "\"230\",\"Gentoo\",\"Biscoe\",51.1,16.3,220,6000,\"male\",2008\n",
      "\"231\",\"Gentoo\",\"Biscoe\",45.2,13.8,215,4750,\"female\",2008\n",
      "\"232\",\"Gentoo\",\"Biscoe\",45.2,16.4,223,5950,\"male\",2008\n",
      "\"233\",\"Gentoo\",\"Biscoe\",49.1,14.5,212,4625,\"female\",2009\n",
      "\"234\",\"Gentoo\",\"Biscoe\",52.5,15.6,221,5450,\"male\",2009\n",
      "\"235\",\"Gentoo\",\"Biscoe\",47.4,14.6,212,4725,\"female\",2009\n",
      "\"236\",\"Gentoo\",\"Biscoe\",50,15.9,224,5350,\"male\",2009\n",
      "\"237\",\"Gentoo\",\"Biscoe\",44.9,13.8,212,4750,\"female\",2009\n",
      "\"238\",\"Gentoo\",\"Biscoe\",50.8,17.3,228,5600,\"male\",2009\n",
      "\"239\",\"Gentoo\",\"Biscoe\",43.4,14.4,218,4600,\"female\",2009\n",
      "\"240\",\"Gentoo\",\"Biscoe\",51.3,14.2,218,5300,\"male\",2009\n",
      "\"241\",\"Gentoo\",\"Biscoe\",47.5,14,212,4875,\"female\",2009\n",
      "\"242\",\"Gentoo\",\"Biscoe\",52.1,17,230,5550,\"male\",2009\n",
      "\"243\",\"Gentoo\",\"Biscoe\",47.5,15,218,4950,\"female\",2009\n",
      "\"244\",\"Gentoo\",\"Biscoe\",52.2,17.1,228,5400,\"male\",2009\n",
      "\"245\",\"Gentoo\",\"Biscoe\",45.5,14.5,212,4750,\"female\",2009\n",
      "\"246\",\"Gentoo\",\"Biscoe\",49.5,16.1,224,5650,\"male\",2009\n",
      "\"247\",\"Gentoo\",\"Biscoe\",44.5,14.7,214,4850,\"female\",2009\n",
      "\"248\",\"Gentoo\",\"Biscoe\",50.8,15.7,226,5200,\"male\",2009\n",
      "\"249\",\"Gentoo\",\"Biscoe\",49.4,15.8,216,4925,\"male\",2009\n",
      "\"250\",\"Gentoo\",\"Biscoe\",46.9,14.6,222,4875,\"female\",2009\n",
      "\"251\",\"Gentoo\",\"Biscoe\",48.4,14.4,203,4625,\"female\",2009\n",
      "\"252\",\"Gentoo\",\"Biscoe\",51.1,16.5,225,5250,\"male\",2009\n",
      "\"253\",\"Gentoo\",\"Biscoe\",48.5,15,219,4850,\"female\",2009\n",
      "\"254\",\"Gentoo\",\"Biscoe\",55.9,17,228,5600,\"male\",2009\n",
      "\"255\",\"Gentoo\",\"Biscoe\",47.2,15.5,215,4975,\"female\",2009\n",
      "\"256\",\"Gentoo\",\"Biscoe\",49.1,15,228,5500,\"male\",2009\n",
      "\"257\",\"Gentoo\",\"Biscoe\",47.3,13.8,216,4725,NA,2009\n",
      "\"258\",\"Gentoo\",\"Biscoe\",46.8,16.1,215,5500,\"male\",2009\n",
      "\"259\",\"Gentoo\",\"Biscoe\",41.7,14.7,210,4700,\"female\",2009\n",
      "\"260\",\"Gentoo\",\"Biscoe\",53.4,15.8,219,5500,\"male\",2009\n",
      "\"261\",\"Gentoo\",\"Biscoe\",43.3,14,208,4575,\"female\",2009\n",
      "\"262\",\"Gentoo\",\"Biscoe\",48.1,15.1,209,5500,\"male\",2009\n",
      "\"263\",\"Gentoo\",\"Biscoe\",50.5,15.2,216,5000,\"female\",2009\n",
      "\"264\",\"Gentoo\",\"Biscoe\",49.8,15.9,229,5950,\"male\",2009\n",
      "\"265\",\"Gentoo\",\"Biscoe\",43.5,15.2,213,4650,\"female\",2009\n",
      "\"266\",\"Gentoo\",\"Biscoe\",51.5,16.3,230,5500,\"male\",2009\n",
      "\"267\",\"Gentoo\",\"Biscoe\",46.2,14.1,217,4375,\"female\",2009\n",
      "\"268\",\"Gentoo\",\"Biscoe\",55.1,16,230,5850,\"male\",2009\n",
      "\"269\",\"Gentoo\",\"Biscoe\",44.5,15.7,217,4875,NA,2009\n",
      "\"270\",\"Gentoo\",\"Biscoe\",48.8,16.2,222,6000,\"male\",2009\n",
      "\"271\",\"Gentoo\",\"Biscoe\",47.2,13.7,214,4925,\"female\",2009\n",
      "\"272\",\"Gentoo\",\"Biscoe\",NA,NA,NA,NA,NA,2009\n",
      "\"273\",\"Gentoo\",\"Biscoe\",46.8,14.3,215,4850,\"female\",2009\n",
      "\"274\",\"Gentoo\",\"Biscoe\",50.4,15.7,222,5750,\"male\",2009\n",
      "\"275\",\"Gentoo\",\"Biscoe\",45.2,14.8,212,5200,\"female\",2009\n",
      "\"276\",\"Gentoo\",\"Biscoe\",49.9,16.1,213,5400,\"male\",2009\n",
      "\"277\",\"Chinstrap\",\"Dream\",46.5,17.9,192,3500,\"female\",2007\n",
      "\"278\",\"Chinstrap\",\"Dream\",50,19.5,196,3900,\"male\",2007\n",
      "\"279\",\"Chinstrap\",\"Dream\",51.3,19.2,193,3650,\"male\",2007\n",
      "\"280\",\"Chinstrap\",\"Dream\",45.4,18.7,188,3525,\"female\",2007\n",
      "\"281\",\"Chinstrap\",\"Dream\",52.7,19.8,197,3725,\"male\",2007\n",
      "\"282\",\"Chinstrap\",\"Dream\",45.2,17.8,198,3950,\"female\",2007\n",
      "\"283\",\"Chinstrap\",\"Dream\",46.1,18.2,178,3250,\"female\",2007\n",
      "\"284\",\"Chinstrap\",\"Dream\",51.3,18.2,197,3750,\"male\",2007\n",
      "\"285\",\"Chinstrap\",\"Dream\",46,18.9,195,4150,\"female\",2007\n",
      "\"286\",\"Chinstrap\",\"Dream\",51.3,19.9,198,3700,\"male\",2007\n",
      "\"287\",\"Chinstrap\",\"Dream\",46.6,17.8,193,3800,\"female\",2007\n",
      "\"288\",\"Chinstrap\",\"Dream\",51.7,20.3,194,3775,\"male\",2007\n",
      "\"289\",\"Chinstrap\",\"Dream\",47,17.3,185,3700,\"female\",2007\n",
      "\"290\",\"Chinstrap\",\"Dream\",52,18.1,201,4050,\"male\",2007\n",
      "\"291\",\"Chinstrap\",\"Dream\",45.9,17.1,190,3575,\"female\",2007\n",
      "\"292\",\"Chinstrap\",\"Dream\",50.5,19.6,201,4050,\"male\",2007\n",
      "\"293\",\"Chinstrap\",\"Dream\",50.3,20,197,3300,\"male\",2007\n",
      "\"294\",\"Chinstrap\",\"Dream\",58,17.8,181,3700,\"female\",2007\n",
      "\"295\",\"Chinstrap\",\"Dream\",46.4,18.6,190,3450,\"female\",2007\n",
      "\"296\",\"Chinstrap\",\"Dream\",49.2,18.2,195,4400,\"male\",2007\n",
      "\"297\",\"Chinstrap\",\"Dream\",42.4,17.3,181,3600,\"female\",2007\n",
      "\"298\",\"Chinstrap\",\"Dream\",48.5,17.5,191,3400,\"male\",2007\n",
      "\"299\",\"Chinstrap\",\"Dream\",43.2,16.6,187,2900,\"female\",2007\n",
      "\"300\",\"Chinstrap\",\"Dream\",50.6,19.4,193,3800,\"male\",2007\n",
      "\"301\",\"Chinstrap\",\"Dream\",46.7,17.9,195,3300,\"female\",2007\n",
      "\"302\",\"Chinstrap\",\"Dream\",52,19,197,4150,\"male\",2007\n",
      "\"303\",\"Chinstrap\",\"Dream\",50.5,18.4,200,3400,\"female\",2008\n",
      "\"304\",\"Chinstrap\",\"Dream\",49.5,19,200,3800,\"male\",2008\n",
      "\"305\",\"Chinstrap\",\"Dream\",46.4,17.8,191,3700,\"female\",2008\n",
      "\"306\",\"Chinstrap\",\"Dream\",52.8,20,205,4550,\"male\",2008\n",
      "\"307\",\"Chinstrap\",\"Dream\",40.9,16.6,187,3200,\"female\",2008\n",
      "\"308\",\"Chinstrap\",\"Dream\",54.2,20.8,201,4300,\"male\",2008\n",
      "\"309\",\"Chinstrap\",\"Dream\",42.5,16.7,187,3350,\"female\",2008\n",
      "\"310\",\"Chinstrap\",\"Dream\",51,18.8,203,4100,\"male\",2008\n",
      "\"311\",\"Chinstrap\",\"Dream\",49.7,18.6,195,3600,\"male\",2008\n",
      "\"312\",\"Chinstrap\",\"Dream\",47.5,16.8,199,3900,\"female\",2008\n",
      "\"313\",\"Chinstrap\",\"Dream\",47.6,18.3,195,3850,\"female\",2008\n",
      "\"314\",\"Chinstrap\",\"Dream\",52,20.7,210,4800,\"male\",2008\n",
      "\"315\",\"Chinstrap\",\"Dream\",46.9,16.6,192,2700,\"female\",2008\n",
      "\"316\",\"Chinstrap\",\"Dream\",53.5,19.9,205,4500,\"male\",2008\n",
      "\"317\",\"Chinstrap\",\"Dream\",49,19.5,210,3950,\"male\",2008\n",
      "\"318\",\"Chinstrap\",\"Dream\",46.2,17.5,187,3650,\"female\",2008\n",
      "\"319\",\"Chinstrap\",\"Dream\",50.9,19.1,196,3550,\"male\",2008\n",
      "\"320\",\"Chinstrap\",\"Dream\",45.5,17,196,3500,\"female\",2008\n",
      "\"321\",\"Chinstrap\",\"Dream\",50.9,17.9,196,3675,\"female\",2009\n",
      "\"322\",\"Chinstrap\",\"Dream\",50.8,18.5,201,4450,\"male\",2009\n",
      "\"323\",\"Chinstrap\",\"Dream\",50.1,17.9,190,3400,\"female\",2009\n",
      "\"324\",\"Chinstrap\",\"Dream\",49,19.6,212,4300,\"male\",2009\n",
      "\"325\",\"Chinstrap\",\"Dream\",51.5,18.7,187,3250,\"male\",2009\n",
      "\"326\",\"Chinstrap\",\"Dream\",49.8,17.3,198,3675,\"female\",2009\n",
      "\"327\",\"Chinstrap\",\"Dream\",48.1,16.4,199,3325,\"female\",2009\n",
      "\"328\",\"Chinstrap\",\"Dream\",51.4,19,201,3950,\"male\",2009\n",
      "\"329\",\"Chinstrap\",\"Dream\",45.7,17.3,193,3600,\"female\",2009\n",
      "\"330\",\"Chinstrap\",\"Dream\",50.7,19.7,203,4050,\"male\",2009\n",
      "\"331\",\"Chinstrap\",\"Dream\",42.5,17.3,187,3350,\"female\",2009\n",
      "\"332\",\"Chinstrap\",\"Dream\",52.2,18.8,197,3450,\"male\",2009\n",
      "\"333\",\"Chinstrap\",\"Dream\",45.2,16.6,191,3250,\"female\",2009\n",
      "\"334\",\"Chinstrap\",\"Dream\",49.3,19.9,203,4050,\"male\",2009\n",
      "\"335\",\"Chinstrap\",\"Dream\",50.2,18.8,202,3800,\"male\",2009\n",
      "\"336\",\"Chinstrap\",\"Dream\",45.6,19.4,194,3525,\"female\",2009\n",
      "\"337\",\"Chinstrap\",\"Dream\",51.9,19.5,206,3950,\"male\",2009\n",
      "\"338\",\"Chinstrap\",\"Dream\",46.8,16.5,189,3650,\"female\",2009\n",
      "\"339\",\"Chinstrap\",\"Dream\",45.7,17,195,3650,\"female\",2009\n",
      "\"340\",\"Chinstrap\",\"Dream\",55.8,19.8,207,4000,\"male\",2009\n",
      "\"341\",\"Chinstrap\",\"Dream\",43.5,18.1,202,3400,\"female\",2009\n",
      "\"342\",\"Chinstrap\",\"Dream\",49.6,18.2,193,3775,\"male\",2009\n",
      "\"343\",\"Chinstrap\",\"Dream\",50.8,19,210,4100,\"male\",2009\n",
      "\"344\",\"Chinstrap\",\"Dream\",50.2,18.7,198,3775,\"female\",2009\n"
     ]
    }
   ],
   "source": [
    "!cat data/penguins.csv"
   ]
  },
  {
   "cell_type": "code",
   "execution_count": 3,
   "id": "a641fc54",
   "metadata": {},
   "outputs": [
    {
     "data": {
      "text/html": [
       "<div><style>\n",
       ".dataframe > thead > tr,\n",
       ".dataframe > tbody > tr {\n",
       "  text-align: right;\n",
       "  white-space: pre-wrap;\n",
       "}\n",
       "</style>\n",
       "<small>shape: (344, 9)</small><table border=\"1\" class=\"dataframe\"><thead><tr><th>rowid</th><th>species</th><th>island</th><th>bill_length_mm</th><th>bill_depth_mm</th><th>flipper_length_mm</th><th>body_mass_g</th><th>sex</th><th>year</th></tr><tr><td>i64</td><td>str</td><td>str</td><td>str</td><td>str</td><td>str</td><td>str</td><td>str</td><td>i64</td></tr></thead><tbody><tr><td>1</td><td>&quot;Adelie&quot;</td><td>&quot;Torgersen&quot;</td><td>&quot;39.1&quot;</td><td>&quot;18.7&quot;</td><td>&quot;181&quot;</td><td>&quot;3750&quot;</td><td>&quot;male&quot;</td><td>2007</td></tr><tr><td>2</td><td>&quot;Adelie&quot;</td><td>&quot;Torgersen&quot;</td><td>&quot;39.5&quot;</td><td>&quot;17.4&quot;</td><td>&quot;186&quot;</td><td>&quot;3800&quot;</td><td>&quot;female&quot;</td><td>2007</td></tr><tr><td>3</td><td>&quot;Adelie&quot;</td><td>&quot;Torgersen&quot;</td><td>&quot;40.3&quot;</td><td>&quot;18&quot;</td><td>&quot;195&quot;</td><td>&quot;3250&quot;</td><td>&quot;female&quot;</td><td>2007</td></tr><tr><td>4</td><td>&quot;Adelie&quot;</td><td>&quot;Torgersen&quot;</td><td>&quot;NA&quot;</td><td>&quot;NA&quot;</td><td>&quot;NA&quot;</td><td>&quot;NA&quot;</td><td>&quot;NA&quot;</td><td>2007</td></tr><tr><td>5</td><td>&quot;Adelie&quot;</td><td>&quot;Torgersen&quot;</td><td>&quot;36.7&quot;</td><td>&quot;19.3&quot;</td><td>&quot;193&quot;</td><td>&quot;3450&quot;</td><td>&quot;female&quot;</td><td>2007</td></tr><tr><td>&hellip;</td><td>&hellip;</td><td>&hellip;</td><td>&hellip;</td><td>&hellip;</td><td>&hellip;</td><td>&hellip;</td><td>&hellip;</td><td>&hellip;</td></tr><tr><td>340</td><td>&quot;Chinstrap&quot;</td><td>&quot;Dream&quot;</td><td>&quot;55.8&quot;</td><td>&quot;19.8&quot;</td><td>&quot;207&quot;</td><td>&quot;4000&quot;</td><td>&quot;male&quot;</td><td>2009</td></tr><tr><td>341</td><td>&quot;Chinstrap&quot;</td><td>&quot;Dream&quot;</td><td>&quot;43.5&quot;</td><td>&quot;18.1&quot;</td><td>&quot;202&quot;</td><td>&quot;3400&quot;</td><td>&quot;female&quot;</td><td>2009</td></tr><tr><td>342</td><td>&quot;Chinstrap&quot;</td><td>&quot;Dream&quot;</td><td>&quot;49.6&quot;</td><td>&quot;18.2&quot;</td><td>&quot;193&quot;</td><td>&quot;3775&quot;</td><td>&quot;male&quot;</td><td>2009</td></tr><tr><td>343</td><td>&quot;Chinstrap&quot;</td><td>&quot;Dream&quot;</td><td>&quot;50.8&quot;</td><td>&quot;19&quot;</td><td>&quot;210&quot;</td><td>&quot;4100&quot;</td><td>&quot;male&quot;</td><td>2009</td></tr><tr><td>344</td><td>&quot;Chinstrap&quot;</td><td>&quot;Dream&quot;</td><td>&quot;50.2&quot;</td><td>&quot;18.7&quot;</td><td>&quot;198&quot;</td><td>&quot;3775&quot;</td><td>&quot;female&quot;</td><td>2009</td></tr></tbody></table></div>"
      ],
      "text/plain": [
       "shape: (344, 9)\n",
       "┌───────┬───────────┬───────────┬────────────────┬───┬───────────────┬─────────────┬────────┬──────┐\n",
       "│ rowid ┆ species   ┆ island    ┆ bill_length_mm ┆ … ┆ flipper_lengt ┆ body_mass_g ┆ sex    ┆ year │\n",
       "│ ---   ┆ ---       ┆ ---       ┆ ---            ┆   ┆ h_mm          ┆ ---         ┆ ---    ┆ ---  │\n",
       "│ i64   ┆ str       ┆ str       ┆ str            ┆   ┆ ---           ┆ str         ┆ str    ┆ i64  │\n",
       "│       ┆           ┆           ┆                ┆   ┆ str           ┆             ┆        ┆      │\n",
       "╞═══════╪═══════════╪═══════════╪════════════════╪═══╪═══════════════╪═════════════╪════════╪══════╡\n",
       "│ 1     ┆ Adelie    ┆ Torgersen ┆ 39.1           ┆ … ┆ 181           ┆ 3750        ┆ male   ┆ 2007 │\n",
       "│ 2     ┆ Adelie    ┆ Torgersen ┆ 39.5           ┆ … ┆ 186           ┆ 3800        ┆ female ┆ 2007 │\n",
       "│ 3     ┆ Adelie    ┆ Torgersen ┆ 40.3           ┆ … ┆ 195           ┆ 3250        ┆ female ┆ 2007 │\n",
       "│ 4     ┆ Adelie    ┆ Torgersen ┆ NA             ┆ … ┆ NA            ┆ NA          ┆ NA     ┆ 2007 │\n",
       "│ 5     ┆ Adelie    ┆ Torgersen ┆ 36.7           ┆ … ┆ 193           ┆ 3450        ┆ female ┆ 2007 │\n",
       "│ …     ┆ …         ┆ …         ┆ …              ┆ … ┆ …             ┆ …           ┆ …      ┆ …    │\n",
       "│ 340   ┆ Chinstrap ┆ Dream     ┆ 55.8           ┆ … ┆ 207           ┆ 4000        ┆ male   ┆ 2009 │\n",
       "│ 341   ┆ Chinstrap ┆ Dream     ┆ 43.5           ┆ … ┆ 202           ┆ 3400        ┆ female ┆ 2009 │\n",
       "│ 342   ┆ Chinstrap ┆ Dream     ┆ 49.6           ┆ … ┆ 193           ┆ 3775        ┆ male   ┆ 2009 │\n",
       "│ 343   ┆ Chinstrap ┆ Dream     ┆ 50.8           ┆ … ┆ 210           ┆ 4100        ┆ male   ┆ 2009 │\n",
       "│ 344   ┆ Chinstrap ┆ Dream     ┆ 50.2           ┆ … ┆ 198           ┆ 3775        ┆ female ┆ 2009 │\n",
       "└───────┴───────────┴───────────┴────────────────┴───┴───────────────┴─────────────┴────────┴──────┘"
      ]
     },
     "execution_count": 3,
     "metadata": {},
     "output_type": "execute_result"
    }
   ],
   "source": [
    "import polars as pl\n",
    "\n",
    "penguins = pl.read_csv(\"data/penguins.csv\")\n",
    "penguins"
   ]
  },
  {
   "cell_type": "markdown",
   "id": "c9ecfb66",
   "metadata": {},
   "source": [
    "notice that the \"NA\" is not interpreted as missing but as a string."
   ]
  },
  {
   "cell_type": "code",
   "execution_count": 5,
   "id": "f16e8246",
   "metadata": {},
   "outputs": [
    {
     "data": {
      "text/html": [
       "<div><style>\n",
       ".dataframe > thead > tr,\n",
       ".dataframe > tbody > tr {\n",
       "  text-align: right;\n",
       "  white-space: pre-wrap;\n",
       "}\n",
       "</style>\n",
       "<small>shape: (344, 9)</small><table border=\"1\" class=\"dataframe\"><thead><tr><th>rowid</th><th>species</th><th>island</th><th>bill_length_mm</th><th>bill_depth_mm</th><th>flipper_length_mm</th><th>body_mass_g</th><th>sex</th><th>year</th></tr><tr><td>i64</td><td>str</td><td>str</td><td>f64</td><td>f64</td><td>i64</td><td>i64</td><td>str</td><td>i64</td></tr></thead><tbody><tr><td>1</td><td>&quot;Adelie&quot;</td><td>&quot;Torgersen&quot;</td><td>39.1</td><td>18.7</td><td>181</td><td>3750</td><td>&quot;male&quot;</td><td>2007</td></tr><tr><td>2</td><td>&quot;Adelie&quot;</td><td>&quot;Torgersen&quot;</td><td>39.5</td><td>17.4</td><td>186</td><td>3800</td><td>&quot;female&quot;</td><td>2007</td></tr><tr><td>3</td><td>&quot;Adelie&quot;</td><td>&quot;Torgersen&quot;</td><td>40.3</td><td>18.0</td><td>195</td><td>3250</td><td>&quot;female&quot;</td><td>2007</td></tr><tr><td>4</td><td>&quot;Adelie&quot;</td><td>&quot;Torgersen&quot;</td><td>null</td><td>null</td><td>null</td><td>null</td><td>null</td><td>2007</td></tr><tr><td>5</td><td>&quot;Adelie&quot;</td><td>&quot;Torgersen&quot;</td><td>36.7</td><td>19.3</td><td>193</td><td>3450</td><td>&quot;female&quot;</td><td>2007</td></tr><tr><td>&hellip;</td><td>&hellip;</td><td>&hellip;</td><td>&hellip;</td><td>&hellip;</td><td>&hellip;</td><td>&hellip;</td><td>&hellip;</td><td>&hellip;</td></tr><tr><td>340</td><td>&quot;Chinstrap&quot;</td><td>&quot;Dream&quot;</td><td>55.8</td><td>19.8</td><td>207</td><td>4000</td><td>&quot;male&quot;</td><td>2009</td></tr><tr><td>341</td><td>&quot;Chinstrap&quot;</td><td>&quot;Dream&quot;</td><td>43.5</td><td>18.1</td><td>202</td><td>3400</td><td>&quot;female&quot;</td><td>2009</td></tr><tr><td>342</td><td>&quot;Chinstrap&quot;</td><td>&quot;Dream&quot;</td><td>49.6</td><td>18.2</td><td>193</td><td>3775</td><td>&quot;male&quot;</td><td>2009</td></tr><tr><td>343</td><td>&quot;Chinstrap&quot;</td><td>&quot;Dream&quot;</td><td>50.8</td><td>19.0</td><td>210</td><td>4100</td><td>&quot;male&quot;</td><td>2009</td></tr><tr><td>344</td><td>&quot;Chinstrap&quot;</td><td>&quot;Dream&quot;</td><td>50.2</td><td>18.7</td><td>198</td><td>3775</td><td>&quot;female&quot;</td><td>2009</td></tr></tbody></table></div>"
      ],
      "text/plain": [
       "shape: (344, 9)\n",
       "┌───────┬───────────┬───────────┬────────────────┬───┬───────────────┬─────────────┬────────┬──────┐\n",
       "│ rowid ┆ species   ┆ island    ┆ bill_length_mm ┆ … ┆ flipper_lengt ┆ body_mass_g ┆ sex    ┆ year │\n",
       "│ ---   ┆ ---       ┆ ---       ┆ ---            ┆   ┆ h_mm          ┆ ---         ┆ ---    ┆ ---  │\n",
       "│ i64   ┆ str       ┆ str       ┆ f64            ┆   ┆ ---           ┆ i64         ┆ str    ┆ i64  │\n",
       "│       ┆           ┆           ┆                ┆   ┆ i64           ┆             ┆        ┆      │\n",
       "╞═══════╪═══════════╪═══════════╪════════════════╪═══╪═══════════════╪═════════════╪════════╪══════╡\n",
       "│ 1     ┆ Adelie    ┆ Torgersen ┆ 39.1           ┆ … ┆ 181           ┆ 3750        ┆ male   ┆ 2007 │\n",
       "│ 2     ┆ Adelie    ┆ Torgersen ┆ 39.5           ┆ … ┆ 186           ┆ 3800        ┆ female ┆ 2007 │\n",
       "│ 3     ┆ Adelie    ┆ Torgersen ┆ 40.3           ┆ … ┆ 195           ┆ 3250        ┆ female ┆ 2007 │\n",
       "│ 4     ┆ Adelie    ┆ Torgersen ┆ null           ┆ … ┆ null          ┆ null        ┆ null   ┆ 2007 │\n",
       "│ 5     ┆ Adelie    ┆ Torgersen ┆ 36.7           ┆ … ┆ 193           ┆ 3450        ┆ female ┆ 2007 │\n",
       "│ …     ┆ …         ┆ …         ┆ …              ┆ … ┆ …             ┆ …           ┆ …      ┆ …    │\n",
       "│ 340   ┆ Chinstrap ┆ Dream     ┆ 55.8           ┆ … ┆ 207           ┆ 4000        ┆ male   ┆ 2009 │\n",
       "│ 341   ┆ Chinstrap ┆ Dream     ┆ 43.5           ┆ … ┆ 202           ┆ 3400        ┆ female ┆ 2009 │\n",
       "│ 342   ┆ Chinstrap ┆ Dream     ┆ 49.6           ┆ … ┆ 193           ┆ 3775        ┆ male   ┆ 2009 │\n",
       "│ 343   ┆ Chinstrap ┆ Dream     ┆ 50.8           ┆ … ┆ 210           ┆ 4100        ┆ male   ┆ 2009 │\n",
       "│ 344   ┆ Chinstrap ┆ Dream     ┆ 50.2           ┆ … ┆ 198           ┆ 3775        ┆ female ┆ 2009 │\n",
       "└───────┴───────────┴───────────┴────────────────┴───┴───────────────┴─────────────┴────────┴──────┘"
      ]
     },
     "execution_count": 5,
     "metadata": {},
     "output_type": "execute_result"
    }
   ],
   "source": [
    "penguins = pl.read_csv(\"data/penguins.csv\", null_values=\"NA\")\n",
    "penguins"
   ]
  },
  {
   "cell_type": "code",
   "execution_count": 6,
   "id": "26b8195d",
   "metadata": {},
   "outputs": [
    {
     "data": {
      "text/html": [
       "<div><style>\n",
       ".dataframe > thead > tr,\n",
       ".dataframe > tbody > tr {\n",
       "  text-align: right;\n",
       "  white-space: pre-wrap;\n",
       "}\n",
       "</style>\n",
       "<small>shape: (1, 9)</small><table border=\"1\" class=\"dataframe\"><thead><tr><th>rowid</th><th>species</th><th>island</th><th>bill_length_mm</th><th>bill_depth_mm</th><th>flipper_length_mm</th><th>body_mass_g</th><th>sex</th><th>year</th></tr><tr><td>u32</td><td>u32</td><td>u32</td><td>u32</td><td>u32</td><td>u32</td><td>u32</td><td>u32</td><td>u32</td></tr></thead><tbody><tr><td>0</td><td>0</td><td>0</td><td>2</td><td>2</td><td>2</td><td>2</td><td>11</td><td>0</td></tr></tbody></table></div>"
      ],
      "text/plain": [
       "shape: (1, 9)\n",
       "┌───────┬─────────┬────────┬────────────────┬───┬───────────────────┬─────────────┬─────┬──────┐\n",
       "│ rowid ┆ species ┆ island ┆ bill_length_mm ┆ … ┆ flipper_length_mm ┆ body_mass_g ┆ sex ┆ year │\n",
       "│ ---   ┆ ---     ┆ ---    ┆ ---            ┆   ┆ ---               ┆ ---         ┆ --- ┆ ---  │\n",
       "│ u32   ┆ u32     ┆ u32    ┆ u32            ┆   ┆ u32               ┆ u32         ┆ u32 ┆ u32  │\n",
       "╞═══════╪═════════╪════════╪════════════════╪═══╪═══════════════════╪═════════════╪═════╪══════╡\n",
       "│ 0     ┆ 0       ┆ 0      ┆ 2              ┆ … ┆ 2                 ┆ 2           ┆ 11  ┆ 0    │\n",
       "└───────┴─────────┴────────┴────────────────┴───┴───────────────────┴─────────────┴─────┴──────┘"
      ]
     },
     "execution_count": 6,
     "metadata": {},
     "output_type": "execute_result"
    }
   ],
   "source": [
    "penguins.null_count()"
   ]
  },
  {
   "cell_type": "code",
   "execution_count": 8,
   "id": "5235484f",
   "metadata": {},
   "outputs": [
    {
     "data": {
      "text/html": [
       "<div><style>\n",
       ".dataframe > thead > tr,\n",
       ".dataframe > tbody > tr {\n",
       "  text-align: right;\n",
       "  white-space: pre-wrap;\n",
       "}\n",
       "</style>\n",
       "<small>shape: (9, 2)</small><table border=\"1\" class=\"dataframe\"><thead><tr><th>column</th><th>null_count</th></tr><tr><td>str</td><td>u32</td></tr></thead><tbody><tr><td>&quot;rowid&quot;</td><td>0</td></tr><tr><td>&quot;species&quot;</td><td>0</td></tr><tr><td>&quot;island&quot;</td><td>0</td></tr><tr><td>&quot;bill_length_mm&quot;</td><td>2</td></tr><tr><td>&quot;bill_depth_mm&quot;</td><td>2</td></tr><tr><td>&quot;flipper_length_mm&quot;</td><td>2</td></tr><tr><td>&quot;body_mass_g&quot;</td><td>2</td></tr><tr><td>&quot;sex&quot;</td><td>11</td></tr><tr><td>&quot;year&quot;</td><td>0</td></tr></tbody></table></div>"
      ],
      "text/plain": [
       "shape: (9, 2)\n",
       "┌───────────────────┬────────────┐\n",
       "│ column            ┆ null_count │\n",
       "│ ---               ┆ ---        │\n",
       "│ str               ┆ u32        │\n",
       "╞═══════════════════╪════════════╡\n",
       "│ rowid             ┆ 0          │\n",
       "│ species           ┆ 0          │\n",
       "│ island            ┆ 0          │\n",
       "│ bill_length_mm    ┆ 2          │\n",
       "│ bill_depth_mm     ┆ 2          │\n",
       "│ flipper_length_mm ┆ 2          │\n",
       "│ body_mass_g       ┆ 2          │\n",
       "│ sex               ┆ 11         │\n",
       "│ year              ┆ 0          │\n",
       "└───────────────────┴────────────┘"
      ]
     },
     "execution_count": 8,
     "metadata": {},
     "output_type": "execute_result"
    }
   ],
   "source": [
    "penguins.null_count().transpose(\n",
    "    include_header=True,\n",
    "    column_names=[\"null_count\"]\n",
    ")"
   ]
  },
  {
   "cell_type": "markdown",
   "id": "71f8f53a",
   "metadata": {},
   "source": [
    "reading files with encodings othan utf-8"
   ]
  },
  {
   "cell_type": "code",
   "execution_count": 10,
   "id": "57b8004f",
   "metadata": {},
   "outputs": [],
   "source": [
    "# expect error\n",
    "# pl.read_csv(\"data/directors\")"
   ]
  },
  {
   "cell_type": "code",
   "execution_count": null,
   "id": "f5dc9cb3",
   "metadata": {},
   "outputs": [
    {
     "data": {
      "text/html": [
       "<div><style>\n",
       ".dataframe > thead > tr,\n",
       ".dataframe > tbody > tr {\n",
       "  text-align: right;\n",
       "  white-space: pre-wrap;\n",
       "}\n",
       "</style>\n",
       "<small>shape: (4, 3)</small><table border=\"1\" class=\"dataframe\"><thead><tr><th>name</th><th>born</th><th>country</th></tr><tr><td>str</td><td>i64</td><td>str</td></tr></thead><tbody><tr><td>&quot;考侯&quot;</td><td>1930</td><td>&quot;泣塑&quot;</td></tr><tr><td>&quot;Verhoeven&quot;</td><td>1938</td><td>&quot;オランダ&quot;</td></tr><tr><td>&quot;弟宏&quot;</td><td>1942</td><td>&quot;泣塑&quot;</td></tr><tr><td>&quot;Tarantino&quot;</td><td>1963</td><td>&quot;势柜&quot;</td></tr></tbody></table></div>"
      ],
      "text/plain": [
       "shape: (4, 3)\n",
       "┌───────────┬──────┬──────────┐\n",
       "│ name      ┆ born ┆ country  │\n",
       "│ ---       ┆ ---  ┆ ---      │\n",
       "│ str       ┆ i64  ┆ str      │\n",
       "╞═══════════╪══════╪══════════╡\n",
       "│ 考侯      ┆ 1930 ┆ 泣塑     │\n",
       "│ Verhoeven ┆ 1938 ┆ オランダ │\n",
       "│ 弟宏      ┆ 1942 ┆ 泣塑     │\n",
       "│ Tarantino ┆ 1963 ┆ 势柜     │\n",
       "└───────────┴──────┴──────────┘"
      ]
     },
     "execution_count": 12,
     "metadata": {},
     "output_type": "execute_result"
    }
   ],
   "source": [
    "# try random encoding...\n",
    "\n",
    "pl.read_csv(\"data/directors.csv\", encoding=\"EUC-CN\")"
   ]
  },
  {
   "cell_type": "code",
   "execution_count": 14,
   "id": "f8cc075b",
   "metadata": {},
   "outputs": [
    {
     "data": {
      "text/plain": [
       "'EUC-JP'"
      ]
     },
     "execution_count": 14,
     "metadata": {},
     "output_type": "execute_result"
    }
   ],
   "source": [
    "# hmmmmm it worked without error - but isn't correct\n",
    "\n",
    "# apparentally there is a chardet package\n",
    "\n",
    "import chardet\n",
    "\n",
    "\n",
    "def detect_encoding(filename: str) -> str:\n",
    "    \"\"\"Return the most probable characte encoding for a file\"\"\"\n",
    "\n",
    "    with open(filename, \"rb\") as f:\n",
    "        raw_data = f.read()\n",
    "        result = chardet.detect(raw_data)\n",
    "        return result[\"encoding\"]\n",
    "\n",
    "\n",
    "detect_encoding(\"data/directors.csv\")"
   ]
  },
  {
   "cell_type": "code",
   "execution_count": 16,
   "id": "3614a770",
   "metadata": {},
   "outputs": [
    {
     "data": {
      "text/html": [
       "<div><style>\n",
       ".dataframe > thead > tr,\n",
       ".dataframe > tbody > tr {\n",
       "  text-align: right;\n",
       "  white-space: pre-wrap;\n",
       "}\n",
       "</style>\n",
       "<small>shape: (4, 3)</small><table border=\"1\" class=\"dataframe\"><thead><tr><th>name</th><th>born</th><th>country</th></tr><tr><td>str</td><td>i64</td><td>str</td></tr></thead><tbody><tr><td>&quot;深作&quot;</td><td>1930</td><td>&quot;日本&quot;</td></tr><tr><td>&quot;Verhoeven&quot;</td><td>1938</td><td>&quot;オランダ&quot;</td></tr><tr><td>&quot;宮崎&quot;</td><td>1942</td><td>&quot;日本&quot;</td></tr><tr><td>&quot;Tarantino&quot;</td><td>1963</td><td>&quot;米国&quot;</td></tr></tbody></table></div>"
      ],
      "text/plain": [
       "shape: (4, 3)\n",
       "┌───────────┬──────┬──────────┐\n",
       "│ name      ┆ born ┆ country  │\n",
       "│ ---       ┆ ---  ┆ ---      │\n",
       "│ str       ┆ i64  ┆ str      │\n",
       "╞═══════════╪══════╪══════════╡\n",
       "│ 深作      ┆ 1930 ┆ 日本     │\n",
       "│ Verhoeven ┆ 1938 ┆ オランダ │\n",
       "│ 宮崎      ┆ 1942 ┆ 日本     │\n",
       "│ Tarantino ┆ 1963 ┆ 米国     │\n",
       "└───────────┴──────┴──────────┘"
      ]
     },
     "execution_count": 16,
     "metadata": {},
     "output_type": "execute_result"
    }
   ],
   "source": [
    "# nice we have that now\n",
    "\n",
    "pl.read_csv(\"data/directors.csv\", encoding=\"EUC-JP\")"
   ]
  },
  {
   "cell_type": "code",
   "execution_count": 17,
   "id": "5da49d3f",
   "metadata": {},
   "outputs": [
    {
     "data": {
      "text/html": [
       "<div><style>\n",
       ".dataframe > thead > tr,\n",
       ".dataframe > tbody > tr {\n",
       "  text-align: right;\n",
       "  white-space: pre-wrap;\n",
       "}\n",
       "</style>\n",
       "<small>shape: (2_000, 4)</small><table border=\"1\" class=\"dataframe\"><thead><tr><th>positie</th><th>titel</th><th>artiest</th><th>jaar</th></tr><tr><td>i64</td><td>str</td><td>str</td><td>i64</td></tr></thead><tbody><tr><td>1</td><td>&quot;Bohemian Rhapsody&quot;</td><td>&quot;Queen&quot;</td><td>1975</td></tr><tr><td>2</td><td>&quot;Roller Coaster&quot;</td><td>&quot;Danny Vera&quot;</td><td>2019</td></tr><tr><td>3</td><td>&quot;Hotel California&quot;</td><td>&quot;Eagles&quot;</td><td>1977</td></tr><tr><td>4</td><td>&quot;Piano Man&quot;</td><td>&quot;Billy Joel&quot;</td><td>1974</td></tr><tr><td>5</td><td>&quot;Fix You&quot;</td><td>&quot;Coldplay&quot;</td><td>2005</td></tr><tr><td>&hellip;</td><td>&hellip;</td><td>&hellip;</td><td>&hellip;</td></tr><tr><td>1996</td><td>&quot;Charlie Brown&quot;</td><td>&quot;Coldplay&quot;</td><td>2011</td></tr><tr><td>1997</td><td>&quot;Beast Of Burden&quot;</td><td>&quot;Bette Midler&quot;</td><td>1984</td></tr><tr><td>1998</td><td>&quot;It Was A Very Good Year&quot;</td><td>&quot;Frank Sinatra&quot;</td><td>1968</td></tr><tr><td>1999</td><td>&quot;Hou Van Mij&quot;</td><td>&quot;3JS&quot;</td><td>2008</td></tr><tr><td>2000</td><td>&quot;Drivers License&quot;</td><td>&quot;Olivia Rodrigo&quot;</td><td>2021</td></tr></tbody></table></div>"
      ],
      "text/plain": [
       "shape: (2_000, 4)\n",
       "┌─────────┬─────────────────────────┬────────────────┬──────┐\n",
       "│ positie ┆ titel                   ┆ artiest        ┆ jaar │\n",
       "│ ---     ┆ ---                     ┆ ---            ┆ ---  │\n",
       "│ i64     ┆ str                     ┆ str            ┆ i64  │\n",
       "╞═════════╪═════════════════════════╪════════════════╪══════╡\n",
       "│ 1       ┆ Bohemian Rhapsody       ┆ Queen          ┆ 1975 │\n",
       "│ 2       ┆ Roller Coaster          ┆ Danny Vera     ┆ 2019 │\n",
       "│ 3       ┆ Hotel California        ┆ Eagles         ┆ 1977 │\n",
       "│ 4       ┆ Piano Man               ┆ Billy Joel     ┆ 1974 │\n",
       "│ 5       ┆ Fix You                 ┆ Coldplay       ┆ 2005 │\n",
       "│ …       ┆ …                       ┆ …              ┆ …    │\n",
       "│ 1996    ┆ Charlie Brown           ┆ Coldplay       ┆ 2011 │\n",
       "│ 1997    ┆ Beast Of Burden         ┆ Bette Midler   ┆ 1984 │\n",
       "│ 1998    ┆ It Was A Very Good Year ┆ Frank Sinatra  ┆ 1968 │\n",
       "│ 1999    ┆ Hou Van Mij             ┆ 3JS            ┆ 2008 │\n",
       "│ 2000    ┆ Drivers License         ┆ Olivia Rodrigo ┆ 2021 │\n",
       "└─────────┴─────────────────────────┴────────────────┴──────┘"
      ]
     },
     "execution_count": 17,
     "metadata": {},
     "output_type": "execute_result"
    }
   ],
   "source": [
    "# lets read excel\n",
    "\n",
    "songs = pl.read_excel(\"data/top2000-2023.xlsx\")\n",
    "songs"
   ]
  },
  {
   "cell_type": "code",
   "execution_count": 18,
   "id": "a7595afd",
   "metadata": {},
   "outputs": [
    {
     "data": {
      "text/html": [
       "<div><style>\n",
       ".dataframe > thead > tr,\n",
       ".dataframe > tbody > tr {\n",
       "  text-align: right;\n",
       "  white-space: pre-wrap;\n",
       "}\n",
       "</style>\n",
       "<small>shape: (2_516, 8)</small><table border=\"1\" class=\"dataframe\"><thead><tr><th>symbol</th><th>date</th><th>open</th><th>high</th><th>low</th><th>close</th><th>adj close</th><th>volume</th></tr><tr><td>str</td><td>str</td><td>f64</td><td>f64</td><td>f64</td><td>f64</td><td>f64</td><td>i64</td></tr></thead><tbody><tr><td>&quot;NVDA&quot;</td><td>&quot;2010-01-04&quot;</td><td>4.6275</td><td>4.655</td><td>4.5275</td><td>4.6225</td><td>4.240429</td><td>80020400</td></tr><tr><td>&quot;NVDA&quot;</td><td>&quot;2010-01-05&quot;</td><td>4.605</td><td>4.74</td><td>4.605</td><td>4.69</td><td>4.30235</td><td>72864800</td></tr><tr><td>&quot;NVDA&quot;</td><td>&quot;2010-01-06&quot;</td><td>4.6875</td><td>4.73</td><td>4.6425</td><td>4.72</td><td>4.32987</td><td>64916800</td></tr><tr><td>&quot;NVDA&quot;</td><td>&quot;2010-01-07&quot;</td><td>4.695</td><td>4.715</td><td>4.5925</td><td>4.6275</td><td>4.245015</td><td>54779200</td></tr><tr><td>&quot;NVDA&quot;</td><td>&quot;2010-01-08&quot;</td><td>4.59</td><td>4.67</td><td>4.5625</td><td>4.6375</td><td>4.254189</td><td>47816800</td></tr><tr><td>&hellip;</td><td>&hellip;</td><td>&hellip;</td><td>&hellip;</td><td>&hellip;</td><td>&hellip;</td><td>&hellip;</td><td>&hellip;</td></tr><tr><td>&quot;NVDA&quot;</td><td>&quot;2019-12-24&quot;</td><td>59.549999</td><td>59.827499</td><td>59.205002</td><td>59.654999</td><td>59.422798</td><td>13886400</td></tr><tr><td>&quot;NVDA&quot;</td><td>&quot;2019-12-26&quot;</td><td>59.689999</td><td>60.080002</td><td>59.5</td><td>59.797501</td><td>59.564739</td><td>18285200</td></tr><tr><td>&quot;NVDA&quot;</td><td>&quot;2019-12-27&quot;</td><td>59.950001</td><td>60.084999</td><td>58.952499</td><td>59.217499</td><td>58.987</td><td>25464400</td></tr><tr><td>&quot;NVDA&quot;</td><td>&quot;2019-12-30&quot;</td><td>58.997501</td><td>59.049999</td><td>57.764999</td><td>58.080002</td><td>57.853928</td><td>25805600</td></tr><tr><td>&quot;NVDA&quot;</td><td>&quot;2019-12-31&quot;</td><td>57.724998</td><td>58.919998</td><td>57.532501</td><td>58.825001</td><td>58.596027</td><td>23100400</td></tr></tbody></table></div>"
      ],
      "text/plain": [
       "shape: (2_516, 8)\n",
       "┌────────┬────────────┬───────────┬───────────┬───────────┬───────────┬───────────┬──────────┐\n",
       "│ symbol ┆ date       ┆ open      ┆ high      ┆ low       ┆ close     ┆ adj close ┆ volume   │\n",
       "│ ---    ┆ ---        ┆ ---       ┆ ---       ┆ ---       ┆ ---       ┆ ---       ┆ ---      │\n",
       "│ str    ┆ str        ┆ f64       ┆ f64       ┆ f64       ┆ f64       ┆ f64       ┆ i64      │\n",
       "╞════════╪════════════╪═══════════╪═══════════╪═══════════╪═══════════╪═══════════╪══════════╡\n",
       "│ NVDA   ┆ 2010-01-04 ┆ 4.6275    ┆ 4.655     ┆ 4.5275    ┆ 4.6225    ┆ 4.240429  ┆ 80020400 │\n",
       "│ NVDA   ┆ 2010-01-05 ┆ 4.605     ┆ 4.74      ┆ 4.605     ┆ 4.69      ┆ 4.30235   ┆ 72864800 │\n",
       "│ NVDA   ┆ 2010-01-06 ┆ 4.6875    ┆ 4.73      ┆ 4.6425    ┆ 4.72      ┆ 4.32987   ┆ 64916800 │\n",
       "│ NVDA   ┆ 2010-01-07 ┆ 4.695     ┆ 4.715     ┆ 4.5925    ┆ 4.6275    ┆ 4.245015  ┆ 54779200 │\n",
       "│ NVDA   ┆ 2010-01-08 ┆ 4.59      ┆ 4.67      ┆ 4.5625    ┆ 4.6375    ┆ 4.254189  ┆ 47816800 │\n",
       "│ …      ┆ …          ┆ …         ┆ …         ┆ …         ┆ …         ┆ …         ┆ …        │\n",
       "│ NVDA   ┆ 2019-12-24 ┆ 59.549999 ┆ 59.827499 ┆ 59.205002 ┆ 59.654999 ┆ 59.422798 ┆ 13886400 │\n",
       "│ NVDA   ┆ 2019-12-26 ┆ 59.689999 ┆ 60.080002 ┆ 59.5      ┆ 59.797501 ┆ 59.564739 ┆ 18285200 │\n",
       "│ NVDA   ┆ 2019-12-27 ┆ 59.950001 ┆ 60.084999 ┆ 58.952499 ┆ 59.217499 ┆ 58.987    ┆ 25464400 │\n",
       "│ NVDA   ┆ 2019-12-30 ┆ 58.997501 ┆ 59.049999 ┆ 57.764999 ┆ 58.080002 ┆ 57.853928 ┆ 25805600 │\n",
       "│ NVDA   ┆ 2019-12-31 ┆ 57.724998 ┆ 58.919998 ┆ 57.532501 ┆ 58.825001 ┆ 58.596027 ┆ 23100400 │\n",
       "└────────┴────────────┴───────────┴───────────┴───────────┴───────────┴───────────┴──────────┘"
      ]
     },
     "execution_count": 18,
     "metadata": {},
     "output_type": "execute_result"
    }
   ],
   "source": [
    "# lets read multiple files\n",
    "\n",
    "pl.read_csv(\"data/stock/nvda/201?.csv\")"
   ]
  },
  {
   "cell_type": "code",
   "execution_count": 20,
   "id": "b5580222",
   "metadata": {},
   "outputs": [
    {
     "data": {
      "text/html": [
       "<div><style>\n",
       ".dataframe > thead > tr,\n",
       ".dataframe > tbody > tr {\n",
       "  text-align: right;\n",
       "  white-space: pre-wrap;\n",
       "}\n",
       "</style>\n",
       "<small>shape: (18_476, 8)</small><table border=\"1\" class=\"dataframe\"><thead><tr><th>symbol</th><th>date</th><th>open</th><th>high</th><th>low</th><th>close</th><th>adj close</th><th>volume</th></tr><tr><td>str</td><td>str</td><td>f64</td><td>f64</td><td>f64</td><td>f64</td><td>f64</td><td>i64</td></tr></thead><tbody><tr><td>&quot;ASML&quot;</td><td>&quot;1999-01-04&quot;</td><td>11.765625</td><td>12.28125</td><td>11.765625</td><td>12.140625</td><td>7.522523</td><td>1801867</td></tr><tr><td>&quot;ASML&quot;</td><td>&quot;1999-01-05&quot;</td><td>11.859375</td><td>14.25</td><td>11.71875</td><td>13.96875</td><td>8.655257</td><td>8241600</td></tr><tr><td>&quot;ASML&quot;</td><td>&quot;1999-01-06&quot;</td><td>14.25</td><td>17.601563</td><td>14.203125</td><td>16.875</td><td>10.456018</td><td>16400267</td></tr><tr><td>&quot;ASML&quot;</td><td>&quot;1999-01-07&quot;</td><td>14.742188</td><td>17.8125</td><td>14.53125</td><td>16.851563</td><td>10.441495</td><td>17722133</td></tr><tr><td>&quot;ASML&quot;</td><td>&quot;1999-01-08&quot;</td><td>16.078125</td><td>16.289063</td><td>15.023438</td><td>15.796875</td><td>9.787995</td><td>10696000</td></tr><tr><td>&hellip;</td><td>&hellip;</td><td>&hellip;</td><td>&hellip;</td><td>&hellip;</td><td>&hellip;</td><td>&hellip;</td><td>&hellip;</td></tr><tr><td>&quot;TSM&quot;</td><td>&quot;2023-06-26&quot;</td><td>102.019997</td><td>103.040001</td><td>100.089996</td><td>100.110001</td><td>99.125954</td><td>8560000</td></tr><tr><td>&quot;TSM&quot;</td><td>&quot;2023-06-27&quot;</td><td>101.150002</td><td>102.790001</td><td>100.019997</td><td>102.080002</td><td>101.076591</td><td>9732000</td></tr><tr><td>&quot;TSM&quot;</td><td>&quot;2023-06-28&quot;</td><td>100.5</td><td>101.879997</td><td>100.220001</td><td>100.919998</td><td>99.927986</td><td>8160900</td></tr><tr><td>&quot;TSM&quot;</td><td>&quot;2023-06-29&quot;</td><td>101.339996</td><td>101.519997</td><td>100.019997</td><td>100.639999</td><td>99.650742</td><td>7383900</td></tr><tr><td>&quot;TSM&quot;</td><td>&quot;2023-06-30&quot;</td><td>101.400002</td><td>101.889999</td><td>100.410004</td><td>100.919998</td><td>99.927986</td><td>11701700</td></tr></tbody></table></div>"
      ],
      "text/plain": [
       "shape: (18_476, 8)\n",
       "┌────────┬────────────┬────────────┬────────────┬────────────┬────────────┬────────────┬──────────┐\n",
       "│ symbol ┆ date       ┆ open       ┆ high       ┆ low        ┆ close      ┆ adj close  ┆ volume   │\n",
       "│ ---    ┆ ---        ┆ ---        ┆ ---        ┆ ---        ┆ ---        ┆ ---        ┆ ---      │\n",
       "│ str    ┆ str        ┆ f64        ┆ f64        ┆ f64        ┆ f64        ┆ f64        ┆ i64      │\n",
       "╞════════╪════════════╪════════════╪════════════╪════════════╪════════════╪════════════╪══════════╡\n",
       "│ ASML   ┆ 1999-01-04 ┆ 11.765625  ┆ 12.28125   ┆ 11.765625  ┆ 12.140625  ┆ 7.522523   ┆ 1801867  │\n",
       "│ ASML   ┆ 1999-01-05 ┆ 11.859375  ┆ 14.25      ┆ 11.71875   ┆ 13.96875   ┆ 8.655257   ┆ 8241600  │\n",
       "│ ASML   ┆ 1999-01-06 ┆ 14.25      ┆ 17.601563  ┆ 14.203125  ┆ 16.875     ┆ 10.456018  ┆ 16400267 │\n",
       "│ ASML   ┆ 1999-01-07 ┆ 14.742188  ┆ 17.8125    ┆ 14.53125   ┆ 16.851563  ┆ 10.441495  ┆ 17722133 │\n",
       "│ ASML   ┆ 1999-01-08 ┆ 16.078125  ┆ 16.289063  ┆ 15.023438  ┆ 15.796875  ┆ 9.787995   ┆ 10696000 │\n",
       "│ …      ┆ …          ┆ …          ┆ …          ┆ …          ┆ …          ┆ …          ┆ …        │\n",
       "│ TSM    ┆ 2023-06-26 ┆ 102.019997 ┆ 103.040001 ┆ 100.089996 ┆ 100.110001 ┆ 99.125954  ┆ 8560000  │\n",
       "│ TSM    ┆ 2023-06-27 ┆ 101.150002 ┆ 102.790001 ┆ 100.019997 ┆ 102.080002 ┆ 101.076591 ┆ 9732000  │\n",
       "│ TSM    ┆ 2023-06-28 ┆ 100.5      ┆ 101.879997 ┆ 100.220001 ┆ 100.919998 ┆ 99.927986  ┆ 8160900  │\n",
       "│ TSM    ┆ 2023-06-29 ┆ 101.339996 ┆ 101.519997 ┆ 100.019997 ┆ 100.639999 ┆ 99.650742  ┆ 7383900  │\n",
       "│ TSM    ┆ 2023-06-30 ┆ 101.400002 ┆ 101.889999 ┆ 100.410004 ┆ 100.919998 ┆ 99.927986  ┆ 11701700 │\n",
       "└────────┴────────────┴────────────┴────────────┴────────────┴────────────┴────────────┴──────────┘"
      ]
     },
     "execution_count": 20,
     "metadata": {},
     "output_type": "execute_result"
    }
   ],
   "source": [
    "all_stocks = pl.read_csv(\"data/stock/**/*.csv\")\n",
    "all_stocks"
   ]
  },
  {
   "cell_type": "code",
   "execution_count": null,
   "id": "13c82e2f",
   "metadata": {},
   "outputs": [
    {
     "data": {
      "text/plain": [
       "['data/stock/asml/2000.csv',\n",
       " 'data/stock/asml/2004.csv',\n",
       " 'data/stock/asml/2008.csv',\n",
       " 'data/stock/asml/2012.csv',\n",
       " 'data/stock/asml/2016.csv',\n",
       " 'data/stock/asml/2020.csv']"
      ]
     },
     "execution_count": 21,
     "metadata": {},
     "output_type": "execute_result"
    }
   ],
   "source": [
    "import calendar\n",
    "\n",
    "filenames = [\n",
    "    f\"data/stock/asml/{year}.csv\"\n",
    "    for year in range(1999, 2024)\n",
    "    if calendar.isleap(year)\n",
    "]\n",
    "\n",
    "filenames"
   ]
  },
  {
   "cell_type": "code",
   "execution_count": 22,
   "id": "ca474417",
   "metadata": {},
   "outputs": [
    {
     "data": {
      "text/html": [
       "<div><style>\n",
       ".dataframe > thead > tr,\n",
       ".dataframe > tbody > tr {\n",
       "  text-align: right;\n",
       "  white-space: pre-wrap;\n",
       "}\n",
       "</style>\n",
       "<small>shape: (1_512, 8)</small><table border=\"1\" class=\"dataframe\"><thead><tr><th>symbol</th><th>date</th><th>open</th><th>high</th><th>low</th><th>close</th><th>adj close</th><th>volume</th></tr><tr><td>str</td><td>str</td><td>f64</td><td>f64</td><td>f64</td><td>f64</td><td>f64</td><td>i64</td></tr></thead><tbody><tr><td>&quot;ASML&quot;</td><td>&quot;2000-01-03&quot;</td><td>43.875</td><td>43.875</td><td>41.90625</td><td>43.640625</td><td>27.040424</td><td>1121600</td></tr><tr><td>&quot;ASML&quot;</td><td>&quot;2000-01-04&quot;</td><td>41.953125</td><td>42.5625</td><td>40.59375</td><td>40.734375</td><td>25.239666</td><td>968800</td></tr><tr><td>&quot;ASML&quot;</td><td>&quot;2000-01-05&quot;</td><td>39.28125</td><td>39.703125</td><td>37.757813</td><td>39.609375</td><td>24.542597</td><td>1458133</td></tr><tr><td>&quot;ASML&quot;</td><td>&quot;2000-01-06&quot;</td><td>36.75</td><td>37.59375</td><td>35.226563</td><td>37.171875</td><td>23.032274</td><td>3517867</td></tr><tr><td>&quot;ASML&quot;</td><td>&quot;2000-01-07&quot;</td><td>36.867188</td><td>38.0625</td><td>36.65625</td><td>38.015625</td><td>23.555077</td><td>1631200</td></tr><tr><td>&hellip;</td><td>&hellip;</td><td>&hellip;</td><td>&hellip;</td><td>&hellip;</td><td>&hellip;</td><td>&hellip;</td><td>&hellip;</td></tr><tr><td>&quot;ASML&quot;</td><td>&quot;2020-12-24&quot;</td><td>478.950012</td><td>484.600006</td><td>477.079987</td><td>483.089996</td><td>468.836365</td><td>271900</td></tr><tr><td>&quot;ASML&quot;</td><td>&quot;2020-12-28&quot;</td><td>487.140015</td><td>488.720001</td><td>478.429993</td><td>480.23999</td><td>466.070496</td><td>449300</td></tr><tr><td>&quot;ASML&quot;</td><td>&quot;2020-12-29&quot;</td><td>489.450012</td><td>489.450012</td><td>482.51001</td><td>484.01001</td><td>469.729218</td><td>377200</td></tr><tr><td>&quot;ASML&quot;</td><td>&quot;2020-12-30&quot;</td><td>488.130005</td><td>492.660004</td><td>488.0</td><td>489.910004</td><td>475.455231</td><td>381900</td></tr><tr><td>&quot;ASML&quot;</td><td>&quot;2020-12-31&quot;</td><td>490.0</td><td>490.519989</td><td>483.450012</td><td>487.720001</td><td>473.329803</td><td>312700</td></tr></tbody></table></div>"
      ],
      "text/plain": [
       "shape: (1_512, 8)\n",
       "┌────────┬────────────┬────────────┬────────────┬────────────┬────────────┬────────────┬─────────┐\n",
       "│ symbol ┆ date       ┆ open       ┆ high       ┆ low        ┆ close      ┆ adj close  ┆ volume  │\n",
       "│ ---    ┆ ---        ┆ ---        ┆ ---        ┆ ---        ┆ ---        ┆ ---        ┆ ---     │\n",
       "│ str    ┆ str        ┆ f64        ┆ f64        ┆ f64        ┆ f64        ┆ f64        ┆ i64     │\n",
       "╞════════╪════════════╪════════════╪════════════╪════════════╪════════════╪════════════╪═════════╡\n",
       "│ ASML   ┆ 2000-01-03 ┆ 43.875     ┆ 43.875     ┆ 41.90625   ┆ 43.640625  ┆ 27.040424  ┆ 1121600 │\n",
       "│ ASML   ┆ 2000-01-04 ┆ 41.953125  ┆ 42.5625    ┆ 40.59375   ┆ 40.734375  ┆ 25.239666  ┆ 968800  │\n",
       "│ ASML   ┆ 2000-01-05 ┆ 39.28125   ┆ 39.703125  ┆ 37.757813  ┆ 39.609375  ┆ 24.542597  ┆ 1458133 │\n",
       "│ ASML   ┆ 2000-01-06 ┆ 36.75      ┆ 37.59375   ┆ 35.226563  ┆ 37.171875  ┆ 23.032274  ┆ 3517867 │\n",
       "│ ASML   ┆ 2000-01-07 ┆ 36.867188  ┆ 38.0625    ┆ 36.65625   ┆ 38.015625  ┆ 23.555077  ┆ 1631200 │\n",
       "│ …      ┆ …          ┆ …          ┆ …          ┆ …          ┆ …          ┆ …          ┆ …       │\n",
       "│ ASML   ┆ 2020-12-24 ┆ 478.950012 ┆ 484.600006 ┆ 477.079987 ┆ 483.089996 ┆ 468.836365 ┆ 271900  │\n",
       "│ ASML   ┆ 2020-12-28 ┆ 487.140015 ┆ 488.720001 ┆ 478.429993 ┆ 480.23999  ┆ 466.070496 ┆ 449300  │\n",
       "│ ASML   ┆ 2020-12-29 ┆ 489.450012 ┆ 489.450012 ┆ 482.51001  ┆ 484.01001  ┆ 469.729218 ┆ 377200  │\n",
       "│ ASML   ┆ 2020-12-30 ┆ 488.130005 ┆ 492.660004 ┆ 488.0      ┆ 489.910004 ┆ 475.455231 ┆ 381900  │\n",
       "│ ASML   ┆ 2020-12-31 ┆ 490.0      ┆ 490.519989 ┆ 483.450012 ┆ 487.720001 ┆ 473.329803 ┆ 312700  │\n",
       "└────────┴────────────┴────────────┴────────────┴────────────┴────────────┴────────────┴─────────┘"
      ]
     },
     "execution_count": 22,
     "metadata": {},
     "output_type": "execute_result"
    }
   ],
   "source": [
    "pl.concat(\n",
    "    pl.read_csv(f) for f in filenames\n",
    ")"
   ]
  },
  {
   "cell_type": "code",
   "execution_count": null,
   "id": "ed195ce0",
   "metadata": {},
   "outputs": [],
   "source": []
  }
 ],
 "metadata": {
  "kernelspec": {
   "display_name": ".venv",
   "language": "python",
   "name": "python3"
  },
  "language_info": {
   "codemirror_mode": {
    "name": "ipython",
    "version": 3
   },
   "file_extension": ".py",
   "mimetype": "text/x-python",
   "name": "python",
   "nbconvert_exporter": "python",
   "pygments_lexer": "ipython3",
   "version": "3.12.9"
  }
 },
 "nbformat": 4,
 "nbformat_minor": 5
}
